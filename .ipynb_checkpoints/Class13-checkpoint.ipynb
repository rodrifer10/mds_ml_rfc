{
 "cells": [
  {
   "cell_type": "markdown",
   "id": "bf0a2aad-6829-4d0e-b676-d6800c4ce038",
   "metadata": {},
   "source": [
    "# Nueva clase --> PCA!\n",
    "\n",
    "Método de reducción de dimensiones\n",
    "\n",
    "Alternativas: T-SNE, UMAP\n",
    "\n",
    "* El PCA reduce la cantidad de varibales. Tienen que estar correlacionadas.\n",
    "* Es NO supervisado. No tiene en cuenta a la variable objetivo.\n",
    "* La idea es conservar la mayor cantidad posible de Varianza Explicada.\n",
    "\n",
    "Ver SLIDES para entender las fórmulas matemáticas detrás del PCA:\n",
    "\n",
    "* Autovalores --> el mayor es el que explica mejor la covarianza\n",
    "* Autovectores --> resultado de fórmulas matriciales que vemos en SLIDES\n",
    "\n",
    "El PCA es efectivo cuando tenemos variables muy relacionadas.\n",
    "* Las variables resultante del PCA son ORTOGONALES --> No correlacionadas entre sí...\n",
    "\n",
    "**Ojo! Cuando se mete a modelos, PIERDO EXPLICABILIDAD...** --> No puedo ver bien conceptualmente las variables\n",
    "\n",
    "**Tienen que estár correlacionadas las variables para que valga la pena aplicarlo!**\n",
    "\n",
    "\n"
   ]
  },
  {
   "cell_type": "code",
   "execution_count": null,
   "id": "ccca39a9-b994-498e-b57c-3c2050e3820f",
   "metadata": {},
   "outputs": [],
   "source": []
  },
  {
   "cell_type": "code",
   "execution_count": null,
   "id": "89858653-5e8f-4069-b99a-ad8a4401286b",
   "metadata": {},
   "outputs": [],
   "source": []
  },
  {
   "cell_type": "code",
   "execution_count": null,
   "id": "9ee96be3-57c2-4fce-b0e0-10086f966198",
   "metadata": {},
   "outputs": [],
   "source": []
  },
  {
   "cell_type": "code",
   "execution_count": null,
   "id": "83c23681-5a95-4b27-aac3-911ed380a2ed",
   "metadata": {},
   "outputs": [],
   "source": []
  },
  {
   "cell_type": "code",
   "execution_count": null,
   "id": "26e72c67-1847-422d-9b4c-0b01128b99fe",
   "metadata": {},
   "outputs": [],
   "source": []
  },
  {
   "cell_type": "code",
   "execution_count": null,
   "id": "7c96b12e-c032-493c-be2c-ea87e285861d",
   "metadata": {},
   "outputs": [],
   "source": []
  },
  {
   "cell_type": "code",
   "execution_count": null,
   "id": "0d685463-0cc2-4585-80a3-09753c69d7bb",
   "metadata": {},
   "outputs": [],
   "source": []
  },
  {
   "cell_type": "code",
   "execution_count": null,
   "id": "30e29793-4c6b-477d-b1ab-acd9cb321ccd",
   "metadata": {},
   "outputs": [],
   "source": []
  }
 ],
 "metadata": {
  "kernelspec": {
   "display_name": "Python 3 (ipykernel)",
   "language": "python",
   "name": "python3"
  },
  "language_info": {
   "codemirror_mode": {
    "name": "ipython",
    "version": 3
   },
   "file_extension": ".py",
   "mimetype": "text/x-python",
   "name": "python",
   "nbconvert_exporter": "python",
   "pygments_lexer": "ipython3",
   "version": "3.9.18"
  }
 },
 "nbformat": 4,
 "nbformat_minor": 5
}
