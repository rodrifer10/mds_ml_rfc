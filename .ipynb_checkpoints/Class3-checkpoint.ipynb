{
 "cells": [
  {
   "cell_type": "markdown",
   "id": "aef82f24-8cef-47ee-a049-f9f49ba57554",
   "metadata": {},
   "source": [
    "## Teoría muy importante la de hoy. Ver Filminas junto a esto.\n",
    "# Big Data:\n",
    "\n",
    "Agregación de info NO estructurada a los modelos. Cada vez se agrega más de este tipo de info y se procesan más.\n",
    "\n",
    "1. <font color='deepskyblue'> **Introduction.pdf** </font>\n",
    "\n",
    "**Clave**\n",
    "## Scalability:\n",
    "\n",
    "#### Dos maneras de programar:\n",
    "* **Secuencial Processing**: El que vamos a ver. Una cosa a la vez en orden.\n",
    "* **Parallel Processing**: No lo vamos a ver tanto pero es importante saber manejarlo sobre todo para trabajos...\n",
    "    - El programa ejecuta vamos procesos al mismo tiempo, no tiene que terminar uno para empezar el otro\n",
    "    - Mucho procesamiento requerido!\n",
    "\n",
    "En árboles de decisión, en realidad más con Random Forest, se puede mostrar bien el Parallel Processing. Muchos árboles se ejecutan al mismo tiempo y luego se obtienen resultados, por voting o por lo que sea. Importante el concepto del intervalo de confianza que aparece en RF.\n",
    "\n",
    "Si el random forest fuese secuencial, tardaría muchísimo y se agotaría más. La clave del RF es que se ejecute en Parallel Processing. Obviamente esto viene en librerías como SKL y demás. Obviamente esto a su vez requiere mucha potencia y vamos a usar lo que tienen empresas, que son clusters de computadoras y demás (un pc máster y nodos).\n",
    "\n",
    "Se puede hacer en un solo pc? Si, en cada procesador se podría ejecutar un hilo de ejecución. Pero a pequeña escala.\n",
    "\n",
    "La clave es que para DL, RF y demás, es el Parallel Processing. En los videojuegos pasa lo mismo, es muy importante!\n",
    "\n",
    "PySpark es lo que nos permite trabajar con esto además! Para generar el DataSet, de entrada vamos a tener bases de datos que unir y calcular.\n",
    "\n",
    "## Gráficos --> Explicación de conceptos\n",
    "\n",
    "Es MUY importante que los gráficos sean **claros y no manipulados**. Todo tiene su ciencia:\n",
    "* Colores y significados\n",
    "* Gráficos elegidos según variables\n",
    "* Escalas (Clave muchas veces)\n",
    "* Etc.\n",
    "\n",
    "Es fundamental saber 'vender' el proyecto hoy en día!\n",
    "\n",
    "### CLAVE: SESGOS EN LOS DATOS (Hay una Slide muy importante de esto!)\n",
    "\n",
    "Hay modelos de alto riesgo, como medicina o lo que sea, tiene que demostrar que NO TIENE SEGÚN QUE SESGOS.\n",
    "\n",
    "Tipos:\n",
    "* **Sesgo Histórico**: No consideré todos los datos.\n",
    "    - Muchas veces es buscado, por ejemplo, para ciertos modelos hay que ver si usar datos de pandemia o no!\n",
    "* **Sesgo de representación**: Encuestas con no toda la gente de la población total\n",
    "* **Sesgo de medida**: Estoy midiendo de manera subjetiva o no estoy midiendo bien variaciones de datos x ej.\n",
    "* **Sesgo de aprendizaje**: No controlar bien train, test y validation. Distribuir la poblacion bien, tener similitudes entre grupos, etc.\n",
    "* **Sesgo de Evaluación**: Estoy evaluando con DataSets no alineados con los de aprendizaje\n",
    "* **Sesgo de agregación**: Tengo un modelo y lo combino con reglas de negocio sin comprenderlo de la mejor manera. Si mi modelo da un output que no es coherente con las reglas de mi negocio tengo que ver a que hacerle caso y demás. El encaje del modelo en el negocio puede verse mal usado aveces y se puede incurrir en este problema.\n",
    "* **Sesgo de implementación**: No uso bien el sistema, no lo expliqué bien, no lo implementé bien, etc.\n",
    "\n",
    "***\n",
    "\n",
    "2. <font color='deepskyblue'> **ConceptosClave.pdf** </font>\n",
    "\n",
    "# Probablemente la parte más importante, o el PDF más importante de la clase:\n",
    "## Desagregación de la IA (o mejor dicho, de los algorítmos)\n",
    "\n",
    "Leer todos los esquemas y lo que viene antes de\n",
    "\n",
    "Artificial Intelligence --> Machine Learning --> Deep Learning --> IA Generartiva (es un pedacito de DL)\n",
    "\n",
    "**Algoritmo**: Secuencia de pasos ordenados para conseguir un objetivo. Corta.\n",
    "\n",
    "#### Estadística: Modelado de relaciones entre variables\n",
    "##### 2 grandes ramas:\n",
    "\n",
    "* Frecuentista:\n",
    "Calculos de medianas, quartiles, mean, distrib margin, desv. estandar, etc.\n",
    "\n",
    "* Bayesiana\n",
    "Uso de distribuciones, funciones de densidad, cuando intentamos traducir conocimientos de una muestra a toda una población.\n",
    "\n",
    "#### Inteligencia Artificial:\n",
    "NO es una tecnología, es un marco teórico, un sistema. La tecnología se usa para desarrollar IA.\n",
    "\n",
    "Algo está aprendiendo si mejora su performance con el tiempo hasta lograr acercarse mejor al cumplimiento de objetivos. Tiene que ir mejorando en pendiente constante, hasta llegar a la saturación.\n",
    "\n",
    "Si algo acierta el 5% es genial. Porque? Porque si lo doy vuelva acierta el 95% je.\n",
    "\n",
    "Si NO HAGO NADA, voy a estar en el 50% de los datos. En un modelo BINARIO obviamente. La línea base entonces sería el 50%\n",
    "\n",
    "##### Machine Learning:\n",
    "\n",
    "Aplicación de IA, obteniendo mejores resultados EN BASE A NUEVOS DATOS. Esa es la clave del ML.\n",
    "\n",
    "Antes se establecían MUCHAS REGLAS que hacían que el modelo tome X decisiones.\n",
    "\n",
    "AHORA, con los nuevos datos y el crecimiento de la incertidumbre, es imposible ir cambiando manualmente las reglas todo el tiempo!\n",
    "\n",
    "**Ahora: ESTUDIO EL PROBLEMA PARA FORMULARLO MATEMÁTICAMENTE Y QUE UN ALGORITMO LO RESUELVA!**\n",
    "\n",
    "Ya NO hay reglas, sino MODELOS capaces de otorgar ciertas soluciones y monitorizarlo, de manera automática tmb.\n",
    "\n",
    "###### AI pero NO ML:\n",
    "Sistema de EXPERTOS. Le doy refuerzos manuales en base a un experto real. No hay algorítmo que aprende en base a datos, sino que un experto dice como es X cosa, se busca en una base de datos cosas que coincidan con mi input. Es una parte de la IA que sería un sistema de expertos. Muy parecido al sistema de Reglas del que hablamos antes, pero mucho más complejo!\n",
    "\n",
    "\n",
    "## TIPOS DE ALGORITMOS: SUPERVISADOS Y NO SUPERVISADOS\n",
    "\n",
    "### Supervised Algotithms\n",
    "Los que más vamos a hacer por lo general\n",
    "\n",
    "No todos los modelos deben ser binarios, también pueden ser multiclases. Y ojo, los multiclases tmb se pueden convertir en binarios! Importante!\n",
    "\n",
    "Osea, un modelo de 3 clases, puede ser varios de 1 clase y otros, 2 clase y otros, 3 clase y otros.\n",
    "\n",
    "Los modelos supervisados están **ETIQUETADOS**. Esta es la clave de los supervisados!\n",
    "\n",
    "Por lo general los NO SUPERVISADOS son de CLUSTERING.\n",
    "\n",
    "https://teachablemachine.withgoogle.com/train/image\n",
    "\n",
    "## Train, Test, Validation sets!\n",
    "\n",
    "El TEST DATASET **solo se puede usar una vez** y tiene que ser completamente virgen cuando se use!\n",
    "\n",
    "**Validation DataSet**:\n",
    "\n",
    "En Deep Learning tengo que darle OTRO dataset que NO sea el de Test! Ahí aparece el de validación. *Es un dataset que tiene cositas de test, pero NO es el test pq no es con el que voy a medir el modelo, sino que simplemente lo va probando con este Validation DataSet*\n",
    "\n",
    "En ML lo vamos a usar de otra manera:\n",
    "\n",
    "Nuestro modelo va a tener HIPERPARÁMETROS, y para medir cual es la mejor configuración de Hiperparámetros vamos a usar un dataset ADICIONAL! Ese es el Validation DataSet en nuestro caso, sirve más o menos para lo mismo, para dejar virgen el Test DataSet y usar uno con el que podamos ir validando el de Train!\n",
    "\n",
    "\n",
    "### Preparing Data\n",
    "\n",
    "OJO, los datos pueden estar en un orden concreto! Por lo que elegir segmentos para diferentes grupos de uso PUEDE SER UN ERROR ENORME!\n",
    "\n",
    "Y no solo por orden temporal, sino tmb geográfico, que haya estacionalidad, etc.\n",
    "\n",
    "Muchas veces lo adecuado es hacer un SHUFFLE. OJO con las distribuciones, tipos poblacionales, proporciones y demás...\n",
    "\n",
    "Pero NO siempre interesa barajar! Depende siempre del problema que estoy intentando resolver!\n",
    "\n",
    "## Análisis Exploratorio de Datos o Análisis Descriptivo (EDA).\n",
    "\n",
    "Imagen CLAVE:\n",
    "\n",
    "https://www.codificandobits.com/blog/analisis-exploratorio-de-datos/\n",
    "\n",
    "https://www.youtube.com/watch?v=nuQrNHK7Frk&ab_channel=AntonioMatas\n",
    "\n",
    "\n",
    "NO se hace NADA de modelado hasta no tener un GRAN análisis descriptivo CON CONCLUSIONES!\n",
    "\n",
    "Clave: https://twitter.com/svpino/status/1542840465455607809\n",
    "\n",
    "Olvidarnos de que el TEST existe!\n",
    "\n",
    "**Pero OJO, al TEST SI SE LE PUEDE HACER UN EDA! Se debería hacer!**\n",
    "\n",
    "Y OJO TMB, A QUE ESTO NO NOS CONDICIONE A BUSCAR X O Y RESULTADOS O VARIABLES A USAR POR ESTAR CONDICIONADOS A COMO ES EL TEST. Esto es bastante interesante y a pensar.\n",
    "\n",
    "## CROSS VALIDATION\n",
    "\n",
    "Putadón: Inestabilidad de los modelos, que es??:\n",
    "**Que un modelo me de una cosa u otra según los datos del set de entrenamiento son unos u otros**\n",
    "\n",
    "Si yo barajeara diferentemente los datos de entrenamiento y me dieran resultados contrarios, eso sería un problema, NO SERÍA UN MODELO ROBUSTO!\n",
    "\n",
    "Para esto se hace el Cross Validation, puede servir mucho frente al esquema tan estático de Test-Train-Validation\n",
    "\n",
    "* Cuando se hace Cross Validation suele NO ser necesario usar datasets de validación\n",
    "* Porque se hacen muchas validaciones con muchas formas de separar Train y Test DataSets!\n",
    "\n",
    "**LA CLAVE DE ESTO es que el Cross Validation sirve para determinar EL MEJOR ALGORITMO, sin sesgos de mi elección de Train-Test. Una vez tengo claro que modelo usar, el modelo se entrena con todo y se utilizan los hiperparámetros con TODO! Y se usan los Hiperparámetros con todo el Train DataSet!**\n",
    "\n",
    "Los distintos Folds del Cross Validation NO SE USAN! El modelo final se entrena CON TODO! Osea, con todo el Train obviamente, el Test ya lo dejé afuera antes del CV!\n",
    "\n",
    "\n",
    "###### Una Neural Network es una máquina de olvidar info: intenta siempre quedarse con lo que le sirve pq sino es imposible.\n",
    "\n",
    "Todos los modelos tienen un TOPE, normalmente los modelos tradicionales (SVM, RF, etc.) tienen topes más bajos que una NN con muchos datos y de calidad, pueden ser muy superirores, pero dependen de eso!\n",
    "\n",
    "## Parametric Models: Importante!\n",
    "\n",
    "Paramétricos vs No Paramétricos::: Hay que saber diferenciarlos por supuesto\n",
    "\n",
    "* Paramétricos:\n",
    "    - Tiene variables y coeficientes, osea tiene PARÁMETROS. Sabemos que peso tienen sobre el total!\n",
    "    - Regresión lineal\n",
    "    - Regre logística\n",
    "    - Perceptrón en NN\n",
    "    - Cada variable tiene coeficientes (pesos), más fáciles de INTERPRETAR\n",
    "    - Sencillos, más fáciles de ejecutar, y por lo tanto menos precisos.\n",
    "    - Por ende, son para casos concretos\n",
    "\n",
    "* No paramétricos:\n",
    "    - Random Forest\n",
    "    - NO FORMULAS MATEMÁTICAS, NO COEFICIENTES DE VARIABLES, ETC\n",
    "    - Decision Trees\n",
    "    - SVM\n",
    "    - K-Means\n",
    "    - Etc.\n",
    "\n",
    "## Importante saber: Normalización, Regularización y Standarización!\n",
    "\n",
    "* Regularización:\n",
    "    - Normalmente hace referencia a una PENALIZACIÓN que se pone a los modelos para evitar que sean tan precisos, osea que NO SOBREAJUSTEN!\n",
    "* Normalización y Standarización:\n",
    "    - Manejar la misma escala en todas las dimensiones!!\n",
    "    - Se puede estandarizar a la normal 0,1, a la gaussiana, como quiera...\n",
    "\n",
    "BIAS y Variance... ver esto\n",
    "\n",
    "### HAY QUE ESCALAR SIEMPRE EN ML? NO!\n",
    "\n",
    "DEPENDE del modelo que estoy usando obviamente!\n",
    "\n",
    "* Si utilizo Random Forest, XGBoost, y demás NO DEBO ESCALAR! No va a servir de nada en estos modelos\n",
    "* En otros modelos supervisados suele ser recomendable!\n",
    "* En PCA siempre es recomendable por ejemplo!\n",
    "* En Gradient Descent puede no mejorar los rdos pero si a que encuentre más rápido la solución! Esto es importante tmb!\n",
    "\n",
    "##### Correlación NO es causalidad... obvio\n",
    "##### Y NO tiene sentido calcular correlación en variables categóricas!!!\n",
    "\n",
    "\n",
    "##### STRING NO ES LO MISMO QUE VARIABLE CATEGÓRICA! INTEGER PUEDE SER CATEGÓRICA TMB!!!\n",
    "Osea, TODAS LAS STRING son categóricas, pero NO TODOS LOS INTEGER LO SON!!!\n",
    "\n",
    "\n",
    "# Clave: BIAS (Sesgo) VS VARIANCE\n",
    "\n",
    "Me interesan modelos con BAJO BIAS y BAJA VARIANCE! Muy buena slide...\n",
    "\n",
    "* Un modelo sesgado tiene una tendencia errónea en los datos\n",
    "* Mucha varianza es que estén muy dispersos, estén sesgados o no. Osea que ANTE CAMBIOS MINIMOS EN UN VALOR LA DECISION CAMBIE MUCHO! O el valor de salida mejor dicho!\n",
    "\n",
    "Si hay poco Bias y poca Variance, las soluciones van a ser muy ajustadas! Si por el contrario hay sesgo, van a tender a un lado, o mucha varianza va a haber mucha variabilidad en los output que se vean ante pequeños cambios en el input!\n",
    "\n",
    "NO tienen relación entre ellas en principio! Puedo modificarlas y mejorarlas!\n",
    "\n",
    "\n",
    "\n",
    "***\n",
    "\n",
    "3. <font color='deepskyblue'> **ClassificationConcepts.pdf** </font>\n",
    "\n",
    "\n",
    "\n",
    "\n",
    "\n",
    "\n",
    "\n"
   ]
  },
  {
   "cell_type": "code",
   "execution_count": 32,
   "id": "cd9085f0-99bc-4ed1-9d5e-8378be91d674",
   "metadata": {
    "tags": []
   },
   "outputs": [],
   "source": [
    "from sklearn.datasets import load_iris\n",
    "from sklearn import tree\n",
    "iris = load_iris()\n",
    "X, y = iris.data, iris.target\n",
    "clf = tree.DecisionTreeClassifier()\n",
    "clf = clf.fit(X, y)"
   ]
  },
  {
   "cell_type": "code",
   "execution_count": 33,
   "id": "de675377-bc57-4f22-bc5f-3942d360e9a5",
   "metadata": {
    "tags": []
   },
   "outputs": [],
   "source": [
    "import pandas as pd\n",
    "import numpy as np\n",
    "from sklearn import tree"
   ]
  },
  {
   "cell_type": "code",
   "execution_count": 34,
   "id": "c6332949-ab72-4aa4-9823-13971d858d94",
   "metadata": {
    "tags": []
   },
   "outputs": [
    {
     "data": {
      "text/html": [
       "<div>\n",
       "<style scoped>\n",
       "    .dataframe tbody tr th:only-of-type {\n",
       "        vertical-align: middle;\n",
       "    }\n",
       "\n",
       "    .dataframe tbody tr th {\n",
       "        vertical-align: top;\n",
       "    }\n",
       "\n",
       "    .dataframe thead th {\n",
       "        text-align: right;\n",
       "    }\n",
       "</style>\n",
       "<table border=\"1\" class=\"dataframe\">\n",
       "  <thead>\n",
       "    <tr style=\"text-align: right;\">\n",
       "      <th></th>\n",
       "      <th>Passengerid</th>\n",
       "      <th>Age</th>\n",
       "      <th>Fare</th>\n",
       "      <th>Sex</th>\n",
       "      <th>sibsp</th>\n",
       "      <th>zero</th>\n",
       "      <th>zero.1</th>\n",
       "      <th>zero.2</th>\n",
       "      <th>zero.3</th>\n",
       "      <th>zero.4</th>\n",
       "      <th>zero.5</th>\n",
       "      <th>zero.6</th>\n",
       "      <th>Parch</th>\n",
       "      <th>zero.7</th>\n",
       "      <th>zero.8</th>\n",
       "      <th>zero.9</th>\n",
       "      <th>zero.10</th>\n",
       "      <th>zero.11</th>\n",
       "      <th>zero.12</th>\n",
       "      <th>zero.13</th>\n",
       "      <th>zero.14</th>\n",
       "      <th>Pclass</th>\n",
       "      <th>zero.15</th>\n",
       "      <th>zero.16</th>\n",
       "      <th>Embarked</th>\n",
       "      <th>zero.17</th>\n",
       "      <th>zero.18</th>\n",
       "      <th>2urvived</th>\n",
       "    </tr>\n",
       "  </thead>\n",
       "  <tbody>\n",
       "    <tr>\n",
       "      <th>0</th>\n",
       "      <td>1</td>\n",
       "      <td>22.0</td>\n",
       "      <td>7.2500</td>\n",
       "      <td>0</td>\n",
       "      <td>1</td>\n",
       "      <td>0</td>\n",
       "      <td>0</td>\n",
       "      <td>0</td>\n",
       "      <td>0</td>\n",
       "      <td>0</td>\n",
       "      <td>0</td>\n",
       "      <td>0</td>\n",
       "      <td>0</td>\n",
       "      <td>0</td>\n",
       "      <td>0</td>\n",
       "      <td>0</td>\n",
       "      <td>0</td>\n",
       "      <td>0</td>\n",
       "      <td>0</td>\n",
       "      <td>0</td>\n",
       "      <td>0</td>\n",
       "      <td>3</td>\n",
       "      <td>0</td>\n",
       "      <td>0</td>\n",
       "      <td>2.0</td>\n",
       "      <td>0</td>\n",
       "      <td>0</td>\n",
       "      <td>0</td>\n",
       "    </tr>\n",
       "    <tr>\n",
       "      <th>1</th>\n",
       "      <td>2</td>\n",
       "      <td>38.0</td>\n",
       "      <td>71.2833</td>\n",
       "      <td>1</td>\n",
       "      <td>1</td>\n",
       "      <td>0</td>\n",
       "      <td>0</td>\n",
       "      <td>0</td>\n",
       "      <td>0</td>\n",
       "      <td>0</td>\n",
       "      <td>0</td>\n",
       "      <td>0</td>\n",
       "      <td>0</td>\n",
       "      <td>0</td>\n",
       "      <td>0</td>\n",
       "      <td>0</td>\n",
       "      <td>0</td>\n",
       "      <td>0</td>\n",
       "      <td>0</td>\n",
       "      <td>0</td>\n",
       "      <td>0</td>\n",
       "      <td>1</td>\n",
       "      <td>0</td>\n",
       "      <td>0</td>\n",
       "      <td>0.0</td>\n",
       "      <td>0</td>\n",
       "      <td>0</td>\n",
       "      <td>1</td>\n",
       "    </tr>\n",
       "    <tr>\n",
       "      <th>2</th>\n",
       "      <td>3</td>\n",
       "      <td>26.0</td>\n",
       "      <td>7.9250</td>\n",
       "      <td>1</td>\n",
       "      <td>0</td>\n",
       "      <td>0</td>\n",
       "      <td>0</td>\n",
       "      <td>0</td>\n",
       "      <td>0</td>\n",
       "      <td>0</td>\n",
       "      <td>0</td>\n",
       "      <td>0</td>\n",
       "      <td>0</td>\n",
       "      <td>0</td>\n",
       "      <td>0</td>\n",
       "      <td>0</td>\n",
       "      <td>0</td>\n",
       "      <td>0</td>\n",
       "      <td>0</td>\n",
       "      <td>0</td>\n",
       "      <td>0</td>\n",
       "      <td>3</td>\n",
       "      <td>0</td>\n",
       "      <td>0</td>\n",
       "      <td>2.0</td>\n",
       "      <td>0</td>\n",
       "      <td>0</td>\n",
       "      <td>1</td>\n",
       "    </tr>\n",
       "    <tr>\n",
       "      <th>3</th>\n",
       "      <td>4</td>\n",
       "      <td>35.0</td>\n",
       "      <td>53.1000</td>\n",
       "      <td>1</td>\n",
       "      <td>1</td>\n",
       "      <td>0</td>\n",
       "      <td>0</td>\n",
       "      <td>0</td>\n",
       "      <td>0</td>\n",
       "      <td>0</td>\n",
       "      <td>0</td>\n",
       "      <td>0</td>\n",
       "      <td>0</td>\n",
       "      <td>0</td>\n",
       "      <td>0</td>\n",
       "      <td>0</td>\n",
       "      <td>0</td>\n",
       "      <td>0</td>\n",
       "      <td>0</td>\n",
       "      <td>0</td>\n",
       "      <td>0</td>\n",
       "      <td>1</td>\n",
       "      <td>0</td>\n",
       "      <td>0</td>\n",
       "      <td>2.0</td>\n",
       "      <td>0</td>\n",
       "      <td>0</td>\n",
       "      <td>1</td>\n",
       "    </tr>\n",
       "    <tr>\n",
       "      <th>4</th>\n",
       "      <td>5</td>\n",
       "      <td>35.0</td>\n",
       "      <td>8.0500</td>\n",
       "      <td>0</td>\n",
       "      <td>0</td>\n",
       "      <td>0</td>\n",
       "      <td>0</td>\n",
       "      <td>0</td>\n",
       "      <td>0</td>\n",
       "      <td>0</td>\n",
       "      <td>0</td>\n",
       "      <td>0</td>\n",
       "      <td>0</td>\n",
       "      <td>0</td>\n",
       "      <td>0</td>\n",
       "      <td>0</td>\n",
       "      <td>0</td>\n",
       "      <td>0</td>\n",
       "      <td>0</td>\n",
       "      <td>0</td>\n",
       "      <td>0</td>\n",
       "      <td>3</td>\n",
       "      <td>0</td>\n",
       "      <td>0</td>\n",
       "      <td>2.0</td>\n",
       "      <td>0</td>\n",
       "      <td>0</td>\n",
       "      <td>0</td>\n",
       "    </tr>\n",
       "  </tbody>\n",
       "</table>\n",
       "</div>"
      ],
      "text/plain": [
       "   Passengerid   Age     Fare  Sex  sibsp  zero  zero.1  zero.2  zero.3  \\\n",
       "0            1  22.0   7.2500    0      1     0       0       0       0   \n",
       "1            2  38.0  71.2833    1      1     0       0       0       0   \n",
       "2            3  26.0   7.9250    1      0     0       0       0       0   \n",
       "3            4  35.0  53.1000    1      1     0       0       0       0   \n",
       "4            5  35.0   8.0500    0      0     0       0       0       0   \n",
       "\n",
       "   zero.4  zero.5  zero.6  Parch  zero.7  zero.8  zero.9  zero.10  zero.11  \\\n",
       "0       0       0       0      0       0       0       0        0        0   \n",
       "1       0       0       0      0       0       0       0        0        0   \n",
       "2       0       0       0      0       0       0       0        0        0   \n",
       "3       0       0       0      0       0       0       0        0        0   \n",
       "4       0       0       0      0       0       0       0        0        0   \n",
       "\n",
       "   zero.12  zero.13  zero.14  Pclass  zero.15  zero.16  Embarked  zero.17  \\\n",
       "0        0        0        0       3        0        0       2.0        0   \n",
       "1        0        0        0       1        0        0       0.0        0   \n",
       "2        0        0        0       3        0        0       2.0        0   \n",
       "3        0        0        0       1        0        0       2.0        0   \n",
       "4        0        0        0       3        0        0       2.0        0   \n",
       "\n",
       "   zero.18  2urvived  \n",
       "0        0         0  \n",
       "1        0         1  \n",
       "2        0         1  \n",
       "3        0         1  \n",
       "4        0         0  "
      ]
     },
     "execution_count": 34,
     "metadata": {},
     "output_type": "execute_result"
    }
   ],
   "source": [
    "pd.options.display.max_columns = None\n",
    "# muestro todas las columns de un DF con esta config\n",
    "titanic = pd.read_csv('./data/titanic.csv')\n",
    "titanic.head()\n"
   ]
  },
  {
   "cell_type": "code",
   "execution_count": 35,
   "id": "4aa9ee92-9cfb-4f9c-a4f8-6fb0b18358c4",
   "metadata": {
    "tags": []
   },
   "outputs": [],
   "source": [
    "#Importamos la función para dividir los datos train_test_split\n",
    "\n",
    "from sklearn.model_selection import train_test_split"
   ]
  },
  {
   "cell_type": "code",
   "execution_count": 5,
   "id": "32bc1ede-62c5-44cf-a380-0027939cdbb5",
   "metadata": {
    "tags": []
   },
   "outputs": [],
   "source": [
    "# Seleccionamos por ejemplo, el 30% de los datos para el set de prueba\n",
    "\n",
    "#set_train, set_test = train_test_split(titanic, test_size=0.3, random_state=45)"
   ]
  },
  {
   "cell_type": "markdown",
   "id": "80e5c0ff-a503-401a-bc02-ec36a68a39bd",
   "metadata": {},
   "source": [
    "### OneHotEncoding o Dumming\n",
    "Pasar variables categóricas con una codificación binaria en una nueva columna\n",
    "\n",
    "Hay muchas formas de hacer encoding, las veremos más adelante...\n",
    "\n",
    "*Esto no siempre se puede hacer, depende del DataSet y del análisis obviamente...*"
   ]
  },
  {
   "cell_type": "code",
   "execution_count": null,
   "id": "a4dbdbc4-a94c-4a11-966a-7adca63c1d81",
   "metadata": {
    "tags": []
   },
   "outputs": [],
   "source": []
  },
  {
   "cell_type": "code",
   "execution_count": null,
   "id": "6c57a1f8-c252-4646-9243-2d0b7c279b30",
   "metadata": {
    "tags": []
   },
   "outputs": [],
   "source": []
  },
  {
   "cell_type": "code",
   "execution_count": 36,
   "id": "044d6d22-9b68-4632-8de2-c46cdc6d37ac",
   "metadata": {
    "tags": []
   },
   "outputs": [],
   "source": [
    "x = titanic.drop(['Passengerid','2urvived'],axis=1)\n",
    "# NUNCA utilizar los ID para modelar! Es muy importante removerlos del dataset de entrenamiento!\n",
    "# Separarlos siempre!\n",
    "y = titanic['2urvived']"
   ]
  },
  {
   "cell_type": "code",
   "execution_count": 7,
   "id": "9dedc8ad-5e7b-4122-a6dd-d5d4fd68cd75",
   "metadata": {
    "tags": []
   },
   "outputs": [],
   "source": [
    "#x = titanic[['Age','Fare','Sex','Embarked']]"
   ]
  },
  {
   "cell_type": "code",
   "execution_count": 37,
   "id": "67435173-4c4c-4804-b4ea-92522b2e9bc5",
   "metadata": {
    "tags": []
   },
   "outputs": [
    {
     "data": {
      "text/plain": [
       "0    0\n",
       "1    1\n",
       "2    1\n",
       "3    1\n",
       "4    0\n",
       "Name: 2urvived, dtype: int64"
      ]
     },
     "execution_count": 37,
     "metadata": {},
     "output_type": "execute_result"
    }
   ],
   "source": [
    "y.head()"
   ]
  },
  {
   "cell_type": "code",
   "execution_count": 38,
   "id": "1e3c4867-6754-4b47-a39c-baad3017a4aa",
   "metadata": {
    "tags": []
   },
   "outputs": [],
   "source": [
    "x_train, x_test, y_train, y_test = train_test_split(x,y, test_size=0.3, random_state=10)\n",
    "# Siempre recordar setear la seed en el notebook para controlar y testear bien los resultados\n",
    "\n",
    "# OJO, el shuffle es TRUE por defecto en SKL!!! Cuidado pq puede que NO lo quiera hacer en determinados casos..."
   ]
  },
  {
   "cell_type": "code",
   "execution_count": 39,
   "id": "1c256854-fb42-4f7b-a241-e16fa004e2b2",
   "metadata": {
    "tags": []
   },
   "outputs": [
    {
     "data": {
      "text/html": [
       "<div>\n",
       "<style scoped>\n",
       "    .dataframe tbody tr th:only-of-type {\n",
       "        vertical-align: middle;\n",
       "    }\n",
       "\n",
       "    .dataframe tbody tr th {\n",
       "        vertical-align: top;\n",
       "    }\n",
       "\n",
       "    .dataframe thead th {\n",
       "        text-align: right;\n",
       "    }\n",
       "</style>\n",
       "<table border=\"1\" class=\"dataframe\">\n",
       "  <thead>\n",
       "    <tr style=\"text-align: right;\">\n",
       "      <th></th>\n",
       "      <th>Age</th>\n",
       "      <th>Fare</th>\n",
       "      <th>Sex</th>\n",
       "      <th>sibsp</th>\n",
       "      <th>zero</th>\n",
       "      <th>zero.1</th>\n",
       "      <th>zero.2</th>\n",
       "      <th>zero.3</th>\n",
       "      <th>zero.4</th>\n",
       "      <th>zero.5</th>\n",
       "      <th>zero.6</th>\n",
       "      <th>Parch</th>\n",
       "      <th>zero.7</th>\n",
       "      <th>zero.8</th>\n",
       "      <th>zero.9</th>\n",
       "      <th>zero.10</th>\n",
       "      <th>zero.11</th>\n",
       "      <th>zero.12</th>\n",
       "      <th>zero.13</th>\n",
       "      <th>zero.14</th>\n",
       "      <th>Pclass</th>\n",
       "      <th>zero.15</th>\n",
       "      <th>zero.16</th>\n",
       "      <th>Embarked</th>\n",
       "      <th>zero.17</th>\n",
       "      <th>zero.18</th>\n",
       "    </tr>\n",
       "  </thead>\n",
       "  <tbody>\n",
       "    <tr>\n",
       "      <th>82</th>\n",
       "      <td>28.0</td>\n",
       "      <td>7.7875</td>\n",
       "      <td>1</td>\n",
       "      <td>0</td>\n",
       "      <td>0</td>\n",
       "      <td>0</td>\n",
       "      <td>0</td>\n",
       "      <td>0</td>\n",
       "      <td>0</td>\n",
       "      <td>0</td>\n",
       "      <td>0</td>\n",
       "      <td>0</td>\n",
       "      <td>0</td>\n",
       "      <td>0</td>\n",
       "      <td>0</td>\n",
       "      <td>0</td>\n",
       "      <td>0</td>\n",
       "      <td>0</td>\n",
       "      <td>0</td>\n",
       "      <td>0</td>\n",
       "      <td>3</td>\n",
       "      <td>0</td>\n",
       "      <td>0</td>\n",
       "      <td>1.0</td>\n",
       "      <td>0</td>\n",
       "      <td>0</td>\n",
       "    </tr>\n",
       "    <tr>\n",
       "      <th>577</th>\n",
       "      <td>39.0</td>\n",
       "      <td>55.9000</td>\n",
       "      <td>1</td>\n",
       "      <td>1</td>\n",
       "      <td>0</td>\n",
       "      <td>0</td>\n",
       "      <td>0</td>\n",
       "      <td>0</td>\n",
       "      <td>0</td>\n",
       "      <td>0</td>\n",
       "      <td>0</td>\n",
       "      <td>0</td>\n",
       "      <td>0</td>\n",
       "      <td>0</td>\n",
       "      <td>0</td>\n",
       "      <td>0</td>\n",
       "      <td>0</td>\n",
       "      <td>0</td>\n",
       "      <td>0</td>\n",
       "      <td>0</td>\n",
       "      <td>1</td>\n",
       "      <td>0</td>\n",
       "      <td>0</td>\n",
       "      <td>2.0</td>\n",
       "      <td>0</td>\n",
       "      <td>0</td>\n",
       "    </tr>\n",
       "    <tr>\n",
       "      <th>537</th>\n",
       "      <td>30.0</td>\n",
       "      <td>106.4250</td>\n",
       "      <td>1</td>\n",
       "      <td>0</td>\n",
       "      <td>0</td>\n",
       "      <td>0</td>\n",
       "      <td>0</td>\n",
       "      <td>0</td>\n",
       "      <td>0</td>\n",
       "      <td>0</td>\n",
       "      <td>0</td>\n",
       "      <td>0</td>\n",
       "      <td>0</td>\n",
       "      <td>0</td>\n",
       "      <td>0</td>\n",
       "      <td>0</td>\n",
       "      <td>0</td>\n",
       "      <td>0</td>\n",
       "      <td>0</td>\n",
       "      <td>0</td>\n",
       "      <td>1</td>\n",
       "      <td>0</td>\n",
       "      <td>0</td>\n",
       "      <td>0.0</td>\n",
       "      <td>0</td>\n",
       "      <td>0</td>\n",
       "    </tr>\n",
       "    <tr>\n",
       "      <th>454</th>\n",
       "      <td>28.0</td>\n",
       "      <td>8.0500</td>\n",
       "      <td>0</td>\n",
       "      <td>0</td>\n",
       "      <td>0</td>\n",
       "      <td>0</td>\n",
       "      <td>0</td>\n",
       "      <td>0</td>\n",
       "      <td>0</td>\n",
       "      <td>0</td>\n",
       "      <td>0</td>\n",
       "      <td>0</td>\n",
       "      <td>0</td>\n",
       "      <td>0</td>\n",
       "      <td>0</td>\n",
       "      <td>0</td>\n",
       "      <td>0</td>\n",
       "      <td>0</td>\n",
       "      <td>0</td>\n",
       "      <td>0</td>\n",
       "      <td>3</td>\n",
       "      <td>0</td>\n",
       "      <td>0</td>\n",
       "      <td>2.0</td>\n",
       "      <td>0</td>\n",
       "      <td>0</td>\n",
       "    </tr>\n",
       "    <tr>\n",
       "      <th>738</th>\n",
       "      <td>28.0</td>\n",
       "      <td>7.8958</td>\n",
       "      <td>0</td>\n",
       "      <td>0</td>\n",
       "      <td>0</td>\n",
       "      <td>0</td>\n",
       "      <td>0</td>\n",
       "      <td>0</td>\n",
       "      <td>0</td>\n",
       "      <td>0</td>\n",
       "      <td>0</td>\n",
       "      <td>0</td>\n",
       "      <td>0</td>\n",
       "      <td>0</td>\n",
       "      <td>0</td>\n",
       "      <td>0</td>\n",
       "      <td>0</td>\n",
       "      <td>0</td>\n",
       "      <td>0</td>\n",
       "      <td>0</td>\n",
       "      <td>3</td>\n",
       "      <td>0</td>\n",
       "      <td>0</td>\n",
       "      <td>2.0</td>\n",
       "      <td>0</td>\n",
       "      <td>0</td>\n",
       "    </tr>\n",
       "  </tbody>\n",
       "</table>\n",
       "</div>"
      ],
      "text/plain": [
       "      Age      Fare  Sex  sibsp  zero  zero.1  zero.2  zero.3  zero.4  zero.5  \\\n",
       "82   28.0    7.7875    1      0     0       0       0       0       0       0   \n",
       "577  39.0   55.9000    1      1     0       0       0       0       0       0   \n",
       "537  30.0  106.4250    1      0     0       0       0       0       0       0   \n",
       "454  28.0    8.0500    0      0     0       0       0       0       0       0   \n",
       "738  28.0    7.8958    0      0     0       0       0       0       0       0   \n",
       "\n",
       "     zero.6  Parch  zero.7  zero.8  zero.9  zero.10  zero.11  zero.12  \\\n",
       "82        0      0       0       0       0        0        0        0   \n",
       "577       0      0       0       0       0        0        0        0   \n",
       "537       0      0       0       0       0        0        0        0   \n",
       "454       0      0       0       0       0        0        0        0   \n",
       "738       0      0       0       0       0        0        0        0   \n",
       "\n",
       "     zero.13  zero.14  Pclass  zero.15  zero.16  Embarked  zero.17  zero.18  \n",
       "82         0        0       3        0        0       1.0        0        0  \n",
       "577        0        0       1        0        0       2.0        0        0  \n",
       "537        0        0       1        0        0       0.0        0        0  \n",
       "454        0        0       3        0        0       2.0        0        0  \n",
       "738        0        0       3        0        0       2.0        0        0  "
      ]
     },
     "execution_count": 39,
     "metadata": {},
     "output_type": "execute_result"
    }
   ],
   "source": [
    "x_train.head()"
   ]
  },
  {
   "cell_type": "code",
   "execution_count": 69,
   "id": "3d47ee4d-6566-43d1-aebd-941d9088917e",
   "metadata": {
    "tags": []
   },
   "outputs": [
    {
     "data": {
      "text/html": [
       "<div>\n",
       "<style scoped>\n",
       "    .dataframe tbody tr th:only-of-type {\n",
       "        vertical-align: middle;\n",
       "    }\n",
       "\n",
       "    .dataframe tbody tr th {\n",
       "        vertical-align: top;\n",
       "    }\n",
       "\n",
       "    .dataframe thead th {\n",
       "        text-align: right;\n",
       "    }\n",
       "</style>\n",
       "<table border=\"1\" class=\"dataframe\">\n",
       "  <thead>\n",
       "    <tr style=\"text-align: right;\">\n",
       "      <th></th>\n",
       "      <th>Age</th>\n",
       "      <th>Fare</th>\n",
       "      <th>Sex</th>\n",
       "      <th>sibsp</th>\n",
       "      <th>zero</th>\n",
       "      <th>zero.1</th>\n",
       "      <th>zero.2</th>\n",
       "      <th>zero.3</th>\n",
       "      <th>zero.4</th>\n",
       "      <th>zero.5</th>\n",
       "      <th>zero.6</th>\n",
       "      <th>Parch</th>\n",
       "      <th>zero.7</th>\n",
       "      <th>zero.8</th>\n",
       "      <th>zero.9</th>\n",
       "      <th>zero.10</th>\n",
       "      <th>zero.11</th>\n",
       "      <th>zero.12</th>\n",
       "      <th>zero.13</th>\n",
       "      <th>zero.14</th>\n",
       "      <th>Pclass</th>\n",
       "      <th>zero.15</th>\n",
       "      <th>zero.16</th>\n",
       "      <th>Embarked</th>\n",
       "      <th>zero.17</th>\n",
       "      <th>zero.18</th>\n",
       "    </tr>\n",
       "  </thead>\n",
       "  <tbody>\n",
       "  </tbody>\n",
       "</table>\n",
       "</div>"
      ],
      "text/plain": [
       "Empty DataFrame\n",
       "Columns: [Age, Fare, Sex, sibsp, zero, zero.1, zero.2, zero.3, zero.4, zero.5, zero.6, Parch, zero.7, zero.8, zero.9, zero.10, zero.11, zero.12, zero.13, zero.14, Pclass, zero.15, zero.16, Embarked, zero.17, zero.18]\n",
       "Index: []"
      ]
     },
     "execution_count": 69,
     "metadata": {},
     "output_type": "execute_result"
    }
   ],
   "source": [
    "x_train[x_train.Embarked.isna()]"
   ]
  },
  {
   "cell_type": "code",
   "execution_count": null,
   "id": "fb87826c-3d82-4531-ad84-aff8df2f91cd",
   "metadata": {},
   "outputs": [],
   "source": []
  },
  {
   "cell_type": "code",
   "execution_count": 68,
   "id": "54bea2df-8fe2-483d-bfb6-662a92088ddb",
   "metadata": {
    "tags": []
   },
   "outputs": [],
   "source": [
    "x_train.loc[x_train['Embarked'].isna(),'Embarked'] = 0"
   ]
  },
  {
   "cell_type": "code",
   "execution_count": 12,
   "id": "dc08602a-588d-4a9f-b3d6-e6020a5711e3",
   "metadata": {
    "tags": []
   },
   "outputs": [
    {
     "data": {
      "text/plain": [
       "82     1\n",
       "577    1\n",
       "537    1\n",
       "454    0\n",
       "738    0\n",
       "Name: 2urvived, dtype: int64"
      ]
     },
     "execution_count": 12,
     "metadata": {},
     "output_type": "execute_result"
    }
   ],
   "source": [
    "y_train.head()"
   ]
  },
  {
   "cell_type": "code",
   "execution_count": 13,
   "id": "347f49c4-aec4-4a0b-9969-4c7511dad556",
   "metadata": {
    "tags": []
   },
   "outputs": [],
   "source": [
    "clf = tree.DecisionTreeClassifier()"
   ]
  },
  {
   "cell_type": "code",
   "execution_count": 14,
   "id": "48e1816d-d577-4ef3-8f98-7000370c4bad",
   "metadata": {
    "tags": []
   },
   "outputs": [],
   "source": [
    "clf = clf.fit(x_train, y_train)"
   ]
  },
  {
   "cell_type": "code",
   "execution_count": 15,
   "id": "91110ae6-e32e-43bf-b59a-531db60dd578",
   "metadata": {
    "tags": []
   },
   "outputs": [],
   "source": [
    "#tree.plot_tree(clf)"
   ]
  },
  {
   "cell_type": "markdown",
   "id": "329100ad-db93-4d75-b116-379c5b8f6892",
   "metadata": {
    "tags": []
   },
   "source": [
    "## Actividad\n",
    "\n",
    "1. Sobre el TEST hacer un PREDICT de la y\n",
    "\n",
    "2. METRICA: medir que tan bien está prediciendo! CONFUSION MATRIX!!!\n",
    "\n"
   ]
  },
  {
   "cell_type": "code",
   "execution_count": 16,
   "id": "19b75c1f-89b8-4235-a48e-67a1176966ea",
   "metadata": {
    "tags": []
   },
   "outputs": [
    {
     "data": {
      "text/plain": [
       "(array([0, 1, 0, 1, 0, 0, 0, 1, 0, 0, 1, 0, 0, 1, 0, 0, 0, 0, 0, 0, 0, 1,\n",
       "        0, 0, 1, 0, 1, 1, 0, 1, 0, 0, 1, 0, 1, 0, 0, 0, 0, 1, 0, 0, 1, 0,\n",
       "        0, 1, 0, 0, 0, 1, 1, 1, 0, 1, 0, 0, 0, 0, 1, 0, 1, 0, 1, 0, 1, 0,\n",
       "        0, 0, 1, 1, 0, 1, 0, 1, 0, 0, 0, 1, 0, 0, 1, 1, 1, 0, 0, 0, 1, 0,\n",
       "        0, 1, 1, 0, 1, 0, 0, 0, 0, 1, 0, 0, 0, 0, 0, 1, 0, 0, 1, 0, 1, 0,\n",
       "        1, 0, 0, 0, 0, 0, 1, 0, 1, 1, 1, 1, 0, 1, 0, 0, 0, 1, 1, 0, 0, 1,\n",
       "        0, 0, 0, 0, 0, 0, 0, 0, 0, 0, 1, 0, 0, 0, 0, 0, 0, 0, 1, 1, 0, 0,\n",
       "        1, 0, 0, 0, 0, 0, 1, 0, 0, 0, 0, 0, 0, 0, 1, 0, 0, 0, 0, 0, 0, 0,\n",
       "        0, 0, 0, 0, 1, 0, 0, 0, 0, 0, 1, 0, 0, 0, 0, 0, 0, 0, 1, 0, 0, 1,\n",
       "        0, 1, 0, 0, 0, 0, 0, 0, 0, 0, 0, 0, 0, 0, 1, 1, 1, 0, 0, 1, 0, 0,\n",
       "        0, 0, 1, 1, 0, 0, 0, 0, 0, 0, 0, 0, 1, 1, 1, 0, 0, 1, 0, 0, 0, 0,\n",
       "        1, 1, 0, 1, 0, 0, 0, 0, 1, 0, 0, 1, 1, 1, 0, 0, 0, 0, 0, 0, 0, 0,\n",
       "        1, 1, 1, 0, 0, 0, 1, 0, 0, 0, 0, 1, 1, 0, 0, 0, 1, 0, 1, 0, 0, 0,\n",
       "        0, 1, 0, 1, 1, 0, 0, 1, 1, 0, 0, 0, 0, 1, 0, 0, 0, 0, 0, 0, 1, 0,\n",
       "        0, 0, 0, 1, 0, 1, 1, 0, 0, 0, 0, 0, 1, 1, 1, 1, 0, 1, 0, 0, 1, 1,\n",
       "        0, 0, 1, 0, 0, 0, 0, 0, 0, 0, 0, 0, 0, 0, 0, 1, 0, 0, 0, 0, 0, 1,\n",
       "        0, 0, 0, 0, 1, 0, 0, 0, 1, 0, 0, 0, 0, 0, 0, 0, 1, 1, 1, 0, 1, 0,\n",
       "        0, 0, 0, 0, 0, 0, 0, 0, 0, 1, 1, 1, 0, 0, 1, 1, 0, 0, 0],\n",
       "       dtype=int64),\n",
       " array([1, 1, 0, 0, 0, 0, 0, 1, 0, 0, 1, 1, 0, 0, 0, 0, 1, 0, 1, 0, 1, 1,\n",
       "        0, 1, 1, 0, 0, 1, 0, 1, 0, 0, 0, 0, 1, 0, 0, 0, 0, 0, 0, 0, 1, 0,\n",
       "        0, 0, 0, 0, 0, 1, 1, 0, 0, 1, 0, 0, 0, 0, 1, 0, 0, 0, 0, 0, 1, 0,\n",
       "        0, 0, 0, 0, 0, 0, 0, 0, 1, 0, 0, 0, 0, 0, 1, 1, 0, 1, 0, 0, 0, 0,\n",
       "        0, 0, 1, 1, 0, 0, 1, 0, 0, 1, 1, 0, 1, 1, 1, 1, 0, 0, 1, 0, 1, 0,\n",
       "        1, 0, 0, 0, 0, 0, 1, 0, 1, 1, 0, 0, 0, 1, 0, 0, 0, 1, 0, 0, 0, 1,\n",
       "        0, 0, 0, 0, 0, 0, 0, 0, 1, 0, 1, 1, 0, 0, 1, 0, 0, 0, 1, 1, 0, 0,\n",
       "        1, 0, 0, 0, 1, 0, 1, 0, 0, 1, 0, 0, 0, 1, 0, 0, 0, 0, 1, 1, 0, 0,\n",
       "        0, 0, 0, 0, 0, 0, 0, 0, 0, 0, 0, 0, 1, 0, 1, 1, 0, 0, 0, 0, 0, 1,\n",
       "        0, 0, 0, 0, 1, 0, 0, 0, 0, 0, 0, 0, 0, 0, 0, 0, 0, 0, 0, 0, 0, 0,\n",
       "        1, 0, 1, 0, 0, 0, 0, 0, 0, 0, 0, 0, 1, 1, 1, 0, 0, 0, 0, 0, 0, 0,\n",
       "        0, 0, 0, 0, 0, 0, 0, 0, 1, 1, 0, 0, 1, 0, 0, 0, 1, 0, 1, 0, 1, 0,\n",
       "        1, 0, 1, 0, 0, 1, 1, 0, 0, 0, 0, 0, 1, 0, 0, 1, 0, 0, 0, 0, 0, 1,\n",
       "        0, 1, 0, 0, 1, 0, 0, 1, 0, 0, 0, 1, 1, 1, 0, 0, 1, 0, 0, 0, 1, 0,\n",
       "        1, 1, 0, 1, 0, 1, 1, 0, 1, 0, 0, 0, 0, 0, 1, 0, 0, 0, 0, 0, 0, 0,\n",
       "        0, 0, 0, 0, 0, 0, 0, 0, 0, 0, 1, 0, 0, 0, 0, 0, 0, 0, 0, 0, 0, 1,\n",
       "        0, 0, 0, 0, 0, 0, 1, 0, 0, 0, 0, 1, 0, 1, 1, 0, 1, 1, 1, 0, 0, 0,\n",
       "        0, 0, 0, 0, 1, 1, 1, 0, 0, 1, 0, 1, 0, 0, 1, 0, 0, 1, 0],\n",
       "       dtype=int64))"
      ]
     },
     "execution_count": 16,
     "metadata": {},
     "output_type": "execute_result"
    }
   ],
   "source": [
    "y_pred = clf.predict(x_test)\n",
    "\n",
    "y_pred,np.array(y_test)"
   ]
  },
  {
   "cell_type": "code",
   "execution_count": 17,
   "id": "67418604-ac5d-4e4a-b0db-e02639402df2",
   "metadata": {
    "tags": []
   },
   "outputs": [],
   "source": [
    "from sklearn.metrics import confusion_matrix"
   ]
  },
  {
   "cell_type": "code",
   "execution_count": 18,
   "id": "6bd5da82-d662-47ea-9c77-cd36b7960e04",
   "metadata": {
    "tags": []
   },
   "outputs": [
    {
     "data": {
      "text/plain": [
       "array([[228,  49],\n",
       "       [ 56,  60]], dtype=int64)"
      ]
     },
     "execution_count": 18,
     "metadata": {},
     "output_type": "execute_result"
    }
   ],
   "source": [
    "cf_matrix = confusion_matrix(y_pred,y_test)\n",
    "cf_matrix"
   ]
  },
  {
   "cell_type": "code",
   "execution_count": 19,
   "id": "891fe678-8667-4c6e-a221-2fe52367ed4c",
   "metadata": {
    "tags": []
   },
   "outputs": [
    {
     "data": {
      "text/plain": [
       "array([[0.58015267, 0.12468193],\n",
       "       [0.14249364, 0.15267176]])"
      ]
     },
     "execution_count": 19,
     "metadata": {},
     "output_type": "execute_result"
    }
   ],
   "source": [
    "cf_matrix_perc = cf_matrix/np.sum(cf_matrix)\n",
    "cf_matrix_perc"
   ]
  },
  {
   "cell_type": "code",
   "execution_count": 20,
   "id": "21ff1465-fbf1-441f-ab7d-cbac76dc4857",
   "metadata": {
    "tags": []
   },
   "outputs": [
    {
     "data": {
      "text/html": [
       "<div>\n",
       "<style scoped>\n",
       "    .dataframe tbody tr th:only-of-type {\n",
       "        vertical-align: middle;\n",
       "    }\n",
       "\n",
       "    .dataframe tbody tr th {\n",
       "        vertical-align: top;\n",
       "    }\n",
       "\n",
       "    .dataframe thead th {\n",
       "        text-align: right;\n",
       "    }\n",
       "</style>\n",
       "<table border=\"1\" class=\"dataframe\">\n",
       "  <thead>\n",
       "    <tr style=\"text-align: right;\">\n",
       "      <th></th>\n",
       "      <th>Pred 0</th>\n",
       "      <th>Pred 1</th>\n",
       "    </tr>\n",
       "  </thead>\n",
       "  <tbody>\n",
       "    <tr>\n",
       "      <th>Actual 0</th>\n",
       "      <td>0.580153</td>\n",
       "      <td>0.124682</td>\n",
       "    </tr>\n",
       "    <tr>\n",
       "      <th>Actual 1</th>\n",
       "      <td>0.142494</td>\n",
       "      <td>0.152672</td>\n",
       "    </tr>\n",
       "  </tbody>\n",
       "</table>\n",
       "</div>"
      ],
      "text/plain": [
       "            Pred 0    Pred 1\n",
       "Actual 0  0.580153  0.124682\n",
       "Actual 1  0.142494  0.152672"
      ]
     },
     "execution_count": 20,
     "metadata": {},
     "output_type": "execute_result"
    }
   ],
   "source": [
    "cf_matrix_scaled = pd.DataFrame(cf_matrix/cf_matrix.sum(), index=['Actual 0', 'Actual 1'], columns=['Pred 0','Pred 1'])\n",
    "cf_matrix_scaled"
   ]
  },
  {
   "cell_type": "code",
   "execution_count": null,
   "id": "3a0e35c0-9f3c-44f9-ad12-fabfac3d62fc",
   "metadata": {},
   "outputs": [],
   "source": []
  },
  {
   "cell_type": "code",
   "execution_count": 21,
   "id": "a1a4647a-b405-4ef2-89d1-a9268d007308",
   "metadata": {
    "tags": []
   },
   "outputs": [],
   "source": [
    "import matplotlib.pyplot as plt\n",
    "import seaborn as sns"
   ]
  },
  {
   "cell_type": "code",
   "execution_count": 22,
   "id": "446873ab-b7ee-4e4b-9f17-3e87b21d1523",
   "metadata": {
    "tags": []
   },
   "outputs": [
    {
     "data": {
      "image/png": "[encoded data removed]",
      "text/plain": [
       "<Figure size 640x480 with 2 Axes>"
      ]
     },
     "metadata": {},
     "output_type": "display_data"
    }
   ],
   "source": [
    "#plt.figure(figsize=(8, 6))\n",
    "#sns.set(font_scale=1.4)\n",
    "heatmap = sns.heatmap(cf_matrix_perc, annot=True, fmt='.2%', cmap='Blues', linewidth=2)\n",
    "#plt.xlabel('Predictions', fontdict={'fontname':'Montserrat'})\n",
    "#plt.ylabel('Reality', fontdict={'fontname':'Montserrat'})\n",
    "plt.title('Confusion Matrix', fontdict={'fontname':'Montserrat', 'fontsize':30})\n",
    "plt.show()"
   ]
  },
  {
   "cell_type": "code",
   "execution_count": 23,
   "id": "52a69425-76f9-43b2-b53f-01f3450693d0",
   "metadata": {
    "tags": []
   },
   "outputs": [
    {
     "data": {
      "image/png": "[encoded data removed]",
      "text/plain": [
       "<Figure size 640x480 with 2 Axes>"
      ]
     },
     "metadata": {},
     "output_type": "display_data"
    }
   ],
   "source": [
    "sns.heatmap(cf_matrix, annot=True, fmt='d', cmap='Blues', linewidth=2)\n",
    "plt.show()"
   ]
  },
  {
   "cell_type": "code",
   "execution_count": 24,
   "id": "622a9c6b-a8de-461a-ba46-80e0322163ab",
   "metadata": {
    "tags": []
   },
   "outputs": [
    {
     "data": {
      "text/plain": [
       "array([[0.58015267, 0.12468193],\n",
       "       [0.14249364, 0.15267176]])"
      ]
     },
     "execution_count": 24,
     "metadata": {},
     "output_type": "execute_result"
    }
   ],
   "source": [
    "cf_matrix/np.sum(cf_matrix)"
   ]
  },
  {
   "cell_type": "code",
   "execution_count": null,
   "id": "d99ff587-0b16-4756-b8f1-eef3293f97b2",
   "metadata": {
    "tags": []
   },
   "outputs": [],
   "source": []
  },
  {
   "cell_type": "code",
   "execution_count": 25,
   "id": "01d623df-692c-4c12-a976-7ab67718a891",
   "metadata": {
    "tags": []
   },
   "outputs": [],
   "source": [
    "#tree.plot_tree(clf)"
   ]
  },
  {
   "cell_type": "code",
   "execution_count": 26,
   "id": "680ca11a-3c7c-4212-913f-c055daa4e078",
   "metadata": {
    "tags": []
   },
   "outputs": [
    {
     "data": {
      "text/html": [
       "<div>\n",
       "<style scoped>\n",
       "    .dataframe tbody tr th:only-of-type {\n",
       "        vertical-align: middle;\n",
       "    }\n",
       "\n",
       "    .dataframe tbody tr th {\n",
       "        vertical-align: top;\n",
       "    }\n",
       "\n",
       "    .dataframe thead th {\n",
       "        text-align: right;\n",
       "    }\n",
       "</style>\n",
       "<table border=\"1\" class=\"dataframe\">\n",
       "  <thead>\n",
       "    <tr style=\"text-align: right;\">\n",
       "      <th></th>\n",
       "      <th>0</th>\n",
       "      <th>1</th>\n",
       "      <th>2</th>\n",
       "    </tr>\n",
       "  </thead>\n",
       "  <tbody>\n",
       "    <tr>\n",
       "      <th>0</th>\n",
       "      <td>0.5</td>\n",
       "      <td>0.5</td>\n",
       "      <td>1</td>\n",
       "    </tr>\n",
       "    <tr>\n",
       "      <th>1</th>\n",
       "      <td>0.5</td>\n",
       "      <td>0.5</td>\n",
       "      <td>1</td>\n",
       "    </tr>\n",
       "    <tr>\n",
       "      <th>2</th>\n",
       "      <td>1.0</td>\n",
       "      <td>1.0</td>\n",
       "      <td>1</td>\n",
       "    </tr>\n",
       "  </tbody>\n",
       "</table>\n",
       "</div>"
      ],
      "text/plain": [
       "     0    1  2\n",
       "0  0.5  0.5  1\n",
       "1  0.5  0.5  1\n",
       "2  1.0  1.0  1"
      ]
     },
     "execution_count": 26,
     "metadata": {},
     "output_type": "execute_result"
    }
   ],
   "source": [
    "prueba = pd.DataFrame([[0.5,0.5,1],[0.5,0.5,1],[1,1,1]])\n",
    "prueba"
   ]
  },
  {
   "cell_type": "code",
   "execution_count": 27,
   "id": "ed05b258-c785-44b4-b612-0a91e7152513",
   "metadata": {
    "tags": []
   },
   "outputs": [
    {
     "data": {
      "image/png": "[encoded data removed]",
      "text/plain": [
       "<Figure size 640x480 with 2 Axes>"
      ]
     },
     "metadata": {},
     "output_type": "display_data"
    }
   ],
   "source": [
    "sns.heatmap(prueba, annot=True)\n",
    "plt.show()"
   ]
  },
  {
   "cell_type": "code",
   "execution_count": 28,
   "id": "f72405a2-b9b4-47dd-9379-498b3dd3e983",
   "metadata": {
    "tags": []
   },
   "outputs": [
    {
     "data": {
      "text/html": [
       "<div>\n",
       "<style scoped>\n",
       "    .dataframe tbody tr th:only-of-type {\n",
       "        vertical-align: middle;\n",
       "    }\n",
       "\n",
       "    .dataframe tbody tr th {\n",
       "        vertical-align: top;\n",
       "    }\n",
       "\n",
       "    .dataframe thead th {\n",
       "        text-align: right;\n",
       "    }\n",
       "</style>\n",
       "<table border=\"1\" class=\"dataframe\">\n",
       "  <thead>\n",
       "    <tr style=\"text-align: right;\">\n",
       "      <th></th>\n",
       "      <th>survived</th>\n",
       "      <th>pclass</th>\n",
       "      <th>sex</th>\n",
       "      <th>age</th>\n",
       "      <th>sibsp</th>\n",
       "      <th>parch</th>\n",
       "      <th>fare</th>\n",
       "      <th>embarked</th>\n",
       "      <th>class</th>\n",
       "      <th>who</th>\n",
       "      <th>adult_male</th>\n",
       "      <th>deck</th>\n",
       "      <th>embark_town</th>\n",
       "      <th>alive</th>\n",
       "      <th>alone</th>\n",
       "    </tr>\n",
       "  </thead>\n",
       "  <tbody>\n",
       "    <tr>\n",
       "      <th>0</th>\n",
       "      <td>0</td>\n",
       "      <td>3</td>\n",
       "      <td>male</td>\n",
       "      <td>22.0</td>\n",
       "      <td>1</td>\n",
       "      <td>0</td>\n",
       "      <td>7.2500</td>\n",
       "      <td>S</td>\n",
       "      <td>Third</td>\n",
       "      <td>man</td>\n",
       "      <td>True</td>\n",
       "      <td>NaN</td>\n",
       "      <td>Southampton</td>\n",
       "      <td>no</td>\n",
       "      <td>False</td>\n",
       "    </tr>\n",
       "    <tr>\n",
       "      <th>1</th>\n",
       "      <td>1</td>\n",
       "      <td>1</td>\n",
       "      <td>female</td>\n",
       "      <td>38.0</td>\n",
       "      <td>1</td>\n",
       "      <td>0</td>\n",
       "      <td>71.2833</td>\n",
       "      <td>C</td>\n",
       "      <td>First</td>\n",
       "      <td>woman</td>\n",
       "      <td>False</td>\n",
       "      <td>C</td>\n",
       "      <td>Cherbourg</td>\n",
       "      <td>yes</td>\n",
       "      <td>False</td>\n",
       "    </tr>\n",
       "    <tr>\n",
       "      <th>2</th>\n",
       "      <td>1</td>\n",
       "      <td>3</td>\n",
       "      <td>female</td>\n",
       "      <td>26.0</td>\n",
       "      <td>0</td>\n",
       "      <td>0</td>\n",
       "      <td>7.9250</td>\n",
       "      <td>S</td>\n",
       "      <td>Third</td>\n",
       "      <td>woman</td>\n",
       "      <td>False</td>\n",
       "      <td>NaN</td>\n",
       "      <td>Southampton</td>\n",
       "      <td>yes</td>\n",
       "      <td>True</td>\n",
       "    </tr>\n",
       "    <tr>\n",
       "      <th>3</th>\n",
       "      <td>1</td>\n",
       "      <td>1</td>\n",
       "      <td>female</td>\n",
       "      <td>35.0</td>\n",
       "      <td>1</td>\n",
       "      <td>0</td>\n",
       "      <td>53.1000</td>\n",
       "      <td>S</td>\n",
       "      <td>First</td>\n",
       "      <td>woman</td>\n",
       "      <td>False</td>\n",
       "      <td>C</td>\n",
       "      <td>Southampton</td>\n",
       "      <td>yes</td>\n",
       "      <td>False</td>\n",
       "    </tr>\n",
       "    <tr>\n",
       "      <th>4</th>\n",
       "      <td>0</td>\n",
       "      <td>3</td>\n",
       "      <td>male</td>\n",
       "      <td>35.0</td>\n",
       "      <td>0</td>\n",
       "      <td>0</td>\n",
       "      <td>8.0500</td>\n",
       "      <td>S</td>\n",
       "      <td>Third</td>\n",
       "      <td>man</td>\n",
       "      <td>True</td>\n",
       "      <td>NaN</td>\n",
       "      <td>Southampton</td>\n",
       "      <td>no</td>\n",
       "      <td>True</td>\n",
       "    </tr>\n",
       "  </tbody>\n",
       "</table>\n",
       "</div>"
      ],
      "text/plain": [
       "   survived  pclass     sex   age  sibsp  parch     fare embarked  class  \\\n",
       "0         0       3    male  22.0      1      0   7.2500        S  Third   \n",
       "1         1       1  female  38.0      1      0  71.2833        C  First   \n",
       "2         1       3  female  26.0      0      0   7.9250        S  Third   \n",
       "3         1       1  female  35.0      1      0  53.1000        S  First   \n",
       "4         0       3    male  35.0      0      0   8.0500        S  Third   \n",
       "\n",
       "     who  adult_male deck  embark_town alive  alone  \n",
       "0    man        True  NaN  Southampton    no  False  \n",
       "1  woman       False    C    Cherbourg   yes  False  \n",
       "2  woman       False  NaN  Southampton   yes   True  \n",
       "3  woman       False    C  Southampton   yes  False  \n",
       "4    man        True  NaN  Southampton    no   True  "
      ]
     },
     "execution_count": 28,
     "metadata": {},
     "output_type": "execute_result"
    }
   ],
   "source": [
    "titanic = sns.load_dataset(\"titanic\")\n",
    "titanic.head()"
   ]
  },
  {
   "cell_type": "code",
   "execution_count": 29,
   "id": "942b9e4d-1e6c-41d0-a995-2ce2950157dc",
   "metadata": {
    "tags": []
   },
   "outputs": [
    {
     "data": {
      "text/html": [
       "<div>\n",
       "<style scoped>\n",
       "    .dataframe tbody tr th:only-of-type {\n",
       "        vertical-align: middle;\n",
       "    }\n",
       "\n",
       "    .dataframe tbody tr th {\n",
       "        vertical-align: top;\n",
       "    }\n",
       "\n",
       "    .dataframe thead th {\n",
       "        text-align: right;\n",
       "    }\n",
       "</style>\n",
       "<table border=\"1\" class=\"dataframe\">\n",
       "  <thead>\n",
       "    <tr style=\"text-align: right;\">\n",
       "      <th></th>\n",
       "      <th>survived</th>\n",
       "      <th>pclass</th>\n",
       "      <th>age</th>\n",
       "      <th>sibsp</th>\n",
       "      <th>parch</th>\n",
       "      <th>fare</th>\n",
       "    </tr>\n",
       "  </thead>\n",
       "  <tbody>\n",
       "    <tr>\n",
       "      <th>survived</th>\n",
       "      <td>1.000000</td>\n",
       "      <td>-0.338481</td>\n",
       "      <td>-0.077221</td>\n",
       "      <td>-0.035322</td>\n",
       "      <td>0.081629</td>\n",
       "      <td>0.257307</td>\n",
       "    </tr>\n",
       "    <tr>\n",
       "      <th>pclass</th>\n",
       "      <td>-0.338481</td>\n",
       "      <td>1.000000</td>\n",
       "      <td>-0.369226</td>\n",
       "      <td>0.083081</td>\n",
       "      <td>0.018443</td>\n",
       "      <td>-0.549500</td>\n",
       "    </tr>\n",
       "    <tr>\n",
       "      <th>age</th>\n",
       "      <td>-0.077221</td>\n",
       "      <td>-0.369226</td>\n",
       "      <td>1.000000</td>\n",
       "      <td>-0.308247</td>\n",
       "      <td>-0.189119</td>\n",
       "      <td>0.096067</td>\n",
       "    </tr>\n",
       "    <tr>\n",
       "      <th>sibsp</th>\n",
       "      <td>-0.035322</td>\n",
       "      <td>0.083081</td>\n",
       "      <td>-0.308247</td>\n",
       "      <td>1.000000</td>\n",
       "      <td>0.414838</td>\n",
       "      <td>0.159651</td>\n",
       "    </tr>\n",
       "    <tr>\n",
       "      <th>parch</th>\n",
       "      <td>0.081629</td>\n",
       "      <td>0.018443</td>\n",
       "      <td>-0.189119</td>\n",
       "      <td>0.414838</td>\n",
       "      <td>1.000000</td>\n",
       "      <td>0.216225</td>\n",
       "    </tr>\n",
       "    <tr>\n",
       "      <th>fare</th>\n",
       "      <td>0.257307</td>\n",
       "      <td>-0.549500</td>\n",
       "      <td>0.096067</td>\n",
       "      <td>0.159651</td>\n",
       "      <td>0.216225</td>\n",
       "      <td>1.000000</td>\n",
       "    </tr>\n",
       "  </tbody>\n",
       "</table>\n",
       "</div>"
      ],
      "text/plain": [
       "          survived    pclass       age     sibsp     parch      fare\n",
       "survived  1.000000 -0.338481 -0.077221 -0.035322  0.081629  0.257307\n",
       "pclass   -0.338481  1.000000 -0.369226  0.083081  0.018443 -0.549500\n",
       "age      -0.077221 -0.369226  1.000000 -0.308247 -0.189119  0.096067\n",
       "sibsp    -0.035322  0.083081 -0.308247  1.000000  0.414838  0.159651\n",
       "parch     0.081629  0.018443 -0.189119  0.414838  1.000000  0.216225\n",
       "fare      0.257307 -0.549500  0.096067  0.159651  0.216225  1.000000"
      ]
     },
     "execution_count": 29,
     "metadata": {},
     "output_type": "execute_result"
    }
   ],
   "source": [
    "titanic_corr = titanic.select_dtypes(['number']).corr()\n",
    "titanic_corr"
   ]
  },
  {
   "cell_type": "code",
   "execution_count": null,
   "id": "5e95b9b2-79f8-4f11-92db-0e0aa129c3d7",
   "metadata": {
    "tags": []
   },
   "outputs": [],
   "source": []
  },
  {
   "cell_type": "code",
   "execution_count": 30,
   "id": "0b25ed9c-ea92-401e-841c-62de8d9162bf",
   "metadata": {
    "tags": []
   },
   "outputs": [
    {
     "data": {
      "image/png": "[encoded data removed]",
      "text/plain": [
       "<Figure size 640x480 with 2 Axes>"
      ]
     },
     "metadata": {},
     "output_type": "display_data"
    }
   ],
   "source": [
    "sns.heatmap(titanic_corr,annot=True,cmap='YlGnBu')\n",
    "plt.show()"
   ]
  },
  {
   "cell_type": "code",
   "execution_count": 31,
   "id": "f4c27d90-7513-44d3-bb95-b91a44320220",
   "metadata": {},
   "outputs": [],
   "source": [
    "#from sklearn.metrics import plot_confusion_matrix"
   ]
  },
  {
   "cell_type": "code",
   "execution_count": 32,
   "id": "161f179b-537e-4806-94b7-d975cb8821d0",
   "metadata": {
    "tags": []
   },
   "outputs": [],
   "source": [
    "from sklearn import metrics"
   ]
  },
  {
   "cell_type": "code",
   "execution_count": 33,
   "id": "66e7e415-d603-400a-9158-0b4342fd056f",
   "metadata": {},
   "outputs": [
    {
     "data": {
      "image/png": "[encoded data removed]",
      "text/plain": [
       "<Figure size 640x480 with 2 Axes>"
      ]
     },
     "metadata": {},
     "output_type": "display_data"
    }
   ],
   "source": [
    "cm_display = metrics.ConfusionMatrixDisplay(confusion_matrix = cf_matrix_perc, display_labels = [0, 1])\n",
    "cm_display.plot()\n",
    "plt.show()"
   ]
  },
  {
   "cell_type": "code",
   "execution_count": 35,
   "id": "38d69cc6-a2c7-4d40-9bfa-e3d371e2c2eb",
   "metadata": {},
   "outputs": [],
   "source": [
    "#pip install seaborn --upgrade"
   ]
  },
  {
   "cell_type": "code",
   "execution_count": null,
   "id": "16b3114d-1d5d-49bb-811b-9dfef3ccc840",
   "metadata": {},
   "outputs": [],
   "source": []
  },
  {
   "cell_type": "code",
   "execution_count": null,
   "id": "142b3438-95e5-42cf-909f-0579ab64b26f",
   "metadata": {},
   "outputs": [],
   "source": []
  },
  {
   "cell_type": "code",
   "execution_count": null,
   "id": "c279857f-13d0-402c-a4ab-0dad6cee28af",
   "metadata": {},
   "outputs": [],
   "source": []
  }
 ],
 "metadata": {
  "kernelspec": {
   "display_name": "Python 3 (ipykernel)",
   "language": "python",
   "name": "python3"
  },
  "language_info": {
   "codemirror_mode": {
    "name": "ipython",
    "version": 3
   },
   "file_extension": ".py",
   "mimetype": "text/x-python",
   "name": "python",
   "nbconvert_exporter": "python",
   "pygments_lexer": "ipython3",
   "version": "3.9.18"
  }
 },
 "nbformat": 4,
 "nbformat_minor": 5
}
