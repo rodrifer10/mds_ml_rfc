{
 "cells": [
  {
   "cell_type": "markdown",
   "id": "6cbf42e1-cb3d-4688-833f-bb3a74aa69c8",
   "metadata": {},
   "source": [
    "# Práctica:\n",
    "\n",
    "# Al eda hay que hacerlo de nuevo en algunos sentidos:\n",
    "* El eda es SOBRE EL BRUTO\n",
    "* NO tiene que haber FEATURE ENGINEERING en el EDA!\n",
    "* Imputación de MISSINGS, al FEATURE ENGINEERING (no tenemos en este caso pero podría cambiar el orden) --> Si los cambio de -1 a -666, hacerlo ahí\n",
    "* OHE --> FEATURE ENGENIEERING\n",
    "* Eliminación de variables o lo q sea --> Feature Selection x ej...\n",
    "* SI NO TENGO NECESIDAD DE ELIMINAR VARIABLES NO ELIMINO!!\n",
    "* Puedo probar modelos muchas veces eliminando variables!\n",
    "* Tener más en cuenta la PLANTILLA\n",
    "* **PIPES PARA TODO! EL PREPROCESSING TIENE QUE SER UN PIPE!**\n",
    "* DEFINIR EL THRESHOLD ANTES DE LA C MATRIX --> Con la curva de ganancia y demás!\n",
    "# VER EL TEMA DE CURRENT DAYS/MONTHS Y DEMÁS PQ ALOMEJOR NO LAS PUEDO USAR! ESAS, LAS DE VELOCITY Y DEMÁS REVISAR BIEN!\n",
    "# ELIMINAR VARIABLES BINARIAS DE LA MATRIZ DE CORRELACIÓN!!!\n",
    "\n",
    "\n",
    "Selección de variables:\n",
    "https://docs.aws.amazon.com/machine-learning/latest/dg/feature-processing.html\n",
    "\n",
    "OJO, la selección de variables NO es importancia de variables... Depende de muchas cosas! Y solo la podemos saber al final, cuando acabé. Porque depende de muchas cosas, de mi procesamiento, de las que elegí, depende mucho tmb del modelo que aplique! Etc...\n",
    "\n",
    "https://pair-code.github.io/facets/\n",
    "Recordar cositas como que un código postal debe ser un string, pq puede haber 0 adelante\n",
    "\n",
    "### Interpretabilidad va en otro Notebook!"
   ]
  },
  {
   "cell_type": "markdown",
   "id": "c8c2f940-23be-4e8b-8935-54684471affb",
   "metadata": {},
   "source": [
    "Recuperar TITANIC Y ARBOL\n",
    "\n",
    "LANZAR SHAP CON ESO\n",
    "\n"
   ]
  },
  {
   "cell_type": "code",
   "execution_count": null,
   "id": "ef2ff3d4-7774-4b49-ad35-45dce20d6d30",
   "metadata": {
    "tags": []
   },
   "outputs": [],
   "source": []
  },
  {
   "cell_type": "markdown",
   "id": "c7e8d616-e937-4975-bc15-f9ef750b9dd2",
   "metadata": {},
   "source": [
    "***\n",
    "# EXPLICABILIDAD\n",
    "\n",
    "### Parametros SHAP (tmb está el LIME pero el Shap es lo q más se utiliza!)\n",
    "\n",
    "* Es un modelo propio!\n",
    "* El valor shap de una variables es por cada registro! Es la improtancia de cada variable en las predicciones!\n",
    "* SIRVE PARA COMPARAR LAS VARIABLES ENTRE SÍ!\n",
    "* Esto me da algo de EXPLICABILIDAD LOCAL (PARA UN INDIVIDUO)! x primera vez --> Ver como afecta cada variable a la determinación del valor para una instancia!!!\n",
    "* Cuales variables tiran más y cuales menos!\n",
    "* También tengo explicabilidad GENERAL (cuando aportan las variables al modelo x ej)\n",
    "* Gráfico de DEPENDENCIAS parciales (para una variable y todos los individuos...)! --> hay 2:\n",
    "    - El de SHAP (ver en la web q pongo abajo)\n",
    "    - El de Machine Learning (como se modifica el target en base a cambios en una variable) --> Predicción proba en base a una variable X (buscar y ver https://christophm.github.io/interpretable-ml-book/pdp.html#examples)\n",
    "* Esto hay que hacerlo para las variables más importantes!!\n",
    "\n",
    "https://christophm.github.io/interpretable-ml-book/shap.html\n",
    "\n",
    "El base:\n",
    "https://christophm.github.io/interpretable-ml-book/"
   ]
  },
  {
   "cell_type": "markdown",
   "id": "34b4e9c7-3a6c-403b-ab83-cd46ecd6bbf7",
   "metadata": {},
   "source": [
    "***\n",
    "Todo lo de antes SI O SI.\n",
    "\n",
    "A partir de ahora vamos FINO:\n",
    "\n",
    "# CLUSTERING WITH SHAP VALUES:\n",
    "\n",
    "#### Puede ser MUY útil dividir en 2 subset SOLO EL DATASET DE TEST: 1 y 0 según el Target. Y con ese grupo de 1 por ejemplo, los q son fraude, HACER CLUSTERING EN BASE A LOS SHAP VALUES!\n",
    "Para eso hacemos una tabla con todas las variables con sus valores raw, tmb las variables y sus valores shap, y al final el Target!\n",
    "#### Eso me permite clusterizar en tipos de fraude x ej! (Con K means x ej) --> A esos los llamo los ORO\n",
    "#### Una vez tengo esos clusters, analizo los valores originales de esas instancias. Me centro en analizar con ESTADÍSTICAS DESCRIPTIVAS, QUE TIENEN LOS QUE ESTÁN AHÍ! Y de nuevo, histogramas, medias, gráficos, describes, etc.\n",
    "#### Todo esto me permite llegar a información super valiosa de tipos de individuos!\n",
    "\n",
    "Esto parece muy entretenido para hacerlo!\n",
    "\n",
    "# Para la prácica: Establecer tipos de defraudadores y ver que estrategias utilizar para prevenirlos!\n"
   ]
  },
  {
   "cell_type": "markdown",
   "id": "19ac2d70-6285-4e83-810a-9cb2d3a29fc4",
   "metadata": {},
   "source": [
    "***\n",
    "\n",
    "Dudas:\n",
    "* F1 por sobre Accuracy? o f2, f0.5 --> TANTO PARA ELEGIR MODELOS COMO PARA EL AJUSTE DE HIPERPARÁMETROS\n",
    "* Si hago un PCA, es correcto meter los 2 nuevos componentes al modelo? Al ser Trees no debería haber problema, no?\n",
    "\n",
    "# LIGHTGBM EN EL COMPUTO YA PUEDE SACAR LOS SHARP!!! VERLO!!!\n",
    "\n",
    "## NO PUEDO ELIMINAR PARTES DEL OHE EN LA SELECCIÓN DE VARIABLES... Ana dijo exactamente lo opuesto, consultar...\n",
    "\n"
   ]
  },
  {
   "cell_type": "code",
   "execution_count": null,
   "id": "2b46d016-ba89-43e1-9289-c585e88903a3",
   "metadata": {},
   "outputs": [],
   "source": []
  },
  {
   "cell_type": "code",
   "execution_count": null,
   "id": "7bf803a7-1d07-401f-ac7d-3bd62289d196",
   "metadata": {},
   "outputs": [],
   "source": []
  },
  {
   "cell_type": "code",
   "execution_count": null,
   "id": "bfa82c12-b4c2-45a2-a0d6-6dc3bf94f3e1",
   "metadata": {},
   "outputs": [],
   "source": []
  },
  {
   "cell_type": "code",
   "execution_count": null,
   "id": "66cb9cfd-6b82-4ad1-9306-ecb9a7bc40ff",
   "metadata": {},
   "outputs": [],
   "source": []
  },
  {
   "cell_type": "code",
   "execution_count": null,
   "id": "f65cb547-79bf-445b-b885-47dd24a73575",
   "metadata": {},
   "outputs": [],
   "source": []
  }
 ],
 "metadata": {
  "kernelspec": {
   "display_name": "Python 3 (ipykernel)",
   "language": "python",
   "name": "python3"
  },
  "language_info": {
   "codemirror_mode": {
    "name": "ipython",
    "version": 3
   },
   "file_extension": ".py",
   "mimetype": "text/x-python",
   "name": "python",
   "nbconvert_exporter": "python",
   "pygments_lexer": "ipython3",
   "version": "3.9.18"
  }
 },
 "nbformat": 4,
 "nbformat_minor": 5
}
