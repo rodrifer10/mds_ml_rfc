{
 "cells": [
  {
   "cell_type": "markdown",
   "id": "bd3fbd99-bba1-4083-8cc3-4fbfe24233d6",
   "metadata": {},
   "source": [
    "# Class 8\n",
    "\n",
    "## One-Hot Encoding - Target Encoding (label encoder en SKL)\n",
    "\n",
    "1. Siempre separamos antes en Train y Test! Categorizamos en Train (con fit) y aplicamos al test (con transform si no me equivoco). Siempre meter categoría 'otros' por si no hay una categoría de train en test o viceversa\n",
    "2. Estos 2 son los q se usan el 95% de las veces, pero hay más, como el frequency, ordinal, etc...\n",
    "3. El Target Encoding tiene la ventaja cuando son muchas las categorías, pq hace un código que genera UNA sola columna, no agrega una dimensión por categoría a diferencia del One-Hot\n",
    "\n",
    "**El .fit() se puede guardar EN .pickle!** CUANDO ABRO DE NUEVO EL NOTEBOOK LO IMPORTO Y NO LO TENGO Q ENTRENAR DE NUEVO! **CLAVE ESTO!!!**\n",
    "\n",
    "https://machinelearningmastery.com/save-load-machine-learning-models-python-scikit-learn/\n",
    "\n",
    ".pickle es el archivo de python para guardar modelos que hemos entrenado...\n",
    "\n",
    "### Ver el Chat con ChatGPT, son las dos primeras preguntas del chat de ML classes\n"
   ]
  },
  {
   "cell_type": "markdown",
   "id": "cf34c880-bbbc-40b2-a0d9-910f629257c9",
   "metadata": {},
   "source": [
    "# Práctica EDA\n",
    "\n",
    "Hacer hasta codificación de variables!"
   ]
  },
  {
   "cell_type": "code",
   "execution_count": null,
   "id": "7a1d23ea-3bb9-40d4-b0ee-e28de6a26e44",
   "metadata": {},
   "outputs": [],
   "source": []
  },
  {
   "cell_type": "code",
   "execution_count": null,
   "id": "d42f635c-1b22-4990-8ef4-88ff41c1f484",
   "metadata": {},
   "outputs": [],
   "source": []
  },
  {
   "cell_type": "code",
   "execution_count": null,
   "id": "bfb278b1-acbf-4b80-ad0d-097526029de8",
   "metadata": {},
   "outputs": [],
   "source": []
  },
  {
   "cell_type": "code",
   "execution_count": null,
   "id": "c8aca8f7-ca8e-4057-9ffa-1e53edb454d4",
   "metadata": {},
   "outputs": [],
   "source": []
  },
  {
   "cell_type": "code",
   "execution_count": null,
   "id": "481b51b5-0e52-4857-a232-603cab378d60",
   "metadata": {},
   "outputs": [],
   "source": []
  },
  {
   "cell_type": "code",
   "execution_count": null,
   "id": "3da20a72-4336-4523-afb5-cbf727898b2d",
   "metadata": {},
   "outputs": [],
   "source": []
  },
  {
   "cell_type": "code",
   "execution_count": null,
   "id": "67fe4064-c5c9-46a3-872e-040b834baaf0",
   "metadata": {},
   "outputs": [],
   "source": []
  },
  {
   "cell_type": "code",
   "execution_count": null,
   "id": "7862b136-8d1f-4532-ad39-53517612b055",
   "metadata": {},
   "outputs": [],
   "source": []
  }
 ],
 "metadata": {
  "kernelspec": {
   "display_name": "Python 3 (ipykernel)",
   "language": "python",
   "name": "python3"
  },
  "language_info": {
   "codemirror_mode": {
    "name": "ipython",
    "version": 3
   },
   "file_extension": ".py",
   "mimetype": "text/x-python",
   "name": "python",
   "nbconvert_exporter": "python",
   "pygments_lexer": "ipython3",
   "version": "3.9.18"
  }
 },
 "nbformat": 4,
 "nbformat_minor": 5
}
