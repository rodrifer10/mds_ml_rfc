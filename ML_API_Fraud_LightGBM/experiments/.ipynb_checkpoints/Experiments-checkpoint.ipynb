{
 "cells": [
  {
   "attachments": {
    "ed2b78cf-28e8-4b9f-b0a7-7a33715c6677.png": {
     "image/png": "[encoded data removed]"
    }
   },
   "cell_type": "markdown",
   "id": "ea2927a5-df44-4158-901f-0a3259ef14aa",
   "metadata": {},
   "source": [
    "![image.png](attachment:ed2b78cf-28e8-4b9f-b0a7-7a33715c6677.png)\n",
    "\n",
    "# Máster en Data Science - Machine Learning"
   ]
  },
  {
   "cell_type": "markdown",
   "id": "bf90babe-c813-47f6-872c-21837f267694",
   "metadata": {},
   "source": [
    "# Predicción de fraude mediante el uso de modelos de Machine Learning\n",
    "##### <font color='dodgerblue' face='Montserrat'>Autor: Rodrigo Fernandez Campos</font>\n",
    "## DataSet: Bank Account Fraud Dataset Suite (NeurIPS 2022)"
   ]
  },
  {
   "cell_type": "markdown",
   "id": "436fd2bd-2a4b-4b08-a2a6-d22711d718ae",
   "metadata": {},
   "source": [
    "# <font size=25><b>Pruebas y experimentos</b></font>\n",
    "\n",
    "* Pruebas de Modelos\n",
    "* Pruebas de tamaños de sets con Undersampling\n",
    "* Pruebas de búsqueda de hiperparámetros"
   ]
  },
  {
   "cell_type": "code",
   "execution_count": 1,
   "id": "47c55404-b5e3-4ebc-97ba-875dafeb088c",
   "metadata": {
    "tags": []
   },
   "outputs": [],
   "source": [
    "# Librerías\n",
    "import pandas as pd\n",
    "import numpy as np\n",
    "import matplotlib.pyplot as plt\n",
    "import seaborn as sns\n",
    "from termcolor import colored, cprint\n",
    "from sklearn.preprocessing import OneHotEncoder\n",
    "from sklearn.preprocessing import OrdinalEncoder\n",
    "from sklearn.preprocessing import StandardScaler\n",
    "from sklearn.compose import ColumnTransformer\n",
    "from sklearn.preprocessing import TargetEncoder\n",
    "import warnings\n",
    "import sys\n",
    "\n",
    "from sklearn.model_selection import train_test_split\n",
    "from sklearn.ensemble import RandomForestClassifier, GradientBoostingClassifier\n",
    "from sklearn import metrics\n",
    "from sklearn.metrics import roc_curve, roc_auc_score\n",
    "from sklearn.linear_model import Lasso, LogisticRegression\n",
    "from sklearn.feature_selection import SelectFromModel, RFE\n",
    "from sklearn.preprocessing import StandardScaler\n",
    "from sklearn.tree import DecisionTreeClassifier\n",
    "from sklearn.pipeline import Pipeline\n",
    "from xgboost import XGBClassifier\n",
    "import lightgbm\n",
    "from lightgbm.sklearn import LGBMClassifier\n",
    "from sklearn.svm import SVC\n",
    "from sklearn.metrics import fbeta_score, make_scorer\n",
    "from sklearn.preprocessing import OneHotEncoder\n",
    "from sklearn.preprocessing import OrdinalEncoder\n",
    "from sklearn.preprocessing import StandardScaler\n",
    "from sklearn.compose import ColumnTransformer\n",
    "from sklearn.preprocessing import TargetEncoder\n",
    "\n",
    "from sklearn.model_selection import GridSearchCV, RandomizedSearchCV\n",
    "from skopt import BayesSearchCV\n",
    "\n",
    "from sklearn.dummy import DummyClassifier\n",
    "from sklearn.naive_bayes import GaussianNB\n",
    "import statsmodels.api as sm\n",
    "\n",
    "from imblearn.over_sampling import SMOTE\n",
    "from imblearn.under_sampling import RandomUnderSampler\n",
    "from imblearn.pipeline import Pipeline\n",
    "from imblearn.combine import SMOTETomek\n",
    "from imblearn.combine import SMOTEENN\n",
    "from imblearn.under_sampling import NearMiss, TomekLinks\n",
    "\n",
    "from sklearn.metrics import balanced_accuracy_score,\\\n",
    "                            accuracy_score,average_precision_score, precision_recall_curve, roc_curve,\\\n",
    "                            auc, recall_score, precision_score, confusion_matrix, f1_score\n",
    "import pickle\n",
    "from joblib import dump, load\n",
    "\n",
    "import warnings\n",
    "warnings.filterwarnings('ignore')\n",
    "\n",
    "pd.set_option('display.max_columns', 500)\n",
    "pd.set_option('display.max_rows', 500)"
   ]
  },
  {
   "cell_type": "markdown",
   "id": "578c8e3f-7e78-4eae-954a-0ef6c74da917",
   "metadata": {},
   "source": [
    "## Funciones"
   ]
  },
  {
   "cell_type": "code",
   "execution_count": 4,
   "id": "bf2fcd85-e1c3-4ae0-a4fa-c4b8f9aba012",
   "metadata": {
    "tags": []
   },
   "outputs": [],
   "source": [
    "sys.path.append('../src/')\n",
    "import functions_rfc as fr\n",
    "sys.path.remove('../src/')\n",
    "\n",
    "### Constantes:\n",
    "seed=10"
   ]
  },
  {
   "cell_type": "markdown",
   "id": "c0dbbfe2-d234-4037-a828-7e63a42820b8",
   "metadata": {},
   "source": [
    "***\n",
    "# Importo y preparo los datasets\n",
    "\n",
    "## Importo datasets procesados con anterioridad"
   ]
  },
  {
   "cell_type": "code",
   "execution_count": 2,
   "id": "29ef0e20-4f2f-44cb-9478-b3139bea973d",
   "metadata": {
    "tags": []
   },
   "outputs": [
    {
     "data": {
      "text/html": [
       "<div>\n",
       "<style scoped>\n",
       "    .dataframe tbody tr th:only-of-type {\n",
       "        vertical-align: middle;\n",
       "    }\n",
       "\n",
       "    .dataframe tbody tr th {\n",
       "        vertical-align: top;\n",
       "    }\n",
       "\n",
       "    .dataframe thead th {\n",
       "        text-align: right;\n",
       "    }\n",
       "</style>\n",
       "<table border=\"1\" class=\"dataframe\">\n",
       "  <thead>\n",
       "    <tr style=\"text-align: right;\">\n",
       "      <th></th>\n",
       "      <th>income</th>\n",
       "      <th>name_email_similarity</th>\n",
       "      <th>prev_address_months_count</th>\n",
       "      <th>current_address_months_count</th>\n",
       "      <th>customer_age</th>\n",
       "      <th>days_since_request</th>\n",
       "      <th>intended_balcon_amount</th>\n",
       "      <th>payment_type</th>\n",
       "      <th>zip_count_4w</th>\n",
       "      <th>velocity_6h</th>\n",
       "      <th>velocity_24h</th>\n",
       "      <th>velocity_4w</th>\n",
       "      <th>bank_branch_count_8w</th>\n",
       "      <th>date_of_birth_distinct_emails_4w</th>\n",
       "      <th>employment_status</th>\n",
       "      <th>credit_risk_score</th>\n",
       "      <th>email_is_free</th>\n",
       "      <th>housing_status</th>\n",
       "      <th>phone_home_valid</th>\n",
       "      <th>phone_mobile_valid</th>\n",
       "      <th>bank_months_count</th>\n",
       "      <th>has_other_cards</th>\n",
       "      <th>proposed_credit_limit</th>\n",
       "      <th>foreign_request</th>\n",
       "      <th>source</th>\n",
       "      <th>session_length_in_minutes</th>\n",
       "      <th>device_os</th>\n",
       "      <th>keep_alive_session</th>\n",
       "      <th>device_distinct_emails_8w</th>\n",
       "      <th>month</th>\n",
       "      <th>fraud_bool</th>\n",
       "    </tr>\n",
       "  </thead>\n",
       "  <tbody>\n",
       "    <tr>\n",
       "      <th>0</th>\n",
       "      <td>0.9</td>\n",
       "      <td>0.237329</td>\n",
       "      <td>-1</td>\n",
       "      <td>80</td>\n",
       "      <td>40</td>\n",
       "      <td>0.013515</td>\n",
       "      <td>-1.041418</td>\n",
       "      <td>AC</td>\n",
       "      <td>1589</td>\n",
       "      <td>5840.486860</td>\n",
       "      <td>7660.279574</td>\n",
       "      <td>6353.443336</td>\n",
       "      <td>0</td>\n",
       "      <td>12</td>\n",
       "      <td>CA</td>\n",
       "      <td>100</td>\n",
       "      <td>1</td>\n",
       "      <td>BA</td>\n",
       "      <td>0</td>\n",
       "      <td>1</td>\n",
       "      <td>-1</td>\n",
       "      <td>0</td>\n",
       "      <td>2000.0</td>\n",
       "      <td>0</td>\n",
       "      <td>INTERNET</td>\n",
       "      <td>3.436651</td>\n",
       "      <td>other</td>\n",
       "      <td>1</td>\n",
       "      <td>1</td>\n",
       "      <td>0</td>\n",
       "      <td>0</td>\n",
       "    </tr>\n",
       "    <tr>\n",
       "      <th>1</th>\n",
       "      <td>0.9</td>\n",
       "      <td>0.176307</td>\n",
       "      <td>-1</td>\n",
       "      <td>54</td>\n",
       "      <td>40</td>\n",
       "      <td>0.019225</td>\n",
       "      <td>-0.835103</td>\n",
       "      <td>AC</td>\n",
       "      <td>882</td>\n",
       "      <td>3442.067872</td>\n",
       "      <td>4575.631214</td>\n",
       "      <td>5571.455566</td>\n",
       "      <td>1</td>\n",
       "      <td>7</td>\n",
       "      <td>CF</td>\n",
       "      <td>106</td>\n",
       "      <td>0</td>\n",
       "      <td>BC</td>\n",
       "      <td>0</td>\n",
       "      <td>1</td>\n",
       "      <td>-1</td>\n",
       "      <td>0</td>\n",
       "      <td>200.0</td>\n",
       "      <td>0</td>\n",
       "      <td>INTERNET</td>\n",
       "      <td>6.356665</td>\n",
       "      <td>linux</td>\n",
       "      <td>0</td>\n",
       "      <td>1</td>\n",
       "      <td>2</td>\n",
       "      <td>0</td>\n",
       "    </tr>\n",
       "    <tr>\n",
       "      <th>2</th>\n",
       "      <td>0.1</td>\n",
       "      <td>0.265706</td>\n",
       "      <td>157</td>\n",
       "      <td>156</td>\n",
       "      <td>40</td>\n",
       "      <td>0.011588</td>\n",
       "      <td>37.078740</td>\n",
       "      <td>AA</td>\n",
       "      <td>1298</td>\n",
       "      <td>1196.731284</td>\n",
       "      <td>4008.487554</td>\n",
       "      <td>4212.552556</td>\n",
       "      <td>728</td>\n",
       "      <td>2</td>\n",
       "      <td>CA</td>\n",
       "      <td>137</td>\n",
       "      <td>0</td>\n",
       "      <td>BE</td>\n",
       "      <td>1</td>\n",
       "      <td>1</td>\n",
       "      <td>11</td>\n",
       "      <td>1</td>\n",
       "      <td>500.0</td>\n",
       "      <td>0</td>\n",
       "      <td>INTERNET</td>\n",
       "      <td>17.815440</td>\n",
       "      <td>windows</td>\n",
       "      <td>1</td>\n",
       "      <td>1</td>\n",
       "      <td>6</td>\n",
       "      <td>0</td>\n",
       "    </tr>\n",
       "    <tr>\n",
       "      <th>3</th>\n",
       "      <td>0.9</td>\n",
       "      <td>0.089557</td>\n",
       "      <td>35</td>\n",
       "      <td>5</td>\n",
       "      <td>20</td>\n",
       "      <td>0.025159</td>\n",
       "      <td>37.116540</td>\n",
       "      <td>AA</td>\n",
       "      <td>1337</td>\n",
       "      <td>9563.602945</td>\n",
       "      <td>2838.222720</td>\n",
       "      <td>3508.471021</td>\n",
       "      <td>429</td>\n",
       "      <td>11</td>\n",
       "      <td>CA</td>\n",
       "      <td>242</td>\n",
       "      <td>1</td>\n",
       "      <td>BC</td>\n",
       "      <td>0</td>\n",
       "      <td>1</td>\n",
       "      <td>21</td>\n",
       "      <td>0</td>\n",
       "      <td>200.0</td>\n",
       "      <td>0</td>\n",
       "      <td>INTERNET</td>\n",
       "      <td>4.443607</td>\n",
       "      <td>other</td>\n",
       "      <td>1</td>\n",
       "      <td>1</td>\n",
       "      <td>2</td>\n",
       "      <td>0</td>\n",
       "    </tr>\n",
       "    <tr>\n",
       "      <th>4</th>\n",
       "      <td>0.7</td>\n",
       "      <td>0.882855</td>\n",
       "      <td>-1</td>\n",
       "      <td>117</td>\n",
       "      <td>40</td>\n",
       "      <td>0.003562</td>\n",
       "      <td>-0.332094</td>\n",
       "      <td>AC</td>\n",
       "      <td>1333</td>\n",
       "      <td>1954.199605</td>\n",
       "      <td>2811.816273</td>\n",
       "      <td>4267.415243</td>\n",
       "      <td>1</td>\n",
       "      <td>2</td>\n",
       "      <td>CA</td>\n",
       "      <td>225</td>\n",
       "      <td>1</td>\n",
       "      <td>BA</td>\n",
       "      <td>1</td>\n",
       "      <td>1</td>\n",
       "      <td>-1</td>\n",
       "      <td>0</td>\n",
       "      <td>1000.0</td>\n",
       "      <td>0</td>\n",
       "      <td>INTERNET</td>\n",
       "      <td>3.170467</td>\n",
       "      <td>windows</td>\n",
       "      <td>1</td>\n",
       "      <td>1</td>\n",
       "      <td>5</td>\n",
       "      <td>0</td>\n",
       "    </tr>\n",
       "  </tbody>\n",
       "</table>\n",
       "</div>"
      ],
      "text/plain": [
       "   income  name_email_similarity  prev_address_months_count  \\\n",
       "0     0.9               0.237329                         -1   \n",
       "1     0.9               0.176307                         -1   \n",
       "2     0.1               0.265706                        157   \n",
       "3     0.9               0.089557                         35   \n",
       "4     0.7               0.882855                         -1   \n",
       "\n",
       "   current_address_months_count  customer_age  days_since_request  \\\n",
       "0                            80            40            0.013515   \n",
       "1                            54            40            0.019225   \n",
       "2                           156            40            0.011588   \n",
       "3                             5            20            0.025159   \n",
       "4                           117            40            0.003562   \n",
       "\n",
       "   intended_balcon_amount payment_type  zip_count_4w  velocity_6h  \\\n",
       "0               -1.041418           AC          1589  5840.486860   \n",
       "1               -0.835103           AC           882  3442.067872   \n",
       "2               37.078740           AA          1298  1196.731284   \n",
       "3               37.116540           AA          1337  9563.602945   \n",
       "4               -0.332094           AC          1333  1954.199605   \n",
       "\n",
       "   velocity_24h  velocity_4w  bank_branch_count_8w  \\\n",
       "0   7660.279574  6353.443336                     0   \n",
       "1   4575.631214  5571.455566                     1   \n",
       "2   4008.487554  4212.552556                   728   \n",
       "3   2838.222720  3508.471021                   429   \n",
       "4   2811.816273  4267.415243                     1   \n",
       "\n",
       "   date_of_birth_distinct_emails_4w employment_status  credit_risk_score  \\\n",
       "0                                12                CA                100   \n",
       "1                                 7                CF                106   \n",
       "2                                 2                CA                137   \n",
       "3                                11                CA                242   \n",
       "4                                 2                CA                225   \n",
       "\n",
       "   email_is_free housing_status  phone_home_valid  phone_mobile_valid  \\\n",
       "0              1             BA                 0                   1   \n",
       "1              0             BC                 0                   1   \n",
       "2              0             BE                 1                   1   \n",
       "3              1             BC                 0                   1   \n",
       "4              1             BA                 1                   1   \n",
       "\n",
       "   bank_months_count  has_other_cards  proposed_credit_limit  foreign_request  \\\n",
       "0                 -1                0                 2000.0                0   \n",
       "1                 -1                0                  200.0                0   \n",
       "2                 11                1                  500.0                0   \n",
       "3                 21                0                  200.0                0   \n",
       "4                 -1                0                 1000.0                0   \n",
       "\n",
       "     source  session_length_in_minutes device_os  keep_alive_session  \\\n",
       "0  INTERNET                   3.436651     other                   1   \n",
       "1  INTERNET                   6.356665     linux                   0   \n",
       "2  INTERNET                  17.815440   windows                   1   \n",
       "3  INTERNET                   4.443607     other                   1   \n",
       "4  INTERNET                   3.170467   windows                   1   \n",
       "\n",
       "   device_distinct_emails_8w  month  fraud_bool  \n",
       "0                          1      0           0  \n",
       "1                          1      2           0  \n",
       "2                          1      6           0  \n",
       "3                          1      2           0  \n",
       "4                          1      5           0  "
      ]
     },
     "execution_count": 2,
     "metadata": {},
     "output_type": "execute_result"
    }
   ],
   "source": [
    "df_fraud_train = pd.read_csv('../data/interim/df_fraud_train.csv')\n",
    "\n",
    "df_fraud_train.head()"
   ]
  },
  {
   "cell_type": "markdown",
   "id": "4f7a586d-fac9-49e0-ad3e-f60cdfd16d93",
   "metadata": {},
   "source": [
    "Aplico el preprocesamiento mediante el uso de mis funciones de pipeline y feature selection.\n",
    "\n",
    "Además, dejo un dataset sin recortes de variables, para ver si es significativa la diferencia de métricas o no."
   ]
  },
  {
   "cell_type": "code",
   "execution_count": 5,
   "id": "2fcf7887-de4b-49df-bc11-c77fe6fedfd4",
   "metadata": {
    "tags": []
   },
   "outputs": [
    {
     "data": {
      "text/plain": [
       "((700000, 30), (700000, 35))"
      ]
     },
     "execution_count": 5,
     "metadata": {},
     "output_type": "execute_result"
    }
   ],
   "source": [
    "df_fraud_train_cut = fr.feature_selection(fr.preprocessing(df_fraud_train).fit_transform(df_fraud_train, df_fraud_train.fraud_bool))\n",
    "\n",
    "df_fraud_train = fr.preprocessing(df_fraud_train).fit_transform(df_fraud_train, df_fraud_train.fraud_bool)\n",
    "\n",
    "df_fraud_train_cut.shape, df_fraud_train.shape"
   ]
  },
  {
   "cell_type": "code",
   "execution_count": 6,
   "id": "9e9f2fbe-453b-4c5d-8010-764559820e5a",
   "metadata": {
    "tags": []
   },
   "outputs": [
    {
     "data": {
      "text/html": [
       "<div>\n",
       "<style scoped>\n",
       "    .dataframe tbody tr th:only-of-type {\n",
       "        vertical-align: middle;\n",
       "    }\n",
       "\n",
       "    .dataframe tbody tr th {\n",
       "        vertical-align: top;\n",
       "    }\n",
       "\n",
       "    .dataframe thead th {\n",
       "        text-align: right;\n",
       "    }\n",
       "</style>\n",
       "<table border=\"1\" class=\"dataframe\">\n",
       "  <thead>\n",
       "    <tr style=\"text-align: right;\">\n",
       "      <th></th>\n",
       "      <th>income</th>\n",
       "      <th>name_email_similarity</th>\n",
       "      <th>prev_address_months_count</th>\n",
       "      <th>current_address_months_count</th>\n",
       "      <th>customer_age</th>\n",
       "      <th>days_since_request</th>\n",
       "      <th>intended_balcon_amount</th>\n",
       "      <th>zip_count_4w</th>\n",
       "      <th>velocity_4w</th>\n",
       "      <th>bank_branch_count_8w</th>\n",
       "      <th>date_of_birth_distinct_emails_4w</th>\n",
       "      <th>credit_risk_score</th>\n",
       "      <th>bank_months_count</th>\n",
       "      <th>proposed_credit_limit</th>\n",
       "      <th>session_length_in_minutes</th>\n",
       "      <th>device_distinct_emails_8w</th>\n",
       "      <th>month</th>\n",
       "      <th>employment_status</th>\n",
       "      <th>housing_status</th>\n",
       "      <th>device_os_linux</th>\n",
       "      <th>device_os_macintosh</th>\n",
       "      <th>device_os_other</th>\n",
       "      <th>device_os_windows</th>\n",
       "      <th>device_os_x11</th>\n",
       "      <th>payment_type</th>\n",
       "      <th>email_is_free</th>\n",
       "      <th>phone_home_valid</th>\n",
       "      <th>has_other_cards</th>\n",
       "      <th>keep_alive_session</th>\n",
       "      <th>fraud_bool</th>\n",
       "    </tr>\n",
       "  </thead>\n",
       "  <tbody>\n",
       "    <tr>\n",
       "      <th>0</th>\n",
       "      <td>1.162077</td>\n",
       "      <td>-0.886368</td>\n",
       "      <td>-0.401845</td>\n",
       "      <td>-0.074208</td>\n",
       "      <td>0.525351</td>\n",
       "      <td>-0.188421</td>\n",
       "      <td>-0.479960</td>\n",
       "      <td>0.016703</td>\n",
       "      <td>1.626476</td>\n",
       "      <td>-0.401099</td>\n",
       "      <td>0.495149</td>\n",
       "      <td>-0.444664</td>\n",
       "      <td>-0.977307</td>\n",
       "      <td>3.042105</td>\n",
       "      <td>-0.511240</td>\n",
       "      <td>-0.101291</td>\n",
       "      <td>-1.487757</td>\n",
       "      <td>0.0</td>\n",
       "      <td>0.0</td>\n",
       "      <td>0.0</td>\n",
       "      <td>0.0</td>\n",
       "      <td>1.0</td>\n",
       "      <td>0.0</td>\n",
       "      <td>0.0</td>\n",
       "      <td>0.016808</td>\n",
       "      <td>1</td>\n",
       "      <td>0</td>\n",
       "      <td>0</td>\n",
       "      <td>1</td>\n",
       "      <td>0</td>\n",
       "    </tr>\n",
       "    <tr>\n",
       "      <th>1</th>\n",
       "      <td>1.162077</td>\n",
       "      <td>-1.097272</td>\n",
       "      <td>-0.401845</td>\n",
       "      <td>-0.368282</td>\n",
       "      <td>0.525351</td>\n",
       "      <td>-0.187361</td>\n",
       "      <td>-0.469766</td>\n",
       "      <td>-0.686182</td>\n",
       "      <td>0.776665</td>\n",
       "      <td>-0.398925</td>\n",
       "      <td>-0.498521</td>\n",
       "      <td>-0.358539</td>\n",
       "      <td>-0.977307</td>\n",
       "      <td>-0.647840</td>\n",
       "      <td>-0.147405</td>\n",
       "      <td>-0.101291</td>\n",
       "      <td>-0.582983</td>\n",
       "      <td>5.0</td>\n",
       "      <td>2.0</td>\n",
       "      <td>1.0</td>\n",
       "      <td>0.0</td>\n",
       "      <td>0.0</td>\n",
       "      <td>0.0</td>\n",
       "      <td>0.0</td>\n",
       "      <td>0.016506</td>\n",
       "      <td>0</td>\n",
       "      <td>0</td>\n",
       "      <td>0</td>\n",
       "      <td>0</td>\n",
       "      <td>0</td>\n",
       "    </tr>\n",
       "    <tr>\n",
       "      <th>2</th>\n",
       "      <td>-1.594037</td>\n",
       "      <td>-0.788294</td>\n",
       "      <td>3.185180</td>\n",
       "      <td>0.785393</td>\n",
       "      <td>0.525351</td>\n",
       "      <td>-0.188779</td>\n",
       "      <td>1.403621</td>\n",
       "      <td>-0.272603</td>\n",
       "      <td>-0.700097</td>\n",
       "      <td>1.181371</td>\n",
       "      <td>-1.492190</td>\n",
       "      <td>0.086437</td>\n",
       "      <td>0.012945</td>\n",
       "      <td>-0.032850</td>\n",
       "      <td>1.280361</td>\n",
       "      <td>-0.101291</td>\n",
       "      <td>1.226563</td>\n",
       "      <td>0.0</td>\n",
       "      <td>4.0</td>\n",
       "      <td>0.0</td>\n",
       "      <td>0.0</td>\n",
       "      <td>0.0</td>\n",
       "      <td>1.0</td>\n",
       "      <td>0.0</td>\n",
       "      <td>0.005201</td>\n",
       "      <td>0</td>\n",
       "      <td>1</td>\n",
       "      <td>1</td>\n",
       "      <td>1</td>\n",
       "      <td>0</td>\n",
       "    </tr>\n",
       "    <tr>\n",
       "      <th>3</th>\n",
       "      <td>1.162077</td>\n",
       "      <td>-1.397097</td>\n",
       "      <td>0.415452</td>\n",
       "      <td>-0.922499</td>\n",
       "      <td>-1.137270</td>\n",
       "      <td>-0.186258</td>\n",
       "      <td>1.405489</td>\n",
       "      <td>-0.233830</td>\n",
       "      <td>-1.465245</td>\n",
       "      <td>0.531428</td>\n",
       "      <td>0.296415</td>\n",
       "      <td>1.593616</td>\n",
       "      <td>0.838155</td>\n",
       "      <td>-0.647840</td>\n",
       "      <td>-0.385773</td>\n",
       "      <td>-0.101291</td>\n",
       "      <td>-0.582983</td>\n",
       "      <td>0.0</td>\n",
       "      <td>2.0</td>\n",
       "      <td>0.0</td>\n",
       "      <td>0.0</td>\n",
       "      <td>1.0</td>\n",
       "      <td>0.0</td>\n",
       "      <td>0.0</td>\n",
       "      <td>0.005220</td>\n",
       "      <td>1</td>\n",
       "      <td>0</td>\n",
       "      <td>0</td>\n",
       "      <td>1</td>\n",
       "      <td>0</td>\n",
       "    </tr>\n",
       "    <tr>\n",
       "      <th>4</th>\n",
       "      <td>0.473048</td>\n",
       "      <td>1.344685</td>\n",
       "      <td>-0.401845</td>\n",
       "      <td>0.344282</td>\n",
       "      <td>0.525351</td>\n",
       "      <td>-0.190269</td>\n",
       "      <td>-0.444912</td>\n",
       "      <td>-0.237807</td>\n",
       "      <td>-0.640476</td>\n",
       "      <td>-0.398925</td>\n",
       "      <td>-1.492190</td>\n",
       "      <td>1.349597</td>\n",
       "      <td>-0.977307</td>\n",
       "      <td>0.992135</td>\n",
       "      <td>-0.544406</td>\n",
       "      <td>-0.101291</td>\n",
       "      <td>0.774176</td>\n",
       "      <td>0.0</td>\n",
       "      <td>0.0</td>\n",
       "      <td>0.0</td>\n",
       "      <td>0.0</td>\n",
       "      <td>0.0</td>\n",
       "      <td>1.0</td>\n",
       "      <td>0.0</td>\n",
       "      <td>0.016445</td>\n",
       "      <td>1</td>\n",
       "      <td>1</td>\n",
       "      <td>0</td>\n",
       "      <td>1</td>\n",
       "      <td>0</td>\n",
       "    </tr>\n",
       "  </tbody>\n",
       "</table>\n",
       "</div>"
      ],
      "text/plain": [
       "     income  name_email_similarity  prev_address_months_count  \\\n",
       "0  1.162077              -0.886368                  -0.401845   \n",
       "1  1.162077              -1.097272                  -0.401845   \n",
       "2 -1.594037              -0.788294                   3.185180   \n",
       "3  1.162077              -1.397097                   0.415452   \n",
       "4  0.473048               1.344685                  -0.401845   \n",
       "\n",
       "   current_address_months_count  customer_age  days_since_request  \\\n",
       "0                     -0.074208      0.525351           -0.188421   \n",
       "1                     -0.368282      0.525351           -0.187361   \n",
       "2                      0.785393      0.525351           -0.188779   \n",
       "3                     -0.922499     -1.137270           -0.186258   \n",
       "4                      0.344282      0.525351           -0.190269   \n",
       "\n",
       "   intended_balcon_amount  zip_count_4w  velocity_4w  bank_branch_count_8w  \\\n",
       "0               -0.479960      0.016703     1.626476             -0.401099   \n",
       "1               -0.469766     -0.686182     0.776665             -0.398925   \n",
       "2                1.403621     -0.272603    -0.700097              1.181371   \n",
       "3                1.405489     -0.233830    -1.465245              0.531428   \n",
       "4               -0.444912     -0.237807    -0.640476             -0.398925   \n",
       "\n",
       "   date_of_birth_distinct_emails_4w  credit_risk_score  bank_months_count  \\\n",
       "0                          0.495149          -0.444664          -0.977307   \n",
       "1                         -0.498521          -0.358539          -0.977307   \n",
       "2                         -1.492190           0.086437           0.012945   \n",
       "3                          0.296415           1.593616           0.838155   \n",
       "4                         -1.492190           1.349597          -0.977307   \n",
       "\n",
       "   proposed_credit_limit  session_length_in_minutes  \\\n",
       "0               3.042105                  -0.511240   \n",
       "1              -0.647840                  -0.147405   \n",
       "2              -0.032850                   1.280361   \n",
       "3              -0.647840                  -0.385773   \n",
       "4               0.992135                  -0.544406   \n",
       "\n",
       "   device_distinct_emails_8w     month  employment_status  housing_status  \\\n",
       "0                  -0.101291 -1.487757                0.0             0.0   \n",
       "1                  -0.101291 -0.582983                5.0             2.0   \n",
       "2                  -0.101291  1.226563                0.0             4.0   \n",
       "3                  -0.101291 -0.582983                0.0             2.0   \n",
       "4                  -0.101291  0.774176                0.0             0.0   \n",
       "\n",
       "   device_os_linux  device_os_macintosh  device_os_other  device_os_windows  \\\n",
       "0              0.0                  0.0              1.0                0.0   \n",
       "1              1.0                  0.0              0.0                0.0   \n",
       "2              0.0                  0.0              0.0                1.0   \n",
       "3              0.0                  0.0              1.0                0.0   \n",
       "4              0.0                  0.0              0.0                1.0   \n",
       "\n",
       "   device_os_x11  payment_type  email_is_free  phone_home_valid  \\\n",
       "0            0.0      0.016808              1                 0   \n",
       "1            0.0      0.016506              0                 0   \n",
       "2            0.0      0.005201              0                 1   \n",
       "3            0.0      0.005220              1                 0   \n",
       "4            0.0      0.016445              1                 1   \n",
       "\n",
       "   has_other_cards  keep_alive_session  fraud_bool  \n",
       "0                0                   1           0  \n",
       "1                0                   0           0  \n",
       "2                1                   1           0  \n",
       "3                0                   1           0  \n",
       "4                0                   1           0  "
      ]
     },
     "execution_count": 6,
     "metadata": {},
     "output_type": "execute_result"
    }
   ],
   "source": [
    "df_fraud_train_cut.head()"
   ]
  },
  {
   "cell_type": "markdown",
   "id": "0faace32-8866-4d1c-a692-7dc513d8a278",
   "metadata": {},
   "source": [
    "Separo en X e y:"
   ]
  },
  {
   "cell_type": "code",
   "execution_count": 7,
   "id": "4b0fa4ec-e277-4fd2-b86f-00f5728f23c9",
   "metadata": {
    "tags": []
   },
   "outputs": [],
   "source": [
    "X_train_0 = df_fraud_train_cut.drop('fraud_bool', axis=1)\n",
    "y_train_0 = df_fraud_train_cut['fraud_bool']"
   ]
  },
  {
   "cell_type": "markdown",
   "id": "9267405b-209b-4576-8971-76478870776f",
   "metadata": {},
   "source": [
    "## Separación en train y validation estratificado\n",
    "\n",
    "Debido a que voy a probar muchos modelos, decido realizar una separación en train y validation, para poder medir sin tener que tocar el set de test, que se mantiene inmaculado.\n",
    "\n",
    "Además, como planeo utilizar ténicas de undersampling y oversampling, el train y val separados quedan guardados en una variable y el df original en otra, para luego reutilizar los datos del set de validación en caso de tener que realizar un undersampling u oversampling en el modelo final a medir con el test."
   ]
  },
  {
   "cell_type": "code",
   "execution_count": 8,
   "id": "9327e017-4017-472f-b9fd-a594ea24aa30",
   "metadata": {
    "tags": []
   },
   "outputs": [],
   "source": [
    "X_train_1, X_val, y_train_1, y_val = train_test_split(df_fraud_train_cut.drop('fraud_bool',axis=1)\n",
    "                                                  ,df_fraud_train_cut['fraud_bool']\n",
    "                                                  ,stratify=df_fraud_train_cut['fraud_bool']\n",
    "                                                  ,test_size=0.3\n",
    "                                                  ,random_state=seed)\n",
    "\n",
    "X_train_complete, X_val_complete, y_train_complete, y_val_complete = train_test_split(df_fraud_train.drop('fraud_bool',axis=1)\n",
    "                                                                                      ,df_fraud_train['fraud_bool']\n",
    "                                                                                      ,stratify=df_fraud_train['fraud_bool']\n",
    "                                                                                      ,test_size=0.3\n",
    "                                                                                      ,random_state=seed)"
   ]
  },
  {
   "cell_type": "code",
   "execution_count": 9,
   "id": "7fa20719-490a-4eea-a405-4597208dff65",
   "metadata": {
    "tags": []
   },
   "outputs": [
    {
     "data": {
      "text/plain": [
       "((490000, 29), (210000, 29), (490000, 34), (210000, 34))"
      ]
     },
     "execution_count": 9,
     "metadata": {},
     "output_type": "execute_result"
    }
   ],
   "source": [
    "X_train_1.shape, X_val.shape, X_train_complete.shape, X_val_complete.shape"
   ]
  },
  {
   "cell_type": "markdown",
   "id": "d18e4a55-06f0-45cc-a6d3-6e2d70201c55",
   "metadata": {},
   "source": [
    "***\n",
    "# Unsersampling + Oversampling\n",
    "\n",
    "Investigando en internet me he topado con una técnica que me parece interesante, que es una combinación proporcional de undersampling y oversampling. He decidido probarlo mediante la aplicación de un Pipeline en donde se aplican secuencialmente las técnicas.\n",
    "\n",
    "Me parece una aplicación acertada para casos como el de este dataset en donde los datos están extremadamente desbalanceados, al punto de que un undersampling aplicado directamente eliminaría una cantidad demasiado alta de información, mientras que un oversampling podría generar un sesgo por la cantidad enorme de datos sintéticos a generar. Es por eso que un acercamiento entre ambos parece una solución interesante, al menos sobre el papel.\n",
    "\n",
    "Existen dentro de Imbalanced-Learning de SKL dos funciones con una combinación interna de oversampling y undersampling, pero al probarlas no parecen estar optimizadas y el costo computacional que me requieren es demasiado alto, por eso generaré y aplicaré mi propio Pipeline manualmente.\n",
    "\n",
    "Entonces, para lidiar con el desbalanceo terminaré aplicando:\n",
    "\n",
    "1. Split estatificado (SE) --> (realizado en Notebook 02)\n",
    "2. RandomUnderSampling\n",
    "3. SMOTE OverSampling\n",
    "4. Pipeline con sampling mix --> (SMOTE OverSampling + Random UnderSampling)\n"
   ]
  },
  {
   "cell_type": "code",
   "execution_count": 10,
   "id": "fb49a22b-b8d1-4ef7-b44c-d7e58474c36a",
   "metadata": {
    "tags": []
   },
   "outputs": [
    {
     "data": {
      "text/plain": [
       "((490000, 29),\n",
       " fraud_bool\n",
       " 0    484596\n",
       " 1      5404\n",
       " Name: count, dtype: int64,\n",
       " fraud_bool\n",
       " 0    0.988971\n",
       " 1    0.011029\n",
       " Name: proportion, dtype: float64)"
      ]
     },
     "execution_count": 10,
     "metadata": {},
     "output_type": "execute_result"
    }
   ],
   "source": [
    "# El tamaño y distribución actual del DataSet de train son los siguientes:\n",
    "X_train_1.shape,y_train_1.value_counts(),y_train_1.value_counts(normalize=True)"
   ]
  },
  {
   "cell_type": "markdown",
   "id": "6ab833b2-6e70-40ad-bb93-80da5b344ad5",
   "metadata": {},
   "source": [
    "#### 1. Random Undersampling"
   ]
  },
  {
   "cell_type": "code",
   "execution_count": 11,
   "id": "5de7b684-0842-4cdd-ab45-86751c097318",
   "metadata": {
    "tags": []
   },
   "outputs": [],
   "source": [
    "undersamp = RandomUnderSampler(sampling_strategy=0.08, random_state=seed)\n",
    "X_train_under, y_train_under = undersamp.fit_resample(X_train_1, y_train_1)"
   ]
  },
  {
   "cell_type": "code",
   "execution_count": 12,
   "id": "0b9a95fe-eaa1-442c-b163-33e8ccbfce7c",
   "metadata": {
    "tags": []
   },
   "outputs": [
    {
     "data": {
      "text/plain": [
       "((72954, 29),\n",
       " fraud_bool\n",
       " 0    67550\n",
       " 1     5404\n",
       " Name: count, dtype: int64,\n",
       " fraud_bool\n",
       " 0    0.925926\n",
       " 1    0.074074\n",
       " Name: proportion, dtype: float64)"
      ]
     },
     "execution_count": 12,
     "metadata": {},
     "output_type": "execute_result"
    }
   ],
   "source": [
    "X_train_under.shape,y_train_under.value_counts(),y_train_under.value_counts(normalize=True)"
   ]
  },
  {
   "cell_type": "code",
   "execution_count": 13,
   "id": "22612ce3-50b5-4d92-b54c-4b6f3a461d78",
   "metadata": {
    "tags": []
   },
   "outputs": [
    {
     "data": {
      "text/plain": [
       "0.8511142857142857"
      ]
     },
     "execution_count": 13,
     "metadata": {},
     "output_type": "execute_result"
    }
   ],
   "source": [
    "1 - X_train_under.shape[0] / X_train_1.shape[0]"
   ]
  },
  {
   "cell_type": "markdown",
   "id": "2bc5ea9e-a5bb-441e-9c08-13f49c093d4b",
   "metadata": {},
   "source": [
    "Logramos el cometido, el dataset está balanceado, pero solo nos quedamos con 27k datos, es decir que perdimos el 94% de nuestro dataset, \n",
    "dato que es al menos recalcable. Habrá que ver como funcionan los modelos con una reducción tan grande del dataset."
   ]
  },
  {
   "cell_type": "markdown",
   "id": "a213a5eb-5ab5-440a-86b6-56618e5fdff7",
   "metadata": {},
   "source": [
    "# Modelos"
   ]
  },
  {
   "cell_type": "markdown",
   "id": "82210e27-e70e-48ad-bac2-8c8e55ccfb35",
   "metadata": {},
   "source": [
    "## Probando detalles de modelos"
   ]
  },
  {
   "cell_type": "code",
   "execution_count": 7,
   "id": "afb07d2f-19fb-4fd1-8a5f-2b9ebfecdd06",
   "metadata": {
    "tags": []
   },
   "outputs": [
    {
     "data": {
      "text/html": [
       "<style>#sk-container-id-1 {color: black;}#sk-container-id-1 pre{padding: 0;}#sk-container-id-1 div.sk-toggleable {background-color: white;}#sk-container-id-1 label.sk-toggleable__label {cursor: pointer;display: block;width: 100%;margin-bottom: 0;padding: 0.3em;box-sizing: border-box;text-align: center;}#sk-container-id-1 label.sk-toggleable__label-arrow:before {content: \"▸\";float: left;margin-right: 0.25em;color: #696969;}#sk-container-id-1 label.sk-toggleable__label-arrow:hover:before {color: black;}#sk-container-id-1 div.sk-estimator:hover label.sk-toggleable__label-arrow:before {color: black;}#sk-container-id-1 div.sk-toggleable__content {max-height: 0;max-width: 0;overflow: hidden;text-align: left;background-color: #f0f8ff;}#sk-container-id-1 div.sk-toggleable__content pre {margin: 0.2em;color: black;border-radius: 0.25em;background-color: #f0f8ff;}#sk-container-id-1 input.sk-toggleable__control:checked~div.sk-toggleable__content {max-height: 200px;max-width: 100%;overflow: auto;}#sk-container-id-1 input.sk-toggleable__control:checked~label.sk-toggleable__label-arrow:before {content: \"▾\";}#sk-container-id-1 div.sk-estimator input.sk-toggleable__control:checked~label.sk-toggleable__label {background-color: #d4ebff;}#sk-container-id-1 div.sk-label input.sk-toggleable__control:checked~label.sk-toggleable__label {background-color: #d4ebff;}#sk-container-id-1 input.sk-hidden--visually {border: 0;clip: rect(1px 1px 1px 1px);clip: rect(1px, 1px, 1px, 1px);height: 1px;margin: -1px;overflow: hidden;padding: 0;position: absolute;width: 1px;}#sk-container-id-1 div.sk-estimator {font-family: monospace;background-color: #f0f8ff;border: 1px dotted black;border-radius: 0.25em;box-sizing: border-box;margin-bottom: 0.5em;}#sk-container-id-1 div.sk-estimator:hover {background-color: #d4ebff;}#sk-container-id-1 div.sk-parallel-item::after {content: \"\";width: 100%;border-bottom: 1px solid gray;flex-grow: 1;}#sk-container-id-1 div.sk-label:hover label.sk-toggleable__label {background-color: #d4ebff;}#sk-container-id-1 div.sk-serial::before {content: \"\";position: absolute;border-left: 1px solid gray;box-sizing: border-box;top: 0;bottom: 0;left: 50%;z-index: 0;}#sk-container-id-1 div.sk-serial {display: flex;flex-direction: column;align-items: center;background-color: white;padding-right: 0.2em;padding-left: 0.2em;position: relative;}#sk-container-id-1 div.sk-item {position: relative;z-index: 1;}#sk-container-id-1 div.sk-parallel {display: flex;align-items: stretch;justify-content: center;background-color: white;position: relative;}#sk-container-id-1 div.sk-item::before, #sk-container-id-1 div.sk-parallel-item::before {content: \"\";position: absolute;border-left: 1px solid gray;box-sizing: border-box;top: 0;bottom: 0;left: 50%;z-index: -1;}#sk-container-id-1 div.sk-parallel-item {display: flex;flex-direction: column;z-index: 1;position: relative;background-color: white;}#sk-container-id-1 div.sk-parallel-item:first-child::after {align-self: flex-end;width: 50%;}#sk-container-id-1 div.sk-parallel-item:last-child::after {align-self: flex-start;width: 50%;}#sk-container-id-1 div.sk-parallel-item:only-child::after {width: 0;}#sk-container-id-1 div.sk-dashed-wrapped {border: 1px dashed gray;margin: 0 0.4em 0.5em 0.4em;box-sizing: border-box;padding-bottom: 0.4em;background-color: white;}#sk-container-id-1 div.sk-label label {font-family: monospace;font-weight: bold;display: inline-block;line-height: 1.2em;}#sk-container-id-1 div.sk-label-container {text-align: center;}#sk-container-id-1 div.sk-container {/* jupyter's `normalize.less` sets `[hidden] { display: none; }` but bootstrap.min.css set `[hidden] { display: none !important; }` so we also need the `!important` here to be able to override the default hidden behavior on the sphinx rendered scikit-learn.org. See: https://github.com/scikit-learn/scikit-learn/issues/21755 */display: inline-block !important;position: relative;}#sk-container-id-1 div.sk-text-repr-fallback {display: none;}</style><div id=\"sk-container-id-1\" class=\"sk-top-container\"><div class=\"sk-text-repr-fallback\"><pre>DecisionTreeClassifier()</pre><b>In a Jupyter environment, please rerun this cell to show the HTML representation or trust the notebook. <br />On GitHub, the HTML representation is unable to render, please try loading this page with nbviewer.org.</b></div><div class=\"sk-container\" hidden><div class=\"sk-item\"><div class=\"sk-estimator sk-toggleable\"><input class=\"sk-toggleable__control sk-hidden--visually\" id=\"sk-estimator-id-1\" type=\"checkbox\" checked><label for=\"sk-estimator-id-1\" class=\"sk-toggleable__label sk-toggleable__label-arrow\">DecisionTreeClassifier</label><div class=\"sk-toggleable__content\"><pre>DecisionTreeClassifier()</pre></div></div></div></div></div>"
      ],
      "text/plain": [
       "DecisionTreeClassifier()"
      ]
     },
     "execution_count": 7,
     "metadata": {},
     "output_type": "execute_result"
    }
   ],
   "source": [
    "from sklearn.tree import DecisionTreeClassifier\n",
    "tree = DecisionTreeClassifier()\n",
    "tree.fit(X_train,y_train)"
   ]
  },
  {
   "cell_type": "code",
   "execution_count": 8,
   "id": "a9872304-aa4e-4280-8f1a-c0096447f1f5",
   "metadata": {
    "tags": []
   },
   "outputs": [
    {
     "data": {
      "text/plain": [
       "array([0, 0, 0, ..., 0, 0, 0], dtype=int64)"
      ]
     },
     "execution_count": 8,
     "metadata": {},
     "output_type": "execute_result"
    }
   ],
   "source": [
    "tree.predict(X_test)"
   ]
  },
  {
   "cell_type": "code",
   "execution_count": 9,
   "id": "b128ec90-dcb4-4578-b3d2-5fdf86dddcb0",
   "metadata": {
    "tags": []
   },
   "outputs": [
    {
     "data": {
      "text/plain": [
       "0.97741"
      ]
     },
     "execution_count": 9,
     "metadata": {},
     "output_type": "execute_result"
    }
   ],
   "source": [
    "from sklearn.metrics import accuracy_score\n",
    "accuracy_score(tree.predict(X_test),y_test)"
   ]
  },
  {
   "cell_type": "code",
   "execution_count": 10,
   "id": "06b9f665-7e43-4d77-9842-38b130e07ebc",
   "metadata": {
    "tags": []
   },
   "outputs": [
    {
     "data": {
      "text/plain": [
       "array([[292885,   2971],\n",
       "       [  3806,    338]], dtype=int64)"
      ]
     },
     "execution_count": 10,
     "metadata": {},
     "output_type": "execute_result"
    }
   ],
   "source": [
    "from sklearn.metrics import confusion_matrix\n",
    "cf_matrix = confusion_matrix(tree.predict(X_test),y_test)\n",
    "cf_matrix"
   ]
  },
  {
   "cell_type": "code",
   "execution_count": 13,
   "id": "cb103746-6257-40ad-a340-1f2a48cb4710",
   "metadata": {
    "tags": []
   },
   "outputs": [
    {
     "data": {
      "text/html": [
       "<style>#sk-container-id-2 {color: black;}#sk-container-id-2 pre{padding: 0;}#sk-container-id-2 div.sk-toggleable {background-color: white;}#sk-container-id-2 label.sk-toggleable__label {cursor: pointer;display: block;width: 100%;margin-bottom: 0;padding: 0.3em;box-sizing: border-box;text-align: center;}#sk-container-id-2 label.sk-toggleable__label-arrow:before {content: \"▸\";float: left;margin-right: 0.25em;color: #696969;}#sk-container-id-2 label.sk-toggleable__label-arrow:hover:before {color: black;}#sk-container-id-2 div.sk-estimator:hover label.sk-toggleable__label-arrow:before {color: black;}#sk-container-id-2 div.sk-toggleable__content {max-height: 0;max-width: 0;overflow: hidden;text-align: left;background-color: #f0f8ff;}#sk-container-id-2 div.sk-toggleable__content pre {margin: 0.2em;color: black;border-radius: 0.25em;background-color: #f0f8ff;}#sk-container-id-2 input.sk-toggleable__control:checked~div.sk-toggleable__content {max-height: 200px;max-width: 100%;overflow: auto;}#sk-container-id-2 input.sk-toggleable__control:checked~label.sk-toggleable__label-arrow:before {content: \"▾\";}#sk-container-id-2 div.sk-estimator input.sk-toggleable__control:checked~label.sk-toggleable__label {background-color: #d4ebff;}#sk-container-id-2 div.sk-label input.sk-toggleable__control:checked~label.sk-toggleable__label {background-color: #d4ebff;}#sk-container-id-2 input.sk-hidden--visually {border: 0;clip: rect(1px 1px 1px 1px);clip: rect(1px, 1px, 1px, 1px);height: 1px;margin: -1px;overflow: hidden;padding: 0;position: absolute;width: 1px;}#sk-container-id-2 div.sk-estimator {font-family: monospace;background-color: #f0f8ff;border: 1px dotted black;border-radius: 0.25em;box-sizing: border-box;margin-bottom: 0.5em;}#sk-container-id-2 div.sk-estimator:hover {background-color: #d4ebff;}#sk-container-id-2 div.sk-parallel-item::after {content: \"\";width: 100%;border-bottom: 1px solid gray;flex-grow: 1;}#sk-container-id-2 div.sk-label:hover label.sk-toggleable__label {background-color: #d4ebff;}#sk-container-id-2 div.sk-serial::before {content: \"\";position: absolute;border-left: 1px solid gray;box-sizing: border-box;top: 0;bottom: 0;left: 50%;z-index: 0;}#sk-container-id-2 div.sk-serial {display: flex;flex-direction: column;align-items: center;background-color: white;padding-right: 0.2em;padding-left: 0.2em;position: relative;}#sk-container-id-2 div.sk-item {position: relative;z-index: 1;}#sk-container-id-2 div.sk-parallel {display: flex;align-items: stretch;justify-content: center;background-color: white;position: relative;}#sk-container-id-2 div.sk-item::before, #sk-container-id-2 div.sk-parallel-item::before {content: \"\";position: absolute;border-left: 1px solid gray;box-sizing: border-box;top: 0;bottom: 0;left: 50%;z-index: -1;}#sk-container-id-2 div.sk-parallel-item {display: flex;flex-direction: column;z-index: 1;position: relative;background-color: white;}#sk-container-id-2 div.sk-parallel-item:first-child::after {align-self: flex-end;width: 50%;}#sk-container-id-2 div.sk-parallel-item:last-child::after {align-self: flex-start;width: 50%;}#sk-container-id-2 div.sk-parallel-item:only-child::after {width: 0;}#sk-container-id-2 div.sk-dashed-wrapped {border: 1px dashed gray;margin: 0 0.4em 0.5em 0.4em;box-sizing: border-box;padding-bottom: 0.4em;background-color: white;}#sk-container-id-2 div.sk-label label {font-family: monospace;font-weight: bold;display: inline-block;line-height: 1.2em;}#sk-container-id-2 div.sk-label-container {text-align: center;}#sk-container-id-2 div.sk-container {/* jupyter's `normalize.less` sets `[hidden] { display: none; }` but bootstrap.min.css set `[hidden] { display: none !important; }` so we also need the `!important` here to be able to override the default hidden behavior on the sphinx rendered scikit-learn.org. See: https://github.com/scikit-learn/scikit-learn/issues/21755 */display: inline-block !important;position: relative;}#sk-container-id-2 div.sk-text-repr-fallback {display: none;}</style><div id=\"sk-container-id-2\" class=\"sk-top-container\"><div class=\"sk-text-repr-fallback\"><pre>DecisionTreeClassifier()</pre><b>In a Jupyter environment, please rerun this cell to show the HTML representation or trust the notebook. <br />On GitHub, the HTML representation is unable to render, please try loading this page with nbviewer.org.</b></div><div class=\"sk-container\" hidden><div class=\"sk-item\"><div class=\"sk-estimator sk-toggleable\"><input class=\"sk-toggleable__control sk-hidden--visually\" id=\"sk-estimator-id-2\" type=\"checkbox\" checked><label for=\"sk-estimator-id-2\" class=\"sk-toggleable__label sk-toggleable__label-arrow\">DecisionTreeClassifier</label><div class=\"sk-toggleable__content\"><pre>DecisionTreeClassifier()</pre></div></div></div></div></div>"
      ],
      "text/plain": [
       "DecisionTreeClassifier()"
      ]
     },
     "execution_count": 13,
     "metadata": {},
     "output_type": "execute_result"
    }
   ],
   "source": [
    "tree2 = DecisionTreeClassifier()\n",
    "tree2.fit(X_train_cut,y_train)"
   ]
  },
  {
   "cell_type": "code",
   "execution_count": 14,
   "id": "47e2adac-9d43-4544-865a-db891af0574a",
   "metadata": {
    "tags": []
   },
   "outputs": [
    {
     "data": {
      "text/plain": [
       "0.9771666666666666"
      ]
     },
     "execution_count": 14,
     "metadata": {},
     "output_type": "execute_result"
    }
   ],
   "source": [
    "accuracy_score(tree2.predict(X_test_cut),y_test)"
   ]
  },
  {
   "cell_type": "code",
   "execution_count": 17,
   "id": "ef388b87-cb1a-4b03-8ce9-9eb590815743",
   "metadata": {
    "tags": []
   },
   "outputs": [
    {
     "data": {
      "text/plain": [
       "array([[292813,   2972],\n",
       "       [  3878,    337]], dtype=int64)"
      ]
     },
     "execution_count": 17,
     "metadata": {},
     "output_type": "execute_result"
    }
   ],
   "source": [
    "confusion_matrix(tree2.predict(X_test_cut),y_test)"
   ]
  },
  {
   "cell_type": "code",
   "execution_count": 24,
   "id": "23185fae-79ca-42c6-98ee-778a708f5bd5",
   "metadata": {
    "tags": []
   },
   "outputs": [
    {
     "data": {
      "text/html": [
       "<style>#sk-container-id-3 {color: black;}#sk-container-id-3 pre{padding: 0;}#sk-container-id-3 div.sk-toggleable {background-color: white;}#sk-container-id-3 label.sk-toggleable__label {cursor: pointer;display: block;width: 100%;margin-bottom: 0;padding: 0.3em;box-sizing: border-box;text-align: center;}#sk-container-id-3 label.sk-toggleable__label-arrow:before {content: \"▸\";float: left;margin-right: 0.25em;color: #696969;}#sk-container-id-3 label.sk-toggleable__label-arrow:hover:before {color: black;}#sk-container-id-3 div.sk-estimator:hover label.sk-toggleable__label-arrow:before {color: black;}#sk-container-id-3 div.sk-toggleable__content {max-height: 0;max-width: 0;overflow: hidden;text-align: left;background-color: #f0f8ff;}#sk-container-id-3 div.sk-toggleable__content pre {margin: 0.2em;color: black;border-radius: 0.25em;background-color: #f0f8ff;}#sk-container-id-3 input.sk-toggleable__control:checked~div.sk-toggleable__content {max-height: 200px;max-width: 100%;overflow: auto;}#sk-container-id-3 input.sk-toggleable__control:checked~label.sk-toggleable__label-arrow:before {content: \"▾\";}#sk-container-id-3 div.sk-estimator input.sk-toggleable__control:checked~label.sk-toggleable__label {background-color: #d4ebff;}#sk-container-id-3 div.sk-label input.sk-toggleable__control:checked~label.sk-toggleable__label {background-color: #d4ebff;}#sk-container-id-3 input.sk-hidden--visually {border: 0;clip: rect(1px 1px 1px 1px);clip: rect(1px, 1px, 1px, 1px);height: 1px;margin: -1px;overflow: hidden;padding: 0;position: absolute;width: 1px;}#sk-container-id-3 div.sk-estimator {font-family: monospace;background-color: #f0f8ff;border: 1px dotted black;border-radius: 0.25em;box-sizing: border-box;margin-bottom: 0.5em;}#sk-container-id-3 div.sk-estimator:hover {background-color: #d4ebff;}#sk-container-id-3 div.sk-parallel-item::after {content: \"\";width: 100%;border-bottom: 1px solid gray;flex-grow: 1;}#sk-container-id-3 div.sk-label:hover label.sk-toggleable__label {background-color: #d4ebff;}#sk-container-id-3 div.sk-serial::before {content: \"\";position: absolute;border-left: 1px solid gray;box-sizing: border-box;top: 0;bottom: 0;left: 50%;z-index: 0;}#sk-container-id-3 div.sk-serial {display: flex;flex-direction: column;align-items: center;background-color: white;padding-right: 0.2em;padding-left: 0.2em;position: relative;}#sk-container-id-3 div.sk-item {position: relative;z-index: 1;}#sk-container-id-3 div.sk-parallel {display: flex;align-items: stretch;justify-content: center;background-color: white;position: relative;}#sk-container-id-3 div.sk-item::before, #sk-container-id-3 div.sk-parallel-item::before {content: \"\";position: absolute;border-left: 1px solid gray;box-sizing: border-box;top: 0;bottom: 0;left: 50%;z-index: -1;}#sk-container-id-3 div.sk-parallel-item {display: flex;flex-direction: column;z-index: 1;position: relative;background-color: white;}#sk-container-id-3 div.sk-parallel-item:first-child::after {align-self: flex-end;width: 50%;}#sk-container-id-3 div.sk-parallel-item:last-child::after {align-self: flex-start;width: 50%;}#sk-container-id-3 div.sk-parallel-item:only-child::after {width: 0;}#sk-container-id-3 div.sk-dashed-wrapped {border: 1px dashed gray;margin: 0 0.4em 0.5em 0.4em;box-sizing: border-box;padding-bottom: 0.4em;background-color: white;}#sk-container-id-3 div.sk-label label {font-family: monospace;font-weight: bold;display: inline-block;line-height: 1.2em;}#sk-container-id-3 div.sk-label-container {text-align: center;}#sk-container-id-3 div.sk-container {/* jupyter's `normalize.less` sets `[hidden] { display: none; }` but bootstrap.min.css set `[hidden] { display: none !important; }` so we also need the `!important` here to be able to override the default hidden behavior on the sphinx rendered scikit-learn.org. See: https://github.com/scikit-learn/scikit-learn/issues/21755 */display: inline-block !important;position: relative;}#sk-container-id-3 div.sk-text-repr-fallback {display: none;}</style><div id=\"sk-container-id-3\" class=\"sk-top-container\"><div class=\"sk-text-repr-fallback\"><pre>DecisionTreeClassifier()</pre><b>In a Jupyter environment, please rerun this cell to show the HTML representation or trust the notebook. <br />On GitHub, the HTML representation is unable to render, please try loading this page with nbviewer.org.</b></div><div class=\"sk-container\" hidden><div class=\"sk-item\"><div class=\"sk-estimator sk-toggleable\"><input class=\"sk-toggleable__control sk-hidden--visually\" id=\"sk-estimator-id-3\" type=\"checkbox\" checked><label for=\"sk-estimator-id-3\" class=\"sk-toggleable__label sk-toggleable__label-arrow\">DecisionTreeClassifier</label><div class=\"sk-toggleable__content\"><pre>DecisionTreeClassifier()</pre></div></div></div></div></div>"
      ],
      "text/plain": [
       "DecisionTreeClassifier()"
      ]
     },
     "execution_count": 24,
     "metadata": {},
     "output_type": "execute_result"
    }
   ],
   "source": [
    "tree3 = DecisionTreeClassifier()\n",
    "tree3.fit(X_train_samp,y_train_samp)"
   ]
  },
  {
   "cell_type": "code",
   "execution_count": 29,
   "id": "887b4195-c92d-4b0f-a113-907e89b01405",
   "metadata": {
    "tags": []
   },
   "outputs": [
    {
     "data": {
      "text/plain": [
       "0.9575233333333333"
      ]
     },
     "execution_count": 29,
     "metadata": {},
     "output_type": "execute_result"
    }
   ],
   "source": [
    "accuracy_score(tree3.predict(X_test_cut),y_test)"
   ]
  },
  {
   "cell_type": "code",
   "execution_count": 31,
   "id": "7ac57e54-8a44-4826-bf5a-9cc3f75dbff0",
   "metadata": {
    "tags": []
   },
   "outputs": [
    {
     "data": {
      "text/plain": [
       "array([[286604,   2656],\n",
       "       [ 10087,    653]], dtype=int64)"
      ]
     },
     "execution_count": 31,
     "metadata": {},
     "output_type": "execute_result"
    }
   ],
   "source": [
    "confusion_matrix(tree3.predict(X_test_cut),y_test)"
   ]
  },
  {
   "cell_type": "code",
   "execution_count": 11,
   "id": "0ffa49d8-6c27-4ddf-83b4-ad7e3a6c6bc8",
   "metadata": {},
   "outputs": [
    {
     "data": {
      "text/html": [
       "<style>#sk-container-id-2 {color: black;}#sk-container-id-2 pre{padding: 0;}#sk-container-id-2 div.sk-toggleable {background-color: white;}#sk-container-id-2 label.sk-toggleable__label {cursor: pointer;display: block;width: 100%;margin-bottom: 0;padding: 0.3em;box-sizing: border-box;text-align: center;}#sk-container-id-2 label.sk-toggleable__label-arrow:before {content: \"▸\";float: left;margin-right: 0.25em;color: #696969;}#sk-container-id-2 label.sk-toggleable__label-arrow:hover:before {color: black;}#sk-container-id-2 div.sk-estimator:hover label.sk-toggleable__label-arrow:before {color: black;}#sk-container-id-2 div.sk-toggleable__content {max-height: 0;max-width: 0;overflow: hidden;text-align: left;background-color: #f0f8ff;}#sk-container-id-2 div.sk-toggleable__content pre {margin: 0.2em;color: black;border-radius: 0.25em;background-color: #f0f8ff;}#sk-container-id-2 input.sk-toggleable__control:checked~div.sk-toggleable__content {max-height: 200px;max-width: 100%;overflow: auto;}#sk-container-id-2 input.sk-toggleable__control:checked~label.sk-toggleable__label-arrow:before {content: \"▾\";}#sk-container-id-2 div.sk-estimator input.sk-toggleable__control:checked~label.sk-toggleable__label {background-color: #d4ebff;}#sk-container-id-2 div.sk-label input.sk-toggleable__control:checked~label.sk-toggleable__label {background-color: #d4ebff;}#sk-container-id-2 input.sk-hidden--visually {border: 0;clip: rect(1px 1px 1px 1px);clip: rect(1px, 1px, 1px, 1px);height: 1px;margin: -1px;overflow: hidden;padding: 0;position: absolute;width: 1px;}#sk-container-id-2 div.sk-estimator {font-family: monospace;background-color: #f0f8ff;border: 1px dotted black;border-radius: 0.25em;box-sizing: border-box;margin-bottom: 0.5em;}#sk-container-id-2 div.sk-estimator:hover {background-color: #d4ebff;}#sk-container-id-2 div.sk-parallel-item::after {content: \"\";width: 100%;border-bottom: 1px solid gray;flex-grow: 1;}#sk-container-id-2 div.sk-label:hover label.sk-toggleable__label {background-color: #d4ebff;}#sk-container-id-2 div.sk-serial::before {content: \"\";position: absolute;border-left: 1px solid gray;box-sizing: border-box;top: 0;bottom: 0;left: 50%;z-index: 0;}#sk-container-id-2 div.sk-serial {display: flex;flex-direction: column;align-items: center;background-color: white;padding-right: 0.2em;padding-left: 0.2em;position: relative;}#sk-container-id-2 div.sk-item {position: relative;z-index: 1;}#sk-container-id-2 div.sk-parallel {display: flex;align-items: stretch;justify-content: center;background-color: white;position: relative;}#sk-container-id-2 div.sk-item::before, #sk-container-id-2 div.sk-parallel-item::before {content: \"\";position: absolute;border-left: 1px solid gray;box-sizing: border-box;top: 0;bottom: 0;left: 50%;z-index: -1;}#sk-container-id-2 div.sk-parallel-item {display: flex;flex-direction: column;z-index: 1;position: relative;background-color: white;}#sk-container-id-2 div.sk-parallel-item:first-child::after {align-self: flex-end;width: 50%;}#sk-container-id-2 div.sk-parallel-item:last-child::after {align-self: flex-start;width: 50%;}#sk-container-id-2 div.sk-parallel-item:only-child::after {width: 0;}#sk-container-id-2 div.sk-dashed-wrapped {border: 1px dashed gray;margin: 0 0.4em 0.5em 0.4em;box-sizing: border-box;padding-bottom: 0.4em;background-color: white;}#sk-container-id-2 div.sk-label label {font-family: monospace;font-weight: bold;display: inline-block;line-height: 1.2em;}#sk-container-id-2 div.sk-label-container {text-align: center;}#sk-container-id-2 div.sk-container {/* jupyter's `normalize.less` sets `[hidden] { display: none; }` but bootstrap.min.css set `[hidden] { display: none !important; }` so we also need the `!important` here to be able to override the default hidden behavior on the sphinx rendered scikit-learn.org. See: https://github.com/scikit-learn/scikit-learn/issues/21755 */display: inline-block !important;position: relative;}#sk-container-id-2 div.sk-text-repr-fallback {display: none;}</style><div id=\"sk-container-id-2\" class=\"sk-top-container\"><div class=\"sk-text-repr-fallback\"><pre>LogisticRegression()</pre><b>In a Jupyter environment, please rerun this cell to show the HTML representation or trust the notebook. <br />On GitHub, the HTML representation is unable to render, please try loading this page with nbviewer.org.</b></div><div class=\"sk-container\" hidden><div class=\"sk-item\"><div class=\"sk-estimator sk-toggleable\"><input class=\"sk-toggleable__control sk-hidden--visually\" id=\"sk-estimator-id-2\" type=\"checkbox\" checked><label for=\"sk-estimator-id-2\" class=\"sk-toggleable__label sk-toggleable__label-arrow\">LogisticRegression</label><div class=\"sk-toggleable__content\"><pre>LogisticRegression()</pre></div></div></div></div></div>"
      ],
      "text/plain": [
       "LogisticRegression()"
      ]
     },
     "execution_count": 11,
     "metadata": {},
     "output_type": "execute_result"
    }
   ],
   "source": [
    "lr = LogisticRegression()"
   ]
  },
  {
   "cell_type": "code",
   "execution_count": 18,
   "id": "346bbc66-4469-487a-b91f-ec63d8b606fe",
   "metadata": {
    "tags": []
   },
   "outputs": [
    {
     "data": {
      "text/html": [
       "<style>#sk-container-id-4 {color: black;}#sk-container-id-4 pre{padding: 0;}#sk-container-id-4 div.sk-toggleable {background-color: white;}#sk-container-id-4 label.sk-toggleable__label {cursor: pointer;display: block;width: 100%;margin-bottom: 0;padding: 0.3em;box-sizing: border-box;text-align: center;}#sk-container-id-4 label.sk-toggleable__label-arrow:before {content: \"▸\";float: left;margin-right: 0.25em;color: #696969;}#sk-container-id-4 label.sk-toggleable__label-arrow:hover:before {color: black;}#sk-container-id-4 div.sk-estimator:hover label.sk-toggleable__label-arrow:before {color: black;}#sk-container-id-4 div.sk-toggleable__content {max-height: 0;max-width: 0;overflow: hidden;text-align: left;background-color: #f0f8ff;}#sk-container-id-4 div.sk-toggleable__content pre {margin: 0.2em;color: black;border-radius: 0.25em;background-color: #f0f8ff;}#sk-container-id-4 input.sk-toggleable__control:checked~div.sk-toggleable__content {max-height: 200px;max-width: 100%;overflow: auto;}#sk-container-id-4 input.sk-toggleable__control:checked~label.sk-toggleable__label-arrow:before {content: \"▾\";}#sk-container-id-4 div.sk-estimator input.sk-toggleable__control:checked~label.sk-toggleable__label {background-color: #d4ebff;}#sk-container-id-4 div.sk-label input.sk-toggleable__control:checked~label.sk-toggleable__label {background-color: #d4ebff;}#sk-container-id-4 input.sk-hidden--visually {border: 0;clip: rect(1px 1px 1px 1px);clip: rect(1px, 1px, 1px, 1px);height: 1px;margin: -1px;overflow: hidden;padding: 0;position: absolute;width: 1px;}#sk-container-id-4 div.sk-estimator {font-family: monospace;background-color: #f0f8ff;border: 1px dotted black;border-radius: 0.25em;box-sizing: border-box;margin-bottom: 0.5em;}#sk-container-id-4 div.sk-estimator:hover {background-color: #d4ebff;}#sk-container-id-4 div.sk-parallel-item::after {content: \"\";width: 100%;border-bottom: 1px solid gray;flex-grow: 1;}#sk-container-id-4 div.sk-label:hover label.sk-toggleable__label {background-color: #d4ebff;}#sk-container-id-4 div.sk-serial::before {content: \"\";position: absolute;border-left: 1px solid gray;box-sizing: border-box;top: 0;bottom: 0;left: 50%;z-index: 0;}#sk-container-id-4 div.sk-serial {display: flex;flex-direction: column;align-items: center;background-color: white;padding-right: 0.2em;padding-left: 0.2em;position: relative;}#sk-container-id-4 div.sk-item {position: relative;z-index: 1;}#sk-container-id-4 div.sk-parallel {display: flex;align-items: stretch;justify-content: center;background-color: white;position: relative;}#sk-container-id-4 div.sk-item::before, #sk-container-id-4 div.sk-parallel-item::before {content: \"\";position: absolute;border-left: 1px solid gray;box-sizing: border-box;top: 0;bottom: 0;left: 50%;z-index: -1;}#sk-container-id-4 div.sk-parallel-item {display: flex;flex-direction: column;z-index: 1;position: relative;background-color: white;}#sk-container-id-4 div.sk-parallel-item:first-child::after {align-self: flex-end;width: 50%;}#sk-container-id-4 div.sk-parallel-item:last-child::after {align-self: flex-start;width: 50%;}#sk-container-id-4 div.sk-parallel-item:only-child::after {width: 0;}#sk-container-id-4 div.sk-dashed-wrapped {border: 1px dashed gray;margin: 0 0.4em 0.5em 0.4em;box-sizing: border-box;padding-bottom: 0.4em;background-color: white;}#sk-container-id-4 div.sk-label label {font-family: monospace;font-weight: bold;display: inline-block;line-height: 1.2em;}#sk-container-id-4 div.sk-label-container {text-align: center;}#sk-container-id-4 div.sk-container {/* jupyter's `normalize.less` sets `[hidden] { display: none; }` but bootstrap.min.css set `[hidden] { display: none !important; }` so we also need the `!important` here to be able to override the default hidden behavior on the sphinx rendered scikit-learn.org. See: https://github.com/scikit-learn/scikit-learn/issues/21755 */display: inline-block !important;position: relative;}#sk-container-id-4 div.sk-text-repr-fallback {display: none;}</style><div id=\"sk-container-id-4\" class=\"sk-top-container\"><div class=\"sk-text-repr-fallback\"><pre>LogisticRegression()</pre><b>In a Jupyter environment, please rerun this cell to show the HTML representation or trust the notebook. <br />On GitHub, the HTML representation is unable to render, please try loading this page with nbviewer.org.</b></div><div class=\"sk-container\" hidden><div class=\"sk-item\"><div class=\"sk-estimator sk-toggleable\"><input class=\"sk-toggleable__control sk-hidden--visually\" id=\"sk-estimator-id-4\" type=\"checkbox\" checked><label for=\"sk-estimator-id-4\" class=\"sk-toggleable__label sk-toggleable__label-arrow\">LogisticRegression</label><div class=\"sk-toggleable__content\"><pre>LogisticRegression()</pre></div></div></div></div></div>"
      ],
      "text/plain": [
       "LogisticRegression()"
      ]
     },
     "execution_count": 18,
     "metadata": {},
     "output_type": "execute_result"
    }
   ],
   "source": [
    "lr.fit(X_train_scaled,y_train)"
   ]
  },
  {
   "cell_type": "code",
   "execution_count": 19,
   "id": "b93d719a-3091-4f7f-bad2-56514170facf",
   "metadata": {
    "tags": []
   },
   "outputs": [
    {
     "data": {
      "text/plain": [
       "array([0, 0, 0, ..., 0, 0, 0], dtype=int64)"
      ]
     },
     "execution_count": 19,
     "metadata": {},
     "output_type": "execute_result"
    }
   ],
   "source": [
    "lr.predict(X_test_scaled)"
   ]
  },
  {
   "cell_type": "code",
   "execution_count": 14,
   "id": "471548a5-85a3-4c57-95bd-30793fdde7bc",
   "metadata": {
    "tags": []
   },
   "outputs": [
    {
     "data": {
      "text/plain": [
       "0.98897"
      ]
     },
     "execution_count": 14,
     "metadata": {},
     "output_type": "execute_result"
    }
   ],
   "source": [
    "accuracy_score(lr.predict(X_test),y_test)"
   ]
  },
  {
   "cell_type": "code",
   "execution_count": 26,
   "id": "673604bd-3efc-4ff9-bde7-241d3f463646",
   "metadata": {
    "tags": []
   },
   "outputs": [],
   "source": [
    "from sklearn.metrics import balanced_accuracy_score,average_precision_score, precision_recall_curve, roc_curve, auc, recall_score, precision_score, confusion_matrix, f1_score,\\\n",
    "fbeta_score"
   ]
  },
  {
   "cell_type": "code",
   "execution_count": 24,
   "id": "48387bec-d806-455d-be3a-daec904a13ca",
   "metadata": {
    "tags": []
   },
   "outputs": [
    {
     "data": {
      "text/plain": [
       "(0.0075551526140828044, 0.625, 0.014929829799940283)"
      ]
     },
     "execution_count": 24,
     "metadata": {},
     "output_type": "execute_result"
    }
   ],
   "source": [
    "precision_score(lr.predict(X_test_scaled),y_test), recall_score(lr.predict(X_test_scaled),y_test), f1_score(lr.predict(X_test_scaled),y_test)"
   ]
  },
  {
   "cell_type": "code",
   "execution_count": 25,
   "id": "d479a4a9-fd57-4468-bd1c-c11ba90d1575",
   "metadata": {
    "tags": []
   },
   "outputs": [
    {
     "data": {
      "text/plain": [
       "array([[296676,   3284],\n",
       "       [    15,     25]], dtype=int64)"
      ]
     },
     "execution_count": 25,
     "metadata": {},
     "output_type": "execute_result"
    }
   ],
   "source": [
    "confusion_matrix(lr.predict(X_test_scaled),y_test)"
   ]
  },
  {
   "cell_type": "code",
   "execution_count": 27,
   "id": "e8f12e97-71f1-4649-a536-fc965d54b1b3",
   "metadata": {
    "tags": []
   },
   "outputs": [
    {
     "data": {
      "text/plain": [
       "0.036033439031421165"
      ]
     },
     "execution_count": 27,
     "metadata": {},
     "output_type": "execute_result"
    }
   ],
   "source": [
    "fbeta_score(lr.predict(X_test_scaled),y_test, beta=2)"
   ]
  },
  {
   "cell_type": "code",
   "execution_count": null,
   "id": "2b7008f8-f9cb-44f6-9bfb-eeb2661d7965",
   "metadata": {},
   "outputs": [],
   "source": []
  },
  {
   "cell_type": "markdown",
   "id": "9fc74099-d2d1-43fa-af3b-80e97c2d2dff",
   "metadata": {},
   "source": [
    "## Pruebas Undersampling y LightGBM"
   ]
  },
  {
   "cell_type": "code",
   "execution_count": 19,
   "id": "742ef8cf-abe6-4736-8c25-81a365dc4c02",
   "metadata": {
    "tags": []
   },
   "outputs": [],
   "source": [
    "nm = NearMiss(sampling_strategy=0.08)\n",
    "X_train_nm, y_train_nm = nm.fit_resample(X_train_1, y_train_1)"
   ]
  },
  {
   "cell_type": "code",
   "execution_count": 15,
   "id": "de7b5710-1d91-4973-b8ef-94bd51783e8c",
   "metadata": {
    "tags": []
   },
   "outputs": [
    {
     "data": {
      "text/plain": [
       "((10808, 29),\n",
       " fraud_bool\n",
       " 0    5404\n",
       " 1    5404\n",
       " Name: count, dtype: int64,\n",
       " fraud_bool\n",
       " 0    0.5\n",
       " 1    0.5\n",
       " Name: proportion, dtype: float64)"
      ]
     },
     "execution_count": 15,
     "metadata": {},
     "output_type": "execute_result"
    }
   ],
   "source": [
    "X_train_nm.shape,y_train_nm.value_counts(),y_train_nm.value_counts(normalize=True)"
   ]
  },
  {
   "cell_type": "code",
   "execution_count": 16,
   "id": "0a37dd45-92a7-460c-8ab5-ddc09267561a",
   "metadata": {
    "tags": []
   },
   "outputs": [],
   "source": [
    "tl = TomekLinks(sampling_strategy=0.08)\n",
    "X_train_tl, y_train_tl = nm.fit_resample(X_train_1, y_train_1)"
   ]
  },
  {
   "cell_type": "code",
   "execution_count": 17,
   "id": "a472fbec-b3b2-47e4-9c2c-32589af996e8",
   "metadata": {
    "tags": []
   },
   "outputs": [
    {
     "data": {
      "text/plain": [
       "((10808, 29),\n",
       " fraud_bool\n",
       " 0    5404\n",
       " 1    5404\n",
       " Name: count, dtype: int64,\n",
       " fraud_bool\n",
       " 0    0.5\n",
       " 1    0.5\n",
       " Name: proportion, dtype: float64)"
      ]
     },
     "execution_count": 17,
     "metadata": {},
     "output_type": "execute_result"
    }
   ],
   "source": [
    "X_train_tl.shape,y_train_tl.value_counts(),y_train_tl.value_counts(normalize=True)"
   ]
  },
  {
   "cell_type": "code",
   "execution_count": 20,
   "id": "8e2b257d-1340-43e8-973e-dd360f419c45",
   "metadata": {
    "tags": []
   },
   "outputs": [
    {
     "name": "stdout",
     "output_type": "stream",
     "text": [
      "\u001b[1mSet NM\u001b[0m\n",
      "model score: 0.643\n",
      "\n",
      "    accuracy = 0.6426380952380952\n",
      "    balanced accuracy = 0.621855662942695\n",
      "    precision = 0.018420913232333934\n",
      "    recall = 0.6006044905008635\n",
      "    \u001b[1mf1_score = 0.035745490054993063\u001b[0m\n",
      "    confusion matrix:\n",
      "    [[133563  74121]\n",
      " [   925   1391]]\n",
      "    ____________________________________________________________________________________________\n",
      "    \n",
      "\u001b[1mSet TL\u001b[0m\n",
      "model score: 0.194\n",
      "\n",
      "    accuracy = 0.1944809523809524\n",
      "    balanced accuracy = 0.5624346418876905\n",
      "    precision = 0.012699265732427523\n",
      "    recall = 0.9386873920552677\n",
      "    \u001b[1mf1_score = 0.02505950768556888\u001b[0m\n",
      "    confusion matrix:\n",
      "    [[ 38667 169017]\n",
      " [   142   2174]]\n",
      "    ____________________________________________________________________________________________\n",
      "    \n",
      "\u001b[1mSet RU\u001b[0m\n",
      "model score: 0.980\n",
      "\n",
      "    accuracy = 0.9795809523809523\n",
      "    balanced accuracy = 0.6310269298125599\n",
      "    precision = 0.1960542540073983\n",
      "    recall = 0.27461139896373055\n",
      "    \u001b[1mf1_score = 0.22877697841726619\u001b[0m\n",
      "    confusion matrix:\n",
      "    [[205076   2608]\n",
      " [  1680    636]]\n",
      "    ____________________________________________________________________________________________\n",
      "    \n",
      "CPU times: total: 1min 34s\n",
      "Wall time: 33 s\n"
     ]
    }
   ],
   "source": [
    "%%time\n",
    "lgbm = LGBMClassifier(verbosity=-1)\n",
    "datasets_train = [[X_train_nm, y_train_nm]\\\n",
    "                 ,[X_train_tl, y_train_tl]\\\n",
    "                 ,[X_train_under, y_train_under]\\\n",
    "                 ]\n",
    "\n",
    "datasets_validation = [[X_val, y_val]\\\n",
    "                      ,[X_val, y_val]\\\n",
    "                      ,[X_val, y_val]\\\n",
    "                       ]\n",
    "\n",
    "names = ['Set NM','Set TL','Set RU']\n",
    "\n",
    "for train, val, name in zip(datasets_train, datasets_validation, names):\n",
    "    lgbm.fit(train[0], train[1])   \n",
    "    accuracy = accuracy_score(val[1],lgbm.predict(val[0]))\n",
    "    balanced_acc = balanced_accuracy_score(val[1],lgbm.predict(val[0]))\n",
    "    f1 = f1_score(val[1],lgbm.predict(val[0])) # (y_true, y_pred)\n",
    "    c_matrix = confusion_matrix(val[1],lgbm.predict(val[0]))\n",
    "    precision = precision_score(val[1],lgbm.predict(val[0]))\n",
    "    recall = recall_score(val[1],lgbm.predict(val[0]))\n",
    "    print(f'\\033[1m{name}\\033[0m')\n",
    "    print(\"model score: %.3f\" % lgbm.score(val[0], val[1]))\n",
    "    print(f\"\"\"\n",
    "    accuracy = {accuracy}\n",
    "    balanced accuracy = {balanced_acc}\n",
    "    precision = {precision}\n",
    "    recall = {recall}\n",
    "    \\033[1mf1_score = {f1}\\033[0m\n",
    "    confusion matrix:\n",
    "    {c_matrix}\n",
    "    ____________________________________________________________________________________________\n",
    "    \"\"\")"
   ]
  },
  {
   "cell_type": "code",
   "execution_count": null,
   "id": "2eae4b07-caa0-4506-8c11-836c7b438b29",
   "metadata": {},
   "outputs": [],
   "source": []
  },
  {
   "cell_type": "code",
   "execution_count": 17,
   "id": "40b7d5e8-afa5-426f-981a-781d8f942baf",
   "metadata": {
    "tags": []
   },
   "outputs": [],
   "source": [
    "def metrics_summ(y_true, y_pred):\n",
    "    print(f'''\n",
    "Accuracy: {accuracy_score(y_true,y_pred):.5f}\n",
    "Balanced Accuracy: {balanced_accuracy_score(y_true,y_pred):.5f}\n",
    "\\033[1mF2 score: {fbeta_score(y_true,y_pred, beta=2):.5f}\\033[0m\n",
    "\\033[1mF1 score: {f1_score(y_true,y_pred):.5f}\\033[0m\n",
    "Precision: {precision_score(y_true,y_pred):.5f}\n",
    "Recall: {recall_score(y_true,y_pred):.5f}\n",
    "\n",
    "Confusion Matrix:\n",
    "{confusion_matrix(y_true,y_pred)}''')"
   ]
  },
  {
   "cell_type": "code",
   "execution_count": 24,
   "id": "6b861b88-2402-40b2-acbf-3ffcec517706",
   "metadata": {
    "tags": []
   },
   "outputs": [
    {
     "name": "stdout",
     "output_type": "stream",
     "text": [
      "\u001b[1m0.05\u001b[0m\n",
      "model score: 0.985\n",
      "\n",
      "Accuracy: 0.98451\n",
      "Balanced Accuracy: 0.58890\n",
      "\u001b[1mF2 score: 0.19313\u001b[0m\n",
      "\u001b[1mF1 score: 0.20794\u001b[0m\n",
      "Precision: 0.23841\n",
      "Recall: 0.18437\n",
      "\n",
      "Confusion Matrix:\n",
      "[[206320   1364]\n",
      " [  1889    427]]\n",
      "____________________________________________________________________________________________\n",
      "\u001b[1m0.08\u001b[0m\n",
      "model score: 0.980\n",
      "\n",
      "Accuracy: 0.97958\n",
      "Balanced Accuracy: 0.63103\n",
      "\u001b[1mF2 score: 0.25424\u001b[0m\n",
      "\u001b[1mF1 score: 0.22878\u001b[0m\n",
      "Precision: 0.19605\n",
      "Recall: 0.27461\n",
      "\n",
      "Confusion Matrix:\n",
      "[[205076   2608]\n",
      " [  1680    636]]\n",
      "____________________________________________________________________________________________\n",
      "\u001b[1m0.1\u001b[0m\n",
      "model score: 0.975\n",
      "\n",
      "Accuracy: 0.97536\n",
      "Balanced Accuracy: 0.65558\n",
      "\u001b[1mF2 score: 0.27888\u001b[0m\n",
      "\u001b[1mF1 score: 0.22730\u001b[0m\n",
      "Precision: 0.17374\n",
      "Recall: 0.32858\n",
      "\n",
      "Confusion Matrix:\n",
      "[[204065   3619]\n",
      " [  1555    761]]\n",
      "____________________________________________________________________________________________\n",
      "\u001b[1m0.15\u001b[0m\n",
      "model score: 0.966\n",
      "\n",
      "Accuracy: 0.96597\n",
      "Balanced Accuracy: 0.69801\n",
      "\u001b[1mF2 score: 0.30575\u001b[0m\n",
      "\u001b[1mF1 score: 0.21556\u001b[0m\n",
      "Precision: 0.14452\n",
      "Recall: 0.42401\n",
      "\n",
      "Confusion Matrix:\n",
      "[[201871   5813]\n",
      " [  1334    982]]\n",
      "____________________________________________________________________________________________\n",
      "\u001b[1m0.2\u001b[0m\n",
      "model score: 0.956\n",
      "\n",
      "Accuracy: 0.95578\n",
      "Balanced Accuracy: 0.72552\n",
      "\u001b[1mF2 score: 0.30667\u001b[0m\n",
      "\u001b[1mF1 score: 0.19642\u001b[0m\n",
      "Precision: 0.12282\n",
      "Recall: 0.49007\n",
      "\n",
      "Confusion Matrix:\n",
      "[[199578   8106]\n",
      " [  1181   1135]]\n",
      "____________________________________________________________________________________________\n",
      "\u001b[1m0.25\u001b[0m\n",
      "model score: 0.945\n",
      "\n",
      "Accuracy: 0.94476\n",
      "Balanced Accuracy: 0.74386\n",
      "\u001b[1mF2 score: 0.29631\u001b[0m\n",
      "\u001b[1mF1 score: 0.17695\u001b[0m\n",
      "Precision: 0.10588\n",
      "Recall: 0.53843\n",
      "\n",
      "Confusion Matrix:\n",
      "[[197153  10531]\n",
      " [  1069   1247]]\n",
      "____________________________________________________________________________________________\n",
      "CPU times: total: 1min 1s\n",
      "Wall time: 28.6 s\n"
     ]
    }
   ],
   "source": [
    "%%time\n",
    "\n",
    "strategies = [0.05, 0.08, 0.1, 0.15, 0.2, 0.25]\n",
    "lgbm = LGBMClassifier(verbosity=-1)\n",
    "\n",
    "for strategy in strategies:\n",
    "    undersamp = RandomUnderSampler(sampling_strategy=strategy, random_state=seed)\n",
    "    X_train_ru, y_train_ru = undersamp.fit_resample(X_train_1, y_train_1)\n",
    "    lgbm.fit(X_train_ru, y_train_ru)   \n",
    "    print(f'\\033[1m{strategy}\\033[0m')\n",
    "    print(\"model score: %.3f\" % lgbm.score(X_val, y_val))\n",
    "    fr.metrics_summ(y_val, lgbm.predict(X_val))\n",
    "    print(\"____________________________________________________________________________________________\")"
   ]
  },
  {
   "cell_type": "markdown",
   "id": "e2c9a69f-699e-4527-a9e8-85b0d64d1608",
   "metadata": {},
   "source": [
    "Luego de varias pruebas he decidido elegir el strategy de 0.08. Podría haber elegido el 0.1 o el 0.15 también, si, pero de esa manera se debalancean\n",
    "más el f1 y el f2, mientras que, además, se ha podido notar en éste y otros entrenamientos posteriores como es difícil que el f2 supere el 0.31, y mediante la hiperparametrización se puede llegar a esos valores, si necesidad de ceder tanto f1 (precisión en este caso). Creo que es la solución más eficiente, teniendo en cuenta además los tratamientos a futuro de hiperparametrización y también del seteo del threshold, en donde también prefiero que no se alejen tanto los óptimos de f2 y f1."
   ]
  },
  {
   "cell_type": "code",
   "execution_count": 33,
   "id": "fb6a9ad5-5890-4575-9679-b57abc918a9b",
   "metadata": {},
   "outputs": [
    {
     "data": {
      "text/html": [
       "<div>\n",
       "<style scoped>\n",
       "    .dataframe tbody tr th:only-of-type {\n",
       "        vertical-align: middle;\n",
       "    }\n",
       "\n",
       "    .dataframe tbody tr th {\n",
       "        vertical-align: top;\n",
       "    }\n",
       "\n",
       "    .dataframe thead th {\n",
       "        text-align: right;\n",
       "    }\n",
       "</style>\n",
       "<table border=\"1\" class=\"dataframe\">\n",
       "  <thead>\n",
       "    <tr style=\"text-align: right;\">\n",
       "      <th></th>\n",
       "      <th>income</th>\n",
       "      <th>name_email_similarity</th>\n",
       "      <th>prev_address_months_count</th>\n",
       "      <th>current_address_months_count</th>\n",
       "      <th>customer_age</th>\n",
       "      <th>days_since_request</th>\n",
       "      <th>intended_balcon_amount</th>\n",
       "      <th>payment_type</th>\n",
       "      <th>zip_count_4w</th>\n",
       "      <th>velocity_4w</th>\n",
       "      <th>bank_branch_count_8w</th>\n",
       "      <th>date_of_birth_distinct_emails_4w</th>\n",
       "      <th>employment_status</th>\n",
       "      <th>credit_risk_score</th>\n",
       "      <th>email_is_free</th>\n",
       "      <th>housing_status</th>\n",
       "      <th>phone_home_valid</th>\n",
       "      <th>has_other_cards</th>\n",
       "      <th>proposed_credit_limit</th>\n",
       "      <th>foreign_request</th>\n",
       "      <th>session_length_in_minutes</th>\n",
       "      <th>device_os_other</th>\n",
       "      <th>device_os_linux</th>\n",
       "      <th>device_os_windows</th>\n",
       "      <th>device_os_macintosh</th>\n",
       "      <th>device_os_x11</th>\n",
       "      <th>keep_alive_session</th>\n",
       "      <th>device_distinct_emails_8w</th>\n",
       "      <th>month</th>\n",
       "      <th>crs_x_pcl_ratio</th>\n",
       "    </tr>\n",
       "  </thead>\n",
       "  <tbody>\n",
       "    <tr>\n",
       "      <th>566543</th>\n",
       "      <td>0.8</td>\n",
       "      <td>0.129004</td>\n",
       "      <td>56</td>\n",
       "      <td>10</td>\n",
       "      <td>30</td>\n",
       "      <td>0.016274</td>\n",
       "      <td>-0.760933</td>\n",
       "      <td>1.0</td>\n",
       "      <td>2034</td>\n",
       "      <td>4847.050264</td>\n",
       "      <td>10</td>\n",
       "      <td>10</td>\n",
       "      <td>0.0</td>\n",
       "      <td>109</td>\n",
       "      <td>1</td>\n",
       "      <td>2.0</td>\n",
       "      <td>0</td>\n",
       "      <td>1</td>\n",
       "      <td>200.0</td>\n",
       "      <td>0</td>\n",
       "      <td>5.150540</td>\n",
       "      <td>0</td>\n",
       "      <td>1</td>\n",
       "      <td>0</td>\n",
       "      <td>0</td>\n",
       "      <td>0</td>\n",
       "      <td>1</td>\n",
       "      <td>1</td>\n",
       "      <td>3</td>\n",
       "      <td>0.545000</td>\n",
       "    </tr>\n",
       "    <tr>\n",
       "      <th>636294</th>\n",
       "      <td>0.1</td>\n",
       "      <td>0.231047</td>\n",
       "      <td>31</td>\n",
       "      <td>3</td>\n",
       "      <td>20</td>\n",
       "      <td>0.007882</td>\n",
       "      <td>-1.319822</td>\n",
       "      <td>1.0</td>\n",
       "      <td>1076</td>\n",
       "      <td>4801.842797</td>\n",
       "      <td>12</td>\n",
       "      <td>11</td>\n",
       "      <td>0.0</td>\n",
       "      <td>96</td>\n",
       "      <td>1</td>\n",
       "      <td>2.0</td>\n",
       "      <td>0</td>\n",
       "      <td>0</td>\n",
       "      <td>500.0</td>\n",
       "      <td>0</td>\n",
       "      <td>15.680771</td>\n",
       "      <td>0</td>\n",
       "      <td>0</td>\n",
       "      <td>0</td>\n",
       "      <td>1</td>\n",
       "      <td>0</td>\n",
       "      <td>1</td>\n",
       "      <td>1</td>\n",
       "      <td>4</td>\n",
       "      <td>0.192000</td>\n",
       "    </tr>\n",
       "    <tr>\n",
       "      <th>82003</th>\n",
       "      <td>0.7</td>\n",
       "      <td>0.550407</td>\n",
       "      <td>-1</td>\n",
       "      <td>324</td>\n",
       "      <td>50</td>\n",
       "      <td>0.028341</td>\n",
       "      <td>-0.604352</td>\n",
       "      <td>3.0</td>\n",
       "      <td>1228</td>\n",
       "      <td>5519.625841</td>\n",
       "      <td>174</td>\n",
       "      <td>2</td>\n",
       "      <td>1.0</td>\n",
       "      <td>218</td>\n",
       "      <td>0</td>\n",
       "      <td>0.0</td>\n",
       "      <td>0</td>\n",
       "      <td>0</td>\n",
       "      <td>1500.0</td>\n",
       "      <td>0</td>\n",
       "      <td>8.389204</td>\n",
       "      <td>0</td>\n",
       "      <td>0</td>\n",
       "      <td>1</td>\n",
       "      <td>0</td>\n",
       "      <td>0</td>\n",
       "      <td>0</td>\n",
       "      <td>1</td>\n",
       "      <td>2</td>\n",
       "      <td>0.145333</td>\n",
       "    </tr>\n",
       "    <tr>\n",
       "      <th>474606</th>\n",
       "      <td>0.4</td>\n",
       "      <td>0.682156</td>\n",
       "      <td>-1</td>\n",
       "      <td>252</td>\n",
       "      <td>40</td>\n",
       "      <td>0.019537</td>\n",
       "      <td>-0.983700</td>\n",
       "      <td>1.0</td>\n",
       "      <td>1239</td>\n",
       "      <td>4377.519574</td>\n",
       "      <td>2119</td>\n",
       "      <td>2</td>\n",
       "      <td>0.0</td>\n",
       "      <td>114</td>\n",
       "      <td>0</td>\n",
       "      <td>4.0</td>\n",
       "      <td>1</td>\n",
       "      <td>0</td>\n",
       "      <td>200.0</td>\n",
       "      <td>0</td>\n",
       "      <td>3.341758</td>\n",
       "      <td>0</td>\n",
       "      <td>0</td>\n",
       "      <td>0</td>\n",
       "      <td>1</td>\n",
       "      <td>0</td>\n",
       "      <td>1</td>\n",
       "      <td>1</td>\n",
       "      <td>5</td>\n",
       "      <td>0.570000</td>\n",
       "    </tr>\n",
       "    <tr>\n",
       "      <th>515774</th>\n",
       "      <td>0.9</td>\n",
       "      <td>0.278175</td>\n",
       "      <td>98</td>\n",
       "      <td>20</td>\n",
       "      <td>40</td>\n",
       "      <td>0.517795</td>\n",
       "      <td>-0.709431</td>\n",
       "      <td>1.0</td>\n",
       "      <td>1049</td>\n",
       "      <td>4312.921908</td>\n",
       "      <td>35</td>\n",
       "      <td>11</td>\n",
       "      <td>0.0</td>\n",
       "      <td>53</td>\n",
       "      <td>0</td>\n",
       "      <td>0.0</td>\n",
       "      <td>0</td>\n",
       "      <td>0</td>\n",
       "      <td>500.0</td>\n",
       "      <td>0</td>\n",
       "      <td>3.257548</td>\n",
       "      <td>0</td>\n",
       "      <td>0</td>\n",
       "      <td>0</td>\n",
       "      <td>1</td>\n",
       "      <td>0</td>\n",
       "      <td>0</td>\n",
       "      <td>1</td>\n",
       "      <td>5</td>\n",
       "      <td>0.106000</td>\n",
       "    </tr>\n",
       "  </tbody>\n",
       "</table>\n",
       "</div>"
      ],
      "text/plain": [
       "        income  name_email_similarity  prev_address_months_count  \\\n",
       "566543     0.8               0.129004                         56   \n",
       "636294     0.1               0.231047                         31   \n",
       "82003      0.7               0.550407                         -1   \n",
       "474606     0.4               0.682156                         -1   \n",
       "515774     0.9               0.278175                         98   \n",
       "\n",
       "        current_address_months_count  customer_age  days_since_request  \\\n",
       "566543                            10            30            0.016274   \n",
       "636294                             3            20            0.007882   \n",
       "82003                            324            50            0.028341   \n",
       "474606                           252            40            0.019537   \n",
       "515774                            20            40            0.517795   \n",
       "\n",
       "        intended_balcon_amount  payment_type  zip_count_4w  velocity_4w  \\\n",
       "566543               -0.760933           1.0          2034  4847.050264   \n",
       "636294               -1.319822           1.0          1076  4801.842797   \n",
       "82003                -0.604352           3.0          1228  5519.625841   \n",
       "474606               -0.983700           1.0          1239  4377.519574   \n",
       "515774               -0.709431           1.0          1049  4312.921908   \n",
       "\n",
       "        bank_branch_count_8w  date_of_birth_distinct_emails_4w  \\\n",
       "566543                    10                                10   \n",
       "636294                    12                                11   \n",
       "82003                    174                                 2   \n",
       "474606                  2119                                 2   \n",
       "515774                    35                                11   \n",
       "\n",
       "        employment_status  credit_risk_score  email_is_free  housing_status  \\\n",
       "566543                0.0                109              1             2.0   \n",
       "636294                0.0                 96              1             2.0   \n",
       "82003                 1.0                218              0             0.0   \n",
       "474606                0.0                114              0             4.0   \n",
       "515774                0.0                 53              0             0.0   \n",
       "\n",
       "        phone_home_valid  has_other_cards  proposed_credit_limit  \\\n",
       "566543                 0                1                  200.0   \n",
       "636294                 0                0                  500.0   \n",
       "82003                  0                0                 1500.0   \n",
       "474606                 1                0                  200.0   \n",
       "515774                 0                0                  500.0   \n",
       "\n",
       "        foreign_request  session_length_in_minutes  device_os_other  \\\n",
       "566543                0                   5.150540                0   \n",
       "636294                0                  15.680771                0   \n",
       "82003                 0                   8.389204                0   \n",
       "474606                0                   3.341758                0   \n",
       "515774                0                   3.257548                0   \n",
       "\n",
       "        device_os_linux  device_os_windows  device_os_macintosh  \\\n",
       "566543                1                  0                    0   \n",
       "636294                0                  0                    1   \n",
       "82003                 0                  1                    0   \n",
       "474606                0                  0                    1   \n",
       "515774                0                  0                    1   \n",
       "\n",
       "        device_os_x11  keep_alive_session  device_distinct_emails_8w  month  \\\n",
       "566543              0                   1                          1      3   \n",
       "636294              0                   1                          1      4   \n",
       "82003               0                   0                          1      2   \n",
       "474606              0                   1                          1      5   \n",
       "515774              0                   0                          1      5   \n",
       "\n",
       "        crs_x_pcl_ratio  \n",
       "566543         0.545000  \n",
       "636294         0.192000  \n",
       "82003          0.145333  \n",
       "474606         0.570000  \n",
       "515774         0.106000  "
      ]
     },
     "execution_count": 33,
     "metadata": {},
     "output_type": "execute_result"
    }
   ],
   "source": [
    "X_train_extra_var = X_train_under.copy()\n",
    "X_val_extra_var = X_val.copy()\n",
    "\n",
    "X_train_extra_var['crs_x_pcl_ratio'] = X_train_extra_var['credit_risk_score'] / X_train_extra_var['proposed_credit_limit']\n",
    "X_val_extra_var['crs_x_pcl_ratio'] = X_val_extra_var['credit_risk_score'] / X_val_extra_var['proposed_credit_limit']\n",
    "\n",
    "X_train_extra_var.head()"
   ]
  },
  {
   "cell_type": "code",
   "execution_count": 36,
   "id": "61e6ad3f-bd13-4d96-b2c9-12c93739dbaf",
   "metadata": {
    "tags": []
   },
   "outputs": [
    {
     "name": "stdout",
     "output_type": "stream",
     "text": [
      "\n",
      "Accuracy: 0.97849\n",
      "Balanced Accuracy: 0.64222\n",
      "\u001b[1mF2 score: 0.26893\u001b[0m\n",
      "\u001b[1mF1 score: 0.23428\u001b[0m\n",
      "Precision: 0.19286\n",
      "Recall: 0.29836\n",
      "\n",
      "Confusion Matrix:\n",
      "[[204792   2892]\n",
      " [  1625    691]]\n",
      "CPU times: total: 38 s\n",
      "Wall time: 15.9 s\n"
     ]
    }
   ],
   "source": [
    "%%time\n",
    "lgbm = LGBMClassifier(num_leaves=171\\\n",
    "                      ,n_estimators=500\\\n",
    "                      ,min_data_in_leaf=1600\\\n",
    "                      ,max_depth=10\\\n",
    "                      ,learning_rate=0.05\n",
    "                      ,verbosity=-1)\n",
    "\n",
    "lgbm.fit(X_train_extra_var,y_train_under)\n",
    "\n",
    "y_pred = lgbm.predict(X_val_extra_var)\n",
    "\n",
    "metrics_summ(y_val, y_pred)"
   ]
  },
  {
   "cell_type": "markdown",
   "id": "abd24a3a-3aec-487b-95e2-2ea361849f98",
   "metadata": {},
   "source": [
    "El modelo no mejora en caso de crear una nueva variable que unifique a dos correlacionadas. Además, esto podría sesgar al modelo, por lo que descarto la idea"
   ]
  },
  {
   "cell_type": "code",
   "execution_count": 36,
   "id": "d90f43ff-68bd-4726-b8e4-6bc96ffd137b",
   "metadata": {
    "tags": []
   },
   "outputs": [
    {
     "data": {
      "text/html": [
       "<div>\n",
       "<style scoped>\n",
       "    .dataframe tbody tr th:only-of-type {\n",
       "        vertical-align: middle;\n",
       "    }\n",
       "\n",
       "    .dataframe tbody tr th {\n",
       "        vertical-align: top;\n",
       "    }\n",
       "\n",
       "    .dataframe thead th {\n",
       "        text-align: right;\n",
       "    }\n",
       "</style>\n",
       "<table border=\"1\" class=\"dataframe\">\n",
       "  <thead>\n",
       "    <tr style=\"text-align: right;\">\n",
       "      <th></th>\n",
       "      <th>income</th>\n",
       "      <th>name_email_similarity</th>\n",
       "      <th>prev_address_months_count</th>\n",
       "      <th>current_address_months_count</th>\n",
       "      <th>customer_age</th>\n",
       "      <th>days_since_request</th>\n",
       "      <th>intended_balcon_amount</th>\n",
       "      <th>payment_type</th>\n",
       "      <th>zip_count_4w</th>\n",
       "      <th>velocity_4w</th>\n",
       "      <th>bank_branch_count_8w</th>\n",
       "      <th>date_of_birth_distinct_emails_4w</th>\n",
       "      <th>employment_status</th>\n",
       "      <th>credit_risk_score</th>\n",
       "      <th>email_is_free</th>\n",
       "      <th>housing_status</th>\n",
       "      <th>phone_home_valid</th>\n",
       "      <th>bank_months_count</th>\n",
       "      <th>has_other_cards</th>\n",
       "      <th>proposed_credit_limit</th>\n",
       "      <th>foreign_request</th>\n",
       "      <th>session_length_in_minutes</th>\n",
       "      <th>device_os_other</th>\n",
       "      <th>device_os_linux</th>\n",
       "      <th>device_os_windows</th>\n",
       "      <th>device_os_macintosh</th>\n",
       "      <th>device_os_x11</th>\n",
       "      <th>keep_alive_session</th>\n",
       "      <th>device_distinct_emails_8w</th>\n",
       "      <th>month</th>\n",
       "    </tr>\n",
       "  </thead>\n",
       "  <tbody>\n",
       "    <tr>\n",
       "      <th>566543</th>\n",
       "      <td>0.8</td>\n",
       "      <td>0.129004</td>\n",
       "      <td>56</td>\n",
       "      <td>10</td>\n",
       "      <td>30</td>\n",
       "      <td>0.016274</td>\n",
       "      <td>-0.760933</td>\n",
       "      <td>1.0</td>\n",
       "      <td>2034</td>\n",
       "      <td>4847.050264</td>\n",
       "      <td>10</td>\n",
       "      <td>10</td>\n",
       "      <td>0.0</td>\n",
       "      <td>109</td>\n",
       "      <td>1</td>\n",
       "      <td>2.0</td>\n",
       "      <td>0</td>\n",
       "      <td>15</td>\n",
       "      <td>1</td>\n",
       "      <td>200.0</td>\n",
       "      <td>0</td>\n",
       "      <td>5.150540</td>\n",
       "      <td>0</td>\n",
       "      <td>1</td>\n",
       "      <td>0</td>\n",
       "      <td>0</td>\n",
       "      <td>0</td>\n",
       "      <td>1</td>\n",
       "      <td>1</td>\n",
       "      <td>3</td>\n",
       "    </tr>\n",
       "    <tr>\n",
       "      <th>636294</th>\n",
       "      <td>0.1</td>\n",
       "      <td>0.231047</td>\n",
       "      <td>31</td>\n",
       "      <td>3</td>\n",
       "      <td>20</td>\n",
       "      <td>0.007882</td>\n",
       "      <td>-1.319822</td>\n",
       "      <td>1.0</td>\n",
       "      <td>1076</td>\n",
       "      <td>4801.842797</td>\n",
       "      <td>12</td>\n",
       "      <td>11</td>\n",
       "      <td>0.0</td>\n",
       "      <td>96</td>\n",
       "      <td>1</td>\n",
       "      <td>2.0</td>\n",
       "      <td>0</td>\n",
       "      <td>28</td>\n",
       "      <td>0</td>\n",
       "      <td>500.0</td>\n",
       "      <td>0</td>\n",
       "      <td>15.680771</td>\n",
       "      <td>0</td>\n",
       "      <td>0</td>\n",
       "      <td>0</td>\n",
       "      <td>1</td>\n",
       "      <td>0</td>\n",
       "      <td>1</td>\n",
       "      <td>1</td>\n",
       "      <td>4</td>\n",
       "    </tr>\n",
       "    <tr>\n",
       "      <th>82003</th>\n",
       "      <td>0.7</td>\n",
       "      <td>0.550407</td>\n",
       "      <td>-1</td>\n",
       "      <td>324</td>\n",
       "      <td>50</td>\n",
       "      <td>0.028341</td>\n",
       "      <td>-0.604352</td>\n",
       "      <td>3.0</td>\n",
       "      <td>1228</td>\n",
       "      <td>5519.625841</td>\n",
       "      <td>174</td>\n",
       "      <td>2</td>\n",
       "      <td>1.0</td>\n",
       "      <td>218</td>\n",
       "      <td>0</td>\n",
       "      <td>0.0</td>\n",
       "      <td>0</td>\n",
       "      <td>1</td>\n",
       "      <td>0</td>\n",
       "      <td>1500.0</td>\n",
       "      <td>0</td>\n",
       "      <td>8.389204</td>\n",
       "      <td>0</td>\n",
       "      <td>0</td>\n",
       "      <td>1</td>\n",
       "      <td>0</td>\n",
       "      <td>0</td>\n",
       "      <td>0</td>\n",
       "      <td>1</td>\n",
       "      <td>2</td>\n",
       "    </tr>\n",
       "    <tr>\n",
       "      <th>474606</th>\n",
       "      <td>0.4</td>\n",
       "      <td>0.682156</td>\n",
       "      <td>-1</td>\n",
       "      <td>252</td>\n",
       "      <td>40</td>\n",
       "      <td>0.019537</td>\n",
       "      <td>-0.983700</td>\n",
       "      <td>1.0</td>\n",
       "      <td>1239</td>\n",
       "      <td>4377.519574</td>\n",
       "      <td>2119</td>\n",
       "      <td>2</td>\n",
       "      <td>0.0</td>\n",
       "      <td>114</td>\n",
       "      <td>0</td>\n",
       "      <td>4.0</td>\n",
       "      <td>1</td>\n",
       "      <td>28</td>\n",
       "      <td>0</td>\n",
       "      <td>200.0</td>\n",
       "      <td>0</td>\n",
       "      <td>3.341758</td>\n",
       "      <td>0</td>\n",
       "      <td>0</td>\n",
       "      <td>0</td>\n",
       "      <td>1</td>\n",
       "      <td>0</td>\n",
       "      <td>1</td>\n",
       "      <td>1</td>\n",
       "      <td>5</td>\n",
       "    </tr>\n",
       "    <tr>\n",
       "      <th>515774</th>\n",
       "      <td>0.9</td>\n",
       "      <td>0.278175</td>\n",
       "      <td>98</td>\n",
       "      <td>20</td>\n",
       "      <td>40</td>\n",
       "      <td>0.517795</td>\n",
       "      <td>-0.709431</td>\n",
       "      <td>1.0</td>\n",
       "      <td>1049</td>\n",
       "      <td>4312.921908</td>\n",
       "      <td>35</td>\n",
       "      <td>11</td>\n",
       "      <td>0.0</td>\n",
       "      <td>53</td>\n",
       "      <td>0</td>\n",
       "      <td>0.0</td>\n",
       "      <td>0</td>\n",
       "      <td>1</td>\n",
       "      <td>0</td>\n",
       "      <td>500.0</td>\n",
       "      <td>0</td>\n",
       "      <td>3.257548</td>\n",
       "      <td>0</td>\n",
       "      <td>0</td>\n",
       "      <td>0</td>\n",
       "      <td>1</td>\n",
       "      <td>0</td>\n",
       "      <td>0</td>\n",
       "      <td>1</td>\n",
       "      <td>5</td>\n",
       "    </tr>\n",
       "  </tbody>\n",
       "</table>\n",
       "</div>"
      ],
      "text/plain": [
       "        income  name_email_similarity  prev_address_months_count  \\\n",
       "566543     0.8               0.129004                         56   \n",
       "636294     0.1               0.231047                         31   \n",
       "82003      0.7               0.550407                         -1   \n",
       "474606     0.4               0.682156                         -1   \n",
       "515774     0.9               0.278175                         98   \n",
       "\n",
       "        current_address_months_count  customer_age  days_since_request  \\\n",
       "566543                            10            30            0.016274   \n",
       "636294                             3            20            0.007882   \n",
       "82003                            324            50            0.028341   \n",
       "474606                           252            40            0.019537   \n",
       "515774                            20            40            0.517795   \n",
       "\n",
       "        intended_balcon_amount  payment_type  zip_count_4w  velocity_4w  \\\n",
       "566543               -0.760933           1.0          2034  4847.050264   \n",
       "636294               -1.319822           1.0          1076  4801.842797   \n",
       "82003                -0.604352           3.0          1228  5519.625841   \n",
       "474606               -0.983700           1.0          1239  4377.519574   \n",
       "515774               -0.709431           1.0          1049  4312.921908   \n",
       "\n",
       "        bank_branch_count_8w  date_of_birth_distinct_emails_4w  \\\n",
       "566543                    10                                10   \n",
       "636294                    12                                11   \n",
       "82003                    174                                 2   \n",
       "474606                  2119                                 2   \n",
       "515774                    35                                11   \n",
       "\n",
       "        employment_status  credit_risk_score  email_is_free  housing_status  \\\n",
       "566543                0.0                109              1             2.0   \n",
       "636294                0.0                 96              1             2.0   \n",
       "82003                 1.0                218              0             0.0   \n",
       "474606                0.0                114              0             4.0   \n",
       "515774                0.0                 53              0             0.0   \n",
       "\n",
       "        phone_home_valid  bank_months_count  has_other_cards  \\\n",
       "566543                 0                 15                1   \n",
       "636294                 0                 28                0   \n",
       "82003                  0                  1                0   \n",
       "474606                 1                 28                0   \n",
       "515774                 0                  1                0   \n",
       "\n",
       "        proposed_credit_limit  foreign_request  session_length_in_minutes  \\\n",
       "566543                  200.0                0                   5.150540   \n",
       "636294                  500.0                0                  15.680771   \n",
       "82003                  1500.0                0                   8.389204   \n",
       "474606                  200.0                0                   3.341758   \n",
       "515774                  500.0                0                   3.257548   \n",
       "\n",
       "        device_os_other  device_os_linux  device_os_windows  \\\n",
       "566543                0                1                  0   \n",
       "636294                0                0                  0   \n",
       "82003                 0                0                  1   \n",
       "474606                0                0                  0   \n",
       "515774                0                0                  0   \n",
       "\n",
       "        device_os_macintosh  device_os_x11  keep_alive_session  \\\n",
       "566543                    0              0                   1   \n",
       "636294                    1              0                   1   \n",
       "82003                     0              0                   0   \n",
       "474606                    1              0                   1   \n",
       "515774                    1              0                   0   \n",
       "\n",
       "        device_distinct_emails_8w  month  \n",
       "566543                          1      3  \n",
       "636294                          1      4  \n",
       "82003                           1      2  \n",
       "474606                          1      5  \n",
       "515774                          1      5  "
      ]
     },
     "execution_count": 36,
     "metadata": {},
     "output_type": "execute_result"
    }
   ],
   "source": [
    "X_train_under.head()"
   ]
  },
  {
   "cell_type": "code",
   "execution_count": 67,
   "id": "4319e6e1-0f1b-44f8-8636-ce120ae231fc",
   "metadata": {
    "tags": []
   },
   "outputs": [],
   "source": [
    "X_train_cut = X_train_under.drop(['foreign_request'], axis=1)\n",
    "X_val_cut = X_val.drop(['foreign_request'], axis=1)"
   ]
  },
  {
   "cell_type": "code",
   "execution_count": 66,
   "id": "4f68dafa-3121-4392-93d5-f05d9425200c",
   "metadata": {
    "tags": []
   },
   "outputs": [
    {
     "name": "stdout",
     "output_type": "stream",
     "text": [
      "\n",
      "Accuracy: 0.97842\n",
      "Balanced Accuracy: 0.64432\n",
      "\u001b[1mF2 score: 0.27211\u001b[0m\n",
      "\u001b[1mF1 score: 0.23631\u001b[0m\n",
      "Precision: 0.19381\n",
      "Recall: 0.30268\n",
      "\n",
      "Confusion Matrix:\n",
      "[[204768   2916]\n",
      " [  1615    701]]\n",
      "CPU times: total: 16.2 s\n",
      "Wall time: 6.1 s\n"
     ]
    }
   ],
   "source": [
    "%%time\n",
    "lgbm = LGBMClassifier(num_leaves=171\\\n",
    "                      ,n_estimators=500\\\n",
    "                      ,min_data_in_leaf=1600\\\n",
    "                      ,max_depth=10\\\n",
    "                      ,learning_rate=0.05\n",
    "                      ,verbosity=-1)\n",
    "\n",
    "lgbm.fit(X_train_cut,y_train_under)\n",
    "\n",
    "y_pred = lgbm.predict(X_val_cut)\n",
    "\n",
    "fr.metrics_summ(y_val, y_pred)"
   ]
  },
  {
   "cell_type": "markdown",
   "id": "5dd6ab87-8e25-4cc3-ba4d-589664e2d642",
   "metadata": {
    "tags": []
   },
   "source": [
    "Si sigo eliminando variables el modelo tampoco mejora, al contrario, empeora"
   ]
  },
  {
   "cell_type": "markdown",
   "id": "73eeadd0-54b2-4806-8324-6f81e6ab5c96",
   "metadata": {},
   "source": [
    "### Prueba"
   ]
  },
  {
   "cell_type": "code",
   "execution_count": 35,
   "id": "b807a434-529b-4cd9-a2d0-e3f54784ed46",
   "metadata": {
    "tags": []
   },
   "outputs": [
    {
     "name": "stdout",
     "output_type": "stream",
     "text": [
      "\n",
      "Accuracy: 0.97852\n",
      "Balanced Accuracy: 0.64415\n",
      "\u001b[1mF2 score: 0.27218\u001b[0m\n",
      "\u001b[1mF1 score: 0.23685\u001b[0m\n",
      "Precision: 0.19471\n",
      "Recall: 0.30225\n",
      "\n",
      "Confusion Matrix:\n",
      "[[204789   2895]\n",
      " [  1616    700]]\n",
      "CPU times: total: 16.6 s\n",
      "Wall time: 5.58 s\n"
     ]
    }
   ],
   "source": [
    "%%time\n",
    "lgbm = LGBMClassifier(num_leaves=171\\\n",
    "                      ,n_estimators=500\\\n",
    "                      ,min_data_in_leaf=1600\\\n",
    "                      ,max_depth=10\\\n",
    "                      ,learning_rate=0.05\n",
    "                      ,verbosity=-1)\n",
    "\n",
    "lgbm.fit(X_train_under,y_train_under)\n",
    "\n",
    "y_pred = lgbm.predict(X_val)\n",
    "\n",
    "fr.metrics_summ(y_val, y_pred)"
   ]
  },
  {
   "cell_type": "code",
   "execution_count": null,
   "id": "c5aeaeae-04ad-44f8-ae44-109d253d347d",
   "metadata": {
    "tags": []
   },
   "outputs": [],
   "source": [
    "%%time\n",
    "f2_scorer = make_scorer(fbeta_score, beta=2)\n",
    "\n",
    "lgbm = LGBMClassifier(verbosity=-1)\n",
    "param_grid = { \n",
    "    'max_depth' : [3,5,7,9,11]\n",
    "    ,'num_leaves' : [round(2**3/1.5),round(2**5/1.5),round(2**7/1.5), round(2**9/1.5), round(2**11/1.5)] # La documentación de LightGBM comenta que num_leaves se relaciona con el max_depth así: (num_leaves = (2^max_depth/1.5))\n",
    "    ,'min_data_in_leaf' :[1200,1400,1600,1800,2000]\n",
    "    ,'n_estimators ': [200,300,400,500,600,700]\n",
    "    ,'learning_rate': [0.005, 0.01, 0.02, 0.05, 0.1]\n",
    "}\n",
    "\n",
    "scoring = {'f2':f2_scorer,'f1':'f1','accuracy':'accuracy', 'balanced_accuracy':'balanced_accuracy', 'precision':'precision', 'recall':'recall','roc_auc':'roc_auc'}\n",
    "\n",
    "CV_rs = RandomizedSearchCV(lgbm, param_grid, n_iter=30, cv=10, random_state=seed, n_jobs=2, scoring=scoring, refit='f2')\n",
    "\n",
    "CV_rs.fit(X_train_2, y_train_2)  \n",
    "print(CV_rs.best_params_)    \n",
    "print(CV_rs.best_score_)"
   ]
  },
  {
   "cell_type": "markdown",
   "id": "71440ede-eca5-46a3-aeb0-b115d3b9bf25",
   "metadata": {
    "tags": []
   },
   "source": [
    "## Prueba de tiempos LightGBM vs XGBoost"
   ]
  },
  {
   "cell_type": "code",
   "execution_count": 17,
   "id": "d9df948e-dcd1-40fe-934f-5d9998fb294e",
   "metadata": {
    "tags": []
   },
   "outputs": [
    {
     "name": "stdout",
     "output_type": "stream",
     "text": [
      "[LightGBM] [Warning] Accuracy may be bad since you didn't explicitly set num_leaves OR 2^max_depth > num_leaves. (num_leaves=31).\n",
      "[LightGBM] [Warning] Accuracy may be bad since you didn't explicitly set num_leaves OR 2^max_depth > num_leaves. (num_leaves=31).\n",
      "[LightGBM] [Info] Number of positive: 5404, number of negative: 67550\n",
      "[LightGBM] [Info] Auto-choosing row-wise multi-threading, the overhead of testing was 0.004777 seconds.\n",
      "You can set `force_row_wise=true` to remove the overhead.\n",
      "And if memory is not enough, you can set `force_col_wise=true`.\n",
      "[LightGBM] [Info] Total Bins 2724\n",
      "[LightGBM] [Info] Number of data points in the train set: 72954, number of used features: 29\n",
      "[LightGBM] [Info] [binary:BoostFromScore]: pavg=0.074074 -> initscore=-2.525729\n",
      "[LightGBM] [Info] Start training from score -2.525729\n",
      "[LightGBM] [Warning] Accuracy may be bad since you didn't explicitly set num_leaves OR 2^max_depth > num_leaves. (num_leaves=31).\n",
      "\n",
      "Accuracy: 0.97843\n",
      "Balanced Accuracy: 0.63258\n",
      "\u001b[1mF2 score: 0.25296\u001b[0m\n",
      "\u001b[1mF1 score: 0.22195\u001b[0m\n",
      "Precision: 0.18431\n",
      "Recall: 0.27893\n",
      "\n",
      "Confusion Matrix:\n",
      "[[204825   2859]\n",
      " [  1670    646]]\n",
      "CPU times: total: 9.53 s\n",
      "Wall time: 4.08 s\n"
     ]
    }
   ],
   "source": [
    "%%time\n",
    "lgbm = LGBMClassifier(n_estimators=500, max_depth=10)\n",
    "lgbm.fit(X_train_under, y_train_under)\n",
    "y_pred_lgbm = lgbm.predict(X_val)\n",
    "fr.metrics_summ(y_val, y_pred_lgbm)"
   ]
  },
  {
   "cell_type": "code",
   "execution_count": 16,
   "id": "07086f8a-de1c-432b-acde-7ae8914d0823",
   "metadata": {
    "tags": []
   },
   "outputs": [
    {
     "name": "stdout",
     "output_type": "stream",
     "text": [
      "\n",
      "Accuracy: 0.97843\n",
      "Balanced Accuracy: 0.63130\n",
      "\u001b[1mF2 score: 0.25082\u001b[0m\n",
      "\u001b[1mF1 score: 0.22031\u001b[0m\n",
      "Precision: 0.18317\n",
      "Recall: 0.27634\n",
      "\n",
      "Confusion Matrix:\n",
      "[[204830   2854]\n",
      " [  1676    640]]\n",
      "CPU times: total: 3min 33s\n",
      "Wall time: 32.3 s\n"
     ]
    }
   ],
   "source": [
    "%%time\n",
    "xgb = XGBClassifier(n_estimators=500, max_depth=10) # # solo determino estos dos parámetros importantes en cuanto al tiempo para que sea comparable al LightGBM\n",
    "xgb.fit(X_train_under, y_train_under)\n",
    "y_pred_xgb = xgb.predict(X_val)\n",
    "fr.metrics_summ(y_val, y_pred_xgb)"
   ]
  },
  {
   "cell_type": "markdown",
   "id": "8fe8cff8-a2f7-440d-9c48-11b3b3a33dd4",
   "metadata": {},
   "source": [
    "Los resultados son bastante buenos, aunque muy levemente peores que los del LightGBM. Mientras que el tiempo de procesamiento fue 8 veces superior!"
   ]
  },
  {
   "cell_type": "code",
   "execution_count": 20,
   "id": "ece847b7-31b3-41b2-80ed-1af987fe65dd",
   "metadata": {
    "tags": []
   },
   "outputs": [
    {
     "name": "stdout",
     "output_type": "stream",
     "text": [
      "\n",
      "Accuracy: 0.98099\n",
      "Balanced Accuracy: 0.60911\n",
      "\u001b[1mF2 score: 0.22081\u001b[0m\n",
      "\u001b[1mF1 score: 0.20978\u001b[0m\n",
      "Precision: 0.19364\n",
      "Recall: 0.22884\n",
      "\n",
      "Confusion Matrix:\n",
      "[[205477   2207]\n",
      " [  1786    530]]\n",
      "CPU times: total: 16min 49s\n",
      "Wall time: 19min 22s\n"
     ]
    }
   ],
   "source": [
    "%%time\n",
    "gbc = GradientBoostingClassifier(n_estimators=500, max_depth=10) # # solo determino estos dos parámetros importantes en cuanto al tiempo para que sea comparable al LightGBM\n",
    "gbc.fit(X_train_under, y_train_under)\n",
    "y_pred_gbc = gbc.predict(X_val)\n",
    "fr.metrics_summ(y_val, y_pred_gbc)"
   ]
  },
  {
   "cell_type": "markdown",
   "id": "dde653f1-a60d-4d79-af4f-fb387647c8d2",
   "metadata": {},
   "source": [
    "Ni hablar de los tiempos de procesamiento del Gradient Boosting, claramente peores en resultados y en tiempo"
   ]
  },
  {
   "cell_type": "code",
   "execution_count": null,
   "id": "578d8be6-9857-4031-be03-901f16bf5992",
   "metadata": {},
   "outputs": [],
   "source": []
  },
  {
   "cell_type": "code",
   "execution_count": null,
   "id": "9b4ac9eb-4d53-4bc7-a988-bae82ec4ebbe",
   "metadata": {},
   "outputs": [],
   "source": []
  },
  {
   "cell_type": "code",
   "execution_count": null,
   "id": "2c7e7438-3623-4a76-9d09-6fb24fa9247b",
   "metadata": {},
   "outputs": [],
   "source": []
  },
  {
   "cell_type": "code",
   "execution_count": null,
   "id": "22c0e221-9cff-49a2-bea5-f40b40f7d15d",
   "metadata": {},
   "outputs": [],
   "source": []
  },
  {
   "cell_type": "code",
   "execution_count": null,
   "id": "83dac784-622e-472d-8e4e-4ec80137ef3c",
   "metadata": {},
   "outputs": [],
   "source": []
  }
 ],
 "metadata": {
  "kernelspec": {
   "display_name": "practica0",
   "language": "python",
   "name": "practica0"
  },
  "language_info": {
   "codemirror_mode": {
    "name": "ipython",
    "version": 3
   },
   "file_extension": ".py",
   "mimetype": "text/x-python",
   "name": "python",
   "nbconvert_exporter": "python",
   "pygments_lexer": "ipython3",
   "version": "3.9.18"
  }
 },
 "nbformat": 4,
 "nbformat_minor": 5
}
