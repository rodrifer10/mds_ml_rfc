{
 "cells": [
  {
   "attachments": {
    "ed2b78cf-28e8-4b9f-b0a7-7a33715c6677.png": {
     "image/png": "[encoded data removed]"
    }
   },
   "cell_type": "markdown",
   "id": "407f8ec0-ed64-4bd5-9d10-ca5482ce7b06",
   "metadata": {},
   "source": [
    "![image.png](attachment:ed2b78cf-28e8-4b9f-b0a7-7a33715c6677.png)\n",
    "\n",
    "# Máster en Data Science - Machine Learning"
   ]
  },
  {
   "cell_type": "markdown",
   "id": "d1513189-4152-4cf6-a597-f977ab246450",
   "metadata": {},
   "source": [
    "# Predicción de fraude mediante el uso de modelos de Machine Learning\n",
    "##### <font color='dodgerblue' face='Montserrat'>Autor: Rodrigo Fernandez Campos</font>\n",
    "## DataSet: Bank Account Fraud Dataset Suite (NeurIPS 2022)"
   ]
  },
  {
   "cell_type": "markdown",
   "id": "05a09322-147f-44ca-b5ea-77e1e8add901",
   "metadata": {},
   "source": [
    "# <font size=25><b>Comparación y seleccion de Modelos</b></font>\n",
    "\n",
    "En este notebook se realizarán unos últimos tratamientos a los datos, como lo son el Oversampling y Undersampling, además del escalado y recorte de variables en base a lo decidido en el notebook anterior (03) y luego se procederá a la comparación y selección del modelo óptimo para resolver nuestro problema. Se aplicarán muchos modelos de Machine Learning para problemas de Clasificación en su versión por defecto, luego se seleccionará la configuración de datos con la que funcione mejor dicho modelo y finalmente se buscarán los hiperparámetros que mejores resultados obtengan. Para todos estos procesos de comparación y medidas se utilizará un set de Validación, que surgirá de volver a dividir en 70-30 al set de entrenamiento."
   ]
  },
  {
   "cell_type": "code",
   "execution_count": 121,
   "id": "dc0b4ffb-0b89-4773-847b-f3d5a886cb6d",
   "metadata": {
    "tags": []
   },
   "outputs": [],
   "source": [
    "# Librerías\n",
    "import pandas as pd\n",
    "import numpy as np\n",
    "import matplotlib.pyplot as plt\n",
    "import seaborn as sns\n",
    "from termcolor import colored, cprint\n",
    "from sklearn.preprocessing import OneHotEncoder\n",
    "from sklearn.preprocessing import OrdinalEncoder\n",
    "from sklearn.preprocessing import StandardScaler\n",
    "from sklearn.compose import ColumnTransformer\n",
    "from sklearn.preprocessing import TargetEncoder\n",
    "import sys\n",
    "import importlib\n",
    "from matplotlib import rc\n",
    "\n",
    "from sklearn.model_selection import train_test_split\n",
    "from sklearn.ensemble import RandomForestClassifier, GradientBoostingClassifier\n",
    "from sklearn import metrics\n",
    "from sklearn.linear_model import Lasso, LogisticRegression\n",
    "from sklearn.feature_selection import SelectFromModel, RFE\n",
    "from sklearn.preprocessing import StandardScaler\n",
    "from sklearn.tree import DecisionTreeClassifier\n",
    "from sklearn.pipeline import Pipeline\n",
    "from xgboost import XGBClassifier\n",
    "import lightgbm\n",
    "from lightgbm.sklearn import LGBMClassifier\n",
    "from sklearn.svm import SVC\n",
    "from sklearn.metrics import fbeta_score, make_scorer\n",
    "\n",
    "from sklearn.model_selection import GridSearchCV, RandomizedSearchCV\n",
    "from skopt import BayesSearchCV\n",
    "\n",
    "from sklearn.dummy import DummyClassifier\n",
    "from sklearn.naive_bayes import GaussianNB\n",
    "import statsmodels.api as sm\n",
    "\n",
    "from imblearn.over_sampling import SMOTE\n",
    "from imblearn.under_sampling import RandomUnderSampler\n",
    "from imblearn.pipeline import Pipeline\n",
    "from imblearn.combine import SMOTETomek\n",
    "from imblearn.combine import SMOTEENN\n",
    "from imblearn.under_sampling import NearMiss, TomekLinks\n",
    "\n",
    "from sklearn.metrics import balanced_accuracy_score, roc_auc_score,\\\n",
    "                            accuracy_score,average_precision_score, precision_recall_curve, roc_curve,\\\n",
    "                            auc, recall_score, precision_score, confusion_matrix, f1_score\n",
    "import pickle\n",
    "from joblib import dump, load\n",
    "\n",
    "import warnings\n",
    "warnings.filterwarnings('ignore')\n",
    "\n",
    "pd.set_option('display.max_columns', 500)\n",
    "pd.set_option('display.max_rows', 500)"
   ]
  },
  {
   "cell_type": "markdown",
   "id": "76bf12c4-4755-441b-beba-a508611679aa",
   "metadata": {},
   "source": [
    "## Funciones"
   ]
  },
  {
   "cell_type": "code",
   "execution_count": 122,
   "id": "ec3b7952-e55b-405d-a06a-cb3e39bbe766",
   "metadata": {
    "tags": []
   },
   "outputs": [],
   "source": [
    "sys.path.append('../src/')\n",
    "import functions_rfc as fr\n",
    "sys.path.remove('../src/')\n",
    "\n",
    "### Constantes:\n",
    "seed=10"
   ]
  },
  {
   "cell_type": "code",
   "execution_count": 127,
   "id": "472aa2a6-e742-4efb-a9ad-713cf77f6170",
   "metadata": {
    "tags": []
   },
   "outputs": [],
   "source": [
    "sys.path.append('../src/')\n",
    "importlib.reload(fr)\n",
    "sys.path.remove('../src/')"
   ]
  },
  {
   "cell_type": "markdown",
   "id": "dd26a6aa-3848-4a18-a679-e645ae18d797",
   "metadata": {},
   "source": [
    "***\n",
    "# Importo y preparo los datasets\n",
    "\n",
    "## Importo datasets procesados con anterioridad"
   ]
  },
  {
   "cell_type": "code",
   "execution_count": 364,
   "id": "d6aec855-a0b9-4026-8329-a23c46e46517",
   "metadata": {
    "tags": []
   },
   "outputs": [
    {
     "data": {
      "text/html": [
       "<div>\n",
       "<style scoped>\n",
       "    .dataframe tbody tr th:only-of-type {\n",
       "        vertical-align: middle;\n",
       "    }\n",
       "\n",
       "    .dataframe tbody tr th {\n",
       "        vertical-align: top;\n",
       "    }\n",
       "\n",
       "    .dataframe thead th {\n",
       "        text-align: right;\n",
       "    }\n",
       "</style>\n",
       "<table border=\"1\" class=\"dataframe\">\n",
       "  <thead>\n",
       "    <tr style=\"text-align: right;\">\n",
       "      <th></th>\n",
       "      <th>income</th>\n",
       "      <th>name_email_similarity</th>\n",
       "      <th>prev_address_months_count</th>\n",
       "      <th>current_address_months_count</th>\n",
       "      <th>customer_age</th>\n",
       "      <th>days_since_request</th>\n",
       "      <th>intended_balcon_amount</th>\n",
       "      <th>payment_type</th>\n",
       "      <th>zip_count_4w</th>\n",
       "      <th>velocity_6h</th>\n",
       "      <th>velocity_24h</th>\n",
       "      <th>velocity_4w</th>\n",
       "      <th>bank_branch_count_8w</th>\n",
       "      <th>date_of_birth_distinct_emails_4w</th>\n",
       "      <th>employment_status</th>\n",
       "      <th>credit_risk_score</th>\n",
       "      <th>email_is_free</th>\n",
       "      <th>housing_status</th>\n",
       "      <th>phone_home_valid</th>\n",
       "      <th>phone_mobile_valid</th>\n",
       "      <th>bank_months_count</th>\n",
       "      <th>has_other_cards</th>\n",
       "      <th>proposed_credit_limit</th>\n",
       "      <th>foreign_request</th>\n",
       "      <th>source</th>\n",
       "      <th>session_length_in_minutes</th>\n",
       "      <th>device_os</th>\n",
       "      <th>keep_alive_session</th>\n",
       "      <th>device_distinct_emails_8w</th>\n",
       "      <th>month</th>\n",
       "      <th>fraud_bool</th>\n",
       "    </tr>\n",
       "  </thead>\n",
       "  <tbody>\n",
       "    <tr>\n",
       "      <th>0</th>\n",
       "      <td>0.9</td>\n",
       "      <td>0.237329</td>\n",
       "      <td>-1</td>\n",
       "      <td>80</td>\n",
       "      <td>40</td>\n",
       "      <td>0.013515</td>\n",
       "      <td>-1.041418</td>\n",
       "      <td>AC</td>\n",
       "      <td>1589</td>\n",
       "      <td>5840.486860</td>\n",
       "      <td>7660.279574</td>\n",
       "      <td>6353.443336</td>\n",
       "      <td>0</td>\n",
       "      <td>12</td>\n",
       "      <td>CA</td>\n",
       "      <td>100</td>\n",
       "      <td>1</td>\n",
       "      <td>BA</td>\n",
       "      <td>0</td>\n",
       "      <td>1</td>\n",
       "      <td>-1</td>\n",
       "      <td>0</td>\n",
       "      <td>2000.0</td>\n",
       "      <td>0</td>\n",
       "      <td>INTERNET</td>\n",
       "      <td>3.436651</td>\n",
       "      <td>other</td>\n",
       "      <td>1</td>\n",
       "      <td>1</td>\n",
       "      <td>0</td>\n",
       "      <td>0</td>\n",
       "    </tr>\n",
       "    <tr>\n",
       "      <th>1</th>\n",
       "      <td>0.9</td>\n",
       "      <td>0.176307</td>\n",
       "      <td>-1</td>\n",
       "      <td>54</td>\n",
       "      <td>40</td>\n",
       "      <td>0.019225</td>\n",
       "      <td>-0.835103</td>\n",
       "      <td>AC</td>\n",
       "      <td>882</td>\n",
       "      <td>3442.067872</td>\n",
       "      <td>4575.631214</td>\n",
       "      <td>5571.455566</td>\n",
       "      <td>1</td>\n",
       "      <td>7</td>\n",
       "      <td>CF</td>\n",
       "      <td>106</td>\n",
       "      <td>0</td>\n",
       "      <td>BC</td>\n",
       "      <td>0</td>\n",
       "      <td>1</td>\n",
       "      <td>-1</td>\n",
       "      <td>0</td>\n",
       "      <td>200.0</td>\n",
       "      <td>0</td>\n",
       "      <td>INTERNET</td>\n",
       "      <td>6.356665</td>\n",
       "      <td>linux</td>\n",
       "      <td>0</td>\n",
       "      <td>1</td>\n",
       "      <td>2</td>\n",
       "      <td>0</td>\n",
       "    </tr>\n",
       "    <tr>\n",
       "      <th>2</th>\n",
       "      <td>0.1</td>\n",
       "      <td>0.265706</td>\n",
       "      <td>157</td>\n",
       "      <td>156</td>\n",
       "      <td>40</td>\n",
       "      <td>0.011588</td>\n",
       "      <td>37.078740</td>\n",
       "      <td>AA</td>\n",
       "      <td>1298</td>\n",
       "      <td>1196.731284</td>\n",
       "      <td>4008.487554</td>\n",
       "      <td>4212.552556</td>\n",
       "      <td>728</td>\n",
       "      <td>2</td>\n",
       "      <td>CA</td>\n",
       "      <td>137</td>\n",
       "      <td>0</td>\n",
       "      <td>BE</td>\n",
       "      <td>1</td>\n",
       "      <td>1</td>\n",
       "      <td>11</td>\n",
       "      <td>1</td>\n",
       "      <td>500.0</td>\n",
       "      <td>0</td>\n",
       "      <td>INTERNET</td>\n",
       "      <td>17.815440</td>\n",
       "      <td>windows</td>\n",
       "      <td>1</td>\n",
       "      <td>1</td>\n",
       "      <td>6</td>\n",
       "      <td>0</td>\n",
       "    </tr>\n",
       "    <tr>\n",
       "      <th>3</th>\n",
       "      <td>0.9</td>\n",
       "      <td>0.089557</td>\n",
       "      <td>35</td>\n",
       "      <td>5</td>\n",
       "      <td>20</td>\n",
       "      <td>0.025159</td>\n",
       "      <td>37.116540</td>\n",
       "      <td>AA</td>\n",
       "      <td>1337</td>\n",
       "      <td>9563.602945</td>\n",
       "      <td>2838.222720</td>\n",
       "      <td>3508.471021</td>\n",
       "      <td>429</td>\n",
       "      <td>11</td>\n",
       "      <td>CA</td>\n",
       "      <td>242</td>\n",
       "      <td>1</td>\n",
       "      <td>BC</td>\n",
       "      <td>0</td>\n",
       "      <td>1</td>\n",
       "      <td>21</td>\n",
       "      <td>0</td>\n",
       "      <td>200.0</td>\n",
       "      <td>0</td>\n",
       "      <td>INTERNET</td>\n",
       "      <td>4.443607</td>\n",
       "      <td>other</td>\n",
       "      <td>1</td>\n",
       "      <td>1</td>\n",
       "      <td>2</td>\n",
       "      <td>0</td>\n",
       "    </tr>\n",
       "    <tr>\n",
       "      <th>4</th>\n",
       "      <td>0.7</td>\n",
       "      <td>0.882855</td>\n",
       "      <td>-1</td>\n",
       "      <td>117</td>\n",
       "      <td>40</td>\n",
       "      <td>0.003562</td>\n",
       "      <td>-0.332094</td>\n",
       "      <td>AC</td>\n",
       "      <td>1333</td>\n",
       "      <td>1954.199605</td>\n",
       "      <td>2811.816273</td>\n",
       "      <td>4267.415243</td>\n",
       "      <td>1</td>\n",
       "      <td>2</td>\n",
       "      <td>CA</td>\n",
       "      <td>225</td>\n",
       "      <td>1</td>\n",
       "      <td>BA</td>\n",
       "      <td>1</td>\n",
       "      <td>1</td>\n",
       "      <td>-1</td>\n",
       "      <td>0</td>\n",
       "      <td>1000.0</td>\n",
       "      <td>0</td>\n",
       "      <td>INTERNET</td>\n",
       "      <td>3.170467</td>\n",
       "      <td>windows</td>\n",
       "      <td>1</td>\n",
       "      <td>1</td>\n",
       "      <td>5</td>\n",
       "      <td>0</td>\n",
       "    </tr>\n",
       "    <tr>\n",
       "      <th>...</th>\n",
       "      <td>...</td>\n",
       "      <td>...</td>\n",
       "      <td>...</td>\n",
       "      <td>...</td>\n",
       "      <td>...</td>\n",
       "      <td>...</td>\n",
       "      <td>...</td>\n",
       "      <td>...</td>\n",
       "      <td>...</td>\n",
       "      <td>...</td>\n",
       "      <td>...</td>\n",
       "      <td>...</td>\n",
       "      <td>...</td>\n",
       "      <td>...</td>\n",
       "      <td>...</td>\n",
       "      <td>...</td>\n",
       "      <td>...</td>\n",
       "      <td>...</td>\n",
       "      <td>...</td>\n",
       "      <td>...</td>\n",
       "      <td>...</td>\n",
       "      <td>...</td>\n",
       "      <td>...</td>\n",
       "      <td>...</td>\n",
       "      <td>...</td>\n",
       "      <td>...</td>\n",
       "      <td>...</td>\n",
       "      <td>...</td>\n",
       "      <td>...</td>\n",
       "      <td>...</td>\n",
       "      <td>...</td>\n",
       "    </tr>\n",
       "    <tr>\n",
       "      <th>699995</th>\n",
       "      <td>0.7</td>\n",
       "      <td>0.999167</td>\n",
       "      <td>-1</td>\n",
       "      <td>43</td>\n",
       "      <td>30</td>\n",
       "      <td>0.023268</td>\n",
       "      <td>-1.259374</td>\n",
       "      <td>AB</td>\n",
       "      <td>818</td>\n",
       "      <td>7460.133835</td>\n",
       "      <td>5020.933076</td>\n",
       "      <td>5578.160984</td>\n",
       "      <td>35</td>\n",
       "      <td>14</td>\n",
       "      <td>CA</td>\n",
       "      <td>123</td>\n",
       "      <td>1</td>\n",
       "      <td>BC</td>\n",
       "      <td>1</td>\n",
       "      <td>1</td>\n",
       "      <td>15</td>\n",
       "      <td>0</td>\n",
       "      <td>1500.0</td>\n",
       "      <td>0</td>\n",
       "      <td>INTERNET</td>\n",
       "      <td>5.411712</td>\n",
       "      <td>linux</td>\n",
       "      <td>1</td>\n",
       "      <td>1</td>\n",
       "      <td>1</td>\n",
       "      <td>0</td>\n",
       "    </tr>\n",
       "    <tr>\n",
       "      <th>699996</th>\n",
       "      <td>0.8</td>\n",
       "      <td>0.064547</td>\n",
       "      <td>-1</td>\n",
       "      <td>135</td>\n",
       "      <td>50</td>\n",
       "      <td>0.009240</td>\n",
       "      <td>103.081065</td>\n",
       "      <td>AA</td>\n",
       "      <td>839</td>\n",
       "      <td>3732.754501</td>\n",
       "      <td>3857.194697</td>\n",
       "      <td>5300.048190</td>\n",
       "      <td>470</td>\n",
       "      <td>4</td>\n",
       "      <td>CA</td>\n",
       "      <td>219</td>\n",
       "      <td>1</td>\n",
       "      <td>BA</td>\n",
       "      <td>1</td>\n",
       "      <td>1</td>\n",
       "      <td>28</td>\n",
       "      <td>0</td>\n",
       "      <td>1500.0</td>\n",
       "      <td>0</td>\n",
       "      <td>INTERNET</td>\n",
       "      <td>1.797181</td>\n",
       "      <td>other</td>\n",
       "      <td>1</td>\n",
       "      <td>1</td>\n",
       "      <td>1</td>\n",
       "      <td>0</td>\n",
       "    </tr>\n",
       "    <tr>\n",
       "      <th>699997</th>\n",
       "      <td>0.6</td>\n",
       "      <td>0.413827</td>\n",
       "      <td>49</td>\n",
       "      <td>9</td>\n",
       "      <td>30</td>\n",
       "      <td>0.009545</td>\n",
       "      <td>-1.413444</td>\n",
       "      <td>AD</td>\n",
       "      <td>3525</td>\n",
       "      <td>8000.519630</td>\n",
       "      <td>6734.795342</td>\n",
       "      <td>6292.454641</td>\n",
       "      <td>51</td>\n",
       "      <td>19</td>\n",
       "      <td>CB</td>\n",
       "      <td>220</td>\n",
       "      <td>1</td>\n",
       "      <td>BC</td>\n",
       "      <td>0</td>\n",
       "      <td>1</td>\n",
       "      <td>1</td>\n",
       "      <td>0</td>\n",
       "      <td>200.0</td>\n",
       "      <td>0</td>\n",
       "      <td>INTERNET</td>\n",
       "      <td>4.217826</td>\n",
       "      <td>macintosh</td>\n",
       "      <td>1</td>\n",
       "      <td>1</td>\n",
       "      <td>0</td>\n",
       "      <td>0</td>\n",
       "    </tr>\n",
       "    <tr>\n",
       "      <th>699998</th>\n",
       "      <td>0.9</td>\n",
       "      <td>0.341045</td>\n",
       "      <td>-1</td>\n",
       "      <td>109</td>\n",
       "      <td>30</td>\n",
       "      <td>0.030424</td>\n",
       "      <td>-1.228380</td>\n",
       "      <td>AB</td>\n",
       "      <td>809</td>\n",
       "      <td>6141.098226</td>\n",
       "      <td>4824.862636</td>\n",
       "      <td>4180.026219</td>\n",
       "      <td>9</td>\n",
       "      <td>8</td>\n",
       "      <td>CA</td>\n",
       "      <td>218</td>\n",
       "      <td>1</td>\n",
       "      <td>BA</td>\n",
       "      <td>0</td>\n",
       "      <td>1</td>\n",
       "      <td>1</td>\n",
       "      <td>1</td>\n",
       "      <td>1500.0</td>\n",
       "      <td>0</td>\n",
       "      <td>INTERNET</td>\n",
       "      <td>0.915473</td>\n",
       "      <td>macintosh</td>\n",
       "      <td>0</td>\n",
       "      <td>1</td>\n",
       "      <td>5</td>\n",
       "      <td>0</td>\n",
       "    </tr>\n",
       "    <tr>\n",
       "      <th>699999</th>\n",
       "      <td>0.4</td>\n",
       "      <td>0.900658</td>\n",
       "      <td>-1</td>\n",
       "      <td>67</td>\n",
       "      <td>50</td>\n",
       "      <td>0.020866</td>\n",
       "      <td>-1.497674</td>\n",
       "      <td>AB</td>\n",
       "      <td>3831</td>\n",
       "      <td>5097.270736</td>\n",
       "      <td>5285.929979</td>\n",
       "      <td>4023.094005</td>\n",
       "      <td>12</td>\n",
       "      <td>10</td>\n",
       "      <td>CA</td>\n",
       "      <td>100</td>\n",
       "      <td>1</td>\n",
       "      <td>BA</td>\n",
       "      <td>1</td>\n",
       "      <td>1</td>\n",
       "      <td>25</td>\n",
       "      <td>0</td>\n",
       "      <td>200.0</td>\n",
       "      <td>0</td>\n",
       "      <td>INTERNET</td>\n",
       "      <td>6.902899</td>\n",
       "      <td>other</td>\n",
       "      <td>0</td>\n",
       "      <td>1</td>\n",
       "      <td>5</td>\n",
       "      <td>0</td>\n",
       "    </tr>\n",
       "  </tbody>\n",
       "</table>\n",
       "<p>700000 rows × 31 columns</p>\n",
       "</div>"
      ],
      "text/plain": [
       "        income  name_email_similarity  prev_address_months_count  \\\n",
       "0          0.9               0.237329                         -1   \n",
       "1          0.9               0.176307                         -1   \n",
       "2          0.1               0.265706                        157   \n",
       "3          0.9               0.089557                         35   \n",
       "4          0.7               0.882855                         -1   \n",
       "...        ...                    ...                        ...   \n",
       "699995     0.7               0.999167                         -1   \n",
       "699996     0.8               0.064547                         -1   \n",
       "699997     0.6               0.413827                         49   \n",
       "699998     0.9               0.341045                         -1   \n",
       "699999     0.4               0.900658                         -1   \n",
       "\n",
       "        current_address_months_count  customer_age  days_since_request  \\\n",
       "0                                 80            40            0.013515   \n",
       "1                                 54            40            0.019225   \n",
       "2                                156            40            0.011588   \n",
       "3                                  5            20            0.025159   \n",
       "4                                117            40            0.003562   \n",
       "...                              ...           ...                 ...   \n",
       "699995                            43            30            0.023268   \n",
       "699996                           135            50            0.009240   \n",
       "699997                             9            30            0.009545   \n",
       "699998                           109            30            0.030424   \n",
       "699999                            67            50            0.020866   \n",
       "\n",
       "        intended_balcon_amount payment_type  zip_count_4w  velocity_6h  \\\n",
       "0                    -1.041418           AC          1589  5840.486860   \n",
       "1                    -0.835103           AC           882  3442.067872   \n",
       "2                    37.078740           AA          1298  1196.731284   \n",
       "3                    37.116540           AA          1337  9563.602945   \n",
       "4                    -0.332094           AC          1333  1954.199605   \n",
       "...                        ...          ...           ...          ...   \n",
       "699995               -1.259374           AB           818  7460.133835   \n",
       "699996              103.081065           AA           839  3732.754501   \n",
       "699997               -1.413444           AD          3525  8000.519630   \n",
       "699998               -1.228380           AB           809  6141.098226   \n",
       "699999               -1.497674           AB          3831  5097.270736   \n",
       "\n",
       "        velocity_24h  velocity_4w  bank_branch_count_8w  \\\n",
       "0        7660.279574  6353.443336                     0   \n",
       "1        4575.631214  5571.455566                     1   \n",
       "2        4008.487554  4212.552556                   728   \n",
       "3        2838.222720  3508.471021                   429   \n",
       "4        2811.816273  4267.415243                     1   \n",
       "...              ...          ...                   ...   \n",
       "699995   5020.933076  5578.160984                    35   \n",
       "699996   3857.194697  5300.048190                   470   \n",
       "699997   6734.795342  6292.454641                    51   \n",
       "699998   4824.862636  4180.026219                     9   \n",
       "699999   5285.929979  4023.094005                    12   \n",
       "\n",
       "        date_of_birth_distinct_emails_4w employment_status  credit_risk_score  \\\n",
       "0                                     12                CA                100   \n",
       "1                                      7                CF                106   \n",
       "2                                      2                CA                137   \n",
       "3                                     11                CA                242   \n",
       "4                                      2                CA                225   \n",
       "...                                  ...               ...                ...   \n",
       "699995                                14                CA                123   \n",
       "699996                                 4                CA                219   \n",
       "699997                                19                CB                220   \n",
       "699998                                 8                CA                218   \n",
       "699999                                10                CA                100   \n",
       "\n",
       "        email_is_free housing_status  phone_home_valid  phone_mobile_valid  \\\n",
       "0                   1             BA                 0                   1   \n",
       "1                   0             BC                 0                   1   \n",
       "2                   0             BE                 1                   1   \n",
       "3                   1             BC                 0                   1   \n",
       "4                   1             BA                 1                   1   \n",
       "...               ...            ...               ...                 ...   \n",
       "699995              1             BC                 1                   1   \n",
       "699996              1             BA                 1                   1   \n",
       "699997              1             BC                 0                   1   \n",
       "699998              1             BA                 0                   1   \n",
       "699999              1             BA                 1                   1   \n",
       "\n",
       "        bank_months_count  has_other_cards  proposed_credit_limit  \\\n",
       "0                      -1                0                 2000.0   \n",
       "1                      -1                0                  200.0   \n",
       "2                      11                1                  500.0   \n",
       "3                      21                0                  200.0   \n",
       "4                      -1                0                 1000.0   \n",
       "...                   ...              ...                    ...   \n",
       "699995                 15                0                 1500.0   \n",
       "699996                 28                0                 1500.0   \n",
       "699997                  1                0                  200.0   \n",
       "699998                  1                1                 1500.0   \n",
       "699999                 25                0                  200.0   \n",
       "\n",
       "        foreign_request    source  session_length_in_minutes  device_os  \\\n",
       "0                     0  INTERNET                   3.436651      other   \n",
       "1                     0  INTERNET                   6.356665      linux   \n",
       "2                     0  INTERNET                  17.815440    windows   \n",
       "3                     0  INTERNET                   4.443607      other   \n",
       "4                     0  INTERNET                   3.170467    windows   \n",
       "...                 ...       ...                        ...        ...   \n",
       "699995                0  INTERNET                   5.411712      linux   \n",
       "699996                0  INTERNET                   1.797181      other   \n",
       "699997                0  INTERNET                   4.217826  macintosh   \n",
       "699998                0  INTERNET                   0.915473  macintosh   \n",
       "699999                0  INTERNET                   6.902899      other   \n",
       "\n",
       "        keep_alive_session  device_distinct_emails_8w  month  fraud_bool  \n",
       "0                        1                          1      0           0  \n",
       "1                        0                          1      2           0  \n",
       "2                        1                          1      6           0  \n",
       "3                        1                          1      2           0  \n",
       "4                        1                          1      5           0  \n",
       "...                    ...                        ...    ...         ...  \n",
       "699995                   1                          1      1           0  \n",
       "699996                   1                          1      1           0  \n",
       "699997                   1                          1      0           0  \n",
       "699998                   0                          1      5           0  \n",
       "699999                   0                          1      5           0  \n",
       "\n",
       "[700000 rows x 31 columns]"
      ]
     },
     "execution_count": 364,
     "metadata": {},
     "output_type": "execute_result"
    }
   ],
   "source": [
    "df_fraud_train = pd.read_csv('../data/interim/df_fraud_train.csv')\n",
    "\n",
    "df_fraud_train"
   ]
  },
  {
   "cell_type": "code",
   "execution_count": 353,
   "id": "6c575ab8-536f-442e-8473-72737df8bda2",
   "metadata": {
    "tags": []
   },
   "outputs": [
    {
     "data": {
      "text/plain": [
       "(700000, 30)"
      ]
     },
     "execution_count": 353,
     "metadata": {},
     "output_type": "execute_result"
    }
   ],
   "source": [
    "df_fraud_train_cut = fr.feature_selection(fr.preprocessing_mix(df_fraud_train).fit_transform(df_fraud_train, df_fraud_train.fraud_bool))\n",
    "df_fraud_train_cut.shape"
   ]
  },
  {
   "cell_type": "code",
   "execution_count": null,
   "id": "2b4a7890-b738-4f8b-b0fd-b5b1817f1b44",
   "metadata": {
    "tags": []
   },
   "outputs": [],
   "source": []
  },
  {
   "cell_type": "code",
   "execution_count": 354,
   "id": "4443cc3e-7729-4402-8432-adde0c554535",
   "metadata": {
    "tags": []
   },
   "outputs": [],
   "source": [
    "df_fraud_train = fr.preprocessing_mix(df_fraud_train).fit_transform(df_fraud_train, df_fraud_train.fraud_bool)"
   ]
  },
  {
   "cell_type": "markdown",
   "id": "0cf6c31c-d49f-4b89-9b69-0dc6cdef12b5",
   "metadata": {},
   "source": [
    "Separo en X e y:"
   ]
  },
  {
   "cell_type": "code",
   "execution_count": 355,
   "id": "d35679f6-6736-4276-b468-e2c7242ade49",
   "metadata": {
    "tags": []
   },
   "outputs": [],
   "source": [
    "X_train_0 = df_fraud_train_cut.drop('fraud_bool', axis=1)\n",
    "y_train_0 = df_fraud_train_cut['fraud_bool']"
   ]
  },
  {
   "cell_type": "markdown",
   "id": "5a667516-9181-4f4f-8529-fdb6df6b7cca",
   "metadata": {},
   "source": [
    "## Separación en train y validation estratificado"
   ]
  },
  {
   "cell_type": "code",
   "execution_count": 356,
   "id": "c4786a54-9e2d-4d17-9be6-3bafdb950244",
   "metadata": {
    "tags": []
   },
   "outputs": [],
   "source": [
    "X_train_1, X_val, y_train_1, y_val = train_test_split(df_fraud_train_cut.drop('fraud_bool',axis=1)\n",
    "                                                  ,df_fraud_train_cut['fraud_bool']\n",
    "                                                  ,stratify=df_fraud_train_cut['fraud_bool']\n",
    "                                                  ,test_size=0.3\n",
    "                                                  ,random_state=seed)\n",
    "\n",
    "X_train_complete, X_val_complete, y_train_complete, y_val_complete = train_test_split(df_fraud_train.drop('fraud_bool',axis=1)\n",
    "                                                                                      ,df_fraud_train['fraud_bool']\n",
    "                                                                                      ,stratify=df_fraud_train['fraud_bool']\n",
    "                                                                                      ,test_size=0.3\n",
    "                                                                                      ,random_state=seed)"
   ]
  },
  {
   "cell_type": "code",
   "execution_count": 137,
   "id": "44b58133-3199-42e8-8a29-7e444327fbfb",
   "metadata": {
    "tags": []
   },
   "outputs": [
    {
     "data": {
      "text/plain": [
       "((490000, 29), (210000, 29), (490000, 30), (210000, 30))"
      ]
     },
     "execution_count": 137,
     "metadata": {},
     "output_type": "execute_result"
    }
   ],
   "source": [
    "X_train_1.shape, X_val.shape, X_train_complete.shape, X_val_complete.shape"
   ]
  },
  {
   "cell_type": "code",
   "execution_count": 138,
   "id": "60f63693-b802-4d84-808d-0cb2f2231f56",
   "metadata": {
    "tags": []
   },
   "outputs": [
    {
     "data": {
      "text/html": [
       "<div>\n",
       "<style scoped>\n",
       "    .dataframe tbody tr th:only-of-type {\n",
       "        vertical-align: middle;\n",
       "    }\n",
       "\n",
       "    .dataframe tbody tr th {\n",
       "        vertical-align: top;\n",
       "    }\n",
       "\n",
       "    .dataframe thead th {\n",
       "        text-align: right;\n",
       "    }\n",
       "</style>\n",
       "<table border=\"1\" class=\"dataframe\">\n",
       "  <thead>\n",
       "    <tr style=\"text-align: right;\">\n",
       "      <th></th>\n",
       "      <th>income</th>\n",
       "      <th>name_email_similarity</th>\n",
       "      <th>prev_address_months_count</th>\n",
       "      <th>current_address_months_count</th>\n",
       "      <th>customer_age</th>\n",
       "      <th>days_since_request</th>\n",
       "      <th>intended_balcon_amount</th>\n",
       "      <th>zip_count_4w</th>\n",
       "      <th>velocity_4w</th>\n",
       "      <th>bank_branch_count_8w</th>\n",
       "      <th>date_of_birth_distinct_emails_4w</th>\n",
       "      <th>credit_risk_score</th>\n",
       "      <th>bank_months_count</th>\n",
       "      <th>proposed_credit_limit</th>\n",
       "      <th>session_length_in_minutes</th>\n",
       "      <th>device_distinct_emails_8w</th>\n",
       "      <th>month</th>\n",
       "      <th>employment_status</th>\n",
       "      <th>housing_status</th>\n",
       "      <th>device_os_linux</th>\n",
       "      <th>device_os_macintosh</th>\n",
       "      <th>device_os_other</th>\n",
       "      <th>device_os_windows</th>\n",
       "      <th>device_os_x11</th>\n",
       "      <th>payment_type</th>\n",
       "      <th>email_is_free</th>\n",
       "      <th>phone_home_valid</th>\n",
       "      <th>has_other_cards</th>\n",
       "      <th>keep_alive_session</th>\n",
       "    </tr>\n",
       "  </thead>\n",
       "  <tbody>\n",
       "    <tr>\n",
       "      <th>599230</th>\n",
       "      <td>0.817562</td>\n",
       "      <td>-0.341912</td>\n",
       "      <td>0.143019</td>\n",
       "      <td>-0.967741</td>\n",
       "      <td>-0.305959</td>\n",
       "      <td>1.447015</td>\n",
       "      <td>2.024380</td>\n",
       "      <td>-1.181284</td>\n",
       "      <td>0.197357</td>\n",
       "      <td>-0.401099</td>\n",
       "      <td>-0.101053</td>\n",
       "      <td>0.072083</td>\n",
       "      <td>0.343029</td>\n",
       "      <td>-0.647840</td>\n",
       "      <td>-0.321803</td>\n",
       "      <td>-0.101291</td>\n",
       "      <td>0.321790</td>\n",
       "      <td>0.0</td>\n",
       "      <td>2.0</td>\n",
       "      <td>1.0</td>\n",
       "      <td>0.0</td>\n",
       "      <td>0.0</td>\n",
       "      <td>0.0</td>\n",
       "      <td>0.0</td>\n",
       "      <td>0.005190</td>\n",
       "      <td>1</td>\n",
       "      <td>0</td>\n",
       "      <td>0</td>\n",
       "      <td>1</td>\n",
       "    </tr>\n",
       "    <tr>\n",
       "      <th>499762</th>\n",
       "      <td>-0.215980</td>\n",
       "      <td>0.122728</td>\n",
       "      <td>-0.401845</td>\n",
       "      <td>0.208555</td>\n",
       "      <td>0.525351</td>\n",
       "      <td>-0.186140</td>\n",
       "      <td>-0.489139</td>\n",
       "      <td>-0.465474</td>\n",
       "      <td>-0.502602</td>\n",
       "      <td>-0.398925</td>\n",
       "      <td>-0.895989</td>\n",
       "      <td>0.804141</td>\n",
       "      <td>-0.812265</td>\n",
       "      <td>0.992135</td>\n",
       "      <td>-0.423232</td>\n",
       "      <td>-0.101291</td>\n",
       "      <td>1.226563</td>\n",
       "      <td>5.0</td>\n",
       "      <td>1.0</td>\n",
       "      <td>1.0</td>\n",
       "      <td>0.0</td>\n",
       "      <td>0.0</td>\n",
       "      <td>0.0</td>\n",
       "      <td>0.0</td>\n",
       "      <td>0.011236</td>\n",
       "      <td>1</td>\n",
       "      <td>1</td>\n",
       "      <td>0</td>\n",
       "      <td>0</td>\n",
       "    </tr>\n",
       "    <tr>\n",
       "      <th>345290</th>\n",
       "      <td>0.817562</td>\n",
       "      <td>0.094871</td>\n",
       "      <td>-0.401845</td>\n",
       "      <td>1.712858</td>\n",
       "      <td>0.525351</td>\n",
       "      <td>-0.185020</td>\n",
       "      <td>-0.514848</td>\n",
       "      <td>-0.441614</td>\n",
       "      <td>-1.064146</td>\n",
       "      <td>-0.401099</td>\n",
       "      <td>-1.293456</td>\n",
       "      <td>1.234764</td>\n",
       "      <td>0.343029</td>\n",
       "      <td>-0.647840</td>\n",
       "      <td>0.021948</td>\n",
       "      <td>-0.101291</td>\n",
       "      <td>1.226563</td>\n",
       "      <td>0.0</td>\n",
       "      <td>1.0</td>\n",
       "      <td>0.0</td>\n",
       "      <td>0.0</td>\n",
       "      <td>1.0</td>\n",
       "      <td>0.0</td>\n",
       "      <td>0.0</td>\n",
       "      <td>0.005211</td>\n",
       "      <td>0</td>\n",
       "      <td>1</td>\n",
       "      <td>0</td>\n",
       "      <td>1</td>\n",
       "    </tr>\n",
       "    <tr>\n",
       "      <th>571303</th>\n",
       "      <td>-0.560495</td>\n",
       "      <td>0.883171</td>\n",
       "      <td>-0.401845</td>\n",
       "      <td>1.712858</td>\n",
       "      <td>1.356662</td>\n",
       "      <td>-0.188056</td>\n",
       "      <td>-0.491821</td>\n",
       "      <td>1.545753</td>\n",
       "      <td>1.693476</td>\n",
       "      <td>-0.368493</td>\n",
       "      <td>-0.299787</td>\n",
       "      <td>1.292180</td>\n",
       "      <td>-0.812265</td>\n",
       "      <td>2.017120</td>\n",
       "      <td>0.948243</td>\n",
       "      <td>-0.101291</td>\n",
       "      <td>-1.487757</td>\n",
       "      <td>0.0</td>\n",
       "      <td>1.0</td>\n",
       "      <td>0.0</td>\n",
       "      <td>0.0</td>\n",
       "      <td>0.0</td>\n",
       "      <td>1.0</td>\n",
       "      <td>0.0</td>\n",
       "      <td>0.011105</td>\n",
       "      <td>0</td>\n",
       "      <td>0</td>\n",
       "      <td>0</td>\n",
       "      <td>1</td>\n",
       "    </tr>\n",
       "    <tr>\n",
       "      <th>379531</th>\n",
       "      <td>0.817562</td>\n",
       "      <td>0.147328</td>\n",
       "      <td>-0.401845</td>\n",
       "      <td>-0.368282</td>\n",
       "      <td>-1.137270</td>\n",
       "      <td>-0.189134</td>\n",
       "      <td>-0.492481</td>\n",
       "      <td>-0.058854</td>\n",
       "      <td>0.474007</td>\n",
       "      <td>-0.398925</td>\n",
       "      <td>2.681222</td>\n",
       "      <td>-1.004473</td>\n",
       "      <td>-0.977307</td>\n",
       "      <td>-0.647840</td>\n",
       "      <td>-0.725261</td>\n",
       "      <td>-0.101291</td>\n",
       "      <td>-1.035370</td>\n",
       "      <td>4.0</td>\n",
       "      <td>2.0</td>\n",
       "      <td>0.0</td>\n",
       "      <td>0.0</td>\n",
       "      <td>1.0</td>\n",
       "      <td>0.0</td>\n",
       "      <td>0.0</td>\n",
       "      <td>0.016497</td>\n",
       "      <td>0</td>\n",
       "      <td>0</td>\n",
       "      <td>0</td>\n",
       "      <td>1</td>\n",
       "    </tr>\n",
       "  </tbody>\n",
       "</table>\n",
       "</div>"
      ],
      "text/plain": [
       "          income  name_email_similarity  prev_address_months_count  \\\n",
       "599230  0.817562              -0.341912                   0.143019   \n",
       "499762 -0.215980               0.122728                  -0.401845   \n",
       "345290  0.817562               0.094871                  -0.401845   \n",
       "571303 -0.560495               0.883171                  -0.401845   \n",
       "379531  0.817562               0.147328                  -0.401845   \n",
       "\n",
       "        current_address_months_count  customer_age  days_since_request  \\\n",
       "599230                     -0.967741     -0.305959            1.447015   \n",
       "499762                      0.208555      0.525351           -0.186140   \n",
       "345290                      1.712858      0.525351           -0.185020   \n",
       "571303                      1.712858      1.356662           -0.188056   \n",
       "379531                     -0.368282     -1.137270           -0.189134   \n",
       "\n",
       "        intended_balcon_amount  zip_count_4w  velocity_4w  \\\n",
       "599230                2.024380     -1.181284     0.197357   \n",
       "499762               -0.489139     -0.465474    -0.502602   \n",
       "345290               -0.514848     -0.441614    -1.064146   \n",
       "571303               -0.491821      1.545753     1.693476   \n",
       "379531               -0.492481     -0.058854     0.474007   \n",
       "\n",
       "        bank_branch_count_8w  date_of_birth_distinct_emails_4w  \\\n",
       "599230             -0.401099                         -0.101053   \n",
       "499762             -0.398925                         -0.895989   \n",
       "345290             -0.401099                         -1.293456   \n",
       "571303             -0.368493                         -0.299787   \n",
       "379531             -0.398925                          2.681222   \n",
       "\n",
       "        credit_risk_score  bank_months_count  proposed_credit_limit  \\\n",
       "599230           0.072083           0.343029              -0.647840   \n",
       "499762           0.804141          -0.812265               0.992135   \n",
       "345290           1.234764           0.343029              -0.647840   \n",
       "571303           1.292180          -0.812265               2.017120   \n",
       "379531          -1.004473          -0.977307              -0.647840   \n",
       "\n",
       "        session_length_in_minutes  device_distinct_emails_8w     month  \\\n",
       "599230                  -0.321803                  -0.101291  0.321790   \n",
       "499762                  -0.423232                  -0.101291  1.226563   \n",
       "345290                   0.021948                  -0.101291  1.226563   \n",
       "571303                   0.948243                  -0.101291 -1.487757   \n",
       "379531                  -0.725261                  -0.101291 -1.035370   \n",
       "\n",
       "        employment_status  housing_status  device_os_linux  \\\n",
       "599230                0.0             2.0              1.0   \n",
       "499762                5.0             1.0              1.0   \n",
       "345290                0.0             1.0              0.0   \n",
       "571303                0.0             1.0              0.0   \n",
       "379531                4.0             2.0              0.0   \n",
       "\n",
       "        device_os_macintosh  device_os_other  device_os_windows  \\\n",
       "599230                  0.0              0.0                0.0   \n",
       "499762                  0.0              0.0                0.0   \n",
       "345290                  0.0              1.0                0.0   \n",
       "571303                  0.0              0.0                1.0   \n",
       "379531                  0.0              1.0                0.0   \n",
       "\n",
       "        device_os_x11  payment_type  email_is_free  phone_home_valid  \\\n",
       "599230            0.0      0.005190              1                 0   \n",
       "499762            0.0      0.011236              1                 1   \n",
       "345290            0.0      0.005211              0                 1   \n",
       "571303            0.0      0.011105              0                 0   \n",
       "379531            0.0      0.016497              0                 0   \n",
       "\n",
       "        has_other_cards  keep_alive_session  \n",
       "599230                0                   1  \n",
       "499762                0                   0  \n",
       "345290                0                   1  \n",
       "571303                0                   1  \n",
       "379531                0                   1  "
      ]
     },
     "execution_count": 138,
     "metadata": {},
     "output_type": "execute_result"
    }
   ],
   "source": [
    "X_train_1.head()"
   ]
  },
  {
   "cell_type": "markdown",
   "id": "01b35fc9-aed9-4746-b519-b34674cb35ae",
   "metadata": {},
   "source": [
    "### Realizo el escalado para utilizar al aplicar el modelo de Regresión Logística"
   ]
  },
  {
   "cell_type": "code",
   "execution_count": 313,
   "id": "f5dabb89-ab38-4241-bf30-0c73535c1bd9",
   "metadata": {
    "tags": []
   },
   "outputs": [
    {
     "data": {
      "text/html": [
       "<div>\n",
       "<style scoped>\n",
       "    .dataframe tbody tr th:only-of-type {\n",
       "        vertical-align: middle;\n",
       "    }\n",
       "\n",
       "    .dataframe tbody tr th {\n",
       "        vertical-align: top;\n",
       "    }\n",
       "\n",
       "    .dataframe thead th {\n",
       "        text-align: right;\n",
       "    }\n",
       "</style>\n",
       "<table border=\"1\" class=\"dataframe\">\n",
       "  <thead>\n",
       "    <tr style=\"text-align: right;\">\n",
       "      <th></th>\n",
       "      <th>income</th>\n",
       "      <th>name_email_similarity</th>\n",
       "      <th>prev_address_months_count</th>\n",
       "      <th>current_address_months_count</th>\n",
       "      <th>customer_age</th>\n",
       "      <th>days_since_request</th>\n",
       "      <th>intended_balcon_amount</th>\n",
       "      <th>zip_count_4w</th>\n",
       "      <th>velocity_4w</th>\n",
       "      <th>bank_branch_count_8w</th>\n",
       "      <th>date_of_birth_distinct_emails_4w</th>\n",
       "      <th>credit_risk_score</th>\n",
       "      <th>bank_months_count</th>\n",
       "      <th>proposed_credit_limit</th>\n",
       "      <th>session_length_in_minutes</th>\n",
       "      <th>device_distinct_emails_8w</th>\n",
       "      <th>month</th>\n",
       "      <th>employment_status</th>\n",
       "      <th>housing_status</th>\n",
       "      <th>device_os_linux</th>\n",
       "      <th>device_os_macintosh</th>\n",
       "      <th>device_os_other</th>\n",
       "      <th>device_os_windows</th>\n",
       "      <th>device_os_x11</th>\n",
       "      <th>payment_type</th>\n",
       "      <th>email_is_free</th>\n",
       "      <th>phone_home_valid</th>\n",
       "      <th>has_other_cards</th>\n",
       "      <th>keep_alive_session</th>\n",
       "    </tr>\n",
       "  </thead>\n",
       "  <tbody>\n",
       "    <tr>\n",
       "      <th>599230</th>\n",
       "      <td>0.818054</td>\n",
       "      <td>-0.343280</td>\n",
       "      <td>0.143115</td>\n",
       "      <td>-0.967765</td>\n",
       "      <td>-0.305901</td>\n",
       "      <td>1.447000</td>\n",
       "      <td>2.020976</td>\n",
       "      <td>-1.180281</td>\n",
       "      <td>0.196153</td>\n",
       "      <td>-0.401179</td>\n",
       "      <td>-0.101360</td>\n",
       "      <td>0.071745</td>\n",
       "      <td>0.343223</td>\n",
       "      <td>-0.648162</td>\n",
       "      <td>-0.322339</td>\n",
       "      <td>-0.102353</td>\n",
       "      <td>0.322146</td>\n",
       "      <td>-0.472918</td>\n",
       "      <td>0.179838</td>\n",
       "      <td>1.415899</td>\n",
       "      <td>-0.238188</td>\n",
       "      <td>-0.722341</td>\n",
       "      <td>-0.597981</td>\n",
       "      <td>-0.085391</td>\n",
       "      <td>-1.426951</td>\n",
       "      <td>0.941083</td>\n",
       "      <td>-0.846181</td>\n",
       "      <td>-0.535643</td>\n",
       "      <td>0.855731</td>\n",
       "    </tr>\n",
       "    <tr>\n",
       "      <th>499762</th>\n",
       "      <td>-0.215517</td>\n",
       "      <td>0.121335</td>\n",
       "      <td>-0.401420</td>\n",
       "      <td>0.209070</td>\n",
       "      <td>0.525633</td>\n",
       "      <td>-0.186334</td>\n",
       "      <td>-0.489476</td>\n",
       "      <td>-0.465409</td>\n",
       "      <td>-0.503448</td>\n",
       "      <td>-0.399003</td>\n",
       "      <td>-0.896458</td>\n",
       "      <td>0.803466</td>\n",
       "      <td>-0.812526</td>\n",
       "      <td>0.991825</td>\n",
       "      <td>-0.423522</td>\n",
       "      <td>-0.102353</td>\n",
       "      <td>1.226557</td>\n",
       "      <td>3.441977</td>\n",
       "      <td>-0.608383</td>\n",
       "      <td>1.415899</td>\n",
       "      <td>-0.238188</td>\n",
       "      <td>-0.722341</td>\n",
       "      <td>-0.597981</td>\n",
       "      <td>-0.085391</td>\n",
       "      <td>0.083079</td>\n",
       "      <td>0.941083</td>\n",
       "      <td>1.181780</td>\n",
       "      <td>-0.535643</td>\n",
       "      <td>-1.168592</td>\n",
       "    </tr>\n",
       "    <tr>\n",
       "      <th>345290</th>\n",
       "      <td>0.818054</td>\n",
       "      <td>0.093479</td>\n",
       "      <td>-0.401420</td>\n",
       "      <td>1.714061</td>\n",
       "      <td>0.525633</td>\n",
       "      <td>-0.185214</td>\n",
       "      <td>-0.515154</td>\n",
       "      <td>-0.441580</td>\n",
       "      <td>-1.064705</td>\n",
       "      <td>-0.401179</td>\n",
       "      <td>-1.294007</td>\n",
       "      <td>1.233890</td>\n",
       "      <td>0.343223</td>\n",
       "      <td>-0.648162</td>\n",
       "      <td>0.020578</td>\n",
       "      <td>-0.102353</td>\n",
       "      <td>1.226557</td>\n",
       "      <td>-0.472918</td>\n",
       "      <td>-0.608383</td>\n",
       "      <td>-0.706265</td>\n",
       "      <td>-0.238188</td>\n",
       "      <td>1.384387</td>\n",
       "      <td>-0.597981</td>\n",
       "      <td>-0.085391</td>\n",
       "      <td>-1.415680</td>\n",
       "      <td>-1.062605</td>\n",
       "      <td>1.181780</td>\n",
       "      <td>-0.535643</td>\n",
       "      <td>0.855731</td>\n",
       "    </tr>\n",
       "    <tr>\n",
       "      <th>571303</th>\n",
       "      <td>-0.560041</td>\n",
       "      <td>0.881738</td>\n",
       "      <td>-0.401420</td>\n",
       "      <td>1.714061</td>\n",
       "      <td>1.357168</td>\n",
       "      <td>-0.188250</td>\n",
       "      <td>-0.492155</td>\n",
       "      <td>1.543181</td>\n",
       "      <td>1.691507</td>\n",
       "      <td>-0.368540</td>\n",
       "      <td>-0.300134</td>\n",
       "      <td>1.291279</td>\n",
       "      <td>-0.812526</td>\n",
       "      <td>2.016816</td>\n",
       "      <td>0.944626</td>\n",
       "      <td>-0.102353</td>\n",
       "      <td>-1.486677</td>\n",
       "      <td>-0.472918</td>\n",
       "      <td>-0.608383</td>\n",
       "      <td>-0.706265</td>\n",
       "      <td>-0.238188</td>\n",
       "      <td>-0.722341</td>\n",
       "      <td>1.672294</td>\n",
       "      <td>-0.085391</td>\n",
       "      <td>-0.033511</td>\n",
       "      <td>-1.062605</td>\n",
       "      <td>-0.846181</td>\n",
       "      <td>-0.535643</td>\n",
       "      <td>0.855731</td>\n",
       "    </tr>\n",
       "    <tr>\n",
       "      <th>379531</th>\n",
       "      <td>0.818054</td>\n",
       "      <td>0.145933</td>\n",
       "      <td>-0.401420</td>\n",
       "      <td>-0.368032</td>\n",
       "      <td>-1.137436</td>\n",
       "      <td>-0.189328</td>\n",
       "      <td>-0.492814</td>\n",
       "      <td>-0.059322</td>\n",
       "      <td>0.472662</td>\n",
       "      <td>-0.399003</td>\n",
       "      <td>2.681483</td>\n",
       "      <td>-1.004315</td>\n",
       "      <td>-0.977633</td>\n",
       "      <td>-0.648162</td>\n",
       "      <td>-0.724818</td>\n",
       "      <td>-0.102353</td>\n",
       "      <td>-1.034471</td>\n",
       "      <td>2.658998</td>\n",
       "      <td>0.179838</td>\n",
       "      <td>-0.706265</td>\n",
       "      <td>-0.238188</td>\n",
       "      <td>1.384387</td>\n",
       "      <td>-0.597981</td>\n",
       "      <td>-0.085391</td>\n",
       "      <td>1.350299</td>\n",
       "      <td>-1.062605</td>\n",
       "      <td>-0.846181</td>\n",
       "      <td>-0.535643</td>\n",
       "      <td>0.855731</td>\n",
       "    </tr>\n",
       "  </tbody>\n",
       "</table>\n",
       "</div>"
      ],
      "text/plain": [
       "          income  name_email_similarity  prev_address_months_count  \\\n",
       "599230  0.818054              -0.343280                   0.143115   \n",
       "499762 -0.215517               0.121335                  -0.401420   \n",
       "345290  0.818054               0.093479                  -0.401420   \n",
       "571303 -0.560041               0.881738                  -0.401420   \n",
       "379531  0.818054               0.145933                  -0.401420   \n",
       "\n",
       "        current_address_months_count  customer_age  days_since_request  \\\n",
       "599230                     -0.967765     -0.305901            1.447000   \n",
       "499762                      0.209070      0.525633           -0.186334   \n",
       "345290                      1.714061      0.525633           -0.185214   \n",
       "571303                      1.714061      1.357168           -0.188250   \n",
       "379531                     -0.368032     -1.137436           -0.189328   \n",
       "\n",
       "        intended_balcon_amount  zip_count_4w  velocity_4w  \\\n",
       "599230                2.020976     -1.180281     0.196153   \n",
       "499762               -0.489476     -0.465409    -0.503448   \n",
       "345290               -0.515154     -0.441580    -1.064705   \n",
       "571303               -0.492155      1.543181     1.691507   \n",
       "379531               -0.492814     -0.059322     0.472662   \n",
       "\n",
       "        bank_branch_count_8w  date_of_birth_distinct_emails_4w  \\\n",
       "599230             -0.401179                         -0.101360   \n",
       "499762             -0.399003                         -0.896458   \n",
       "345290             -0.401179                         -1.294007   \n",
       "571303             -0.368540                         -0.300134   \n",
       "379531             -0.399003                          2.681483   \n",
       "\n",
       "        credit_risk_score  bank_months_count  proposed_credit_limit  \\\n",
       "599230           0.071745           0.343223              -0.648162   \n",
       "499762           0.803466          -0.812526               0.991825   \n",
       "345290           1.233890           0.343223              -0.648162   \n",
       "571303           1.291279          -0.812526               2.016816   \n",
       "379531          -1.004315          -0.977633              -0.648162   \n",
       "\n",
       "        session_length_in_minutes  device_distinct_emails_8w     month  \\\n",
       "599230                  -0.322339                  -0.102353  0.322146   \n",
       "499762                  -0.423522                  -0.102353  1.226557   \n",
       "345290                   0.020578                  -0.102353  1.226557   \n",
       "571303                   0.944626                  -0.102353 -1.486677   \n",
       "379531                  -0.724818                  -0.102353 -1.034471   \n",
       "\n",
       "        employment_status  housing_status  device_os_linux  \\\n",
       "599230          -0.472918        0.179838         1.415899   \n",
       "499762           3.441977       -0.608383         1.415899   \n",
       "345290          -0.472918       -0.608383        -0.706265   \n",
       "571303          -0.472918       -0.608383        -0.706265   \n",
       "379531           2.658998        0.179838        -0.706265   \n",
       "\n",
       "        device_os_macintosh  device_os_other  device_os_windows  \\\n",
       "599230            -0.238188        -0.722341          -0.597981   \n",
       "499762            -0.238188        -0.722341          -0.597981   \n",
       "345290            -0.238188         1.384387          -0.597981   \n",
       "571303            -0.238188        -0.722341           1.672294   \n",
       "379531            -0.238188         1.384387          -0.597981   \n",
       "\n",
       "        device_os_x11  payment_type  email_is_free  phone_home_valid  \\\n",
       "599230      -0.085391     -1.426951       0.941083         -0.846181   \n",
       "499762      -0.085391      0.083079       0.941083          1.181780   \n",
       "345290      -0.085391     -1.415680      -1.062605          1.181780   \n",
       "571303      -0.085391     -0.033511      -1.062605         -0.846181   \n",
       "379531      -0.085391      1.350299      -1.062605         -0.846181   \n",
       "\n",
       "        has_other_cards  keep_alive_session  \n",
       "599230        -0.535643            0.855731  \n",
       "499762        -0.535643           -1.168592  \n",
       "345290        -0.535643            0.855731  \n",
       "571303        -0.535643            0.855731  \n",
       "379531        -0.535643            0.855731  "
      ]
     },
     "execution_count": 313,
     "metadata": {},
     "output_type": "execute_result"
    }
   ],
   "source": [
    "scaler = StandardScaler()\n",
    "model_scaled = scaler.fit(X_train_1)\n",
    "X_train_scaled = pd.DataFrame(scaler.transform(X_train_1), columns=X_train_1.columns, index=X_train_1.index)\n",
    "X_val_scaled = pd.DataFrame(scaler.transform(X_val), columns=X_val.columns, index=X_val.index)\n",
    "\n",
    "X_train_scaled.head() # muestro uno de ejemplo"
   ]
  },
  {
   "cell_type": "markdown",
   "id": "ddebe22d-6d14-4631-a8d6-fba486d16a08",
   "metadata": {},
   "source": [
    "***\n",
    "# Unsersampling y Oversampling\n",
    "\n",
    "Investigando en internet me he topado con una técnica que me parece interesante, que es una combinación proporcional de undersampling y oversampling. He decidido probarlo mediante la aplicación de un Pipeline en donde se aplican secuencialmente las técnicas.\n",
    "\n",
    "Me parece una aplicación interesante para casos como el de este dataset en donde los datos están extremadamente desbalanceados, al punto de que un undersampling aplicado directamente eliminaría una cantidad demasiado alta de información, mientras que un oversampling podría generar un sesgo por la cantidad enorme de datos sintéticos a generar. Es por eso que un acercamiento entre ambos parece una solución curiosa desde el punto de vista de la prueba, aunque he de decir que también tengo cierto escepticismo con respecto a la técnica, debido a que puede significar tocar demasiado el dataset. En un proyecto real sería más conservador probablemente y optaría por una de las dos metodologías puras.\n",
    "\n",
    "Existen dentro de Imbalanced-Learning de SKL dos funciones con una combinación interna de oversampling y undersampling, pero al probarlas no parecen estar optimizadas y el costo computacional que me requieren es demasiado alto, por eso generaré y aplicaré mi propio Pipeline manualmente.\n",
    "\n",
    "Entonces, para lidiar con el desbalanceo terminaré aplicando:\n",
    "\n",
    "1. Split estatificado (SE) --> (realizado en Notebook 02) --> Todos los demás pasos tienen este por detrás.\n",
    "2. RandomUnderSampling\n",
    "3. SMOTE OverSampling\n",
    "4. Pipeline con sampling mix --> (SMOTE OverSampling + Random UnderSampling)\n"
   ]
  },
  {
   "cell_type": "code",
   "execution_count": 140,
   "id": "d8a93cfa-5293-4c40-8e91-9d9f107600bc",
   "metadata": {
    "tags": []
   },
   "outputs": [
    {
     "data": {
      "text/plain": [
       "((490000, 29),\n",
       " fraud_bool\n",
       " 0    484596\n",
       " 1      5404\n",
       " Name: count, dtype: int64,\n",
       " fraud_bool\n",
       " 0    0.988971\n",
       " 1    0.011029\n",
       " Name: proportion, dtype: float64)"
      ]
     },
     "execution_count": 140,
     "metadata": {},
     "output_type": "execute_result"
    }
   ],
   "source": [
    "# El tamaño y distribución actual del DataSet de train son los siguientes:\n",
    "X_train_1.shape,y_train_1.value_counts(),y_train_1.value_counts(normalize=True)"
   ]
  },
  {
   "cell_type": "markdown",
   "id": "4558d820-39bf-478a-8e54-6f0a81f93ec8",
   "metadata": {},
   "source": [
    "#### 1. Random Undersampling\n",
    "\n",
    "Para elegir la estrategia de muestreo óptima y el tipo de undersampling (Random por sobre TomekLink o NearMiss) estuve realizando algunas pruebas que pueden verificarse en el notebook de la carpeta Experiments. Básicamente he elegido el balanceo que mejores resultados daba manteniendo equilibrio entre f1 y f2."
   ]
  },
  {
   "cell_type": "code",
   "execution_count": 357,
   "id": "bd206417-b76d-4d45-8d43-a3d8bb07dfd6",
   "metadata": {
    "tags": []
   },
   "outputs": [],
   "source": [
    "undersamp = RandomUnderSampler(sampling_strategy=0.08, random_state=seed)\n",
    "X_train_under, y_train_under = undersamp.fit_resample(X_train_1, y_train_1)"
   ]
  },
  {
   "cell_type": "code",
   "execution_count": 142,
   "id": "4f6728dd-8a52-41f4-8674-4a9da6884549",
   "metadata": {
    "tags": []
   },
   "outputs": [
    {
     "data": {
      "text/plain": [
       "((72954, 29),\n",
       " fraud_bool\n",
       " 0    67550\n",
       " 1     5404\n",
       " Name: count, dtype: int64,\n",
       " fraud_bool\n",
       " 0    0.925926\n",
       " 1    0.074074\n",
       " Name: proportion, dtype: float64)"
      ]
     },
     "execution_count": 142,
     "metadata": {},
     "output_type": "execute_result"
    }
   ],
   "source": [
    "X_train_under.shape,y_train_under.value_counts(),y_train_under.value_counts(normalize=True)"
   ]
  },
  {
   "cell_type": "code",
   "execution_count": 143,
   "id": "7662016b-49dd-4b87-9b68-8d315a0c561f",
   "metadata": {
    "tags": []
   },
   "outputs": [
    {
     "data": {
      "text/plain": [
       "0.8511142857142857"
      ]
     },
     "execution_count": 143,
     "metadata": {},
     "output_type": "execute_result"
    }
   ],
   "source": [
    "1 - X_train_under.shape[0] / X_train_1.shape[0]"
   ]
  },
  {
   "cell_type": "markdown",
   "id": "8c6053bc-0d45-4832-a16b-fc7172705a38",
   "metadata": {},
   "source": [
    "Logramos el cometido, el dataset está balanceado, pero solo nos quedamos con casi 73k datos, es decir que perdimos el 85% de nuestro dataset, \n",
    "dato que es al menos recalcable. Habrá que ver como funcionan los modelos con una reducción tan grande del dataset."
   ]
  },
  {
   "cell_type": "markdown",
   "id": "45a0a8ca-b119-4639-8de3-dc624e4e5b8c",
   "metadata": {},
   "source": [
    "#### 2. SMOTE OverSampling"
   ]
  },
  {
   "cell_type": "code",
   "execution_count": 358,
   "id": "c24333fc-0302-4a6c-b7d3-6efda57c89e2",
   "metadata": {
    "tags": []
   },
   "outputs": [],
   "source": [
    "oversamp = SMOTE(sampling_strategy=0.25, random_state=seed)\n",
    "X_train_over, y_train_over = oversamp.fit_resample(X_train_1, y_train_1)"
   ]
  },
  {
   "cell_type": "code",
   "execution_count": 56,
   "id": "214cb8ed-bd51-481b-b4a3-21acb5f1382c",
   "metadata": {
    "tags": []
   },
   "outputs": [
    {
     "data": {
      "text/plain": [
       "((605745, 25),\n",
       " fraud_bool\n",
       " 0    484596\n",
       " 1    121149\n",
       " Name: count, dtype: int64,\n",
       " fraud_bool\n",
       " 0    0.8\n",
       " 1    0.2\n",
       " Name: proportion, dtype: float64)"
      ]
     },
     "execution_count": 56,
     "metadata": {},
     "output_type": "execute_result"
    }
   ],
   "source": [
    "X_train_over.shape,y_train_over.value_counts(),y_train_over.value_counts(normalize=True)"
   ]
  },
  {
   "cell_type": "code",
   "execution_count": 57,
   "id": "1d33051e-df02-4d8e-838f-2aaef3e059e5",
   "metadata": {
    "tags": []
   },
   "outputs": [
    {
     "data": {
      "text/plain": [
       "115745"
      ]
     },
     "execution_count": 57,
     "metadata": {},
     "output_type": "execute_result"
    }
   ],
   "source": [
    "y_train_over.value_counts()[1] - y_train_1.value_counts()[1]"
   ]
  },
  {
   "cell_type": "code",
   "execution_count": 58,
   "id": "bb7d3f9e-7047-4125-90a8-5ea272bc984c",
   "metadata": {
    "tags": []
   },
   "outputs": [
    {
     "data": {
      "text/plain": [
       "0.2362142857142857"
      ]
     },
     "execution_count": 58,
     "metadata": {},
     "output_type": "execute_result"
    }
   ],
   "source": [
    "(y_train_over.value_counts()[1] - y_train_1.value_counts()[1]) / y_train_1.size"
   ]
  },
  {
   "cell_type": "markdown",
   "id": "d410f90b-1342-4975-8938-c0fcc7b1636d",
   "metadata": {},
   "source": [
    "Con este método generamos 115k nuevos registros, es decir que agrandamos nuestro dataset de manera sintética casi un 24%, lo cual parece bastante,\n",
    "pero habrá que comprobarlo con los resultados del modelo."
   ]
  },
  {
   "cell_type": "markdown",
   "id": "c856ab3f-30c4-4773-85e9-cf80d686205d",
   "metadata": {},
   "source": [
    "#### 3. Mix con Pipeline (SMOTE OverSampling + UnderSampling):"
   ]
  },
  {
   "cell_type": "code",
   "execution_count": 359,
   "id": "49778472-e63e-448d-9210-b72c011dfc08",
   "metadata": {
    "tags": []
   },
   "outputs": [],
   "source": [
    "over = SMOTE(sampling_strategy=0.2, random_state=seed)\n",
    "under = RandomUnderSampler(sampling_strategy=0.25, random_state=seed) # Voy a buscar una proporción de aprox 60%-40%\n",
    "steps = [('o', over), ('u', under)]\n",
    "pipeline = Pipeline(steps=steps)\n",
    "\n",
    "X_train_mix, y_train_mix = pipeline.fit_resample(X_train_1, y_train_1)"
   ]
  },
  {
   "cell_type": "code",
   "execution_count": 60,
   "id": "cc92b167-6f19-479b-a46d-f4649bbd359a",
   "metadata": {
    "tags": []
   },
   "outputs": [
    {
     "data": {
      "text/plain": [
       "((484595, 25),\n",
       " fraud_bool\n",
       " 0    387676\n",
       " 1     96919\n",
       " Name: count, dtype: int64,\n",
       " fraud_bool\n",
       " 0    0.8\n",
       " 1    0.2\n",
       " Name: proportion, dtype: float64)"
      ]
     },
     "execution_count": 60,
     "metadata": {},
     "output_type": "execute_result"
    }
   ],
   "source": [
    "X_train_mix.shape,y_train_mix.value_counts(),y_train_mix.value_counts(normalize=True)"
   ]
  },
  {
   "cell_type": "markdown",
   "id": "b6e977f4-81e0-4bf8-8234-750dc20a3467",
   "metadata": {
    "tags": []
   },
   "source": [
    "Vemos que de esta manera reducimos a poco más de la mitad los datos originales de train y la cantidad de datos a generar sintéticamente\n",
    "\n",
    "El tamaño del dataset no es minúsculo ni se expandió de manera tan abrupta, sino que casi que se mantuvo en su tamaño gracias al mix aplicado.\n",
    "\n",
    "Por supuesto que nunca vamos a llegar a una solución perfecta, a priori parece razonale, aunque sin haberla medido. La hora de la verdad llegará cuando comencemos a probar los modelos, a pesar de que da un poco de desconfianza modificar tanto los datos."
   ]
  },
  {
   "cell_type": "code",
   "execution_count": 22,
   "id": "00381f3a-9341-45a7-a54b-706423323ba3",
   "metadata": {
    "tags": []
   },
   "outputs": [
    {
     "data": {
      "text/html": [
       "<div>\n",
       "<style scoped>\n",
       "    .dataframe tbody tr th:only-of-type {\n",
       "        vertical-align: middle;\n",
       "    }\n",
       "\n",
       "    .dataframe tbody tr th {\n",
       "        vertical-align: top;\n",
       "    }\n",
       "\n",
       "    .dataframe thead th {\n",
       "        text-align: right;\n",
       "    }\n",
       "</style>\n",
       "<table border=\"1\" class=\"dataframe\">\n",
       "  <thead>\n",
       "    <tr style=\"text-align: right;\">\n",
       "      <th></th>\n",
       "      <th>income</th>\n",
       "      <th>name_email_similarity</th>\n",
       "      <th>prev_address_months_count</th>\n",
       "      <th>current_address_months_count</th>\n",
       "      <th>customer_age</th>\n",
       "      <th>days_since_request</th>\n",
       "      <th>intended_balcon_amount</th>\n",
       "      <th>zip_count_4w</th>\n",
       "      <th>velocity_4w</th>\n",
       "      <th>bank_branch_count_8w</th>\n",
       "      <th>date_of_birth_distinct_emails_4w</th>\n",
       "      <th>credit_risk_score</th>\n",
       "      <th>bank_months_count</th>\n",
       "      <th>proposed_credit_limit</th>\n",
       "      <th>session_length_in_minutes</th>\n",
       "      <th>device_distinct_emails_8w</th>\n",
       "      <th>month</th>\n",
       "      <th>payment_type</th>\n",
       "      <th>employment_status</th>\n",
       "      <th>housing_status</th>\n",
       "      <th>device_os</th>\n",
       "      <th>email_is_free</th>\n",
       "      <th>phone_home_valid</th>\n",
       "      <th>has_other_cards</th>\n",
       "      <th>keep_alive_session</th>\n",
       "    </tr>\n",
       "  </thead>\n",
       "  <tbody>\n",
       "    <tr>\n",
       "      <th>339345</th>\n",
       "      <td>1.162077</td>\n",
       "      <td>-1.213468</td>\n",
       "      <td>-0.401845</td>\n",
       "      <td>-0.153382</td>\n",
       "      <td>1.356662</td>\n",
       "      <td>-0.189568</td>\n",
       "      <td>-0.437213</td>\n",
       "      <td>-0.453544</td>\n",
       "      <td>-0.914718</td>\n",
       "      <td>-0.396752</td>\n",
       "      <td>-0.498521</td>\n",
       "      <td>1.335242</td>\n",
       "      <td>-0.977307</td>\n",
       "      <td>-0.647840</td>\n",
       "      <td>-0.515288</td>\n",
       "      <td>-0.101291</td>\n",
       "      <td>1.226563</td>\n",
       "      <td>2.0</td>\n",
       "      <td>3.0</td>\n",
       "      <td>0.0</td>\n",
       "      <td>1.0</td>\n",
       "      <td>1</td>\n",
       "      <td>1</td>\n",
       "      <td>0</td>\n",
       "      <td>0</td>\n",
       "    </tr>\n",
       "    <tr>\n",
       "      <th>453683</th>\n",
       "      <td>-1.594037</td>\n",
       "      <td>-0.599501</td>\n",
       "      <td>-0.129413</td>\n",
       "      <td>-0.899878</td>\n",
       "      <td>-1.137270</td>\n",
       "      <td>-0.189999</td>\n",
       "      <td>-0.481041</td>\n",
       "      <td>1.763478</td>\n",
       "      <td>0.080049</td>\n",
       "      <td>-0.401099</td>\n",
       "      <td>0.097681</td>\n",
       "      <td>2.268258</td>\n",
       "      <td>-0.977307</td>\n",
       "      <td>-0.647840</td>\n",
       "      <td>-0.418075</td>\n",
       "      <td>-0.101291</td>\n",
       "      <td>0.321790</td>\n",
       "      <td>2.0</td>\n",
       "      <td>0.0</td>\n",
       "      <td>2.0</td>\n",
       "      <td>3.0</td>\n",
       "      <td>1</td>\n",
       "      <td>1</td>\n",
       "      <td>0</td>\n",
       "      <td>0</td>\n",
       "    </tr>\n",
       "    <tr>\n",
       "      <th>198425</th>\n",
       "      <td>0.473048</td>\n",
       "      <td>1.273549</td>\n",
       "      <td>-0.401845</td>\n",
       "      <td>-0.707599</td>\n",
       "      <td>-1.137270</td>\n",
       "      <td>-0.188339</td>\n",
       "      <td>-0.461779</td>\n",
       "      <td>-0.692147</td>\n",
       "      <td>0.235829</td>\n",
       "      <td>3.518122</td>\n",
       "      <td>0.693883</td>\n",
       "      <td>0.000313</td>\n",
       "      <td>0.343029</td>\n",
       "      <td>0.992135</td>\n",
       "      <td>-0.257553</td>\n",
       "      <td>-0.101291</td>\n",
       "      <td>-0.130597</td>\n",
       "      <td>3.0</td>\n",
       "      <td>0.0</td>\n",
       "      <td>4.0</td>\n",
       "      <td>2.0</td>\n",
       "      <td>1</td>\n",
       "      <td>0</td>\n",
       "      <td>0</td>\n",
       "      <td>0</td>\n",
       "    </tr>\n",
       "    <tr>\n",
       "      <th>165400</th>\n",
       "      <td>0.817562</td>\n",
       "      <td>0.710729</td>\n",
       "      <td>-0.401845</td>\n",
       "      <td>0.875877</td>\n",
       "      <td>-1.137270</td>\n",
       "      <td>-0.188683</td>\n",
       "      <td>-0.461813</td>\n",
       "      <td>2.995268</td>\n",
       "      <td>1.306204</td>\n",
       "      <td>3.396394</td>\n",
       "      <td>0.097681</td>\n",
       "      <td>-0.186290</td>\n",
       "      <td>0.673113</td>\n",
       "      <td>-0.647840</td>\n",
       "      <td>-0.852997</td>\n",
       "      <td>-0.101291</td>\n",
       "      <td>-1.487757</td>\n",
       "      <td>1.0</td>\n",
       "      <td>0.0</td>\n",
       "      <td>4.0</td>\n",
       "      <td>2.0</td>\n",
       "      <td>1</td>\n",
       "      <td>0</td>\n",
       "      <td>0</td>\n",
       "      <td>1</td>\n",
       "    </tr>\n",
       "    <tr>\n",
       "      <th>72103</th>\n",
       "      <td>-0.560495</td>\n",
       "      <td>-1.618053</td>\n",
       "      <td>0.279235</td>\n",
       "      <td>-0.877257</td>\n",
       "      <td>-1.137270</td>\n",
       "      <td>-0.186353</td>\n",
       "      <td>-0.487278</td>\n",
       "      <td>-0.115523</td>\n",
       "      <td>-0.037147</td>\n",
       "      <td>-0.377188</td>\n",
       "      <td>0.097681</td>\n",
       "      <td>0.918974</td>\n",
       "      <td>1.663364</td>\n",
       "      <td>-0.647840</td>\n",
       "      <td>2.197689</td>\n",
       "      <td>-0.101291</td>\n",
       "      <td>0.321790</td>\n",
       "      <td>1.0</td>\n",
       "      <td>0.0</td>\n",
       "      <td>2.0</td>\n",
       "      <td>1.0</td>\n",
       "      <td>1</td>\n",
       "      <td>0</td>\n",
       "      <td>0</td>\n",
       "      <td>1</td>\n",
       "    </tr>\n",
       "  </tbody>\n",
       "</table>\n",
       "</div>"
      ],
      "text/plain": [
       "          income  name_email_similarity  prev_address_months_count  \\\n",
       "339345  1.162077              -1.213468                  -0.401845   \n",
       "453683 -1.594037              -0.599501                  -0.129413   \n",
       "198425  0.473048               1.273549                  -0.401845   \n",
       "165400  0.817562               0.710729                  -0.401845   \n",
       "72103  -0.560495              -1.618053                   0.279235   \n",
       "\n",
       "        current_address_months_count  customer_age  days_since_request  \\\n",
       "339345                     -0.153382      1.356662           -0.189568   \n",
       "453683                     -0.899878     -1.137270           -0.189999   \n",
       "198425                     -0.707599     -1.137270           -0.188339   \n",
       "165400                      0.875877     -1.137270           -0.188683   \n",
       "72103                      -0.877257     -1.137270           -0.186353   \n",
       "\n",
       "        intended_balcon_amount  zip_count_4w  velocity_4w  \\\n",
       "339345               -0.437213     -0.453544    -0.914718   \n",
       "453683               -0.481041      1.763478     0.080049   \n",
       "198425               -0.461779     -0.692147     0.235829   \n",
       "165400               -0.461813      2.995268     1.306204   \n",
       "72103                -0.487278     -0.115523    -0.037147   \n",
       "\n",
       "        bank_branch_count_8w  date_of_birth_distinct_emails_4w  \\\n",
       "339345             -0.396752                         -0.498521   \n",
       "453683             -0.401099                          0.097681   \n",
       "198425              3.518122                          0.693883   \n",
       "165400              3.396394                          0.097681   \n",
       "72103              -0.377188                          0.097681   \n",
       "\n",
       "        credit_risk_score  bank_months_count  proposed_credit_limit  \\\n",
       "339345           1.335242          -0.977307              -0.647840   \n",
       "453683           2.268258          -0.977307              -0.647840   \n",
       "198425           0.000313           0.343029               0.992135   \n",
       "165400          -0.186290           0.673113              -0.647840   \n",
       "72103            0.918974           1.663364              -0.647840   \n",
       "\n",
       "        session_length_in_minutes  device_distinct_emails_8w     month  \\\n",
       "339345                  -0.515288                  -0.101291  1.226563   \n",
       "453683                  -0.418075                  -0.101291  0.321790   \n",
       "198425                  -0.257553                  -0.101291 -0.130597   \n",
       "165400                  -0.852997                  -0.101291 -1.487757   \n",
       "72103                    2.197689                  -0.101291  0.321790   \n",
       "\n",
       "        payment_type  employment_status  housing_status  device_os  \\\n",
       "339345           2.0                3.0             0.0        1.0   \n",
       "453683           2.0                0.0             2.0        3.0   \n",
       "198425           3.0                0.0             4.0        2.0   \n",
       "165400           1.0                0.0             4.0        2.0   \n",
       "72103            1.0                0.0             2.0        1.0   \n",
       "\n",
       "        email_is_free  phone_home_valid  has_other_cards  keep_alive_session  \n",
       "339345              1                 1                0                   0  \n",
       "453683              1                 1                0                   0  \n",
       "198425              1                 0                0                   0  \n",
       "165400              1                 0                0                   1  \n",
       "72103               1                 0                0                   1  "
      ]
     },
     "execution_count": 22,
     "metadata": {},
     "output_type": "execute_result"
    }
   ],
   "source": [
    "X_train_mix.head()"
   ]
  },
  {
   "cell_type": "code",
   "execution_count": 360,
   "id": "0b3e4421-b97c-40d8-b71d-eaad81db4d68",
   "metadata": {
    "tags": []
   },
   "outputs": [],
   "source": [
    "# restauro el index:\n",
    "X_train_mix = X_train_mix.reset_index(drop=True)\n",
    "y_train_mix = y_train_mix.reset_index(drop=True)"
   ]
  },
  {
   "cell_type": "markdown",
   "id": "b6a2c457-2d23-4851-b4ec-f53baec582db",
   "metadata": {},
   "source": [
    "## Añadido de PCA como prueba para mejora del modelo\n",
    "\n",
    "Además de los tratamientos realizados, generaré otro dataframe igual a X_train pero con las dos variables de PCA con el fin de, como se comentó en el notebook anterior, probar si mejoran el modelo o si por el contrario solo agregan ruido.\n",
    "\n",
    "Para ello importaré el modelo ya entrenado en el notebook anterior. Deberé aplicarlo primero sobre el Dataset con todas las variables y luego recortarlo (al haberse usado la misma semilla son exactamente iguales el completo y el recortado con la única diferencia de que uno tiene más variables que el otro):"
   ]
  },
  {
   "cell_type": "code",
   "execution_count": 147,
   "id": "f9928010-45a6-4b05-a422-08527a84b94c",
   "metadata": {
    "tags": []
   },
   "outputs": [],
   "source": [
    "pca = load('../models/pca_2components.joblib')"
   ]
  },
  {
   "cell_type": "code",
   "execution_count": 289,
   "id": "1f33ed99-dd51-402b-b299-844653b73c19",
   "metadata": {
    "tags": []
   },
   "outputs": [
    {
     "ename": "ValueError",
     "evalue": "The feature names should match those that were passed during fit.\nFeature names must be in the same order as they were in fit.\n",
     "output_type": "error",
     "traceback": [
      "\u001b[1;31m---------------------------------------------------------------------------\u001b[0m",
      "\u001b[1;31mValueError\u001b[0m                                Traceback (most recent call last)",
      "Cell \u001b[1;32mIn[289], line 3\u001b[0m\n\u001b[0;32m      1\u001b[0m X_train_pca \u001b[38;5;241m=\u001b[39m X_train_1\u001b[38;5;241m.\u001b[39mcopy()\n\u001b[0;32m      2\u001b[0m X_val_pca \u001b[38;5;241m=\u001b[39m X_val\u001b[38;5;241m.\u001b[39mcopy()\n\u001b[1;32m----> 3\u001b[0m X_train_pca[\u001b[38;5;124m'\u001b[39m\u001b[38;5;124mPCA1\u001b[39m\u001b[38;5;124m'\u001b[39m], X_train_pca[\u001b[38;5;124m'\u001b[39m\u001b[38;5;124mPCA2\u001b[39m\u001b[38;5;124m'\u001b[39m] \u001b[38;5;241m=\u001b[39m \u001b[43mpca\u001b[49m\u001b[38;5;241;43m.\u001b[39;49m\u001b[43mtransform\u001b[49m\u001b[43m(\u001b[49m\u001b[43mX_train_complete\u001b[49m\u001b[43m)\u001b[49m[:,\u001b[38;5;241m0\u001b[39m], pca\u001b[38;5;241m.\u001b[39mtransform(X_train_complete)[:,\u001b[38;5;241m1\u001b[39m]\n\u001b[0;32m      4\u001b[0m X_val_pca[\u001b[38;5;124m'\u001b[39m\u001b[38;5;124mPCA1\u001b[39m\u001b[38;5;124m'\u001b[39m], X_val_pca[\u001b[38;5;124m'\u001b[39m\u001b[38;5;124mPCA2\u001b[39m\u001b[38;5;124m'\u001b[39m] \u001b[38;5;241m=\u001b[39m pca\u001b[38;5;241m.\u001b[39mtransform(X_val_complete)[:,\u001b[38;5;241m0\u001b[39m], pca\u001b[38;5;241m.\u001b[39mtransform(X_val_complete)[:,\u001b[38;5;241m1\u001b[39m]\n\u001b[0;32m      5\u001b[0m X_train_pca\u001b[38;5;241m.\u001b[39mhead()\n",
      "File \u001b[1;32m~\\anaconda3\\envs\\practica0\\lib\\site-packages\\sklearn\\utils\\_set_output.py:140\u001b[0m, in \u001b[0;36m_wrap_method_output.<locals>.wrapped\u001b[1;34m(self, X, *args, **kwargs)\u001b[0m\n\u001b[0;32m    138\u001b[0m \u001b[38;5;129m@wraps\u001b[39m(f)\n\u001b[0;32m    139\u001b[0m \u001b[38;5;28;01mdef\u001b[39;00m \u001b[38;5;21mwrapped\u001b[39m(\u001b[38;5;28mself\u001b[39m, X, \u001b[38;5;241m*\u001b[39margs, \u001b[38;5;241m*\u001b[39m\u001b[38;5;241m*\u001b[39mkwargs):\n\u001b[1;32m--> 140\u001b[0m     data_to_wrap \u001b[38;5;241m=\u001b[39m f(\u001b[38;5;28mself\u001b[39m, X, \u001b[38;5;241m*\u001b[39margs, \u001b[38;5;241m*\u001b[39m\u001b[38;5;241m*\u001b[39mkwargs)\n\u001b[0;32m    141\u001b[0m     \u001b[38;5;28;01mif\u001b[39;00m \u001b[38;5;28misinstance\u001b[39m(data_to_wrap, \u001b[38;5;28mtuple\u001b[39m):\n\u001b[0;32m    142\u001b[0m         \u001b[38;5;66;03m# only wrap the first output for cross decomposition\u001b[39;00m\n\u001b[0;32m    143\u001b[0m         return_tuple \u001b[38;5;241m=\u001b[39m (\n\u001b[0;32m    144\u001b[0m             _wrap_data_with_container(method, data_to_wrap[\u001b[38;5;241m0\u001b[39m], X, \u001b[38;5;28mself\u001b[39m),\n\u001b[0;32m    145\u001b[0m             \u001b[38;5;241m*\u001b[39mdata_to_wrap[\u001b[38;5;241m1\u001b[39m:],\n\u001b[0;32m    146\u001b[0m         )\n",
      "File \u001b[1;32m~\\anaconda3\\envs\\practica0\\lib\\site-packages\\sklearn\\decomposition\\_base.py:121\u001b[0m, in \u001b[0;36m_BasePCA.transform\u001b[1;34m(self, X)\u001b[0m\n\u001b[0;32m    102\u001b[0m \u001b[38;5;250m\u001b[39m\u001b[38;5;124;03m\"\"\"Apply dimensionality reduction to X.\u001b[39;00m\n\u001b[0;32m    103\u001b[0m \n\u001b[0;32m    104\u001b[0m \u001b[38;5;124;03mX is projected on the first principal components previously extracted\u001b[39;00m\n\u001b[1;32m   (...)\u001b[0m\n\u001b[0;32m    117\u001b[0m \u001b[38;5;124;03m    is the number of samples and `n_components` is the number of the components.\u001b[39;00m\n\u001b[0;32m    118\u001b[0m \u001b[38;5;124;03m\"\"\"\u001b[39;00m\n\u001b[0;32m    119\u001b[0m check_is_fitted(\u001b[38;5;28mself\u001b[39m)\n\u001b[1;32m--> 121\u001b[0m X \u001b[38;5;241m=\u001b[39m \u001b[38;5;28;43mself\u001b[39;49m\u001b[38;5;241;43m.\u001b[39;49m\u001b[43m_validate_data\u001b[49m\u001b[43m(\u001b[49m\u001b[43mX\u001b[49m\u001b[43m,\u001b[49m\u001b[43m \u001b[49m\u001b[43mdtype\u001b[49m\u001b[38;5;241;43m=\u001b[39;49m\u001b[43m[\u001b[49m\u001b[43mnp\u001b[49m\u001b[38;5;241;43m.\u001b[39;49m\u001b[43mfloat64\u001b[49m\u001b[43m,\u001b[49m\u001b[43m \u001b[49m\u001b[43mnp\u001b[49m\u001b[38;5;241;43m.\u001b[39;49m\u001b[43mfloat32\u001b[49m\u001b[43m]\u001b[49m\u001b[43m,\u001b[49m\u001b[43m \u001b[49m\u001b[43mreset\u001b[49m\u001b[38;5;241;43m=\u001b[39;49m\u001b[38;5;28;43;01mFalse\u001b[39;49;00m\u001b[43m)\u001b[49m\n\u001b[0;32m    122\u001b[0m \u001b[38;5;28;01mif\u001b[39;00m \u001b[38;5;28mself\u001b[39m\u001b[38;5;241m.\u001b[39mmean_ \u001b[38;5;129;01mis\u001b[39;00m \u001b[38;5;129;01mnot\u001b[39;00m \u001b[38;5;28;01mNone\u001b[39;00m:\n\u001b[0;32m    123\u001b[0m     X \u001b[38;5;241m=\u001b[39m X \u001b[38;5;241m-\u001b[39m \u001b[38;5;28mself\u001b[39m\u001b[38;5;241m.\u001b[39mmean_\n",
      "File \u001b[1;32m~\\anaconda3\\envs\\practica0\\lib\\site-packages\\sklearn\\base.py:579\u001b[0m, in \u001b[0;36mBaseEstimator._validate_data\u001b[1;34m(self, X, y, reset, validate_separately, cast_to_ndarray, **check_params)\u001b[0m\n\u001b[0;32m    508\u001b[0m \u001b[38;5;28;01mdef\u001b[39;00m \u001b[38;5;21m_validate_data\u001b[39m(\n\u001b[0;32m    509\u001b[0m     \u001b[38;5;28mself\u001b[39m,\n\u001b[0;32m    510\u001b[0m     X\u001b[38;5;241m=\u001b[39m\u001b[38;5;124m\"\u001b[39m\u001b[38;5;124mno_validation\u001b[39m\u001b[38;5;124m\"\u001b[39m,\n\u001b[1;32m   (...)\u001b[0m\n\u001b[0;32m    515\u001b[0m     \u001b[38;5;241m*\u001b[39m\u001b[38;5;241m*\u001b[39mcheck_params,\n\u001b[0;32m    516\u001b[0m ):\n\u001b[0;32m    517\u001b[0m \u001b[38;5;250m    \u001b[39m\u001b[38;5;124;03m\"\"\"Validate input data and set or check the `n_features_in_` attribute.\u001b[39;00m\n\u001b[0;32m    518\u001b[0m \n\u001b[0;32m    519\u001b[0m \u001b[38;5;124;03m    Parameters\u001b[39;00m\n\u001b[1;32m   (...)\u001b[0m\n\u001b[0;32m    577\u001b[0m \u001b[38;5;124;03m        validated.\u001b[39;00m\n\u001b[0;32m    578\u001b[0m \u001b[38;5;124;03m    \"\"\"\u001b[39;00m\n\u001b[1;32m--> 579\u001b[0m     \u001b[38;5;28;43mself\u001b[39;49m\u001b[38;5;241;43m.\u001b[39;49m\u001b[43m_check_feature_names\u001b[49m\u001b[43m(\u001b[49m\u001b[43mX\u001b[49m\u001b[43m,\u001b[49m\u001b[43m \u001b[49m\u001b[43mreset\u001b[49m\u001b[38;5;241;43m=\u001b[39;49m\u001b[43mreset\u001b[49m\u001b[43m)\u001b[49m\n\u001b[0;32m    581\u001b[0m     \u001b[38;5;28;01mif\u001b[39;00m y \u001b[38;5;129;01mis\u001b[39;00m \u001b[38;5;28;01mNone\u001b[39;00m \u001b[38;5;129;01mand\u001b[39;00m \u001b[38;5;28mself\u001b[39m\u001b[38;5;241m.\u001b[39m_get_tags()[\u001b[38;5;124m\"\u001b[39m\u001b[38;5;124mrequires_y\u001b[39m\u001b[38;5;124m\"\u001b[39m]:\n\u001b[0;32m    582\u001b[0m         \u001b[38;5;28;01mraise\u001b[39;00m \u001b[38;5;167;01mValueError\u001b[39;00m(\n\u001b[0;32m    583\u001b[0m             \u001b[38;5;124mf\u001b[39m\u001b[38;5;124m\"\u001b[39m\u001b[38;5;124mThis \u001b[39m\u001b[38;5;132;01m{\u001b[39;00m\u001b[38;5;28mself\u001b[39m\u001b[38;5;241m.\u001b[39m\u001b[38;5;18m__class__\u001b[39m\u001b[38;5;241m.\u001b[39m\u001b[38;5;18m__name__\u001b[39m\u001b[38;5;132;01m}\u001b[39;00m\u001b[38;5;124m estimator \u001b[39m\u001b[38;5;124m\"\u001b[39m\n\u001b[0;32m    584\u001b[0m             \u001b[38;5;124m\"\u001b[39m\u001b[38;5;124mrequires y to be passed, but the target y is None.\u001b[39m\u001b[38;5;124m\"\u001b[39m\n\u001b[0;32m    585\u001b[0m         )\n",
      "File \u001b[1;32m~\\anaconda3\\envs\\practica0\\lib\\site-packages\\sklearn\\base.py:506\u001b[0m, in \u001b[0;36mBaseEstimator._check_feature_names\u001b[1;34m(self, X, reset)\u001b[0m\n\u001b[0;32m    501\u001b[0m \u001b[38;5;28;01mif\u001b[39;00m \u001b[38;5;129;01mnot\u001b[39;00m missing_names \u001b[38;5;129;01mand\u001b[39;00m \u001b[38;5;129;01mnot\u001b[39;00m unexpected_names:\n\u001b[0;32m    502\u001b[0m     message \u001b[38;5;241m+\u001b[39m\u001b[38;5;241m=\u001b[39m (\n\u001b[0;32m    503\u001b[0m         \u001b[38;5;124m\"\u001b[39m\u001b[38;5;124mFeature names must be in the same order as they were in fit.\u001b[39m\u001b[38;5;130;01m\\n\u001b[39;00m\u001b[38;5;124m\"\u001b[39m\n\u001b[0;32m    504\u001b[0m     )\n\u001b[1;32m--> 506\u001b[0m \u001b[38;5;28;01mraise\u001b[39;00m \u001b[38;5;167;01mValueError\u001b[39;00m(message)\n",
      "\u001b[1;31mValueError\u001b[0m: The feature names should match those that were passed during fit.\nFeature names must be in the same order as they were in fit.\n"
     ]
    }
   ],
   "source": [
    "X_train_pca = X_train_1.copy()\n",
    "X_val_pca = X_val.copy()\n",
    "X_train_pca['PCA1'], X_train_pca['PCA2'] = pca.transform(X_train_complete)[:,0], pca.transform(X_train_complete)[:,1]\n",
    "X_val_pca['PCA1'], X_val_pca['PCA2'] = pca.transform(X_val_complete)[:,0], pca.transform(X_val_complete)[:,1]\n",
    "X_train_pca.head()"
   ]
  },
  {
   "cell_type": "markdown",
   "id": "19c51eab-b547-48ff-964c-1d05fc1850a8",
   "metadata": {},
   "source": [
    "## Resumen del tratamiento previo al modelado\n",
    "\n",
    "Una vez que he importado todos los datasets, generado sets de validación para comparar los modelos y agregar procesos de oversampling y undersampling, voy a proceder a la parte del modelado.\n",
    "\n",
    "El proceso de comentará a continuación en el siguiente apartado, pero antes de continuar voy a listar los datasets generados con los que voy a trabajar:\n",
    "\n",
    "1. Set sin recortes\n",
    "2. Set procesado con variables seleccionadas (5 menos que el original importado gracias al Feature Selection)\n",
    "3. Set escalado\n",
    "4. Set con variables PCA\n",
    "5. Set con Undersampling\n",
    "6. Set con Oversampling\n",
    "7. Set con mix Over y Under sampling.\n",
    "\n",
    "Aunque parecen muchos, son bastante similares entre si y la idea es realizar una validación numérica de con cual de ellos se obtendrían a priori mejores resultados, para no basarnos simplemente en intuición a la hora de buscar la optimización del uso de los datos disponibles en el modelo que elijamos."
   ]
  },
  {
   "cell_type": "markdown",
   "id": "13d9049d-8145-483c-a41d-32ba4c3ece06",
   "metadata": {},
   "source": [
    "***\n",
    "\n",
    "# Modelado\n",
    "\n",
    "En este apartado de trataran los distintos modelos elegidos con los datasets disponibles. La idea es llegar al final del notebook con la elección tanto del modelo a utilizar, del dataset que mejor se adapte al mismo y de los hiperparámetros que optimizen los resultados buscados. Para lograrlo realizaré 3 pasos:\n",
    "\n",
    "1. Comparativa de modelos: Mediante un pipeline se probarán todos los modelos sin ajustar hiperparámetros, solo con sus valores por defecto, para ver cual es el que mejores resultados base proporciona.\n",
    "\n",
    "2. Comparativa de datasets: Con el modelo elegido se procederá a medir cual es el set de datos que mejores métricas obtiene.\n",
    "\n",
    "3. Búsqueda de hiperparámetros: Finalmente se realizará una búsqueda de los hiperparámetros que optimizen al modelo elegido en el dataset elegido mediante una Validación Cruzada."
   ]
  },
  {
   "cell_type": "markdown",
   "id": "86b2de22-2c2b-4471-97f5-486b658776e9",
   "metadata": {},
   "source": [
    "## Modelo Base:\n",
    "\n",
    "En primer lugar voy a realizar un modelo sin machine learning, en donde simplemente se asignará el valor de la clase mayoritaria a todos los resultados. En este caso, consideraremos que ninguna aplicación será fraudulenta. Esto es lo que haríamos si no pudiesemos aplicar ningún modelo."
   ]
  },
  {
   "cell_type": "markdown",
   "id": "0ba8c5b7-c71a-4277-9254-1273b582fdfc",
   "metadata": {
    "tags": []
   },
   "source": [
    "He generado una función propia que me permite determinar la clase mayoritaria y en base a eso generar las predicciones de un modelo base para mi análisis:"
   ]
  },
  {
   "cell_type": "code",
   "execution_count": 149,
   "id": "b7203565-5b57-4d38-9144-a3b6862b390a",
   "metadata": {
    "tags": []
   },
   "outputs": [],
   "source": [
    "y_pred_base = fr.y_pred_base_model(y_train_1,X_val)"
   ]
  },
  {
   "cell_type": "code",
   "execution_count": 150,
   "id": "f4640115-aef0-458e-9b55-0aa84309c79c",
   "metadata": {
    "tags": []
   },
   "outputs": [
    {
     "data": {
      "text/plain": [
       "(array([0, 0, 0, ..., 0, 0, 0], dtype=int64), (210000,))"
      ]
     },
     "execution_count": 150,
     "metadata": {},
     "output_type": "execute_result"
    }
   ],
   "source": [
    "y_pred_base, y_pred_base.shape"
   ]
  },
  {
   "cell_type": "markdown",
   "id": "5dd29469-371d-4839-a1ed-782156826872",
   "metadata": {
    "tags": []
   },
   "source": [
    "Aplico una función propia generada para resaltar las métricas que considero importantes a la hora de evaluar los modelos:"
   ]
  },
  {
   "cell_type": "code",
   "execution_count": 151,
   "id": "eaf8bd76-8123-4ac2-a203-c1dafae80250",
   "metadata": {
    "tags": []
   },
   "outputs": [
    {
     "name": "stdout",
     "output_type": "stream",
     "text": [
      "\n",
      "Accuracy: 0.98897\n",
      "Balanced Accuracy: 0.50000\n",
      "\u001b[1mF2 score: 0.00000\u001b[0m\n",
      "\u001b[1mF1 score: 0.00000\u001b[0m\n",
      "Precision: 0.00000\n",
      "Recall: 0.00000\n",
      "\n",
      "Confusion Matrix:\n",
      "[[207684      0]\n",
      " [  2316      0]]\n"
     ]
    }
   ],
   "source": [
    "fr.metrics_summ(y_val, y_pred_base)"
   ]
  },
  {
   "cell_type": "markdown",
   "id": "16d08f7e-ffd9-48fa-b5a0-9120a758c7e7",
   "metadata": {
    "tags": []
   },
   "source": [
    "Aplico una función propia creada justamente para graficar la matriz de confusión con los valores brutos y también en su versión normalizada:"
   ]
  },
  {
   "cell_type": "code",
   "execution_count": 26,
   "id": "774f4e0b-df6e-4300-b101-33a7fda409a0",
   "metadata": {
    "tags": []
   },
   "outputs": [
    {
     "data": {
      "image/png": "[encoded data removed]",
      "text/plain": [
       "<Figure size 2000x600 with 4 Axes>"
      ]
     },
     "metadata": {},
     "output_type": "display_data"
    }
   ],
   "source": [
    "fr.plot_cmatrix(y_val, y_pred_base)"
   ]
  },
  {
   "cell_type": "code",
   "execution_count": 29,
   "id": "6b4691f9-042b-412d-9503-d8a7c350d905",
   "metadata": {
    "tags": []
   },
   "outputs": [
    {
     "data": {
      "image/png": "[encoded data removed]",
      "text/plain": [
       "<Figure size 640x480 with 2 Axes>"
      ]
     },
     "metadata": {},
     "output_type": "display_data"
    }
   ],
   "source": [
    "# Además, también voy a graficar una confusion matrix con los porcentajes sobre el total:\n",
    "cf_matrix = confusion_matrix(y_val,y_pred_base)\n",
    "cf_matrix_perc = cf_matrix/np.sum(cf_matrix)\n",
    "\n",
    "heatmap = sns.heatmap(cf_matrix_perc, annot=True, fmt='.2%', cmap='Blues', linewidth=2)\n",
    "plt.xlabel('Predictions', fontdict={'fontname':'Montserrat'})\n",
    "plt.ylabel('Reality', fontdict={'fontname':'Montserrat'})\n",
    "plt.title('Confusion Matrix - Base Model', fontdict={'fontname':'Montserrat', 'fontsize':18})\n",
    "plt.show()"
   ]
  },
  {
   "cell_type": "markdown",
   "id": "0e4c9729-ef94-4f4b-a363-3760addc909c",
   "metadata": {},
   "source": [
    "Una vez contamos con el modelo base, procedemos a realizar la comparación de modelos con Machine Learning"
   ]
  },
  {
   "cell_type": "markdown",
   "id": "e88a3876-bb6d-4f3f-9899-1f8c622b82a4",
   "metadata": {},
   "source": [
    "***\n",
    "# 1. Comparación de Modelos\n",
    "\n",
    "A continuación ejecutaré un pipeline con algunos de los modelos de clasificación \n",
    "\n"
   ]
  },
  {
   "cell_type": "markdown",
   "id": "43976e19-2a56-47a3-8e4d-280afa392404",
   "metadata": {},
   "source": [
    "## Logistic Regression\n",
    "\n",
    "Antes de realizar el pipeline, voy a ejecutar la regresión logística, que a diferencia de los demás, necesita utilizar el dataset escalado.\n",
    "\n",
    "Este es un modelo de tipo lineal (GLM) que permite obtener resultados adecuados para problemas de clasificación binara, por lo que se adapta muy bien a nuestro objetivo a priori."
   ]
  },
  {
   "cell_type": "code",
   "execution_count": 152,
   "id": "c876474c-6279-4ae0-a060-35658f503b38",
   "metadata": {
    "tags": []
   },
   "outputs": [
    {
     "name": "stdout",
     "output_type": "stream",
     "text": [
      "\n",
      "Accuracy: 0.98899\n",
      "Balanced Accuracy: 0.50278\n",
      "\u001b[1mF2 score: 0.00700\u001b[0m\n",
      "\u001b[1mF1 score: 0.01112\u001b[0m\n",
      "Precision: 0.56522\n",
      "Recall: 0.00561\n",
      "\n",
      "Confusion Matrix:\n",
      "[[207674     10]\n",
      " [  2303     13]]\n",
      "CPU times: total: 5.42 s\n",
      "Wall time: 2.89 s\n"
     ]
    }
   ],
   "source": [
    "%%time\n",
    "lr = LogisticRegression(C=1)\n",
    "lr.fit(X_train_scaled, y_train_1)\n",
    "\n",
    "y_pred_lr = lr.predict(X_val_scaled)\n",
    "\n",
    "fr.metrics_summ(y_val, y_pred_lr)"
   ]
  },
  {
   "cell_type": "markdown",
   "id": "5f314952-8a30-4043-b9f2-b00198da988b",
   "metadata": {},
   "source": [
    "Los resultados han sido un poco decepcionantes, debido a que es levemente superior al modelo base. Son muy pocos los registros que consigue determinar como\n",
    "fraude."
   ]
  },
  {
   "cell_type": "markdown",
   "id": "ad03b6a5-a97b-4b78-b961-0ec7319cdf30",
   "metadata": {},
   "source": [
    "## Support Vector Machine\n",
    "\n",
    "Este modelo es conocido por ser especialmente demandante computacionalmente hablando, por lo que en este caso procederé a probarlo con el dataset más pequeño posible. Debido a su alto coste computacional y a que no tiene un rendimiento tan bueno a priori como otros modelos que probaremos a continuación, considero adecuado probarlo con un dataset menor, ya que no tengo altas expectativas en cuanto a su desempeño.\n",
    "\n",
    "En vez de reducir los datos a un porcentaje, voy a aprovechar que ya poseo un dataset más pequeño, que en este caso es el que ha pasado por el proceso de Undersampling.\n",
    "\n",
    "###### *Nota: Es posible que este modelo obtenga mejores métricas debido a que está trabajando con un dataset balanceado. De igual manera, será comparado vs el mejor modelo elegido comprobando sus mejores métricas en varios DF de prueba. Por lo que, en caso de obtener buenos resultados, deberán compararse vs el otro modelo elegido en el mismo dataset con undersampling.*"
   ]
  },
  {
   "cell_type": "code",
   "execution_count": 57,
   "id": "b871ce8c-e53a-4fe0-b2ce-e4939d12d257",
   "metadata": {
    "tags": []
   },
   "outputs": [
    {
     "name": "stdout",
     "output_type": "stream",
     "text": [
      "\n",
      "accuracy = 0.9889714285714286\n",
      "balanced accuracy = 0.5\n",
      "precision = 0.0\n",
      "recall = 0.0\n",
      "f1_score = 0.0\n",
      "confusion matrix:\n",
      "[[207684      0]\n",
      " [  2316      0]]\n",
      "\n",
      "CPU times: total: 33min 17s\n",
      "Wall time: 38min 19s\n"
     ]
    }
   ],
   "source": [
    "%%time\n",
    "svc = SVC(kernel=\"rbf\", degree=3) # utilizo los valores por defecto. Solo los dejo aclarados para mejor entendimiento.\n",
    "svc.fit(X_train_under, y_train_under)\n",
    "\n",
    "# este modelo fue corrido antes de crear la función fr.metrics_summ(), por lo que el código bruto fue inicial más ineficiente, pero no me vale la pena volver a correr\n",
    "# dicho modelo que demora bastante y requiere mucha potencia computacional para obtener resultados pobres, por eso mantengo el código inicial sin usar mi función de medición\n",
    "\n",
    "accuracy = accuracy_score(y_val,svc.predict(X_val))\n",
    "balanced_acc = balanced_accuracy_score(y_val,svc.predict(X_val))\n",
    "f1 = f1_score(y_val,svc.predict(X_val)) # (y_true, y_pred)\n",
    "c_matrix = confusion_matrix(y_val,svc.predict(X_val))\n",
    "precision = precision_score(y_val,svc.predict(X_val))\n",
    "recall = recall_score(y_val,svc.predict(X_val))\n",
    "print(f\"\"\"\n",
    "accuracy = {accuracy}\n",
    "balanced accuracy = {balanced_acc}\n",
    "precision = {precision}\n",
    "recall = {recall}\n",
    "f1_score = {f1}\n",
    "confusion matrix:\n",
    "{c_matrix}\n",
    "\"\"\")"
   ]
  },
  {
   "cell_type": "markdown",
   "id": "51ab1f43-7eda-4d50-87f9-af6eb98ce131",
   "metadata": {},
   "source": [
    "La aplicación en este caso fue un fracaso. Además de la enorme cantidad de tiempo que demoró en comparación con otros modelos, la predicción simplemente\n",
    "actuó como si se tratara del modelo base, por lo que el SVC queda descartado de los posibles modelos a elegir."
   ]
  },
  {
   "cell_type": "markdown",
   "id": "4f2db4ec-c7d2-4af0-8f12-a7f1d25f2128",
   "metadata": {},
   "source": [
    "## Pipeline con los demás modelos\n",
    "\n",
    "Ahora si procedo a probar el resto de los modelos en un pipeline:\n",
    "\n",
    "* DummyClassifier: Incluyo lo que sería un modelo base de SKLearn\n",
    "* GaussianNB: El clasificador de Naive Bayes, basado en las teorías de probabilidad Gaussianas, un tipo de modelo bastante eficiente en aprendizaje supervisado.\n",
    "* Decision Tree Classifier: Árbol de decisión simple\n",
    "* Random Forest Classifier: Emsamblaje de muchos clasificadores de árbol de decisión, en representación de los modelos de Bagging\n",
    "* XGBoost Classifier: Representante de los modelos de boosting, uno de los más efectivos actualmente en ML.\n",
    "* LightGBM Classifier: También representante de los modelos de boosting, de mis favoritos actualmente debido a su eficiencia y sobre todo a su gran optimización en cuanto a los tiempos de procesamiento. "
   ]
  },
  {
   "cell_type": "code",
   "execution_count": 65,
   "id": "97c155a4-6896-4e38-8b98-b7ee2ac2fc48",
   "metadata": {},
   "outputs": [
    {
     "name": "stdout",
     "output_type": "stream",
     "text": [
      "\u001b[1mDummyClassifier()\u001b[0m\n",
      "\n",
      "Accuracy: 0.98897\n",
      "Balanced Accuracy: 0.50000\n",
      "\u001b[1mF2 score: 0.00000\u001b[0m\n",
      "\u001b[1mF1 score: 0.00000\u001b[0m\n",
      "Precision: 0.00000\n",
      "Recall: 0.00000\n",
      "\n",
      "Confusion Matrix:\n",
      "[[207684      0]\n",
      " [  2316      0]]\n",
      "____________________________________________________________________________________________\n",
      "\u001b[1mGaussianNB()\u001b[0m\n",
      "\n",
      "Accuracy: 0.93935\n",
      "Balanced Accuracy: 0.67089\n",
      "\u001b[1mF2 score: 0.21329\u001b[0m\n",
      "\u001b[1mF1 score: 0.12600\u001b[0m\n",
      "Precision: 0.07490\n",
      "Recall: 0.39637\n",
      "\n",
      "Confusion Matrix:\n",
      "[[196346  11338]\n",
      " [  1398    918]]\n",
      "____________________________________________________________________________________________\n",
      "\u001b[1mDecisionTreeClassifier()\u001b[0m\n",
      "\n",
      "Accuracy: 0.97686\n",
      "Balanced Accuracy: 0.54084\n",
      "\u001b[1mF2 score: 0.08982\u001b[0m\n",
      "\u001b[1mF1 score: 0.08303\u001b[0m\n",
      "Precision: 0.07375\n",
      "Recall: 0.09499\n",
      "\n",
      "Confusion Matrix:\n",
      "[[204921   2763]\n",
      " [  2096    220]]\n",
      "____________________________________________________________________________________________\n",
      "\u001b[1mRandomForestClassifier()\u001b[0m\n",
      "\n",
      "Accuracy: 0.98899\n",
      "Balanced Accuracy: 0.50150\n",
      "\u001b[1mF2 score: 0.00377\u001b[0m\n",
      "\u001b[1mF1 score: 0.00602\u001b[0m\n",
      "Precision: 0.63636\n",
      "Recall: 0.00302\n",
      "\n",
      "Confusion Matrix:\n",
      "[[207680      4]\n",
      " [  2309      7]]\n",
      "____________________________________________________________________________________________\n",
      "\u001b[1mXGBClassifier(base_score=None, booster=None, callbacks=None,\n",
      "              colsample_bylevel=None, colsample_bynode=None,\n",
      "              colsample_bytree=None, early_stopping_rounds=None,\n",
      "              enable_categorical=False, eval_metric=None, feature_types=None,\n",
      "              gamma=None, gpu_id=None, grow_policy=None, importance_type=None,\n",
      "              interaction_constraints=None, learning_rate=None, max_bin=None,\n",
      "              max_cat_threshold=None, max_cat_to_onehot=None,\n",
      "              max_delta_step=None, max_depth=None, max_leaves=None,\n",
      "              min_child_weight=None, missing=nan, monotone_constraints=None,\n",
      "              n_estimators=100, n_jobs=None, num_parallel_tree=None,\n",
      "              predictor=None, random_state=None, ...)\u001b[0m\n",
      "\n",
      "Accuracy: 0.98891\n",
      "Balanced Accuracy: 0.52068\n",
      "\u001b[1mF2 score: 0.05121\u001b[0m\n",
      "\u001b[1mF1 score: 0.07692\u001b[0m\n",
      "Precision: 0.47087\n",
      "Recall: 0.04188\n",
      "\n",
      "Confusion Matrix:\n",
      "[[207575    109]\n",
      " [  2219     97]]\n",
      "____________________________________________________________________________________________\n",
      "[LightGBM] [Info] Number of positive: 5404, number of negative: 484596\n",
      "[LightGBM] [Info] Auto-choosing col-wise multi-threading, the overhead of testing was 0.160311 seconds.\n",
      "You can set `force_col_wise=true` to remove the overhead.\n",
      "[LightGBM] [Info] Total Bins 2799\n",
      "[LightGBM] [Info] Number of data points in the train set: 490000, number of used features: 25\n",
      "[LightGBM] [Info] [binary:BoostFromScore]: pavg=0.011029 -> initscore=-4.496176\n",
      "[LightGBM] [Info] Start training from score -4.496176\n",
      "\u001b[1mLGBMClassifier()\u001b[0m\n",
      "\n",
      "Accuracy: 0.98850\n",
      "Balanced Accuracy: 0.52346\n",
      "\u001b[1mF2 score: 0.05791\u001b[0m\n",
      "\u001b[1mF1 score: 0.08422\u001b[0m\n",
      "Precision: 0.34687\n",
      "Recall: 0.04793\n",
      "\n",
      "Confusion Matrix:\n",
      "[[207475    209]\n",
      " [  2205    111]]\n",
      "____________________________________________________________________________________________\n",
      "CPU times: total: 19min 53s\n",
      "Wall time: 18min 47s\n"
     ]
    }
   ],
   "source": [
    "%%time\n",
    "\n",
    "classifiers = [\n",
    "    DummyClassifier() # incluyo lo que sería un modelo base de SKLearn\n",
    "    ,GaussianNB() # Clasificador de NaiveBayes\n",
    "    ,DecisionTreeClassifier() # Árbol de decisión simple\n",
    "    ,RandomForestClassifier() # Random Forest en representación de modelos de Bagging\n",
    "    ,XGBClassifier() # Modelo boosting\n",
    "    ,LGBMClassifier() # Modelo boosting\n",
    "    ]\n",
    "\n",
    "for classifier in classifiers:\n",
    "    pipe = Pipeline(steps=[('classifier', classifier)])\n",
    "    pipe.fit(X_train_1, y_train_1)   \n",
    "    y_pred_pipe = pipe.predict(X_val)\n",
    "    print(f'\\033[1m{classifier}\\033[0m')\n",
    "    fr.metrics_summ(y_val, y_pred_pipe)\n",
    "    print(\"____________________________________________________________________________________________\")\n"
   ]
  },
  {
   "cell_type": "markdown",
   "id": "f922d14f-0d8f-4999-b30d-37189fc455e0",
   "metadata": {},
   "source": [
    "## Modelo a seleccionar\n",
    "\n",
    "Una vez ejecutados los modelos de clasificación, procederé a realizar la elección final del modelo con el que trabajaré.\n",
    "\n",
    "De entrada quedan descartados modelos como el Dummy por obvias razones y los modelos de Regresión Logística y SVM, por motivos mencionados anteriormente. Además, se descarta el Random Forest, debido a que sus métricas y rendimiento no son tan buenas como otros modelos a mencionar. Sobre todo el Random Forest ha decepcionado en este caso, aunque puede deberse a que no tiene una hiperparametrización correcta.\n",
    "\n",
    "Entre otros posibles elegidos entran el XGBoost y el Decision Tree. El primero con métricas menores que el segundo, pero he de recordar que tanto el Random Forest como el XGBoost y el LightGBM son modelos que también dependen de sus hiperparámetros y tienen potencial de mejora. Más potencial aún que por ejemplo el decision tree, que a pesar de tener métricas levemente superiores, no cuenta con esa capacidad de mejorar mucho como si lo harían estos modelos más complejos también basados en árboles.\n",
    "\n",
    "Ya llegando al mejor modelo, al menos en cuanto a métricas, tenemos al GaussianNB. El mismo obtuvo buen f1 y f2, pero cuenta con una desventaja similar a un árbol de decisión simple, y es que no se puede hacer una búsqueda exaustiva de mejora de hiperparámetros como por ejemplo si podría hacer con los modelos de bagging o boosting, por ello he decidido darle oportunidad a modelos de ese tipo también.\n",
    "\n",
    "El modelo que utilizaré de estos ensambladores que comenté es el LightGBM, que además de haber obtenido buenas métricas, es el mejor en cuanto a tiempos de procesamiento de entre los modelos más complejos elegidos (bagging y boosting) y a su vez posee una capacidad de mejora seguramente superior al GaussianNB, por lo que lo considero una buena opción de entre los probados a pesar de no mostrar de entrada las mejores métricas. De igual manera, una vez hiperparametrizado y probado en más datasets, si no mejora al GaussianNB, podría replantearme esta decisión."
   ]
  },
  {
   "cell_type": "markdown",
   "id": "23412e8f-30aa-4063-a22b-a63b7598e67f",
   "metadata": {},
   "source": [
    "***\n",
    "# 2. Comparación de datasets\n",
    "\n",
    "Con los modelos elegido, en este caso el LightGBM y GaussianNB, voy a comprobar que set de datos obtiene mejores métricas. De esta manera también voy a obtener una comparación más amplia de cómo se desarrollan los modelos con distintas configuraciones de los datos y así decidir entre ambos definitivamente.\n",
    "\n",
    "Como ya conozco las del dataset base (train_1), voy a probar con las demás variantes:"
   ]
  },
  {
   "cell_type": "code",
   "execution_count": 175,
   "id": "69ea26ac-179e-43fc-ae10-736f51bd0527",
   "metadata": {
    "tags": []
   },
   "outputs": [
    {
     "name": "stdout",
     "output_type": "stream",
     "text": [
      "\u001b[1mSet completo\u001b[0m\n",
      "\n",
      "Accuracy: 0.92613\n",
      "Balanced Accuracy: 0.66591\n",
      "\u001b[1mF2 score: 0.19044\u001b[0m\n",
      "\u001b[1mF1 score: 0.10666\u001b[0m\n",
      "Precision: 0.06154\n",
      "Recall: 0.39983\n",
      "\n",
      "Confusion Matrix:\n",
      "[[193562  14122]\n",
      " [  1390    926]]\n",
      "____________________________________________________________________________________________\n",
      "\u001b[1mSet con PCA\u001b[0m\n",
      "\n",
      "Accuracy: 0.93941\n",
      "Balanced Accuracy: 0.67113\n",
      "\u001b[1mF2 score: 0.21362\u001b[0m\n",
      "\u001b[1mF1 score: 0.12622\u001b[0m\n",
      "Precision: 0.07504\n",
      "Recall: 0.39680\n",
      "\n",
      "Confusion Matrix:\n",
      "[[196357  11327]\n",
      " [  1397    919]]\n",
      "____________________________________________________________________________________________\n",
      "\u001b[1mSet Undersampling\u001b[0m\n",
      "\n",
      "Accuracy: 0.89413\n",
      "Balanced Accuracy: 0.72552\n",
      "\u001b[1mF2 score: 0.20178\u001b[0m\n",
      "\u001b[1mF1 score: 0.10333\u001b[0m\n",
      "Precision: 0.05699\n",
      "Recall: 0.55311\n",
      "\n",
      "Confusion Matrix:\n",
      "[[186487  21197]\n",
      " [  1035   1281]]\n",
      "____________________________________________________________________________________________\n",
      "\u001b[1mSet Oversampling\u001b[0m\n",
      "\n",
      "Accuracy: 0.85011\n",
      "Balanced Accuracy: 0.73956\n",
      "\u001b[1mF2 score: 0.17556\u001b[0m\n",
      "\u001b[1mF1 score: 0.08441\u001b[0m\n",
      "Precision: 0.04526\n",
      "Recall: 0.62651\n",
      "\n",
      "Confusion Matrix:\n",
      "[[177073  30611]\n",
      " [   865   1451]]\n",
      "____________________________________________________________________________________________\n",
      "\u001b[1mSet Mix Over + Under sampling\u001b[0m\n",
      "\n",
      "Accuracy: 0.84968\n",
      "Balanced Accuracy: 0.73998\n",
      "\u001b[1mF2 score: 0.17550\u001b[0m\n",
      "\u001b[1mF1 score: 0.08435\u001b[0m\n",
      "Precision: 0.04521\n",
      "Recall: 0.62781\n",
      "\n",
      "Confusion Matrix:\n",
      "[[176978  30706]\n",
      " [   862   1454]]\n",
      "____________________________________________________________________________________________\n",
      "\u001b[1mSet scaled\u001b[0m\n",
      "\n",
      "Accuracy: 0.93941\n",
      "Balanced Accuracy: 0.67113\n",
      "\u001b[1mF2 score: 0.21362\u001b[0m\n",
      "\u001b[1mF1 score: 0.12622\u001b[0m\n",
      "Precision: 0.07504\n",
      "Recall: 0.39680\n",
      "\n",
      "Confusion Matrix:\n",
      "[[196357  11327]\n",
      " [  1397    919]]\n",
      "____________________________________________________________________________________________\n",
      "CPU times: total: 5.81 s\n",
      "Wall time: 9.51 s\n"
     ]
    }
   ],
   "source": [
    "%%time\n",
    "gnb = GaussianNB()\n",
    "datasets_train = [[X_train_complete, y_train_complete]\\\n",
    "                 ,[X_train_pca, y_train_1]\\\n",
    "                 ,[X_train_under, y_train_under]\\\n",
    "                 ,[X_train_over, y_train_over]\\\n",
    "                 ,[X_train_mix, y_train_mix]\\\n",
    "                 ,[X_train_scaled, y_train_1]\n",
    "                 ]\n",
    "\n",
    "datasets_validation = [[X_val_complete, y_val_complete]\\\n",
    "                      ,[X_val_pca, y_val]\\\n",
    "                      ,[X_val, y_val]\\\n",
    "                      ,[X_val, y_val]\\\n",
    "                      ,[X_val, y_val]\\\n",
    "                      ,[X_val_scaled, y_val]\n",
    "                       ]\n",
    "\n",
    "names = ['Set completo','Set con PCA', 'Set Undersampling', 'Set Oversampling', 'Set Mix Over + Under sampling', 'Set scaled']\n",
    "\n",
    "for train, val, name in zip(datasets_train, datasets_validation, names):\n",
    "    gnb.fit(train[0], train[1])   \n",
    "    y_pred_gnb = gnb.predict(val[0])\n",
    "    print(f'\\033[1m{name}\\033[0m')\n",
    "    fr.metrics_summ(val[1], y_pred_gnb)\n",
    "    print(\"____________________________________________________________________________________________\")\n"
   ]
  },
  {
   "cell_type": "code",
   "execution_count": 317,
   "id": "07dbb42f-a9d8-477a-ba19-9fc5c4e12414",
   "metadata": {},
   "outputs": [
    {
     "name": "stdout",
     "output_type": "stream",
     "text": [
      "\u001b[1mSet completo\u001b[0m\n",
      "\n",
      "Accuracy: 0.98857\n",
      "Balanced Accuracy: 0.52179\n",
      "\u001b[1mF2 score: 0.05390\u001b[0m\n",
      "\u001b[1mF1 score: 0.07905\u001b[0m\n",
      "Precision: 0.35517\n",
      "Recall: 0.04447\n",
      "\n",
      "Confusion Matrix:\n",
      "[[207497    187]\n",
      " [  2213    103]]\n",
      "____________________________________________________________________________________________\n",
      "\u001b[1mSet con PCA\u001b[0m\n",
      "\n",
      "Accuracy: 0.98848\n",
      "Balanced Accuracy: 0.52067\n",
      "\u001b[1mF2 score: 0.05123\u001b[0m\n",
      "\u001b[1mF1 score: 0.07492\u001b[0m\n",
      "Precision: 0.32667\n",
      "Recall: 0.04231\n",
      "\n",
      "Confusion Matrix:\n",
      "[[207482    202]\n",
      " [  2218     98]]\n",
      "____________________________________________________________________________________________\n",
      "\u001b[1mSet Undersampling\u001b[0m\n",
      "\n",
      "Accuracy: 0.97969\n",
      "Balanced Accuracy: 0.63023\n",
      "\u001b[1mF2 score: 0.25327\u001b[0m\n",
      "\u001b[1mF1 score: 0.22861\u001b[0m\n",
      "Precision: 0.19670\n",
      "Recall: 0.27288\n",
      "\n",
      "Confusion Matrix:\n",
      "[[205103   2581]\n",
      " [  1684    632]]\n",
      "____________________________________________________________________________________________\n",
      "\u001b[1mSet Oversampling\u001b[0m\n",
      "\n",
      "Accuracy: 0.98872\n",
      "Balanced Accuracy: 0.51866\n",
      "\u001b[1mF2 score: 0.04635\u001b[0m\n",
      "\u001b[1mF1 score: 0.06918\u001b[0m\n",
      "Precision: 0.38596\n",
      "Recall: 0.03800\n",
      "\n",
      "Confusion Matrix:\n",
      "[[207544    140]\n",
      " [  2228     88]]\n",
      "____________________________________________________________________________________________\n",
      "\u001b[1mSet Mix Over + Under sampling\u001b[0m\n",
      "\n",
      "Accuracy: 0.98861\n",
      "Balanced Accuracy: 0.52907\n",
      "\u001b[1mF2 score: 0.07126\u001b[0m\n",
      "\u001b[1mF1 score: 0.10281\u001b[0m\n",
      "Precision: 0.39255\n",
      "Recall: 0.05915\n",
      "\n",
      "Confusion Matrix:\n",
      "[[207472    212]\n",
      " [  2179    137]]\n",
      "____________________________________________________________________________________________\n",
      "\u001b[1mSet scaled\u001b[0m\n",
      "\n",
      "Accuracy: 0.98847\n",
      "Balanced Accuracy: 0.51896\n",
      "\u001b[1mF2 score: 0.04713\u001b[0m\n",
      "\u001b[1mF1 score: 0.06920\u001b[0m\n",
      "Precision: 0.31579\n",
      "Recall: 0.03886\n",
      "\n",
      "Confusion Matrix:\n",
      "[[207489    195]\n",
      " [  2226     90]]\n",
      "____________________________________________________________________________________________\n",
      "CPU times: total: 1min 1s\n",
      "Wall time: 25.2 s\n"
     ]
    }
   ],
   "source": [
    "%%time\n",
    "lgbm = LGBMClassifier(verbosity=-1)\n",
    "datasets_train = [[X_train_complete, y_train_complete]\\\n",
    "                 ,[X_train_pca, y_train_1]\\\n",
    "                 ,[X_train_under, y_train_under]\\\n",
    "                 ,[X_train_over, y_train_over]\\\n",
    "                 ,[X_train_mix, y_train_mix]\\\n",
    "                 ,[X_train_scaled, y_train_1]\n",
    "                 ]\n",
    "\n",
    "datasets_validation = [[X_val_complete, y_val_complete]\\\n",
    "                      ,[X_val_pca, y_val]\\\n",
    "                      ,[X_val, y_val]\\\n",
    "                      ,[X_val, y_val]\\\n",
    "                      ,[X_val, y_val]\\\n",
    "                      ,[X_val_scaled, y_val]\n",
    "                       ]\n",
    "\n",
    "names = ['Set completo','Set con PCA', 'Set Undersampling', 'Set Oversampling', 'Set Mix Over + Under sampling', 'Set scaled']\n",
    "\n",
    "for train, val, name in zip(datasets_train, datasets_validation, names):\n",
    "    lgbm.fit(train[0], train[1])   \n",
    "    y_pred_lgbm = lgbm.predict(val[0])\n",
    "    print(f'\\033[1m{name}\\033[0m')\n",
    "    fr.metrics_summ(val[1], y_pred_lgbm)\n",
    "    print(\"____________________________________________________________________________________________\")\n"
   ]
  },
  {
   "cell_type": "markdown",
   "id": "c96ad9aa-b89e-4adb-8f6e-ab90e30e640a",
   "metadata": {},
   "source": [
    "### Conclusión de la comparación\n",
    "\n",
    "Realizar esta comparativa resultó ser realmente interesante, ya que son varias las conclusiones que podemos sacar:\n",
    "\n",
    "1. En primer lugar y más importante, es que el set con UnderSampling parece ser el que mejor resultados da, sorprendentemente con gran diferencia vs los demás. He de mencionar que realicé algunas pruebas en cuanto al % de balanceado que se le realizó al dataset, para no abusar de la eliminación de los datos y manetener buenas métricas. Estas pruebas podrán encontrarse en el notebook Experiments de la carpeta Experiments.\n",
    "2. Con mejores resultados me refiero a que aumentan mucho el F1 y el F2 con respecto a los demás manteniendo el Accuracy. Aún así, ese aumento del F1 se debe sobre todo al aumento del Recall, mientras que la precisión es menor a los datasets con OverSampling. Será interesante ver si con ajustes en los hiperparámetros esta métrica puede mejorar.\n",
    "3. Es interesante recalcar también que el mix de UnderSampling y OverSampling no da tan mal resultado, mejorando al set que solo tiene undersampling y manteniendo una cantidad de datos similar al train base.\n",
    "4. Es interesante también ver como haber recortado algunas variables no solo ha mantenido las métricas del modelo, sino que las ha mejorado. Esto lo podemos observar comparando las métricas del modelo con las variables recortadas (el primero que calculamos en la comparativa de modelos) y las del set completo, donde el primero mejora tanto en precision como en Recall al segundo, con el mismo accuracy y con una menor necesidad de procesamiento por el simple hecho de tener menos atributos.\n",
    "5. También se descarta por completo la idea de que las variables del PCA pudiesen mejorar el modelo, ya que como vemos, parecen simplemente haber incluído ruido innecesario, empeorando las métricas del mismo.\n",
    "6. El LightGBM logra los mejores resultados con el Undersampling y parece que puede seguir mejorando, aún más que el GaussianNB.\n",
    "\n",
    "Una vez determinado tanto el modelo como el set a utilizar, procederé a llevar a cabo la búsqueda de hiperparámetros."
   ]
  },
  {
   "cell_type": "markdown",
   "id": "e5e2855f-efb2-4136-afe1-7b9f28cf7627",
   "metadata": {},
   "source": [
    "## Búsqueda de hiperparámetros\n",
    "\n",
    "En la <a href='https://lightgbm.readthedocs.io/en/latest/Parameters-Tuning.html'>documentación de LightGBM</a> se dan algunos consejos sobre el tunning de los hiperparámetros del modelo, los cuales por cierto pueden ser muchos más. En ellos me basaré para decidir sobre algunas de las opciones que agregaré a mi grid de parámetros.\n",
    "\n",
    "Yo me he dedicado a comprobar entre los principales nombrados, siguiendo algunas indicaciones para determinar los valores elegidos, intentando que no permitan el overfitting ni underfitting.. Creo que los parametros elegidos se adaptan bien al tamaño del dataset y permiten una buena variedad de opciones en el cálculo.\n",
    "\n",
    "Los mismos serán evaluados con un Random Search, el cual normalmente obtiene resultados similares a un Grid Search pero con tiempos de procesamiento menores. Mientras que el GridSearchCV tardó horas en correr, la capacidad computacional requerida no vale la mínima mejora que puede ofrecer en el resultado final.\n",
    "\n",
    "Al ya haber seleccionado el modelo y el dataset a utilizar finalmente, ésta búsqueda de hiperparámetros se realizará en un dataset que combina tanto el train como el validation set, logrando así utilizar una mayor cantidad de datos en el análisis, debido a que la comparación ahora será contra el set de Test. Una vez obtenidos los hiperparámetros, la implementación del modelo y sus medidas se realizarán en un siguiente notebook aparte.\n",
    "\n",
    "Además de los parámetos incluídos en el RandomSearchCV de este notebook he probado con algunos otros como reg_alpha, reg_lambda, min_child_samples, entre algunos otros, pero sin obtener grandes cambios a medida que los probaba. Por ende decidí finalmente incluír los hiperparámetros que se verán a continuación:"
   ]
  },
  {
   "cell_type": "markdown",
   "id": "210b8eaa-9b1a-45b4-8d80-82325c902f8e",
   "metadata": {},
   "source": [
    "#### Vuelvo a combinar Test y Validation y realizo Undersampling, obteniendo el set de Train base para este análisis (X_train_2 e y_train_2):"
   ]
  },
  {
   "cell_type": "code",
   "execution_count": 361,
   "id": "7372a258-e3f8-49cd-908c-9d8e84e9a187",
   "metadata": {
    "tags": []
   },
   "outputs": [
    {
     "data": {
      "text/plain": [
       "((104220, 29),\n",
       " fraud_bool\n",
       " 0    0.925926\n",
       " 1    0.074074\n",
       " Name: proportion, dtype: float64)"
      ]
     },
     "execution_count": 361,
     "metadata": {},
     "output_type": "execute_result"
    }
   ],
   "source": [
    "undersamp = RandomUnderSampler(sampling_strategy=0.08, random_state=seed)\n",
    "X_train_2, y_train_2 = undersamp.fit_resample(X_train_0, y_train_0)\n",
    "\n",
    "X_train_2.shape, y_train_2.value_counts(normalize=True)"
   ]
  },
  {
   "cell_type": "markdown",
   "id": "3bd33d5a-940b-40fe-b3e7-eb9406800d86",
   "metadata": {},
   "source": [
    "Obtenemos un dataset de train de 104220 instancias y los 29 atributos, en este caso con un poco menos de desbalanceo que el set original.\n",
    "\n",
    "Con este dataset procederemos a realizar la búsqueda de hiperparámetros:"
   ]
  },
  {
   "cell_type": "code",
   "execution_count": 40,
   "id": "aab38142-2c09-4c18-90f7-233a39888cca",
   "metadata": {
    "tags": []
   },
   "outputs": [
    {
     "data": {
      "text/plain": [
       "85"
      ]
     },
     "execution_count": 40,
     "metadata": {},
     "output_type": "execute_result"
    }
   ],
   "source": [
    "round(2**7/1.5)"
   ]
  },
  {
   "cell_type": "code",
   "execution_count": 178,
   "id": "181d986c-f8f6-4117-b036-11a3f4f1fc6c",
   "metadata": {
    "tags": []
   },
   "outputs": [
    {
     "name": "stdout",
     "output_type": "stream",
     "text": [
      "{'num_leaves': 341, 'n_estimators ': 700, 'min_data_in_leaf': 1400, 'max_depth': 8, 'learning_rate': 0.05}\n",
      "0.25798832219915413\n",
      "CPU times: total: 22.6 s\n",
      "Wall time: 3min 6s\n"
     ]
    }
   ],
   "source": [
    "%%time\n",
    "f2_scorer = make_scorer(fbeta_score, beta=2)\n",
    "\n",
    "lgbm = LGBMClassifier(verbosity=-1)\n",
    "param_grid = { \n",
    "    'max_depth' : [8,9,10]\n",
    "    ,'num_leaves' : [round(2**8/1.5), round(2**9/1.5), round(2**10/1.5)] # La documentación de LightGBM comenta que num_leaves se relaciona con el max_depth así: (num_leaves = (2^max_depth/1.5))\n",
    "    ,'min_data_in_leaf' :[1400,1600,1800]\n",
    "    ,'n_estimators ': [500,600,700]\n",
    "    ,'learning_rate': [0.01, 0.02, 0.05]\n",
    "}\n",
    "\n",
    "scoring = {'f2':f2_scorer,'f1':'f1','accuracy':'accuracy', 'balanced_accuracy':'balanced_accuracy', 'precision':'precision', 'recall':'recall','roc_auc':'roc_auc'}\n",
    "\n",
    "CV_rs = RandomizedSearchCV(lgbm, param_grid, cv=10, random_state=seed, n_jobs=2, scoring=scoring, refit='f2')\n",
    "\n",
    "CV_rs.fit(X_train_2, y_train_2)  \n",
    "print(CV_rs.best_params_)    \n",
    "print(CV_rs.best_score_)"
   ]
  },
  {
   "cell_type": "code",
   "execution_count": 231,
   "id": "c109a19b-f3b6-44c5-b334-24a6d2ab99ca",
   "metadata": {
    "tags": []
   },
   "outputs": [
    {
     "name": "stdout",
     "output_type": "stream",
     "text": [
      "{'subsample': 0.9765642642862611, 'num_leaves': 492, 'n_estimators ': 682, 'min_data_in_leaf': 1750, 'min_child_samples': 30, 'max_depth': 8, 'learning_rate': 0.04518040718374688, 'colsample_bytree': 0.8266937778128787}\n",
      "0.5635438663811159\n",
      "CPU times: total: 1min 5s\n",
      "Wall time: 6min 10s\n"
     ]
    }
   ],
   "source": [
    "%%time\n",
    "f2_scorer = make_scorer(fbeta_score, beta=2)\n",
    "\n",
    "lgbm = LGBMClassifier(verbosity=-1, objetive='binary', is_unbalance=True)\n",
    "param_grid = { \n",
    "    'max_depth' : np.random.randint(3,10,10)\n",
    "    ,'num_leaves' : np.random.randint(round(2**3/1.5),round(2**10/1.5),20) # La documentación de LightGBM comenta que num_leaves se relaciona con el max_depth así: (num_leaves = (2^max_depth/1.5))\n",
    "    ,'min_data_in_leaf' : np.random.randint(1000,2000,20)\n",
    "    ,'n_estimators ': np.random.randint(100,700,10)\n",
    "    ,'learning_rate': np.random.uniform(0.01, 0.05,10)\n",
    "    ,'subsample': np.random.uniform(0.8,1,10)\n",
    "    ,'colsample_bytree': np.random.uniform(0.8,1,10)\n",
    "    ,'min_child_samples': np.random.randint(20,500,20)\n",
    "    #,'reg_alpha': [0,0.1,0.5,2,5]\n",
    "    #,'reg_lambda': [0,0.1,0.5,2,5]\n",
    "}\n",
    "\n",
    "scoring = {'f2':f2_scorer,'f1':'f1','accuracy':'accuracy', 'balanced_accuracy':'balanced_accuracy', 'precision':'precision', 'recall':'recall','roc_auc':'roc_auc'}\n",
    "\n",
    "CV_rs3 = RandomizedSearchCV(lgbm, param_grid, n_iter=50, cv=10, random_state=seed, n_jobs=-1, scoring=scoring, refit='f2')\n",
    "\n",
    "CV_rs3.fit(X_train_2, y_train_2)  \n",
    "print(CV_rs3.best_params_)    \n",
    "print(CV_rs3.best_score_)"
   ]
  },
  {
   "cell_type": "code",
   "execution_count": 178,
   "id": "2e3846ee-7ebb-46a3-b8ca-6a15b0c1496f",
   "metadata": {},
   "outputs": [
    {
     "data": {
      "text/html": [
       "<style>#sk-container-id-11 {color: black;}#sk-container-id-11 pre{padding: 0;}#sk-container-id-11 div.sk-toggleable {background-color: white;}#sk-container-id-11 label.sk-toggleable__label {cursor: pointer;display: block;width: 100%;margin-bottom: 0;padding: 0.3em;box-sizing: border-box;text-align: center;}#sk-container-id-11 label.sk-toggleable__label-arrow:before {content: \"▸\";float: left;margin-right: 0.25em;color: #696969;}#sk-container-id-11 label.sk-toggleable__label-arrow:hover:before {color: black;}#sk-container-id-11 div.sk-estimator:hover label.sk-toggleable__label-arrow:before {color: black;}#sk-container-id-11 div.sk-toggleable__content {max-height: 0;max-width: 0;overflow: hidden;text-align: left;background-color: #f0f8ff;}#sk-container-id-11 div.sk-toggleable__content pre {margin: 0.2em;color: black;border-radius: 0.25em;background-color: #f0f8ff;}#sk-container-id-11 input.sk-toggleable__control:checked~div.sk-toggleable__content {max-height: 200px;max-width: 100%;overflow: auto;}#sk-container-id-11 input.sk-toggleable__control:checked~label.sk-toggleable__label-arrow:before {content: \"▾\";}#sk-container-id-11 div.sk-estimator input.sk-toggleable__control:checked~label.sk-toggleable__label {background-color: #d4ebff;}#sk-container-id-11 div.sk-label input.sk-toggleable__control:checked~label.sk-toggleable__label {background-color: #d4ebff;}#sk-container-id-11 input.sk-hidden--visually {border: 0;clip: rect(1px 1px 1px 1px);clip: rect(1px, 1px, 1px, 1px);height: 1px;margin: -1px;overflow: hidden;padding: 0;position: absolute;width: 1px;}#sk-container-id-11 div.sk-estimator {font-family: monospace;background-color: #f0f8ff;border: 1px dotted black;border-radius: 0.25em;box-sizing: border-box;margin-bottom: 0.5em;}#sk-container-id-11 div.sk-estimator:hover {background-color: #d4ebff;}#sk-container-id-11 div.sk-parallel-item::after {content: \"\";width: 100%;border-bottom: 1px solid gray;flex-grow: 1;}#sk-container-id-11 div.sk-label:hover label.sk-toggleable__label {background-color: #d4ebff;}#sk-container-id-11 div.sk-serial::before {content: \"\";position: absolute;border-left: 1px solid gray;box-sizing: border-box;top: 0;bottom: 0;left: 50%;z-index: 0;}#sk-container-id-11 div.sk-serial {display: flex;flex-direction: column;align-items: center;background-color: white;padding-right: 0.2em;padding-left: 0.2em;position: relative;}#sk-container-id-11 div.sk-item {position: relative;z-index: 1;}#sk-container-id-11 div.sk-parallel {display: flex;align-items: stretch;justify-content: center;background-color: white;position: relative;}#sk-container-id-11 div.sk-item::before, #sk-container-id-11 div.sk-parallel-item::before {content: \"\";position: absolute;border-left: 1px solid gray;box-sizing: border-box;top: 0;bottom: 0;left: 50%;z-index: -1;}#sk-container-id-11 div.sk-parallel-item {display: flex;flex-direction: column;z-index: 1;position: relative;background-color: white;}#sk-container-id-11 div.sk-parallel-item:first-child::after {align-self: flex-end;width: 50%;}#sk-container-id-11 div.sk-parallel-item:last-child::after {align-self: flex-start;width: 50%;}#sk-container-id-11 div.sk-parallel-item:only-child::after {width: 0;}#sk-container-id-11 div.sk-dashed-wrapped {border: 1px dashed gray;margin: 0 0.4em 0.5em 0.4em;box-sizing: border-box;padding-bottom: 0.4em;background-color: white;}#sk-container-id-11 div.sk-label label {font-family: monospace;font-weight: bold;display: inline-block;line-height: 1.2em;}#sk-container-id-11 div.sk-label-container {text-align: center;}#sk-container-id-11 div.sk-container {/* jupyter's `normalize.less` sets `[hidden] { display: none; }` but bootstrap.min.css set `[hidden] { display: none !important; }` so we also need the `!important` here to be able to override the default hidden behavior on the sphinx rendered scikit-learn.org. See: https://github.com/scikit-learn/scikit-learn/issues/21755 */display: inline-block !important;position: relative;}#sk-container-id-11 div.sk-text-repr-fallback {display: none;}</style><div id=\"sk-container-id-11\" class=\"sk-top-container\"><div class=\"sk-text-repr-fallback\"><pre>LGBMClassifier(learning_rate=0.05, max_depth=10, min_data_in_leaf=1600,\n",
       "               n_estimators =500, num_leaves=171, verbosity=-1)</pre><b>In a Jupyter environment, please rerun this cell to show the HTML representation or trust the notebook. <br />On GitHub, the HTML representation is unable to render, please try loading this page with nbviewer.org.</b></div><div class=\"sk-container\" hidden><div class=\"sk-item\"><div class=\"sk-estimator sk-toggleable\"><input class=\"sk-toggleable__control sk-hidden--visually\" id=\"sk-estimator-id-11\" type=\"checkbox\" checked><label for=\"sk-estimator-id-11\" class=\"sk-toggleable__label sk-toggleable__label-arrow\">LGBMClassifier</label><div class=\"sk-toggleable__content\"><pre>LGBMClassifier(learning_rate=0.05, max_depth=10, min_data_in_leaf=1600,\n",
       "               n_estimators =500, num_leaves=171, verbosity=-1)</pre></div></div></div></div></div>"
      ],
      "text/plain": [
       "LGBMClassifier(learning_rate=0.05, max_depth=10, min_data_in_leaf=1600,\n",
       "               n_estimators =500, num_leaves=171, verbosity=-1)"
      ]
     },
     "execution_count": 178,
     "metadata": {},
     "output_type": "execute_result"
    }
   ],
   "source": [
    "CV_rs.best_estimator_"
   ]
  },
  {
   "cell_type": "code",
   "execution_count": 177,
   "id": "299d00b9-810c-4668-a34d-8218fa2376fc",
   "metadata": {
    "tags": []
   },
   "outputs": [
    {
     "data": {
      "text/plain": [
       "{'num_leaves': 171,\n",
       " 'n_estimators ': 500,\n",
       " 'min_data_in_leaf': 1600,\n",
       " 'max_depth': 10,\n",
       " 'learning_rate': 0.05}"
      ]
     },
     "execution_count": 177,
     "metadata": {},
     "output_type": "execute_result"
    }
   ],
   "source": [
    "CV_rs.best_params_"
   ]
  },
  {
   "cell_type": "code",
   "execution_count": 179,
   "id": "3a2a2e16-de71-4a93-a2fa-51fb2453403c",
   "metadata": {
    "tags": []
   },
   "outputs": [
    {
     "data": {
      "text/plain": [
       "0.2662043589147888"
      ]
     },
     "execution_count": 179,
     "metadata": {},
     "output_type": "execute_result"
    }
   ],
   "source": [
    "CV_rs.best_score_"
   ]
  },
  {
   "cell_type": "code",
   "execution_count": 188,
   "id": "dcde036e-b69e-43a1-8595-3314269426a3",
   "metadata": {
    "tags": []
   },
   "outputs": [
    {
     "name": "stdout",
     "output_type": "stream",
     "text": [
      "0:\n",
      "mean_test_accuracy: 0.93013\n",
      "mean_test_f2: 0.09721\n",
      "mean_test_f1: 0.14455\n",
      "mean_test_precision: 0.77639\n",
      "mean_test_recall: 0.07979\n",
      "mean_test_roc_auc: 0.87967\n",
      "1:\n",
      "mean_test_accuracy: 0.92593\n",
      "mean_test_f2: 0.00000\n",
      "mean_test_f1: 0.00000\n",
      "mean_test_precision: 0.00000\n",
      "mean_test_recall: 0.00000\n",
      "mean_test_roc_auc: 0.86256\n",
      "2:\n",
      "mean_test_accuracy: 0.93564\n",
      "mean_test_f2: 0.26620\n",
      "mean_test_f1: 0.34658\n",
      "mean_test_precision: 0.69878\n",
      "mean_test_recall: 0.23057\n",
      "mean_test_roc_auc: 0.89207\n",
      "3:\n",
      "mean_test_accuracy: 0.93535\n",
      "mean_test_f2: 0.25685\n",
      "mean_test_f1: 0.33680\n",
      "mean_test_precision: 0.70111\n",
      "mean_test_recall: 0.22176\n",
      "mean_test_roc_auc: 0.89159\n",
      "4:\n",
      "mean_test_accuracy: 0.93045\n",
      "mean_test_f2: 0.10454\n",
      "mean_test_f1: 0.15450\n",
      "mean_test_precision: 0.77627\n",
      "mean_test_recall: 0.08601\n",
      "mean_test_roc_auc: 0.87984\n",
      "5:\n",
      "mean_test_accuracy: 0.93013\n",
      "mean_test_f2: 0.09721\n",
      "mean_test_f1: 0.14455\n",
      "mean_test_precision: 0.77639\n",
      "mean_test_recall: 0.07979\n",
      "mean_test_roc_auc: 0.87967\n",
      "6:\n",
      "mean_test_accuracy: 0.93540\n",
      "mean_test_f2: 0.26316\n",
      "mean_test_f1: 0.34292\n",
      "mean_test_precision: 0.69512\n",
      "mean_test_recall: 0.22785\n",
      "mean_test_roc_auc: 0.89179\n",
      "7:\n",
      "mean_test_accuracy: 0.92593\n",
      "mean_test_f2: 0.00000\n",
      "mean_test_f1: 0.00000\n",
      "mean_test_precision: 0.00000\n",
      "mean_test_recall: 0.00000\n",
      "mean_test_roc_auc: 0.86364\n",
      "8:\n",
      "mean_test_accuracy: 0.93540\n",
      "mean_test_f2: 0.26316\n",
      "mean_test_f1: 0.34292\n",
      "mean_test_precision: 0.69512\n",
      "mean_test_recall: 0.22785\n",
      "mean_test_roc_auc: 0.89179\n",
      "9:\n",
      "mean_test_accuracy: 0.93016\n",
      "mean_test_f2: 0.09646\n",
      "mean_test_f1: 0.14359\n",
      "mean_test_precision: 0.78258\n",
      "mean_test_recall: 0.07915\n",
      "mean_test_roc_auc: 0.87988\n"
     ]
    }
   ],
   "source": [
    "for i in range(0,10):\n",
    "    print(f'{i}:')\n",
    "    for metric in metrics:\n",
    "        print(f'{metric}: {CV_rs.cv_results_[metric][i-1]:.5f}')"
   ]
  },
  {
   "cell_type": "markdown",
   "id": "ace02123-653a-46d4-8a73-1cdd8d708cf1",
   "metadata": {},
   "source": [
    "***\n",
    "# Exportamos Dataset y entrenamiento\n",
    "\n",
    "Luego de haber determinado el modelo a utilizar, la configuración de datos óptimo para dicho modelo y sus hiperparámetros, procedo a exportar lo obtenido. El modelo definitivo será entrenado y medido en el siguiente notebook.\n",
    "\n",
    "Además, también importaré el dataset de test y realizaré el recorte de variables que hicimos en train."
   ]
  },
  {
   "cell_type": "code",
   "execution_count": null,
   "id": "953d9be0-ba2b-4433-874d-07e05caa6196",
   "metadata": {
    "tags": []
   },
   "outputs": [],
   "source": []
  },
  {
   "cell_type": "code",
   "execution_count": null,
   "id": "dc260b3f-ec5c-4b62-af43-0ea9e5e96c07",
   "metadata": {
    "tags": []
   },
   "outputs": [],
   "source": []
  },
  {
   "cell_type": "code",
   "execution_count": 365,
   "id": "06fc7bb5-dc99-431e-81a7-ed3ab4c84274",
   "metadata": {},
   "outputs": [
    {
     "data": {
      "text/plain": [
       "(300000, 30)"
      ]
     },
     "execution_count": 365,
     "metadata": {},
     "output_type": "execute_result"
    }
   ],
   "source": [
    "df_fraud_test = pd.read_csv('../data/interim/df_fraud_test.csv')\n",
    "df_fraud_test = fr.feature_selection(fr.preprocessing_mix(df_fraud_train).fit(df_fraud_train,df_fraud_train.fraud_bool).transform(df_fraud_test))\n",
    "df_fraud_test.shape"
   ]
  },
  {
   "cell_type": "code",
   "execution_count": 190,
   "id": "f1b91e2a-dbe5-45e1-bb0b-9305ccd32422",
   "metadata": {},
   "outputs": [],
   "source": [
    "pd.concat([X_train_2,y_train_2], axis=1).to_csv('../data/processed/df_train_undersamp_ready.csv', index=False)\n",
    "df_fraud_test.to_csv('../data/processed/df_test_cut_ready_to_model.csv', index=False)"
   ]
  },
  {
   "cell_type": "code",
   "execution_count": 191,
   "id": "325b0038-b22a-4fac-93c3-35cf3351e534",
   "metadata": {},
   "outputs": [
    {
     "data": {
      "text/plain": [
       "['../models/CV_lgbm.joblib']"
      ]
     },
     "execution_count": 191,
     "metadata": {},
     "output_type": "execute_result"
    }
   ],
   "source": [
    "dump(CV_rs, '../models/CV_lgbm.joblib')"
   ]
  },
  {
   "cell_type": "code",
   "execution_count": null,
   "id": "71a070d7-b8d2-4bb0-ba81-b2e3b170a3c2",
   "metadata": {},
   "outputs": [],
   "source": []
  },
  {
   "cell_type": "code",
   "execution_count": 87,
   "id": "acb52748-0fc9-40c4-95d9-303d3d964cb2",
   "metadata": {
    "tags": []
   },
   "outputs": [],
   "source": [
    "df_fraud_test = pd.read_csv('../data/processed/df_test_ready_to_model2.csv')"
   ]
  },
  {
   "cell_type": "code",
   "execution_count": 366,
   "id": "57a2c0c1-6b6a-41e1-96ae-3237946c9596",
   "metadata": {
    "tags": []
   },
   "outputs": [],
   "source": [
    "X_test = df_fraud_test.drop('fraud_bool', axis=1)\n",
    "y_test = df_fraud_test.fraud_bool"
   ]
  },
  {
   "cell_type": "code",
   "execution_count": 233,
   "id": "bea8bdfe-c55c-4dbc-a6fd-1e5546b66167",
   "metadata": {
    "tags": []
   },
   "outputs": [
    {
     "data": {
      "text/plain": [
       "{'num_leaves': 341,\n",
       " 'n_estimators ': 700,\n",
       " 'min_data_in_leaf': 1400,\n",
       " 'max_depth': 8,\n",
       " 'learning_rate': 0.05}"
      ]
     },
     "execution_count": 233,
     "metadata": {},
     "output_type": "execute_result"
    }
   ],
   "source": [
    "CV_rs.best_params_"
   ]
  },
  {
   "cell_type": "code",
   "execution_count": 235,
   "id": "e863ff18-17bd-4b5a-b25f-9236e1952b52",
   "metadata": {
    "tags": []
   },
   "outputs": [
    {
     "data": {
      "text/plain": [
       "{'subsample': 0.9765642642862611,\n",
       " 'num_leaves': 492,\n",
       " 'n_estimators ': 682,\n",
       " 'min_data_in_leaf': 1750,\n",
       " 'min_child_samples': 30,\n",
       " 'max_depth': 8,\n",
       " 'learning_rate': 0.04518040718374688,\n",
       " 'colsample_bytree': 0.8266937778128787}"
      ]
     },
     "execution_count": 235,
     "metadata": {},
     "output_type": "execute_result"
    }
   ],
   "source": [
    "CV_rs3.best_params_"
   ]
  },
  {
   "cell_type": "code",
   "execution_count": 269,
   "id": "771f4143-debb-4900-a849-fc53e724f71d",
   "metadata": {
    "tags": []
   },
   "outputs": [
    {
     "name": "stdout",
     "output_type": "stream",
     "text": [
      "\n",
      "Accuracy: 0.97956\n",
      "Balanced Accuracy: 0.64451\n",
      "\u001b[1mF2 score: 0.27664\u001b[0m\n",
      "\u001b[1mF1 score: 0.24579\u001b[0m\n",
      "Precision: 0.20726\n",
      "Recall: 0.30190\n",
      "\n",
      "Confusion Matrix:\n",
      "[[292870   3821]\n",
      " [  2310    999]]\n",
      "CPU times: total: 10.2 s\n",
      "Wall time: 4.16 s\n"
     ]
    }
   ],
   "source": [
    "%%time\n",
    "lgbm = LGBMClassifier(num_leaves=492\n",
    "                      ,n_estimators=300\n",
    "                      ,min_data_in_leaf=1750\n",
    "                      ,max_depth=6 # disminuyo este valor para alivianar un poco y porque me pareció que podía dar mejor resultado, y así fue\n",
    "                      ,learning_rate=0.1 # aumento un poco el learning_rate porque la cantidad de datos aumenta y así mejoran un poquito las métricas\n",
    "                      ,subsample=0.97 # redondeo\n",
    "                      ,min_child_samples=180\n",
    "                      ,colsample_bytree=0.83 #redondeo\n",
    "                      ,verbosity=-1)\n",
    "\n",
    "lgbm.fit(X_train_2,y_train_2)\n",
    "\n",
    "y_pred = lgbm.predict(X_test)\n",
    "\n",
    "fr.metrics_summ(y_test, y_pred)"
   ]
  },
  {
   "cell_type": "code",
   "execution_count": 220,
   "id": "4792f0ca-f5a2-4f4b-b9a9-831002efdc20",
   "metadata": {
    "tags": []
   },
   "outputs": [
    {
     "name": "stdout",
     "output_type": "stream",
     "text": [
      "\n",
      "Accuracy: 0.97893\n",
      "Balanced Accuracy: 0.64778\n",
      "\u001b[1mF2 score: 0.27960\u001b[0m\n",
      "\u001b[1mF1 score: 0.24453\u001b[0m\n",
      "Precision: 0.20225\n",
      "Recall: 0.30916\n",
      "\n",
      "Confusion Matrix:\n",
      "[[292656   4035]\n",
      " [  2286   1023]]\n",
      "CPU times: total: 34.6 s\n",
      "Wall time: 11.3 s\n"
     ]
    }
   ],
   "source": [
    "%%time\n",
    "lgbm = LGBMClassifier(num_leaves=341\\\n",
    "                      ,n_estimators=700\\\n",
    "                      ,min_data_in_leaf=1400\\\n",
    "                      ,max_depth=8\\\n",
    "                      ,learning_rate=0.05\n",
    "                      ,verbosity=-1)\n",
    "\n",
    "lgbm.fit(X_train_2,y_train_2)\n",
    "\n",
    "y_pred = lgbm.predict(X_test)\n",
    "\n",
    "fr.metrics_summ(y_test, y_pred)"
   ]
  },
  {
   "cell_type": "code",
   "execution_count": 367,
   "id": "cc129fc5-516f-452c-b02c-4d87d75f8ec5",
   "metadata": {
    "tags": []
   },
   "outputs": [
    {
     "name": "stdout",
     "output_type": "stream",
     "text": [
      "\n",
      "Accuracy: 0.97988\n",
      "Balanced Accuracy: 0.64318\n",
      "\u001b[1mF2 score: 0.27561\u001b[0m\n",
      "\u001b[1mF1 score: 0.24679\u001b[0m\n",
      "Precision: 0.21016\n",
      "Recall: 0.29888\n",
      "\n",
      "Confusion Matrix:\n",
      "[[292974   3717]\n",
      " [  2320    989]]\n",
      "CPU times: total: 10.5 s\n",
      "Wall time: 4.04 s\n"
     ]
    }
   ],
   "source": [
    "%%time\n",
    "lgbm = LGBMClassifier(num_leaves=476\n",
    "                      ,n_estimators=308\n",
    "                      ,min_data_in_leaf=1560\n",
    "                      ,max_depth=5 # disminuyo este valor para alivianar un poco y porque me pareció que podía dar mejor resultado, y así fue\n",
    "                      ,learning_rate=0.1 # aumento un poco el learning_rate porque la cantidad de datos aumenta y así mejoran un poquito las métricas\n",
    "                      ,subsample=0.9 # redondeo\n",
    "                      ,min_child_samples=180\n",
    "                      ,colsample_bytree=0.9 #redondeo\n",
    "                      ,verbosity=-1)\n",
    "\n",
    "lgbm.fit(X_train_2,y_train_2)\n",
    "\n",
    "y_pred = lgbm.predict(X_test)\n",
    "\n",
    "fr.metrics_summ(y_test, y_pred)"
   ]
  },
  {
   "cell_type": "code",
   "execution_count": null,
   "id": "d87b232a-a381-40c5-bda2-8fcbe9696475",
   "metadata": {},
   "outputs": [],
   "source": []
  },
  {
   "cell_type": "code",
   "execution_count": 368,
   "id": "360659ee-c467-4a1e-855c-9d29ede889c3",
   "metadata": {
    "tags": []
   },
   "outputs": [],
   "source": [
    "y_pred_proba = lgbm.predict_proba(X_test)"
   ]
  },
  {
   "cell_type": "code",
   "execution_count": 222,
   "id": "eb18a3b9-4e3f-40c6-b976-e3b60275b3a2",
   "metadata": {
    "tags": []
   },
   "outputs": [
    {
     "data": {
      "text/plain": [
       "array([[9.81043282e-01, 1.89567180e-02],\n",
       "       [9.98397600e-01, 1.60240048e-03],\n",
       "       [7.42990441e-01, 2.57009559e-01],\n",
       "       ...,\n",
       "       [9.95876048e-01, 4.12395180e-03],\n",
       "       [9.99100647e-01, 8.99353190e-04],\n",
       "       [9.88847170e-01, 1.11528300e-02]])"
      ]
     },
     "execution_count": 222,
     "metadata": {},
     "output_type": "execute_result"
    }
   ],
   "source": [
    "y_pred_proba"
   ]
  },
  {
   "cell_type": "code",
   "execution_count": 378,
   "id": "b872f214-442b-4e74-8b0e-c821c6e6e5bf",
   "metadata": {
    "tags": []
   },
   "outputs": [
    {
     "name": "stdout",
     "output_type": "stream",
     "text": [
      "\n",
      "Accuracy: 0.96528\n",
      "Balanced Accuracy: 0.71155\n",
      "\u001b[1mF2 score: 0.32055\u001b[0m\n",
      "\u001b[1mF1 score: 0.22315\u001b[0m\n",
      "Precision: 0.14813\n",
      "Recall: 0.45210\n",
      "\n",
      "Confusion Matrix:\n",
      "[[288088   8603]\n",
      " [  1813   1496]]\n"
     ]
    }
   ],
   "source": [
    "y_pred_th = np.where(y_pred_proba[:,1]>0.344,1,0)\n",
    "fr.metrics_summ(y_test, y_pred_th)"
   ]
  },
  {
   "cell_type": "code",
   "execution_count": null,
   "id": "5ffba72b-bf49-4bc2-bd4f-1ebe7d6541b2",
   "metadata": {},
   "outputs": [],
   "source": []
  }
 ],
 "metadata": {
  "kernelspec": {
   "display_name": "practica0",
   "language": "python",
   "name": "practica0"
  },
  "language_info": {
   "codemirror_mode": {
    "name": "ipython",
    "version": 3
   },
   "file_extension": ".py",
   "mimetype": "text/x-python",
   "name": "python",
   "nbconvert_exporter": "python",
   "pygments_lexer": "ipython3",
   "version": "3.9.18"
  }
 },
 "nbformat": 4,
 "nbformat_minor": 5
}
