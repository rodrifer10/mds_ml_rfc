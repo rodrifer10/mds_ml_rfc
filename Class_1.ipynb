{
 "cells": [
  {
   "cell_type": "markdown",
   "id": "f967921b-d2eb-4da9-9fb3-0c7da9334ada",
   "metadata": {},
   "source": [
    "# Introducción a la materia\n",
    "\n",
    "Las 3 claves matemáticas de los modelos de ML son 3:\n",
    "* Derivadas\n",
    "* Cálculos MATRICIALES (toda la info en matrices)\n",
    "* Estadísticas: Testear el dato, analizar, predecir y comprender los datos.\n",
    "\n",
    "En cuestión de datos: Partimos de la desconfianza. Testear y conocer todos los datos bien.\n",
    "\n",
    "**El código óptimo NO es el más corto, es el mejor ordenado, más fácil de leer y eficiente!**\n",
    "\n",
    "**MUCHAS FUNCIONES PARA TODO! Esto va a ser muy importante, es el core de la programación al final...**\n",
    "\n",
    "Comentar el código, ser organizado en las carpetas, y demás...\n",
    "\n",
    "ChatGPT: Permitido. En muchas empresas se prohibe por protección de datos. Cuidado HAY QUE USARLO\n",
    "(curioso: si sos educado suele funcionar mejor, wtf)\n",
    "\n",
    "\n",
    "MUY importante: COMPRENDER porque el modelo me da X o Y respuesta. Y no solo el resultado, sino COMO LLEGA A ESO!\n",
    "\n",
    "Una de las habilidades CRUCIALES de un DS es SQL. Es IMPRESCINDIBLE, y los exámenes para empresas es MUY importante!\n"
   ]
  },
  {
   "cell_type": "markdown",
   "id": "59808c11-3c7a-476f-bf6d-50f6acfa3d94",
   "metadata": {},
   "source": [
    "### En cuanto a los datos:\n",
    "\n",
    "1. **Quality** of the data\n",
    "    - OJO, no todos los datos que nos den para prácticas o lo que sea se tienen que utilizar. Pueden haber anomalías, nulos, etc...\n",
    "    - Los NULLs pueden llegar a ser válidos/útiles para el modelo\n",
    "        - Si hay problemas en la recolección, ahí seguramente se deberían eliminar\n",
    "        - Que el usuario NO quiso entregarlo, en ese caso si podría ser útil\n",
    "\n",
    "NO por probar más modelos se es mejor!\n",
    "\n",
    "Tmb es clave la limpieza y validez de los datos. Puede ser más efectivo y preciso un dato limpio que más complejidad del modelo!"
   ]
  },
  {
   "cell_type": "markdown",
   "id": "fd98ee8d-87d2-4ec3-9b84-bd5824ee0be7",
   "metadata": {},
   "source": [
    "# ¿Como programar?\n",
    "\n",
    "1. Planificar que queremos hacer\n",
    "\n",
    "2. EVITAR REPETIR CÓDIGO: **FUNCIONES**. No solo pq es mejor el código, sino pq además es mucho más trasladable y reutilizable!\n",
    "\n",
    "3. **GUÍA DE ESTILO: (https://peps.python.org/pep-0008/)**:\n",
    "    - Esto es **SAGRADO**. NO se puede nombrar variables, funciones, clases y demás como queramos!!!\n",
    "    - Buenas prácticas! **Y ESTO ES CRUCIAL PARA APROBAR LA MATERIA EH**\n",
    "    - IDENTACIÓN, nombres, variables, etc!!!\n",
    "    - Longitud de las líneas, links, strings y demás dentro de funciones o lo que sea. **¡¡¡PARAMETRIZACIÓN!!! (METER TODAS LAS COSAS EN VARIABLES!) ficheros, rutas, todo!**\n",
    "    - RUTAS RELATIVAS SIEMPRE!!! **Causal de reprobar**\n",
    "    - Carpetas! data, model, doc, raw, y demás! Si pongo una ruta absoluta **NO VA A CORRER EL CÓDIGO! POR ESO USAR RUTAS RELATIVAS!**\n",
    "    - **Parametrización**\n",
    "    - Las variables se nombran de una forma, las variables de otra, las clases de otras y demás! (PyCharm x ej lo hace solo a esto, está bueno probarlo)\n",
    "\n",
    "4. Encontrar exactamente donde falla el código, buscar las razones y registrarlo. Y consultar. Internet, chatgpt, stackoverflow, etc.\n",
    "\n",
    "5. Cambiar y testear solo una cosa a la vez\n",
    "\n",
    "6. Evaluar constantemente lo que se hace en el desarrollo y consultar constantemente el rdo del código en el proceso\n",
    "\n",
    "7. CONTROL DE VERSIONES: Super importante. v.1., v.2., v.3., etc.\n",
    "\n",
    "8. DOCUMENTAR BIEN EL CÓDIGO!\n",
    "\n",
    "9. **MANEJO DE CONSOLA**. Crear directorios y demás, todo mediante consola!\n",
    "    - dir\n",
    "    - ls --> es el dir de linux!\n",
    "    - mkdir\n",
    "    - cd\n",
    "    - rmdir\n",
    "    - dir\n",
    "    - create\n",
    "    - crear ficheros y demás!\n",
    "    - USAMOS EL PROMPT DE ANACONDA POR LO GENERAL!\n",
    "\n",
    "10. **VER COMO ORGANIZAR LAS CARPETAS, REPOS Y DEMÁS DE GITHUB!**\n",
    "\n",
    "\n"
   ]
  },
  {
   "cell_type": "code",
   "execution_count": null,
   "id": "f38ebab3-242c-4f41-8800-56c564ee8691",
   "metadata": {},
   "outputs": [],
   "source": []
  },
  {
   "cell_type": "code",
   "execution_count": null,
   "id": "000bbca4-1a04-4da6-ba5d-12e7bd8d56c4",
   "metadata": {},
   "outputs": [],
   "source": []
  },
  {
   "cell_type": "code",
   "execution_count": null,
   "id": "6baf3ef9-69f8-4330-942f-20c254392b90",
   "metadata": {},
   "outputs": [],
   "source": []
  },
  {
   "cell_type": "code",
   "execution_count": null,
   "id": "8b9cae40-3705-4fcf-9fd7-beb5f288825f",
   "metadata": {},
   "outputs": [],
   "source": []
  },
  {
   "cell_type": "code",
   "execution_count": null,
   "id": "0a0ca82e-ff5b-4fde-9c27-3e4b6c73e950",
   "metadata": {},
   "outputs": [],
   "source": []
  },
  {
   "cell_type": "code",
   "execution_count": null,
   "id": "44560de5-c6f1-491b-989e-57e33a9e3d7c",
   "metadata": {},
   "outputs": [],
   "source": []
  },
  {
   "cell_type": "code",
   "execution_count": null,
   "id": "c715b697-7c04-44cc-a7c7-f267e919ef27",
   "metadata": {},
   "outputs": [],
   "source": []
  }
 ],
 "metadata": {
  "kernelspec": {
   "display_name": "Python 3 (ipykernel)",
   "language": "python",
   "name": "python3"
  },
  "language_info": {
   "codemirror_mode": {
    "name": "ipython",
    "version": 3
   },
   "file_extension": ".py",
   "mimetype": "text/x-python",
   "name": "python",
   "nbconvert_exporter": "python",
   "pygments_lexer": "ipython3",
   "version": "3.9.13"
  }
 },
 "nbformat": 4,
 "nbformat_minor": 5
}
