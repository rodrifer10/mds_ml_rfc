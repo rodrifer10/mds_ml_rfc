{
 "cells": [
  {
   "cell_type": "markdown",
   "id": "aef82f24-8cef-47ee-a049-f9f49ba57554",
   "metadata": {},
   "source": [
    "## Teoría muy importante la de hoy. Ver Filminas junto a esto.\n",
    "# Big Data:\n",
    "\n",
    "Agregación de info NO estructurada a los modelos. Cada vez se agrega más de este tipo de info y se procesan más.\n",
    "\n",
    "1. <font color='deepskyblue'> **Introduction.pdf** </font>\n",
    "\n",
    "**Clave**\n",
    "## Scalability:\n",
    "\n",
    "#### Dos maneras de programar:\n",
    "* **Secuencial Processing**: El que vamos a ver. Una cosa a la vez en orden.\n",
    "* **Parallel Processing**: No lo vamos a ver tanto pero es importante saber manejarlo sobre todo para trabajos...\n",
    "    - El programa ejecuta vamos procesos al mismo tiempo, no tiene que terminar uno para empezar el otro\n",
    "    - Mucho procesamiento requerido!\n",
    "\n",
    "En árboles de decisión, en realidad más con Random Forest, se puede mostrar bien el Parallel Processing. Muchos árboles se ejecutan al mismo tiempo y luego se obtienen resultados, por voting o por lo que sea. Importante el concepto del intervalo de confianza que aparece en RF.\n",
    "\n",
    "Si el random forest fuese secuencial, tardaría muchísimo y se agotaría más. La clave del RF es que se ejecute en Parallel Processing. Obviamente esto viene en librerías como SKL y demás. Obviamente esto a su vez requiere mucha potencia y vamos a usar lo que tienen empresas, que son clusters de computadoras y demás (un pc máster y nodos).\n",
    "\n",
    "Se puede hacer en un solo pc? Si, en cada procesador se podría ejecutar un hilo de ejecución. Pero a pequeña escala.\n",
    "\n",
    "La clave es que para DL, RF y demás, es el Parallel Processing. En los videojuegos pasa lo mismo, es muy importante!\n",
    "\n",
    "PySpark es lo que nos permite trabajar con esto además! Para generar el DataSet, de entrada vamos a tener bases de datos que unir y calcular.\n",
    "\n",
    "## Gráficos --> Explicación de conceptos\n",
    "\n",
    "Es MUY importante que los gráficos sean **claros y no manipulados**. Todo tiene su ciencia:\n",
    "* Colores y significados\n",
    "* Gráficos elegidos según variables\n",
    "* Escalas (Clave muchas veces)\n",
    "* Etc.\n",
    "\n",
    "Es fundamental saber 'vender' el proyecto hoy en día!\n",
    "\n",
    "### CLAVE: SESGOS EN LOS DATOS (Hay una Slide muy importante de esto!)\n",
    "\n",
    "Hay modelos de alto riesgo, como medicina o lo que sea, tiene que demostrar que NO TIENE SEGÚN QUE SESGOS.\n",
    "\n",
    "Tipos:\n",
    "* **Sesgo Histórico**: No consideré todos los datos.\n",
    "    - Muchas veces es buscado, por ejemplo, para ciertos modelos hay que ver si usar datos de pandemia o no!\n",
    "* **Sesgo de representación**: Encuestas con no toda la gente de la población total\n",
    "* **Sesgo de medida**: Estoy midiendo de manera subjetiva o no estoy midiendo bien variaciones de datos x ej.\n",
    "* **Sesgo de aprendizaje**: No controlar bien train, test y validation. Distribuir la poblacion bien, tener similitudes entre grupos, etc.\n",
    "* **Sesgo de Evaluación**: Estoy evaluando con DataSets no alineados con los de aprendizaje\n",
    "* **Sesgo de agregación**: Tengo un modelo y lo combino con reglas de negocio sin comprenderlo de la mejor manera. Si mi modelo da un output que no es coherente con las reglas de mi negocio tengo que ver a que hacerle caso y demás. El encaje del modelo en el negocio puede verse mal usado aveces y se puede incurrir en este problema.\n",
    "* **Sesgo de implementación**: No uso bien el sistema, no lo expliqué bien, no lo implementé bien, etc.\n",
    "\n",
    "***\n",
    "\n",
    "2. <font color='deepskyblue'> **ConceptosClave.pdf** </font>\n",
    "\n",
    "# Probablemente la parte más importante, o el PDF más importante de la clase:\n",
    "## Desagregación de la IA (o mejor dicho, de los algorítmos)\n",
    "\n",
    "Leer todos los esquemas y lo que viene antes de\n",
    "\n",
    "Artificial Intelligence --> Machine Learning --> Deep Learning --> IA Generartiva (es un pedacito de DL)\n",
    "\n",
    "**Algoritmo**: Secuencia de pasos ordenados para conseguir un objetivo. Corta.\n",
    "\n",
    "#### Estadística: Modelado de relaciones entre variables\n",
    "##### 2 grandes ramas:\n",
    "\n",
    "* Frecuentista:\n",
    "Calculos de medianas, quartiles, mean, distrib margin, desv. estandar, etc.\n",
    "\n",
    "* Bayesiana\n",
    "Uso de distribuciones, funciones de densidad, cuando intentamos traducir conocimientos de una muestra a toda una población.\n",
    "\n",
    "#### Inteligencia Artificial:\n",
    "NO es una tecnología, es un marco teórico, un sistema. La tecnología se usa para desarrollar IA.\n",
    "\n",
    "Algo está aprendiendo si mejora su performance con el tiempo hasta lograr acercarse mejor al cumplimiento de objetivos. Tiene que ir mejorando en pendiente constante, hasta llegar a la saturación.\n",
    "\n",
    "Si algo acierta el 5% es genial. Porque? Porque si lo doy vuelva acierta el 95% je.\n",
    "\n",
    "Si NO HAGO NADA, voy a estar en el 50% de los datos. En un modelo BINARIO obviamente. La línea base entonces sería el 50%\n",
    "\n",
    "##### Machine Learning:\n",
    "\n",
    "Aplicación de IA, obteniendo mejores resultados EN BASE A NUEVOS DATOS. Esa es la clave del ML.\n",
    "\n",
    "Antes se establecían MUCHAS REGLAS que hacían que el modelo tome X decisiones.\n",
    "\n",
    "AHORA, con los nuevos datos y el crecimiento de la incertidumbre, es imposible ir cambiando manualmente las reglas todo el tiempo!\n",
    "\n",
    "**Ahora: ESTUDIO EL PROBLEMA PARA FORMULARLO MATEMÁTICAMENTE Y QUE UN ALGORITMO LO RESUELVA!**\n",
    "\n",
    "Ya NO hay reglas, sino MODELOS capaces de otorgar ciertas soluciones y monitorizarlo, de manera automática tmb.\n",
    "\n",
    "###### AI pero NO ML:\n",
    "Sistema de EXPERTOS. Le doy refuerzos manuales en base a un experto real. No hay algorítmo que aprende en base a datos, sino que un experto dice como es X cosa, se busca en una base de datos cosas que coincidan con mi input. Es una parte de la IA que sería un sistema de expertos. Muy parecido al sistema de Reglas del que hablamos antes, pero mucho más complejo!\n",
    "\n",
    "\n",
    "## TIPOS DE ALGORITMOS: SUPERVISADOS Y NO SUPERVISADOS\n",
    "\n",
    "### Supervised Algotithms\n",
    "Los que más vamos a hacer por lo general\n",
    "\n",
    "No todos los modelos deben ser binarios, también pueden ser multiclases. Y ojo, los multiclases tmb se pueden convertir en binarios! Importante!\n",
    "\n",
    "Osea, un modelo de 3 clases, puede ser varios de 1 clase y otros, 2 clase y otros, 3 clase y otros.\n",
    "\n",
    "Los modelos supervisados están **ETIQUETADOS**. Esta es la clave de los supervisados!\n",
    "\n",
    "Por lo general los NO SUPERVISADOS son de CLUSTERING.\n",
    "\n",
    "https://teachablemachine.withgoogle.com/train/image\n",
    "\n",
    "## Train, Test, Validation sets!\n",
    "\n",
    "El TEST DATASET **solo se puede usar una vez** y tiene que ser completamente virgen cuando se use!\n",
    "\n",
    "**Validation DataSet**:\n",
    "\n",
    "En Deep Learning tengo que darle OTRO dataset que NO sea el de Test! Ahí aparece el de validación. *Es un dataset que tiene cositas de test, pero NO es el test pq no es con el que voy a medir el modelo, sino que simplemente lo va probando con este Validation DataSet*\n",
    "\n",
    "En ML lo vamos a usar de otra manera:\n",
    "\n",
    "Nuestro modelo va a tener HIPERPARÁMETROS, y para medir cual es la mejor configuración de Hiperparámetros vamos a usar un dataset ADICIONAL! Ese es el Validation DataSet en nuestro caso, sirve más o menos para lo mismo, para dejar virgen el Test DataSet y usar uno con el que podamos ir validando el de Train!\n",
    "\n",
    "\n",
    "### Preparing Data\n",
    "\n",
    "OJO, los datos pueden estar en un orden concreto! Por lo que elegir segmentos para diferentes grupos de uso PUEDE SER UN ERROR ENORME!\n",
    "\n",
    "Y no solo por orden temporal, sino tmb geográfico, que haya estacionalidad, etc.\n",
    "\n",
    "Muchas veces lo adecuado es hacer un SHUFFLE. OJO con las distribuciones, tipos poblacionales, proporciones y demás...\n",
    "\n",
    "Pero NO siempre interesa barajar! Depende siempre del problema que estoy intentando resolver!\n",
    "\n",
    "## Análisis Exploratorio de Datos o Análisis Descriptivo (EDA).\n",
    "\n",
    "Imagen CLAVE:\n",
    "\n",
    "https://www.codificandobits.com/blog/analisis-exploratorio-de-datos/\n",
    "\n",
    "https://www.youtube.com/watch?v=nuQrNHK7Frk&ab_channel=AntonioMatas\n",
    "\n",
    "\n",
    "NO se hace NADA de modelado hasta no tener un GRAN análisis descriptivo CON CONCLUSIONES!\n",
    "\n",
    "Clave: https://twitter.com/svpino/status/1542840465455607809\n",
    "\n",
    "Olvidarnos de que el TEST existe!\n",
    "\n",
    "**Pero OJO, al TEST SI SE LE PUEDE HACER UN EDA! Se debería hacer!**\n",
    "\n",
    "Y OJO TMB, A QUE ESTO NO NOS CONDICIONE A BUSCAR X O Y RESULTADOS O VARIABLES A USAR POR ESTAR CONDICIONADOS A COMO ES EL TEST. Esto es bastante interesante y a pensar.\n",
    "\n",
    "## CROSS VALIDATION\n",
    "\n",
    "Putadón: Inestabilidad de los modelos, que es??:\n",
    "**Que un modelo me de una cosa u otra según los datos del set de entrenamiento son unos u otros**\n",
    "\n",
    "Si yo barajeara diferentemente los datos de entrenamiento y me dieran resultados contrarios, eso sería un problema, NO SERÍA UN MODELO ROBUSTO!\n",
    "\n",
    "Para esto se hace el Cross Validation, puede servir mucho frente al esquema tan estático de Test-Train-Validation\n",
    "\n",
    "* Cuando se hace Cross Validation suele NO ser necesario usar datasets de validación\n",
    "* Porque se hacen muchas validaciones con muchas formas de separar Train y Test DataSets!\n",
    "\n",
    "**LA CLAVE DE ESTO es que el Cross Validation sirve para determinar EL MEJOR ALGORITMO, sin sesgos de mi elección de Train-Test. Una vez tengo claro que modelo usar, el modelo se entrena con todo y se utilizan los hiperparámetros con TODO! Y se usan los Hiperparámetros con todo el Train DataSet!**\n",
    "\n",
    "Los distintos Folds del Cross Validation NO SE USAN! El modelo final se entrena CON TODO! Osea, con todo el Train obviamente, el Test ya lo dejé afuera antes del CV!\n",
    "\n",
    "\n",
    "###### Una Neural Network es una máquina de olvidar info: intenta siempre quedarse con lo que le sirve pq sino es imposible.\n",
    "\n",
    "Todos los modelos tienen un TOPE, normalmente los modelos tradicionales (SVM, RF, etc.) tienen topes más bajos que una NN con muchos datos y de calidad, pueden ser muy superirores, pero dependen de eso!\n",
    "\n",
    "## Parametric Models: Importante!\n",
    "\n",
    "Paramétricos vs No Paramétricos::: Hay que saber diferenciarlos por supuesto\n",
    "\n",
    "* Paramétricos:\n",
    "    - Tiene variables y coeficientes, osea tiene PARÁMETROS. Sabemos que peso tienen sobre el total!\n",
    "    - Regresión lineal\n",
    "    - Regre logística\n",
    "    - Perceptrón en NN\n",
    "    - Cada variable tiene coeficientes (pesos), más fáciles de INTERPRETAR\n",
    "    - Sencillos, más fáciles de ejecutar, y por lo tanto menos precisos.\n",
    "    - Por ende, son para casos concretos\n",
    "\n",
    "* No paramétricos:\n",
    "    - Random Forest\n",
    "    - NO FORMULAS MATEMÁTICAS, NO COEFICIENTES DE VARIABLES, ETC\n",
    "    - Decision Trees\n",
    "    - SVM\n",
    "    - K-Means\n",
    "    - Etc.\n",
    "\n",
    "## Importante saber: Normalización, Regularización y Standarización!\n",
    "\n",
    "* Regularización:\n",
    "    - Normalmente hace referencia a una PENALIZACIÓN que se pone a los modelos para evitar que sean tan precisos, osea que NO SOBREAJUSTEN!\n",
    "* Normalización y Standarización:\n",
    "    - Manejar la misma escala en todas las dimensiones!!\n",
    "    - Se puede estandarizar a la normal 0,1, a la gaussiana, como quiera...\n",
    "\n",
    "BIAS y Variance... ver esto\n",
    "\n",
    "### HAY QUE ESCALAR SIEMPRE EN ML? NO!\n",
    "\n",
    "DEPENDE del modelo que estoy usando obviamente!\n",
    "\n",
    "* Si utilizo Random Forest, XGBoost, y demás NO DEBO ESCALAR! No va a servir de nada en estos modelos\n",
    "* En otros modelos supervisados suele ser recomendable!\n",
    "* En PCA siempre es recomendable por ejemplo!\n",
    "* En Gradient Descent puede no mejorar los rdos pero si a que encuentre más rápido la solución! Esto es importante tmb!\n",
    "\n",
    "##### Correlación NO es causalidad... obvio\n",
    "##### Y NO tiene sentido calcular correlación en variables categóricas!!!\n",
    "\n",
    "\n",
    "##### STRING NO ES LO MISMO QUE VARIABLE CATEGÓRICA! INTEGER PUEDE SER CATEGÓRICA TMB!!!\n",
    "Osea, TODAS LAS STRING son categóricas, pero NO TODOS LOS INTEGER LO SON!!!\n",
    "\n",
    "\n",
    "# Clave: BIAS (Sesgo) VS VARIANCE\n",
    "\n",
    "Me interesan modelos con BAJO BIAS y BAJA VARIANCE! Muy buena slide...\n",
    "\n",
    "* Un modelo sesgado tiene una tendencia errónea en los datos\n",
    "* Mucha varianza es que estén muy dispersos, estén sesgados o no. Osea que ANTE CAMBIOS MINIMOS EN UN VALOR LA DECISION CAMBIE MUCHO! O el valor de salida mejor dicho!\n",
    "\n",
    "Si hay poco Bias y poca Variance, las soluciones van a ser muy ajustadas! Si por el contrario hay sesgo, van a tender a un lado, o mucha varianza va a haber mucha variabilidad en los output que se vean ante pequeños cambios en el input!\n",
    "\n",
    "NO tienen relación entre ellas en principio! Puedo modificarlas y mejorarlas!\n",
    "\n",
    "\n",
    "\n",
    "***\n",
    "\n",
    "3. <font color='deepskyblue'> **ClassificationConcepts.pdf** </font>\n",
    "\n",
    "\n",
    "\n",
    "\n",
    "\n",
    "\n",
    "\n"
   ]
  },
  {
   "cell_type": "code",
   "execution_count": 3,
   "id": "cd9085f0-99bc-4ed1-9d5e-8378be91d674",
   "metadata": {
    "tags": []
   },
   "outputs": [],
   "source": [
    "from sklearn.datasets import load_iris\n",
    "from sklearn import tree\n",
    "iris = load_iris()\n",
    "X, y = iris.data, iris.target\n",
    "clf = tree.DecisionTreeClassifier()\n",
    "clf = clf.fit(X, y)"
   ]
  },
  {
   "cell_type": "code",
   "execution_count": 2,
   "id": "de675377-bc57-4f22-bc5f-3942d360e9a5",
   "metadata": {
    "tags": []
   },
   "outputs": [],
   "source": [
    "import pandas as pd\n",
    "import numpy as np\n",
    "from sklearn import tree"
   ]
  },
  {
   "cell_type": "code",
   "execution_count": 5,
   "id": "c6332949-ab72-4aa4-9823-13971d858d94",
   "metadata": {
    "tags": []
   },
   "outputs": [
    {
     "data": {
      "text/html": [
       "<div>\n",
       "<style scoped>\n",
       "    .dataframe tbody tr th:only-of-type {\n",
       "        vertical-align: middle;\n",
       "    }\n",
       "\n",
       "    .dataframe tbody tr th {\n",
       "        vertical-align: top;\n",
       "    }\n",
       "\n",
       "    .dataframe thead th {\n",
       "        text-align: right;\n",
       "    }\n",
       "</style>\n",
       "<table border=\"1\" class=\"dataframe\">\n",
       "  <thead>\n",
       "    <tr style=\"text-align: right;\">\n",
       "      <th></th>\n",
       "      <th>Passengerid</th>\n",
       "      <th>Age</th>\n",
       "      <th>Fare</th>\n",
       "      <th>Sex</th>\n",
       "      <th>sibsp</th>\n",
       "      <th>zero</th>\n",
       "      <th>zero.1</th>\n",
       "      <th>zero.2</th>\n",
       "      <th>zero.3</th>\n",
       "      <th>zero.4</th>\n",
       "      <th>zero.5</th>\n",
       "      <th>zero.6</th>\n",
       "      <th>Parch</th>\n",
       "      <th>zero.7</th>\n",
       "      <th>zero.8</th>\n",
       "      <th>zero.9</th>\n",
       "      <th>zero.10</th>\n",
       "      <th>zero.11</th>\n",
       "      <th>zero.12</th>\n",
       "      <th>zero.13</th>\n",
       "      <th>zero.14</th>\n",
       "      <th>Pclass</th>\n",
       "      <th>zero.15</th>\n",
       "      <th>zero.16</th>\n",
       "      <th>Embarked</th>\n",
       "      <th>zero.17</th>\n",
       "      <th>zero.18</th>\n",
       "      <th>2urvived</th>\n",
       "    </tr>\n",
       "  </thead>\n",
       "  <tbody>\n",
       "    <tr>\n",
       "      <th>0</th>\n",
       "      <td>1</td>\n",
       "      <td>22.0</td>\n",
       "      <td>7.2500</td>\n",
       "      <td>0</td>\n",
       "      <td>1</td>\n",
       "      <td>0</td>\n",
       "      <td>0</td>\n",
       "      <td>0</td>\n",
       "      <td>0</td>\n",
       "      <td>0</td>\n",
       "      <td>0</td>\n",
       "      <td>0</td>\n",
       "      <td>0</td>\n",
       "      <td>0</td>\n",
       "      <td>0</td>\n",
       "      <td>0</td>\n",
       "      <td>0</td>\n",
       "      <td>0</td>\n",
       "      <td>0</td>\n",
       "      <td>0</td>\n",
       "      <td>0</td>\n",
       "      <td>3</td>\n",
       "      <td>0</td>\n",
       "      <td>0</td>\n",
       "      <td>2.0</td>\n",
       "      <td>0</td>\n",
       "      <td>0</td>\n",
       "      <td>0</td>\n",
       "    </tr>\n",
       "    <tr>\n",
       "      <th>1</th>\n",
       "      <td>2</td>\n",
       "      <td>38.0</td>\n",
       "      <td>71.2833</td>\n",
       "      <td>1</td>\n",
       "      <td>1</td>\n",
       "      <td>0</td>\n",
       "      <td>0</td>\n",
       "      <td>0</td>\n",
       "      <td>0</td>\n",
       "      <td>0</td>\n",
       "      <td>0</td>\n",
       "      <td>0</td>\n",
       "      <td>0</td>\n",
       "      <td>0</td>\n",
       "      <td>0</td>\n",
       "      <td>0</td>\n",
       "      <td>0</td>\n",
       "      <td>0</td>\n",
       "      <td>0</td>\n",
       "      <td>0</td>\n",
       "      <td>0</td>\n",
       "      <td>1</td>\n",
       "      <td>0</td>\n",
       "      <td>0</td>\n",
       "      <td>0.0</td>\n",
       "      <td>0</td>\n",
       "      <td>0</td>\n",
       "      <td>1</td>\n",
       "    </tr>\n",
       "    <tr>\n",
       "      <th>2</th>\n",
       "      <td>3</td>\n",
       "      <td>26.0</td>\n",
       "      <td>7.9250</td>\n",
       "      <td>1</td>\n",
       "      <td>0</td>\n",
       "      <td>0</td>\n",
       "      <td>0</td>\n",
       "      <td>0</td>\n",
       "      <td>0</td>\n",
       "      <td>0</td>\n",
       "      <td>0</td>\n",
       "      <td>0</td>\n",
       "      <td>0</td>\n",
       "      <td>0</td>\n",
       "      <td>0</td>\n",
       "      <td>0</td>\n",
       "      <td>0</td>\n",
       "      <td>0</td>\n",
       "      <td>0</td>\n",
       "      <td>0</td>\n",
       "      <td>0</td>\n",
       "      <td>3</td>\n",
       "      <td>0</td>\n",
       "      <td>0</td>\n",
       "      <td>2.0</td>\n",
       "      <td>0</td>\n",
       "      <td>0</td>\n",
       "      <td>1</td>\n",
       "    </tr>\n",
       "    <tr>\n",
       "      <th>3</th>\n",
       "      <td>4</td>\n",
       "      <td>35.0</td>\n",
       "      <td>53.1000</td>\n",
       "      <td>1</td>\n",
       "      <td>1</td>\n",
       "      <td>0</td>\n",
       "      <td>0</td>\n",
       "      <td>0</td>\n",
       "      <td>0</td>\n",
       "      <td>0</td>\n",
       "      <td>0</td>\n",
       "      <td>0</td>\n",
       "      <td>0</td>\n",
       "      <td>0</td>\n",
       "      <td>0</td>\n",
       "      <td>0</td>\n",
       "      <td>0</td>\n",
       "      <td>0</td>\n",
       "      <td>0</td>\n",
       "      <td>0</td>\n",
       "      <td>0</td>\n",
       "      <td>1</td>\n",
       "      <td>0</td>\n",
       "      <td>0</td>\n",
       "      <td>2.0</td>\n",
       "      <td>0</td>\n",
       "      <td>0</td>\n",
       "      <td>1</td>\n",
       "    </tr>\n",
       "    <tr>\n",
       "      <th>4</th>\n",
       "      <td>5</td>\n",
       "      <td>35.0</td>\n",
       "      <td>8.0500</td>\n",
       "      <td>0</td>\n",
       "      <td>0</td>\n",
       "      <td>0</td>\n",
       "      <td>0</td>\n",
       "      <td>0</td>\n",
       "      <td>0</td>\n",
       "      <td>0</td>\n",
       "      <td>0</td>\n",
       "      <td>0</td>\n",
       "      <td>0</td>\n",
       "      <td>0</td>\n",
       "      <td>0</td>\n",
       "      <td>0</td>\n",
       "      <td>0</td>\n",
       "      <td>0</td>\n",
       "      <td>0</td>\n",
       "      <td>0</td>\n",
       "      <td>0</td>\n",
       "      <td>3</td>\n",
       "      <td>0</td>\n",
       "      <td>0</td>\n",
       "      <td>2.0</td>\n",
       "      <td>0</td>\n",
       "      <td>0</td>\n",
       "      <td>0</td>\n",
       "    </tr>\n",
       "  </tbody>\n",
       "</table>\n",
       "</div>"
      ],
      "text/plain": [
       "   Passengerid   Age     Fare  Sex  sibsp  zero  zero.1  zero.2  zero.3  \\\n",
       "0            1  22.0   7.2500    0      1     0       0       0       0   \n",
       "1            2  38.0  71.2833    1      1     0       0       0       0   \n",
       "2            3  26.0   7.9250    1      0     0       0       0       0   \n",
       "3            4  35.0  53.1000    1      1     0       0       0       0   \n",
       "4            5  35.0   8.0500    0      0     0       0       0       0   \n",
       "\n",
       "   zero.4  zero.5  zero.6  Parch  zero.7  zero.8  zero.9  zero.10  zero.11  \\\n",
       "0       0       0       0      0       0       0       0        0        0   \n",
       "1       0       0       0      0       0       0       0        0        0   \n",
       "2       0       0       0      0       0       0       0        0        0   \n",
       "3       0       0       0      0       0       0       0        0        0   \n",
       "4       0       0       0      0       0       0       0        0        0   \n",
       "\n",
       "   zero.12  zero.13  zero.14  Pclass  zero.15  zero.16  Embarked  zero.17  \\\n",
       "0        0        0        0       3        0        0       2.0        0   \n",
       "1        0        0        0       1        0        0       0.0        0   \n",
       "2        0        0        0       3        0        0       2.0        0   \n",
       "3        0        0        0       1        0        0       2.0        0   \n",
       "4        0        0        0       3        0        0       2.0        0   \n",
       "\n",
       "   zero.18  2urvived  \n",
       "0        0         0  \n",
       "1        0         1  \n",
       "2        0         1  \n",
       "3        0         1  \n",
       "4        0         0  "
      ]
     },
     "execution_count": 5,
     "metadata": {},
     "output_type": "execute_result"
    }
   ],
   "source": [
    "pd.options.display.max_columns = None\n",
    "# muestro todas las columns de un DF con esta config\n",
    "titanic = pd.read_csv('./data/titanic.csv')\n",
    "titanic.head()\n"
   ]
  },
  {
   "cell_type": "code",
   "execution_count": 6,
   "id": "4aa9ee92-9cfb-4f9c-a4f8-6fb0b18358c4",
   "metadata": {
    "tags": []
   },
   "outputs": [],
   "source": [
    "#Importamos la función para dividir los datos train_test_split\n",
    "\n",
    "from sklearn.model_selection import train_test_split"
   ]
  },
  {
   "cell_type": "code",
   "execution_count": 5,
   "id": "32bc1ede-62c5-44cf-a380-0027939cdbb5",
   "metadata": {
    "tags": []
   },
   "outputs": [],
   "source": [
    "# Seleccionamos por ejemplo, el 30% de los datos para el set de prueba\n",
    "\n",
    "#set_train, set_test = train_test_split(titanic, test_size=0.3, random_state=45)"
   ]
  },
  {
   "cell_type": "markdown",
   "id": "80e5c0ff-a503-401a-bc02-ec36a68a39bd",
   "metadata": {},
   "source": [
    "### OneHotEncoding o Dumming\n",
    "Pasar variables categóricas con una codificación binaria en una nueva columna\n",
    "\n",
    "Hay muchas formas de hacer encoding, las veremos más adelante...\n",
    "\n",
    "*Esto no siempre se puede hacer, depende del DataSet y del análisis obviamente...*"
   ]
  },
  {
   "cell_type": "code",
   "execution_count": null,
   "id": "a4dbdbc4-a94c-4a11-966a-7adca63c1d81",
   "metadata": {
    "tags": []
   },
   "outputs": [],
   "source": []
  },
  {
   "cell_type": "code",
   "execution_count": null,
   "id": "6c57a1f8-c252-4646-9243-2d0b7c279b30",
   "metadata": {
    "tags": []
   },
   "outputs": [],
   "source": []
  },
  {
   "cell_type": "code",
   "execution_count": 7,
   "id": "044d6d22-9b68-4632-8de2-c46cdc6d37ac",
   "metadata": {
    "tags": []
   },
   "outputs": [],
   "source": [
    "x = titanic.drop(['Passengerid','2urvived'],axis=1)\n",
    "# NUNCA utilizar los ID para modelar! Es muy importante removerlos del dataset de entrenamiento!\n",
    "# Separarlos siempre!\n",
    "y = titanic['2urvived']"
   ]
  },
  {
   "cell_type": "code",
   "execution_count": 7,
   "id": "9dedc8ad-5e7b-4122-a6dd-d5d4fd68cd75",
   "metadata": {
    "tags": []
   },
   "outputs": [],
   "source": [
    "#x = titanic[['Age','Fare','Sex','Embarked']]"
   ]
  },
  {
   "cell_type": "code",
   "execution_count": 8,
   "id": "67435173-4c4c-4804-b4ea-92522b2e9bc5",
   "metadata": {
    "tags": []
   },
   "outputs": [
    {
     "data": {
      "text/plain": [
       "0    0\n",
       "1    1\n",
       "2    1\n",
       "3    1\n",
       "4    0\n",
       "Name: 2urvived, dtype: int64"
      ]
     },
     "execution_count": 8,
     "metadata": {},
     "output_type": "execute_result"
    }
   ],
   "source": [
    "y.head()"
   ]
  },
  {
   "cell_type": "code",
   "execution_count": 9,
   "id": "1e3c4867-6754-4b47-a39c-baad3017a4aa",
   "metadata": {
    "tags": []
   },
   "outputs": [],
   "source": [
    "x_train, x_test, y_train, y_test = train_test_split(x,y, test_size=0.3, random_state=10)\n",
    "# Siempre recordar setear la seed en el notebook para controlar y testear bien los resultados\n",
    "\n",
    "# OJO, el shuffle es TRUE por defecto en SKL!!! Cuidado pq puede que NO lo quiera hacer en determinados casos..."
   ]
  },
  {
   "cell_type": "code",
   "execution_count": 10,
   "id": "1c256854-fb42-4f7b-a241-e16fa004e2b2",
   "metadata": {
    "tags": []
   },
   "outputs": [
    {
     "data": {
      "text/html": [
       "<div>\n",
       "<style scoped>\n",
       "    .dataframe tbody tr th:only-of-type {\n",
       "        vertical-align: middle;\n",
       "    }\n",
       "\n",
       "    .dataframe tbody tr th {\n",
       "        vertical-align: top;\n",
       "    }\n",
       "\n",
       "    .dataframe thead th {\n",
       "        text-align: right;\n",
       "    }\n",
       "</style>\n",
       "<table border=\"1\" class=\"dataframe\">\n",
       "  <thead>\n",
       "    <tr style=\"text-align: right;\">\n",
       "      <th></th>\n",
       "      <th>Age</th>\n",
       "      <th>Fare</th>\n",
       "      <th>Sex</th>\n",
       "      <th>sibsp</th>\n",
       "      <th>zero</th>\n",
       "      <th>zero.1</th>\n",
       "      <th>zero.2</th>\n",
       "      <th>zero.3</th>\n",
       "      <th>zero.4</th>\n",
       "      <th>zero.5</th>\n",
       "      <th>zero.6</th>\n",
       "      <th>Parch</th>\n",
       "      <th>zero.7</th>\n",
       "      <th>zero.8</th>\n",
       "      <th>zero.9</th>\n",
       "      <th>zero.10</th>\n",
       "      <th>zero.11</th>\n",
       "      <th>zero.12</th>\n",
       "      <th>zero.13</th>\n",
       "      <th>zero.14</th>\n",
       "      <th>Pclass</th>\n",
       "      <th>zero.15</th>\n",
       "      <th>zero.16</th>\n",
       "      <th>Embarked</th>\n",
       "      <th>zero.17</th>\n",
       "      <th>zero.18</th>\n",
       "    </tr>\n",
       "  </thead>\n",
       "  <tbody>\n",
       "    <tr>\n",
       "      <th>82</th>\n",
       "      <td>28.0</td>\n",
       "      <td>7.7875</td>\n",
       "      <td>1</td>\n",
       "      <td>0</td>\n",
       "      <td>0</td>\n",
       "      <td>0</td>\n",
       "      <td>0</td>\n",
       "      <td>0</td>\n",
       "      <td>0</td>\n",
       "      <td>0</td>\n",
       "      <td>0</td>\n",
       "      <td>0</td>\n",
       "      <td>0</td>\n",
       "      <td>0</td>\n",
       "      <td>0</td>\n",
       "      <td>0</td>\n",
       "      <td>0</td>\n",
       "      <td>0</td>\n",
       "      <td>0</td>\n",
       "      <td>0</td>\n",
       "      <td>3</td>\n",
       "      <td>0</td>\n",
       "      <td>0</td>\n",
       "      <td>1.0</td>\n",
       "      <td>0</td>\n",
       "      <td>0</td>\n",
       "    </tr>\n",
       "    <tr>\n",
       "      <th>577</th>\n",
       "      <td>39.0</td>\n",
       "      <td>55.9000</td>\n",
       "      <td>1</td>\n",
       "      <td>1</td>\n",
       "      <td>0</td>\n",
       "      <td>0</td>\n",
       "      <td>0</td>\n",
       "      <td>0</td>\n",
       "      <td>0</td>\n",
       "      <td>0</td>\n",
       "      <td>0</td>\n",
       "      <td>0</td>\n",
       "      <td>0</td>\n",
       "      <td>0</td>\n",
       "      <td>0</td>\n",
       "      <td>0</td>\n",
       "      <td>0</td>\n",
       "      <td>0</td>\n",
       "      <td>0</td>\n",
       "      <td>0</td>\n",
       "      <td>1</td>\n",
       "      <td>0</td>\n",
       "      <td>0</td>\n",
       "      <td>2.0</td>\n",
       "      <td>0</td>\n",
       "      <td>0</td>\n",
       "    </tr>\n",
       "    <tr>\n",
       "      <th>537</th>\n",
       "      <td>30.0</td>\n",
       "      <td>106.4250</td>\n",
       "      <td>1</td>\n",
       "      <td>0</td>\n",
       "      <td>0</td>\n",
       "      <td>0</td>\n",
       "      <td>0</td>\n",
       "      <td>0</td>\n",
       "      <td>0</td>\n",
       "      <td>0</td>\n",
       "      <td>0</td>\n",
       "      <td>0</td>\n",
       "      <td>0</td>\n",
       "      <td>0</td>\n",
       "      <td>0</td>\n",
       "      <td>0</td>\n",
       "      <td>0</td>\n",
       "      <td>0</td>\n",
       "      <td>0</td>\n",
       "      <td>0</td>\n",
       "      <td>1</td>\n",
       "      <td>0</td>\n",
       "      <td>0</td>\n",
       "      <td>0.0</td>\n",
       "      <td>0</td>\n",
       "      <td>0</td>\n",
       "    </tr>\n",
       "    <tr>\n",
       "      <th>454</th>\n",
       "      <td>28.0</td>\n",
       "      <td>8.0500</td>\n",
       "      <td>0</td>\n",
       "      <td>0</td>\n",
       "      <td>0</td>\n",
       "      <td>0</td>\n",
       "      <td>0</td>\n",
       "      <td>0</td>\n",
       "      <td>0</td>\n",
       "      <td>0</td>\n",
       "      <td>0</td>\n",
       "      <td>0</td>\n",
       "      <td>0</td>\n",
       "      <td>0</td>\n",
       "      <td>0</td>\n",
       "      <td>0</td>\n",
       "      <td>0</td>\n",
       "      <td>0</td>\n",
       "      <td>0</td>\n",
       "      <td>0</td>\n",
       "      <td>3</td>\n",
       "      <td>0</td>\n",
       "      <td>0</td>\n",
       "      <td>2.0</td>\n",
       "      <td>0</td>\n",
       "      <td>0</td>\n",
       "    </tr>\n",
       "    <tr>\n",
       "      <th>738</th>\n",
       "      <td>28.0</td>\n",
       "      <td>7.8958</td>\n",
       "      <td>0</td>\n",
       "      <td>0</td>\n",
       "      <td>0</td>\n",
       "      <td>0</td>\n",
       "      <td>0</td>\n",
       "      <td>0</td>\n",
       "      <td>0</td>\n",
       "      <td>0</td>\n",
       "      <td>0</td>\n",
       "      <td>0</td>\n",
       "      <td>0</td>\n",
       "      <td>0</td>\n",
       "      <td>0</td>\n",
       "      <td>0</td>\n",
       "      <td>0</td>\n",
       "      <td>0</td>\n",
       "      <td>0</td>\n",
       "      <td>0</td>\n",
       "      <td>3</td>\n",
       "      <td>0</td>\n",
       "      <td>0</td>\n",
       "      <td>2.0</td>\n",
       "      <td>0</td>\n",
       "      <td>0</td>\n",
       "    </tr>\n",
       "  </tbody>\n",
       "</table>\n",
       "</div>"
      ],
      "text/plain": [
       "      Age      Fare  Sex  sibsp  zero  zero.1  zero.2  zero.3  zero.4  zero.5  \\\n",
       "82   28.0    7.7875    1      0     0       0       0       0       0       0   \n",
       "577  39.0   55.9000    1      1     0       0       0       0       0       0   \n",
       "537  30.0  106.4250    1      0     0       0       0       0       0       0   \n",
       "454  28.0    8.0500    0      0     0       0       0       0       0       0   \n",
       "738  28.0    7.8958    0      0     0       0       0       0       0       0   \n",
       "\n",
       "     zero.6  Parch  zero.7  zero.8  zero.9  zero.10  zero.11  zero.12  \\\n",
       "82        0      0       0       0       0        0        0        0   \n",
       "577       0      0       0       0       0        0        0        0   \n",
       "537       0      0       0       0       0        0        0        0   \n",
       "454       0      0       0       0       0        0        0        0   \n",
       "738       0      0       0       0       0        0        0        0   \n",
       "\n",
       "     zero.13  zero.14  Pclass  zero.15  zero.16  Embarked  zero.17  zero.18  \n",
       "82         0        0       3        0        0       1.0        0        0  \n",
       "577        0        0       1        0        0       2.0        0        0  \n",
       "537        0        0       1        0        0       0.0        0        0  \n",
       "454        0        0       3        0        0       2.0        0        0  \n",
       "738        0        0       3        0        0       2.0        0        0  "
      ]
     },
     "execution_count": 10,
     "metadata": {},
     "output_type": "execute_result"
    }
   ],
   "source": [
    "x_train.head()"
   ]
  },
  {
   "cell_type": "code",
   "execution_count": 11,
   "id": "3d47ee4d-6566-43d1-aebd-941d9088917e",
   "metadata": {
    "tags": []
   },
   "outputs": [
    {
     "data": {
      "text/html": [
       "<div>\n",
       "<style scoped>\n",
       "    .dataframe tbody tr th:only-of-type {\n",
       "        vertical-align: middle;\n",
       "    }\n",
       "\n",
       "    .dataframe tbody tr th {\n",
       "        vertical-align: top;\n",
       "    }\n",
       "\n",
       "    .dataframe thead th {\n",
       "        text-align: right;\n",
       "    }\n",
       "</style>\n",
       "<table border=\"1\" class=\"dataframe\">\n",
       "  <thead>\n",
       "    <tr style=\"text-align: right;\">\n",
       "      <th></th>\n",
       "      <th>Age</th>\n",
       "      <th>Fare</th>\n",
       "      <th>Sex</th>\n",
       "      <th>sibsp</th>\n",
       "      <th>zero</th>\n",
       "      <th>zero.1</th>\n",
       "      <th>zero.2</th>\n",
       "      <th>zero.3</th>\n",
       "      <th>zero.4</th>\n",
       "      <th>zero.5</th>\n",
       "      <th>zero.6</th>\n",
       "      <th>Parch</th>\n",
       "      <th>zero.7</th>\n",
       "      <th>zero.8</th>\n",
       "      <th>zero.9</th>\n",
       "      <th>zero.10</th>\n",
       "      <th>zero.11</th>\n",
       "      <th>zero.12</th>\n",
       "      <th>zero.13</th>\n",
       "      <th>zero.14</th>\n",
       "      <th>Pclass</th>\n",
       "      <th>zero.15</th>\n",
       "      <th>zero.16</th>\n",
       "      <th>Embarked</th>\n",
       "      <th>zero.17</th>\n",
       "      <th>zero.18</th>\n",
       "    </tr>\n",
       "  </thead>\n",
       "  <tbody>\n",
       "    <tr>\n",
       "      <th>61</th>\n",
       "      <td>38.0</td>\n",
       "      <td>80.0</td>\n",
       "      <td>1</td>\n",
       "      <td>0</td>\n",
       "      <td>0</td>\n",
       "      <td>0</td>\n",
       "      <td>0</td>\n",
       "      <td>0</td>\n",
       "      <td>0</td>\n",
       "      <td>0</td>\n",
       "      <td>0</td>\n",
       "      <td>0</td>\n",
       "      <td>0</td>\n",
       "      <td>0</td>\n",
       "      <td>0</td>\n",
       "      <td>0</td>\n",
       "      <td>0</td>\n",
       "      <td>0</td>\n",
       "      <td>0</td>\n",
       "      <td>0</td>\n",
       "      <td>1</td>\n",
       "      <td>0</td>\n",
       "      <td>0</td>\n",
       "      <td>NaN</td>\n",
       "      <td>0</td>\n",
       "      <td>0</td>\n",
       "    </tr>\n",
       "    <tr>\n",
       "      <th>829</th>\n",
       "      <td>62.0</td>\n",
       "      <td>80.0</td>\n",
       "      <td>1</td>\n",
       "      <td>0</td>\n",
       "      <td>0</td>\n",
       "      <td>0</td>\n",
       "      <td>0</td>\n",
       "      <td>0</td>\n",
       "      <td>0</td>\n",
       "      <td>0</td>\n",
       "      <td>0</td>\n",
       "      <td>0</td>\n",
       "      <td>0</td>\n",
       "      <td>0</td>\n",
       "      <td>0</td>\n",
       "      <td>0</td>\n",
       "      <td>0</td>\n",
       "      <td>0</td>\n",
       "      <td>0</td>\n",
       "      <td>0</td>\n",
       "      <td>1</td>\n",
       "      <td>0</td>\n",
       "      <td>0</td>\n",
       "      <td>NaN</td>\n",
       "      <td>0</td>\n",
       "      <td>0</td>\n",
       "    </tr>\n",
       "  </tbody>\n",
       "</table>\n",
       "</div>"
      ],
      "text/plain": [
       "      Age  Fare  Sex  sibsp  zero  zero.1  zero.2  zero.3  zero.4  zero.5  \\\n",
       "61   38.0  80.0    1      0     0       0       0       0       0       0   \n",
       "829  62.0  80.0    1      0     0       0       0       0       0       0   \n",
       "\n",
       "     zero.6  Parch  zero.7  zero.8  zero.9  zero.10  zero.11  zero.12  \\\n",
       "61        0      0       0       0       0        0        0        0   \n",
       "829       0      0       0       0       0        0        0        0   \n",
       "\n",
       "     zero.13  zero.14  Pclass  zero.15  zero.16  Embarked  zero.17  zero.18  \n",
       "61         0        0       1        0        0       NaN        0        0  \n",
       "829        0        0       1        0        0       NaN        0        0  "
      ]
     },
     "execution_count": 11,
     "metadata": {},
     "output_type": "execute_result"
    }
   ],
   "source": [
    "x_train[x_train.Embarked.isna()]"
   ]
  },
  {
   "cell_type": "code",
   "execution_count": null,
   "id": "fb87826c-3d82-4531-ad84-aff8df2f91cd",
   "metadata": {},
   "outputs": [],
   "source": []
  },
  {
   "cell_type": "code",
   "execution_count": 12,
   "id": "54bea2df-8fe2-483d-bfb6-662a92088ddb",
   "metadata": {
    "tags": []
   },
   "outputs": [],
   "source": [
    "x_train.loc[x_train['Embarked'].isna(),'Embarked'] = 0"
   ]
  },
  {
   "cell_type": "code",
   "execution_count": 13,
   "id": "dc08602a-588d-4a9f-b3d6-e6020a5711e3",
   "metadata": {
    "tags": []
   },
   "outputs": [
    {
     "data": {
      "text/plain": [
       "82     1\n",
       "577    1\n",
       "537    1\n",
       "454    0\n",
       "738    0\n",
       "Name: 2urvived, dtype: int64"
      ]
     },
     "execution_count": 13,
     "metadata": {},
     "output_type": "execute_result"
    }
   ],
   "source": [
    "y_train.head()"
   ]
  },
  {
   "cell_type": "code",
   "execution_count": 14,
   "id": "347f49c4-aec4-4a0b-9969-4c7511dad556",
   "metadata": {
    "tags": []
   },
   "outputs": [],
   "source": [
    "clf = tree.DecisionTreeClassifier()"
   ]
  },
  {
   "cell_type": "code",
   "execution_count": 15,
   "id": "48e1816d-d577-4ef3-8f98-7000370c4bad",
   "metadata": {
    "tags": []
   },
   "outputs": [],
   "source": [
    "clf = clf.fit(x_train, y_train)"
   ]
  },
  {
   "cell_type": "code",
   "execution_count": 16,
   "id": "91110ae6-e32e-43bf-b59a-531db60dd578",
   "metadata": {
    "tags": []
   },
   "outputs": [
    {
     "data": {
      "text/plain": [
       "[Text(0.5447458422746781, 0.9761904761904762, 'x[2] <= 0.5\\ngini = 0.379\\nsamples = 916\\nvalue = [683, 233]'),\n",
       " Text(0.27285631258941345, 0.9285714285714286, 'x[1] <= 26.269\\ngini = 0.23\\nsamples = 596\\nvalue = [517, 79]'),\n",
       " Text(0.11009030758226038, 0.8809523809523809, 'x[0] <= 10.0\\ngini = 0.163\\nsamples = 435\\nvalue = [396, 39]'),\n",
       " Text(0.022889842632331903, 0.8333333333333334, 'x[20] <= 2.5\\ngini = 0.498\\nsamples = 17\\nvalue = [8, 9]'),\n",
       " Text(0.011444921316165951, 0.7857142857142857, 'x[1] <= 20.875\\ngini = 0.278\\nsamples = 6\\nvalue = [1, 5]'),\n",
       " Text(0.005722460658082976, 0.7380952380952381, 'gini = 0.0\\nsamples = 3\\nvalue = [0, 3]'),\n",
       " Text(0.017167381974248927, 0.7380952380952381, 'x[1] <= 24.5\\ngini = 0.444\\nsamples = 3\\nvalue = [1, 2]'),\n",
       " Text(0.011444921316165951, 0.6904761904761905, 'gini = 0.0\\nsamples = 1\\nvalue = [1, 0]'),\n",
       " Text(0.022889842632331903, 0.6904761904761905, 'gini = 0.0\\nsamples = 2\\nvalue = [0, 2]'),\n",
       " Text(0.034334763948497854, 0.7857142857142857, 'x[0] <= 2.415\\ngini = 0.463\\nsamples = 11\\nvalue = [7, 4]'),\n",
       " Text(0.02861230329041488, 0.7380952380952381, 'gini = 0.0\\nsamples = 3\\nvalue = [3, 0]'),\n",
       " Text(0.04005722460658083, 0.7380952380952381, 'x[23] <= 1.0\\ngini = 0.5\\nsamples = 8\\nvalue = [4, 4]'),\n",
       " Text(0.034334763948497854, 0.6904761904761905, 'gini = 0.0\\nsamples = 2\\nvalue = [2, 0]'),\n",
       " Text(0.045779685264663805, 0.6904761904761905, 'x[3] <= 2.0\\ngini = 0.444\\nsamples = 6\\nvalue = [2, 4]'),\n",
       " Text(0.04005722460658083, 0.6428571428571429, 'x[1] <= 7.152\\ngini = 0.32\\nsamples = 5\\nvalue = [1, 4]'),\n",
       " Text(0.034334763948497854, 0.5952380952380952, 'gini = 0.0\\nsamples = 1\\nvalue = [1, 0]'),\n",
       " Text(0.045779685264663805, 0.5952380952380952, 'gini = 0.0\\nsamples = 4\\nvalue = [0, 4]'),\n",
       " Text(0.05150214592274678, 0.6428571428571429, 'gini = 0.0\\nsamples = 1\\nvalue = [1, 0]'),\n",
       " Text(0.19729077253218885, 0.8333333333333334, 'x[1] <= 7.91\\ngini = 0.133\\nsamples = 418\\nvalue = [388, 30]'),\n",
       " Text(0.1301859799713877, 0.7857142857142857, 'x[0] <= 27.5\\ngini = 0.092\\nsamples = 186\\nvalue = [177, 9]'),\n",
       " Text(0.10300429184549356, 0.7380952380952381, 'x[0] <= 26.5\\ngini = 0.151\\nsamples = 73\\nvalue = [67, 6]'),\n",
       " Text(0.08011444921316166, 0.6904761904761905, 'x[1] <= 7.24\\ngini = 0.111\\nsamples = 68\\nvalue = [64, 4]'),\n",
       " Text(0.06294706723891273, 0.6428571428571429, 'x[1] <= 7.133\\ngini = 0.266\\nsamples = 19\\nvalue = [16, 3]'),\n",
       " Text(0.05722460658082976, 0.5952380952380952, 'gini = 0.0\\nsamples = 7\\nvalue = [7, 0]'),\n",
       " Text(0.06866952789699571, 0.5952380952380952, 'x[23] <= 1.0\\ngini = 0.375\\nsamples = 12\\nvalue = [9, 3]'),\n",
       " Text(0.06294706723891273, 0.5476190476190477, 'x[0] <= 22.25\\ngini = 0.298\\nsamples = 11\\nvalue = [9, 2]'),\n",
       " Text(0.05722460658082976, 0.5, 'x[0] <= 21.5\\ngini = 0.408\\nsamples = 7\\nvalue = [5, 2]'),\n",
       " Text(0.05150214592274678, 0.4523809523809524, 'x[0] <= 19.25\\ngini = 0.278\\nsamples = 6\\nvalue = [5, 1]'),\n",
       " Text(0.045779685264663805, 0.40476190476190477, 'gini = 0.0\\nsamples = 3\\nvalue = [3, 0]'),\n",
       " Text(0.05722460658082976, 0.40476190476190477, 'x[1] <= 7.227\\ngini = 0.444\\nsamples = 3\\nvalue = [2, 1]'),\n",
       " Text(0.05150214592274678, 0.35714285714285715, 'gini = 0.0\\nsamples = 2\\nvalue = [2, 0]'),\n",
       " Text(0.06294706723891273, 0.35714285714285715, 'gini = 0.0\\nsamples = 1\\nvalue = [0, 1]'),\n",
       " Text(0.06294706723891273, 0.4523809523809524, 'gini = 0.0\\nsamples = 1\\nvalue = [0, 1]'),\n",
       " Text(0.06866952789699571, 0.5, 'gini = 0.0\\nsamples = 4\\nvalue = [4, 0]'),\n",
       " Text(0.07439198855507868, 0.5476190476190477, 'gini = 0.0\\nsamples = 1\\nvalue = [0, 1]'),\n",
       " Text(0.09728183118741059, 0.6428571428571429, 'x[0] <= 21.5\\ngini = 0.04\\nsamples = 49\\nvalue = [48, 1]'),\n",
       " Text(0.09155937052932761, 0.5952380952380952, 'x[0] <= 20.75\\ngini = 0.083\\nsamples = 23\\nvalue = [22, 1]'),\n",
       " Text(0.08583690987124463, 0.5476190476190477, 'gini = 0.0\\nsamples = 13\\nvalue = [13, 0]'),\n",
       " Text(0.09728183118741059, 0.5476190476190477, 'x[1] <= 7.785\\ngini = 0.18\\nsamples = 10\\nvalue = [9, 1]'),\n",
       " Text(0.09155937052932761, 0.5, 'gini = 0.0\\nsamples = 4\\nvalue = [4, 0]'),\n",
       " Text(0.10300429184549356, 0.5, 'x[1] <= 7.808\\ngini = 0.278\\nsamples = 6\\nvalue = [5, 1]'),\n",
       " Text(0.09728183118741059, 0.4523809523809524, 'gini = 0.5\\nsamples = 2\\nvalue = [1, 1]'),\n",
       " Text(0.10872675250357654, 0.4523809523809524, 'gini = 0.0\\nsamples = 4\\nvalue = [4, 0]'),\n",
       " Text(0.10300429184549356, 0.5952380952380952, 'gini = 0.0\\nsamples = 26\\nvalue = [26, 0]'),\n",
       " Text(0.12589413447782546, 0.6904761904761905, 'x[1] <= 7.846\\ngini = 0.48\\nsamples = 5\\nvalue = [3, 2]'),\n",
       " Text(0.12017167381974249, 0.6428571428571429, 'x[23] <= 1.0\\ngini = 0.444\\nsamples = 3\\nvalue = [1, 2]'),\n",
       " Text(0.11444921316165951, 0.5952380952380952, 'gini = 0.0\\nsamples = 1\\nvalue = [1, 0]'),\n",
       " Text(0.12589413447782546, 0.5952380952380952, 'gini = 0.0\\nsamples = 2\\nvalue = [0, 2]'),\n",
       " Text(0.13161659513590845, 0.6428571428571429, 'gini = 0.0\\nsamples = 2\\nvalue = [2, 0]'),\n",
       " Text(0.15736766809728184, 0.7380952380952381, 'x[1] <= 7.763\\ngini = 0.052\\nsamples = 113\\nvalue = [110, 3]'),\n",
       " Text(0.15164520743919885, 0.6904761904761905, 'gini = 0.0\\nsamples = 70\\nvalue = [70, 0]'),\n",
       " Text(0.1630901287553648, 0.6904761904761905, 'x[1] <= 7.865\\ngini = 0.13\\nsamples = 43\\nvalue = [40, 3]'),\n",
       " Text(0.14878397711015737, 0.6428571428571429, 'x[0] <= 32.5\\ngini = 0.26\\nsamples = 13\\nvalue = [11, 2]'),\n",
       " Text(0.1430615164520744, 0.5952380952380952, 'x[0] <= 30.5\\ngini = 0.375\\nsamples = 8\\nvalue = [6, 2]'),\n",
       " Text(0.13161659513590845, 0.5476190476190477, 'x[1] <= 7.802\\ngini = 0.278\\nsamples = 6\\nvalue = [5, 1]'),\n",
       " Text(0.12589413447782546, 0.5, 'x[0] <= 28.5\\ngini = 0.444\\nsamples = 3\\nvalue = [2, 1]'),\n",
       " Text(0.12017167381974249, 0.4523809523809524, 'gini = 0.5\\nsamples = 2\\nvalue = [1, 1]'),\n",
       " Text(0.13161659513590845, 0.4523809523809524, 'gini = 0.0\\nsamples = 1\\nvalue = [1, 0]'),\n",
       " Text(0.13733905579399142, 0.5, 'gini = 0.0\\nsamples = 3\\nvalue = [3, 0]'),\n",
       " Text(0.15450643776824036, 0.5476190476190477, 'x[1] <= 7.815\\ngini = 0.5\\nsamples = 2\\nvalue = [1, 1]'),\n",
       " Text(0.14878397711015737, 0.5, 'gini = 0.0\\nsamples = 1\\nvalue = [1, 0]'),\n",
       " Text(0.16022889842632332, 0.5, 'gini = 0.0\\nsamples = 1\\nvalue = [0, 1]'),\n",
       " Text(0.15450643776824036, 0.5952380952380952, 'gini = 0.0\\nsamples = 5\\nvalue = [5, 0]'),\n",
       " Text(0.17739628040057226, 0.6428571428571429, 'x[23] <= 0.5\\ngini = 0.064\\nsamples = 30\\nvalue = [29, 1]'),\n",
       " Text(0.17167381974248927, 0.5952380952380952, 'x[0] <= 28.5\\ngini = 0.32\\nsamples = 5\\nvalue = [4, 1]'),\n",
       " Text(0.1659513590844063, 0.5476190476190477, 'gini = 0.0\\nsamples = 2\\nvalue = [2, 0]'),\n",
       " Text(0.17739628040057226, 0.5476190476190477, 'x[0] <= 31.0\\ngini = 0.444\\nsamples = 3\\nvalue = [2, 1]'),\n",
       " Text(0.17167381974248927, 0.5, 'gini = 0.0\\nsamples = 1\\nvalue = [0, 1]'),\n",
       " Text(0.18311874105865522, 0.5, 'gini = 0.0\\nsamples = 2\\nvalue = [2, 0]'),\n",
       " Text(0.18311874105865522, 0.5952380952380952, 'gini = 0.0\\nsamples = 25\\nvalue = [25, 0]'),\n",
       " Text(0.26439556509299, 0.7857142857142857, 'x[1] <= 7.988\\ngini = 0.165\\nsamples = 232\\nvalue = [211, 21]'),\n",
       " Text(0.20600858369098712, 0.7380952380952381, 'x[0] <= 30.0\\ngini = 0.48\\nsamples = 10\\nvalue = [6, 4]'),\n",
       " Text(0.19456366237482117, 0.6904761904761905, 'x[3] <= 0.5\\ngini = 0.32\\nsamples = 5\\nvalue = [4, 1]'),\n",
       " Text(0.1888412017167382, 0.6428571428571429, 'gini = 0.0\\nsamples = 4\\nvalue = [4, 0]'),\n",
       " Text(0.20028612303290416, 0.6428571428571429, 'gini = 0.0\\nsamples = 1\\nvalue = [0, 1]'),\n",
       " Text(0.21745350500715308, 0.6904761904761905, 'x[0] <= 31.5\\ngini = 0.48\\nsamples = 5\\nvalue = [2, 3]'),\n",
       " Text(0.2117310443490701, 0.6428571428571429, 'gini = 0.0\\nsamples = 1\\nvalue = [0, 1]'),\n",
       " Text(0.22317596566523606, 0.6428571428571429, 'x[0] <= 35.5\\ngini = 0.5\\nsamples = 4\\nvalue = [2, 2]'),\n",
       " Text(0.21745350500715308, 0.5952380952380952, 'gini = 0.5\\nsamples = 2\\nvalue = [1, 1]'),\n",
       " Text(0.22889842632331903, 0.5952380952380952, 'gini = 0.5\\nsamples = 2\\nvalue = [1, 1]'),\n",
       " Text(0.32278254649499283, 0.7380952380952381, 'x[1] <= 13.931\\ngini = 0.141\\nsamples = 222\\nvalue = [205, 17]'),\n",
       " Text(0.27646638054363376, 0.6904761904761905, 'x[0] <= 26.5\\ngini = 0.186\\nsamples = 135\\nvalue = [121, 14]'),\n",
       " Text(0.24606580829756797, 0.6428571428571429, 'x[1] <= 8.242\\ngini = 0.075\\nsamples = 51\\nvalue = [49, 2]'),\n",
       " Text(0.24034334763948498, 0.5952380952380952, 'x[0] <= 19.5\\ngini = 0.245\\nsamples = 14\\nvalue = [12, 2]'),\n",
       " Text(0.23462088698140202, 0.5476190476190477, 'x[3] <= 1.0\\ngini = 0.5\\nsamples = 4\\nvalue = [2, 2]'),\n",
       " Text(0.22889842632331903, 0.5, 'x[0] <= 17.5\\ngini = 0.444\\nsamples = 3\\nvalue = [1, 2]'),\n",
       " Text(0.22317596566523606, 0.4523809523809524, 'gini = 0.5\\nsamples = 2\\nvalue = [1, 1]'),\n",
       " Text(0.23462088698140202, 0.4523809523809524, 'gini = 0.0\\nsamples = 1\\nvalue = [0, 1]'),\n",
       " Text(0.24034334763948498, 0.5, 'gini = 0.0\\nsamples = 1\\nvalue = [1, 0]'),\n",
       " Text(0.24606580829756797, 0.5476190476190477, 'gini = 0.0\\nsamples = 10\\nvalue = [10, 0]'),\n",
       " Text(0.25178826895565093, 0.5952380952380952, 'gini = 0.0\\nsamples = 37\\nvalue = [37, 0]'),\n",
       " Text(0.30686695278969955, 0.6428571428571429, 'x[1] <= 13.681\\ngini = 0.245\\nsamples = 84\\nvalue = [72, 12]'),\n",
       " Text(0.3011444921316166, 0.5952380952380952, 'x[0] <= 61.5\\ngini = 0.23\\nsamples = 83\\nvalue = [72, 11]'),\n",
       " Text(0.27896995708154504, 0.5476190476190477, 'x[1] <= 12.938\\ngini = 0.216\\nsamples = 81\\nvalue = [71, 10]'),\n",
       " Text(0.25178826895565093, 0.5, 'x[0] <= 27.5\\ngini = 0.177\\nsamples = 61\\nvalue = [55, 6]'),\n",
       " Text(0.24606580829756797, 0.4523809523809524, 'gini = 0.5\\nsamples = 2\\nvalue = [1, 1]'),\n",
       " Text(0.2575107296137339, 0.4523809523809524, 'x[1] <= 10.0\\ngini = 0.155\\nsamples = 59\\nvalue = [54, 5]'),\n",
       " Text(0.25178826895565093, 0.40476190476190477, 'x[0] <= 44.5\\ngini = 0.201\\nsamples = 44\\nvalue = [39, 5]'),\n",
       " Text(0.2374821173104435, 0.35714285714285715, 'x[1] <= 9.492\\ngini = 0.172\\nsamples = 42\\nvalue = [38, 4]'),\n",
       " Text(0.22603719599427755, 0.30952380952380953, 'x[0] <= 32.5\\ngini = 0.108\\nsamples = 35\\nvalue = [33, 2]'),\n",
       " Text(0.22031473533619456, 0.2619047619047619, 'x[0] <= 31.25\\ngini = 0.147\\nsamples = 25\\nvalue = [23, 2]'),\n",
       " Text(0.2088698140200286, 0.21428571428571427, 'x[1] <= 8.081\\ngini = 0.087\\nsamples = 22\\nvalue = [21, 1]'),\n",
       " Text(0.20314735336194564, 0.16666666666666666, 'gini = 0.0\\nsamples = 17\\nvalue = [17, 0]'),\n",
       " Text(0.2145922746781116, 0.16666666666666666, 'x[1] <= 8.285\\ngini = 0.32\\nsamples = 5\\nvalue = [4, 1]'),\n",
       " Text(0.2088698140200286, 0.11904761904761904, 'gini = 0.0\\nsamples = 1\\nvalue = [0, 1]'),\n",
       " Text(0.22031473533619456, 0.11904761904761904, 'gini = 0.0\\nsamples = 4\\nvalue = [4, 0]'),\n",
       " Text(0.2317596566523605, 0.21428571428571427, 'x[1] <= 8.206\\ngini = 0.444\\nsamples = 3\\nvalue = [2, 1]'),\n",
       " Text(0.22603719599427755, 0.16666666666666666, 'gini = 0.5\\nsamples = 2\\nvalue = [1, 1]'),\n",
       " Text(0.2374821173104435, 0.16666666666666666, 'gini = 0.0\\nsamples = 1\\nvalue = [1, 0]'),\n",
       " Text(0.2317596566523605, 0.2619047619047619, 'gini = 0.0\\nsamples = 10\\nvalue = [10, 0]'),\n",
       " Text(0.24892703862660945, 0.30952380952380953, 'x[0] <= 28.5\\ngini = 0.408\\nsamples = 7\\nvalue = [5, 2]'),\n",
       " Text(0.24320457796852646, 0.2619047619047619, 'gini = 0.0\\nsamples = 3\\nvalue = [3, 0]'),\n",
       " Text(0.25464949928469244, 0.2619047619047619, 'x[0] <= 31.5\\ngini = 0.5\\nsamples = 4\\nvalue = [2, 2]'),\n",
       " Text(0.24892703862660945, 0.21428571428571427, 'gini = 0.0\\nsamples = 2\\nvalue = [0, 2]'),\n",
       " Text(0.2603719599427754, 0.21428571428571427, 'gini = 0.0\\nsamples = 2\\nvalue = [2, 0]'),\n",
       " Text(0.26609442060085836, 0.35714285714285715, 'x[0] <= 46.0\\ngini = 0.5\\nsamples = 2\\nvalue = [1, 1]'),\n",
       " Text(0.2603719599427754, 0.30952380952380953, 'gini = 0.0\\nsamples = 1\\nvalue = [0, 1]'),\n",
       " Text(0.2718168812589413, 0.30952380952380953, 'gini = 0.0\\nsamples = 1\\nvalue = [1, 0]'),\n",
       " Text(0.2632331902718169, 0.40476190476190477, 'gini = 0.0\\nsamples = 15\\nvalue = [15, 0]'),\n",
       " Text(0.3061516452074392, 0.5, 'x[0] <= 35.0\\ngini = 0.32\\nsamples = 20\\nvalue = [16, 4]'),\n",
       " Text(0.2947067238912732, 0.4523809523809524, 'x[1] <= 13.25\\ngini = 0.444\\nsamples = 9\\nvalue = [6, 3]'),\n",
       " Text(0.28898426323319026, 0.40476190476190477, 'x[0] <= 27.5\\ngini = 0.469\\nsamples = 8\\nvalue = [5, 3]'),\n",
       " Text(0.2832618025751073, 0.35714285714285715, 'gini = 0.0\\nsamples = 1\\nvalue = [1, 0]'),\n",
       " Text(0.2947067238912732, 0.35714285714285715, 'x[0] <= 30.5\\ngini = 0.49\\nsamples = 7\\nvalue = [4, 3]'),\n",
       " Text(0.2832618025751073, 0.30952380952380953, 'x[0] <= 29.0\\ngini = 0.444\\nsamples = 3\\nvalue = [2, 1]'),\n",
       " Text(0.27753934191702434, 0.2619047619047619, 'gini = 0.5\\nsamples = 2\\nvalue = [1, 1]'),\n",
       " Text(0.28898426323319026, 0.2619047619047619, 'gini = 0.0\\nsamples = 1\\nvalue = [1, 0]'),\n",
       " Text(0.3061516452074392, 0.30952380952380953, 'x[0] <= 32.5\\ngini = 0.5\\nsamples = 4\\nvalue = [2, 2]'),\n",
       " Text(0.30042918454935624, 0.2619047619047619, 'gini = 0.0\\nsamples = 1\\nvalue = [0, 1]'),\n",
       " Text(0.31187410586552217, 0.2619047619047619, 'gini = 0.444\\nsamples = 3\\nvalue = [2, 1]'),\n",
       " Text(0.30042918454935624, 0.40476190476190477, 'gini = 0.0\\nsamples = 1\\nvalue = [1, 0]'),\n",
       " Text(0.31759656652360513, 0.4523809523809524, 'x[0] <= 43.0\\ngini = 0.165\\nsamples = 11\\nvalue = [10, 1]'),\n",
       " Text(0.31187410586552217, 0.40476190476190477, 'x[0] <= 41.5\\ngini = 0.278\\nsamples = 6\\nvalue = [5, 1]'),\n",
       " Text(0.3061516452074392, 0.35714285714285715, 'gini = 0.0\\nsamples = 4\\nvalue = [4, 0]'),\n",
       " Text(0.31759656652360513, 0.35714285714285715, 'gini = 0.5\\nsamples = 2\\nvalue = [1, 1]'),\n",
       " Text(0.32331902718168815, 0.40476190476190477, 'gini = 0.0\\nsamples = 5\\nvalue = [5, 0]'),\n",
       " Text(0.32331902718168815, 0.5476190476190477, 'x[0] <= 64.0\\ngini = 0.5\\nsamples = 2\\nvalue = [1, 1]'),\n",
       " Text(0.31759656652360513, 0.5, 'gini = 0.0\\nsamples = 1\\nvalue = [0, 1]'),\n",
       " Text(0.3290414878397711, 0.5, 'gini = 0.0\\nsamples = 1\\nvalue = [1, 0]'),\n",
       " Text(0.31258941344778257, 0.5952380952380952, 'gini = 0.0\\nsamples = 1\\nvalue = [0, 1]'),\n",
       " Text(0.36909871244635195, 0.6904761904761905, 'x[23] <= 0.5\\ngini = 0.067\\nsamples = 87\\nvalue = [84, 3]'),\n",
       " Text(0.35765379113018597, 0.6428571428571429, 'x[11] <= 0.5\\ngini = 0.231\\nsamples = 15\\nvalue = [13, 2]'),\n",
       " Text(0.351931330472103, 0.5952380952380952, 'x[0] <= 26.5\\ngini = 0.133\\nsamples = 14\\nvalue = [13, 1]'),\n",
       " Text(0.34620886981402005, 0.5476190476190477, 'x[0] <= 25.5\\ngini = 0.278\\nsamples = 6\\nvalue = [5, 1]'),\n",
       " Text(0.34048640915593703, 0.5, 'gini = 0.0\\nsamples = 4\\nvalue = [4, 0]'),\n",
       " Text(0.351931330472103, 0.5, 'x[3] <= 0.5\\ngini = 0.5\\nsamples = 2\\nvalue = [1, 1]'),\n",
       " Text(0.34620886981402005, 0.4523809523809524, 'gini = 0.0\\nsamples = 1\\nvalue = [0, 1]'),\n",
       " Text(0.35765379113018597, 0.4523809523809524, 'gini = 0.0\\nsamples = 1\\nvalue = [1, 0]'),\n",
       " Text(0.35765379113018597, 0.5476190476190477, 'gini = 0.0\\nsamples = 8\\nvalue = [8, 0]'),\n",
       " Text(0.36337625178826893, 0.5952380952380952, 'gini = 0.0\\nsamples = 1\\nvalue = [0, 1]'),\n",
       " Text(0.3805436337625179, 0.6428571428571429, 'x[1] <= 25.962\\ngini = 0.027\\nsamples = 72\\nvalue = [71, 1]'),\n",
       " Text(0.3748211731044349, 0.5952380952380952, 'gini = 0.0\\nsamples = 51\\nvalue = [51, 0]'),\n",
       " Text(0.38626609442060084, 0.5952380952380952, 'x[0] <= 33.0\\ngini = 0.091\\nsamples = 21\\nvalue = [20, 1]'),\n",
       " Text(0.3805436337625179, 0.5476190476190477, 'x[0] <= 31.5\\ngini = 0.198\\nsamples = 9\\nvalue = [8, 1]'),\n",
       " Text(0.3748211731044349, 0.5, 'gini = 0.0\\nsamples = 8\\nvalue = [8, 0]'),\n",
       " Text(0.38626609442060084, 0.5, 'gini = 0.0\\nsamples = 1\\nvalue = [0, 1]'),\n",
       " Text(0.39198855507868385, 0.5476190476190477, 'gini = 0.0\\nsamples = 12\\nvalue = [12, 0]'),\n",
       " Text(0.4356223175965665, 0.8809523809523809, 'x[1] <= 26.469\\ngini = 0.373\\nsamples = 161\\nvalue = [121, 40]'),\n",
       " Text(0.42989985693848354, 0.8333333333333334, 'gini = 0.0\\nsamples = 3\\nvalue = [0, 3]'),\n",
       " Text(0.4413447782546495, 0.8333333333333334, 'x[1] <= 387.665\\ngini = 0.359\\nsamples = 158\\nvalue = [121, 37]'),\n",
       " Text(0.4356223175965665, 0.7857142857142857, 'x[3] <= 2.5\\ngini = 0.348\\nsamples = 156\\nvalue = [121, 35]'),\n",
       " Text(0.42989985693848354, 0.7380952380952381, 'x[0] <= 3.5\\ngini = 0.379\\nsamples = 138\\nvalue = [103, 35]'),\n",
       " Text(0.4241773962804006, 0.6904761904761905, 'gini = 0.0\\nsamples = 2\\nvalue = [0, 2]'),\n",
       " Text(0.4356223175965665, 0.6904761904761905, 'x[1] <= 127.25\\ngini = 0.368\\nsamples = 136\\nvalue = [103, 33]'),\n",
       " Text(0.42989985693848354, 0.6428571428571429, 'x[1] <= 116.638\\ngini = 0.393\\nsamples = 123\\nvalue = [90, 33]'),\n",
       " Text(0.4241773962804006, 0.5952380952380952, 'x[11] <= 1.5\\ngini = 0.381\\nsamples = 121\\nvalue = [90, 31]'),\n",
       " Text(0.4184549356223176, 0.5476190476190477, 'x[20] <= 2.5\\ngini = 0.403\\nsamples = 111\\nvalue = [80, 31]'),\n",
       " Text(0.3977110157367668, 0.5, 'x[1] <= 36.877\\ngini = 0.382\\nsamples = 105\\nvalue = [78, 27]'),\n",
       " Text(0.37339055793991416, 0.4523809523809524, 'x[1] <= 35.25\\ngini = 0.454\\nsamples = 43\\nvalue = [28, 15]'),\n",
       " Text(0.3676680972818312, 0.40476190476190477, 'x[1] <= 31.25\\ngini = 0.42\\nsamples = 40\\nvalue = [28, 12]'),\n",
       " Text(0.36194563662374823, 0.35714285714285715, 'x[1] <= 29.85\\ngini = 0.457\\nsamples = 34\\nvalue = [22, 12]'),\n",
       " Text(0.35050071530758226, 0.30952380952380953, 'x[1] <= 27.135\\ngini = 0.34\\nsamples = 23\\nvalue = [18, 5]'),\n",
       " Text(0.3447782546494993, 0.2619047619047619, 'x[0] <= 55.5\\ngini = 0.459\\nsamples = 14\\nvalue = [9, 5]'),\n",
       " Text(0.33905579399141633, 0.21428571428571427, 'x[0] <= 46.5\\ngini = 0.496\\nsamples = 11\\nvalue = [6, 5]'),\n",
       " Text(0.3333333333333333, 0.16666666666666666, 'x[0] <= 43.5\\ngini = 0.444\\nsamples = 9\\nvalue = [6, 3]'),\n",
       " Text(0.32761087267525035, 0.11904761904761904, 'x[0] <= 38.0\\ngini = 0.408\\nsamples = 7\\nvalue = [5, 2]'),\n",
       " Text(0.3218884120171674, 0.07142857142857142, 'x[0] <= 31.0\\ngini = 0.48\\nsamples = 5\\nvalue = [3, 2]'),\n",
       " Text(0.31616595135908443, 0.023809523809523808, 'gini = 0.375\\nsamples = 4\\nvalue = [3, 1]'),\n",
       " Text(0.32761087267525035, 0.023809523809523808, 'gini = 0.0\\nsamples = 1\\nvalue = [0, 1]'),\n",
       " Text(0.3333333333333333, 0.07142857142857142, 'gini = 0.0\\nsamples = 2\\nvalue = [2, 0]'),\n",
       " Text(0.33905579399141633, 0.11904761904761904, 'gini = 0.5\\nsamples = 2\\nvalue = [1, 1]'),\n",
       " Text(0.3447782546494993, 0.16666666666666666, 'gini = 0.0\\nsamples = 2\\nvalue = [0, 2]'),\n",
       " Text(0.35050071530758226, 0.21428571428571427, 'gini = 0.0\\nsamples = 3\\nvalue = [3, 0]'),\n",
       " Text(0.3562231759656652, 0.2619047619047619, 'gini = 0.0\\nsamples = 9\\nvalue = [9, 0]'),\n",
       " Text(0.37339055793991416, 0.30952380952380953, 'x[1] <= 30.035\\ngini = 0.463\\nsamples = 11\\nvalue = [4, 7]'),\n",
       " Text(0.3676680972818312, 0.2619047619047619, 'gini = 0.0\\nsamples = 3\\nvalue = [0, 3]'),\n",
       " Text(0.3791130185979971, 0.2619047619047619, 'x[0] <= 27.5\\ngini = 0.5\\nsamples = 8\\nvalue = [4, 4]'),\n",
       " Text(0.37339055793991416, 0.21428571428571427, 'gini = 0.0\\nsamples = 1\\nvalue = [0, 1]'),\n",
       " Text(0.38483547925608014, 0.21428571428571427, 'x[0] <= 30.0\\ngini = 0.49\\nsamples = 7\\nvalue = [4, 3]'),\n",
       " Text(0.3791130185979971, 0.16666666666666666, 'gini = 0.0\\nsamples = 2\\nvalue = [2, 0]'),\n",
       " Text(0.3905579399141631, 0.16666666666666666, 'x[3] <= 0.5\\ngini = 0.48\\nsamples = 5\\nvalue = [2, 3]'),\n",
       " Text(0.38483547925608014, 0.11904761904761904, 'x[0] <= 40.5\\ngini = 0.375\\nsamples = 4\\nvalue = [1, 3]'),\n",
       " Text(0.3791130185979971, 0.07142857142857142, 'gini = 0.0\\nsamples = 2\\nvalue = [0, 2]'),\n",
       " Text(0.3905579399141631, 0.07142857142857142, 'x[0] <= 46.5\\ngini = 0.5\\nsamples = 2\\nvalue = [1, 1]'),\n",
       " Text(0.38483547925608014, 0.023809523809523808, 'gini = 0.0\\nsamples = 1\\nvalue = [1, 0]'),\n",
       " Text(0.39628040057224606, 0.023809523809523808, 'gini = 0.0\\nsamples = 1\\nvalue = [0, 1]'),\n",
       " Text(0.39628040057224606, 0.11904761904761904, 'gini = 0.0\\nsamples = 1\\nvalue = [1, 0]'),\n",
       " Text(0.37339055793991416, 0.35714285714285715, 'gini = 0.0\\nsamples = 6\\nvalue = [6, 0]'),\n",
       " Text(0.3791130185979971, 0.40476190476190477, 'gini = 0.0\\nsamples = 3\\nvalue = [0, 3]'),\n",
       " Text(0.4220314735336195, 0.4523809523809524, 'x[1] <= 52.277\\ngini = 0.312\\nsamples = 62\\nvalue = [50, 12]'),\n",
       " Text(0.41630901287553645, 0.40476190476190477, 'gini = 0.0\\nsamples = 20\\nvalue = [20, 0]'),\n",
       " Text(0.42775393419170243, 0.40476190476190477, 'x[1] <= 57.375\\ngini = 0.408\\nsamples = 42\\nvalue = [30, 12]'),\n",
       " Text(0.413447782546495, 0.35714285714285715, 'x[0] <= 49.5\\ngini = 0.469\\nsamples = 8\\nvalue = [3, 5]'),\n",
       " Text(0.40772532188841204, 0.30952380952380953, 'x[1] <= 52.827\\ngini = 0.278\\nsamples = 6\\nvalue = [1, 5]'),\n",
       " Text(0.402002861230329, 0.2619047619047619, 'gini = 0.0\\nsamples = 2\\nvalue = [0, 2]'),\n",
       " Text(0.413447782546495, 0.2619047619047619, 'x[1] <= 55.015\\ngini = 0.375\\nsamples = 4\\nvalue = [1, 3]'),\n",
       " Text(0.40772532188841204, 0.21428571428571427, 'x[0] <= 32.0\\ngini = 0.5\\nsamples = 2\\nvalue = [1, 1]'),\n",
       " Text(0.402002861230329, 0.16666666666666666, 'gini = 0.0\\nsamples = 1\\nvalue = [0, 1]'),\n",
       " Text(0.413447782546495, 0.16666666666666666, 'gini = 0.0\\nsamples = 1\\nvalue = [1, 0]'),\n",
       " Text(0.41917024320457796, 0.21428571428571427, 'gini = 0.0\\nsamples = 2\\nvalue = [0, 2]'),\n",
       " Text(0.41917024320457796, 0.30952380952380953, 'gini = 0.0\\nsamples = 2\\nvalue = [2, 0]'),\n",
       " Text(0.44206008583690987, 0.35714285714285715, 'x[1] <= 75.99\\ngini = 0.327\\nsamples = 34\\nvalue = [27, 7]'),\n",
       " Text(0.43061516452074394, 0.30952380952380953, 'x[11] <= 0.5\\ngini = 0.111\\nsamples = 17\\nvalue = [16, 1]'),\n",
       " Text(0.4248927038626609, 0.2619047619047619, 'gini = 0.0\\nsamples = 13\\nvalue = [13, 0]'),\n",
       " Text(0.4363376251788269, 0.2619047619047619, 'x[1] <= 62.669\\ngini = 0.375\\nsamples = 4\\nvalue = [3, 1]'),\n",
       " Text(0.43061516452074394, 0.21428571428571427, 'gini = 0.0\\nsamples = 3\\nvalue = [3, 0]'),\n",
       " Text(0.44206008583690987, 0.21428571428571427, 'gini = 0.0\\nsamples = 1\\nvalue = [0, 1]'),\n",
       " Text(0.45350500715307585, 0.30952380952380953, 'x[1] <= 77.79\\ngini = 0.457\\nsamples = 17\\nvalue = [11, 6]'),\n",
       " Text(0.44778254649499283, 0.2619047619047619, 'gini = 0.0\\nsamples = 2\\nvalue = [0, 2]'),\n",
       " Text(0.4592274678111588, 0.2619047619047619, 'x[0] <= 56.5\\ngini = 0.391\\nsamples = 15\\nvalue = [11, 4]'),\n",
       " Text(0.45350500715307585, 0.21428571428571427, 'x[1] <= 86.29\\ngini = 0.337\\nsamples = 14\\nvalue = [11, 3]'),\n",
       " Text(0.44778254649499283, 0.16666666666666666, 'gini = 0.0\\nsamples = 8\\nvalue = [8, 0]'),\n",
       " Text(0.4592274678111588, 0.16666666666666666, 'x[1] <= 92.29\\ngini = 0.5\\nsamples = 6\\nvalue = [3, 3]'),\n",
       " Text(0.45350500715307585, 0.11904761904761904, 'gini = 0.0\\nsamples = 3\\nvalue = [0, 3]'),\n",
       " Text(0.46494992846924177, 0.11904761904761904, 'gini = 0.0\\nsamples = 3\\nvalue = [3, 0]'),\n",
       " Text(0.46494992846924177, 0.21428571428571427, 'gini = 0.0\\nsamples = 1\\nvalue = [0, 1]'),\n",
       " Text(0.43919885550786836, 0.5, 'x[0] <= 27.0\\ngini = 0.444\\nsamples = 6\\nvalue = [2, 4]'),\n",
       " Text(0.4334763948497854, 0.4523809523809524, 'gini = 0.0\\nsamples = 1\\nvalue = [0, 1]'),\n",
       " Text(0.4449213161659514, 0.4523809523809524, 'x[0] <= 30.0\\ngini = 0.48\\nsamples = 5\\nvalue = [2, 3]'),\n",
       " Text(0.43919885550786836, 0.40476190476190477, 'gini = 0.5\\nsamples = 4\\nvalue = [2, 2]'),\n",
       " Text(0.45064377682403434, 0.40476190476190477, 'gini = 0.0\\nsamples = 1\\nvalue = [0, 1]'),\n",
       " Text(0.42989985693848354, 0.5476190476190477, 'gini = 0.0\\nsamples = 10\\nvalue = [10, 0]'),\n",
       " Text(0.4356223175965665, 0.5952380952380952, 'gini = 0.0\\nsamples = 2\\nvalue = [0, 2]'),\n",
       " Text(0.4413447782546495, 0.6428571428571429, 'gini = 0.0\\nsamples = 13\\nvalue = [13, 0]'),\n",
       " Text(0.4413447782546495, 0.7380952380952381, 'gini = 0.0\\nsamples = 18\\nvalue = [18, 0]'),\n",
       " Text(0.4470672389127325, 0.7857142857142857, 'gini = 0.0\\nsamples = 2\\nvalue = [0, 2]'),\n",
       " Text(0.8166353719599427, 0.9285714285714286, 'x[20] <= 2.5\\ngini = 0.499\\nsamples = 320\\nvalue = [166, 154]'),\n",
       " Text(0.6985425608011445, 0.8809523809523809, 'x[0] <= 63.5\\ngini = 0.471\\nsamples = 169\\nvalue = [64, 105]'),\n",
       " Text(0.6928201001430615, 0.8333333333333334, 'x[1] <= 211.419\\ngini = 0.465\\nsamples = 166\\nvalue = [61, 105]'),\n",
       " Text(0.6030937052932761, 0.7857142857142857, 'x[0] <= 27.5\\ngini = 0.45\\nsamples = 152\\nvalue = [52, 100]'),\n",
       " Text(0.5414878397711016, 0.7380952380952381, 'x[1] <= 128.39\\ngini = 0.492\\nsamples = 55\\nvalue = [24, 31]'),\n",
       " Text(0.5357653791130186, 0.6904761904761905, 'x[1] <= 67.15\\ngini = 0.486\\nsamples = 53\\nvalue = [22, 31]'),\n",
       " Text(0.5121602288984263, 0.6428571428571429, 'x[0] <= 17.5\\ngini = 0.499\\nsamples = 44\\nvalue = [21, 23]'),\n",
       " Text(0.48783977110157367, 0.5952380952380952, 'x[3] <= 1.5\\ngini = 0.391\\nsamples = 15\\nvalue = [4, 11]'),\n",
       " Text(0.4821173104434907, 0.5476190476190477, 'x[0] <= 7.5\\ngini = 0.337\\nsamples = 14\\nvalue = [3, 11]'),\n",
       " Text(0.47639484978540775, 0.5, 'gini = 0.0\\nsamples = 4\\nvalue = [0, 4]'),\n",
       " Text(0.48783977110157367, 0.5, 'x[0] <= 15.5\\ngini = 0.42\\nsamples = 10\\nvalue = [3, 7]'),\n",
       " Text(0.4821173104434907, 0.4523809523809524, 'x[0] <= 14.5\\ngini = 0.5\\nsamples = 6\\nvalue = [3, 3]'),\n",
       " Text(0.47639484978540775, 0.40476190476190477, 'x[0] <= 12.5\\ngini = 0.48\\nsamples = 5\\nvalue = [2, 3]'),\n",
       " Text(0.47067238912732473, 0.35714285714285715, 'x[11] <= 1.5\\ngini = 0.444\\nsamples = 3\\nvalue = [2, 1]'),\n",
       " Text(0.46494992846924177, 0.30952380952380953, 'gini = 0.0\\nsamples = 2\\nvalue = [2, 0]'),\n",
       " Text(0.47639484978540775, 0.30952380952380953, 'gini = 0.0\\nsamples = 1\\nvalue = [0, 1]'),\n",
       " Text(0.4821173104434907, 0.35714285714285715, 'gini = 0.0\\nsamples = 2\\nvalue = [0, 2]'),\n",
       " Text(0.48783977110157367, 0.40476190476190477, 'gini = 0.0\\nsamples = 1\\nvalue = [1, 0]'),\n",
       " Text(0.49356223175965663, 0.4523809523809524, 'gini = 0.0\\nsamples = 4\\nvalue = [0, 4]'),\n",
       " Text(0.49356223175965663, 0.5476190476190477, 'gini = 0.0\\nsamples = 1\\nvalue = [1, 0]'),\n",
       " Text(0.5364806866952789, 0.5952380952380952, 'x[11] <= 1.5\\ngini = 0.485\\nsamples = 29\\nvalue = [17, 12]'),\n",
       " Text(0.525035765379113, 0.5476190476190477, 'x[1] <= 55.221\\ngini = 0.454\\nsamples = 23\\nvalue = [15, 8]'),\n",
       " Text(0.51931330472103, 0.5, 'x[1] <= 13.646\\ngini = 0.488\\nsamples = 19\\nvalue = [11, 8]'),\n",
       " Text(0.5050071530758226, 0.4523809523809524, 'x[0] <= 26.5\\ngini = 0.278\\nsamples = 6\\nvalue = [5, 1]'),\n",
       " Text(0.49928469241773965, 0.40476190476190477, 'gini = 0.0\\nsamples = 5\\nvalue = [5, 0]'),\n",
       " Text(0.5107296137339056, 0.40476190476190477, 'gini = 0.0\\nsamples = 1\\nvalue = [0, 1]'),\n",
       " Text(0.5336194563662375, 0.4523809523809524, 'x[3] <= 0.5\\ngini = 0.497\\nsamples = 13\\nvalue = [6, 7]'),\n",
       " Text(0.5221745350500715, 0.40476190476190477, 'x[0] <= 21.5\\ngini = 0.32\\nsamples = 5\\nvalue = [1, 4]'),\n",
       " Text(0.5164520743919886, 0.35714285714285715, 'x[1] <= 22.0\\ngini = 0.5\\nsamples = 2\\nvalue = [1, 1]'),\n",
       " Text(0.5107296137339056, 0.30952380952380953, 'gini = 0.0\\nsamples = 1\\nvalue = [1, 0]'),\n",
       " Text(0.5221745350500715, 0.30952380952380953, 'gini = 0.0\\nsamples = 1\\nvalue = [0, 1]'),\n",
       " Text(0.5278969957081545, 0.35714285714285715, 'gini = 0.0\\nsamples = 3\\nvalue = [0, 3]'),\n",
       " Text(0.5450643776824035, 0.40476190476190477, 'x[1] <= 32.002\\ngini = 0.469\\nsamples = 8\\nvalue = [5, 3]'),\n",
       " Text(0.5393419170243204, 0.35714285714285715, 'x[1] <= 24.5\\ngini = 0.5\\nsamples = 6\\nvalue = [3, 3]'),\n",
       " Text(0.5336194563662375, 0.30952380952380953, 'gini = 0.0\\nsamples = 1\\nvalue = [1, 0]'),\n",
       " Text(0.5450643776824035, 0.30952380952380953, 'x[0] <= 25.0\\ngini = 0.48\\nsamples = 5\\nvalue = [2, 3]'),\n",
       " Text(0.5393419170243204, 0.2619047619047619, 'x[0] <= 22.0\\ngini = 0.375\\nsamples = 4\\nvalue = [1, 3]'),\n",
       " Text(0.5336194563662375, 0.21428571428571427, 'x[0] <= 19.5\\ngini = 0.5\\nsamples = 2\\nvalue = [1, 1]'),\n",
       " Text(0.5278969957081545, 0.16666666666666666, 'gini = 0.0\\nsamples = 1\\nvalue = [0, 1]'),\n",
       " Text(0.5393419170243204, 0.16666666666666666, 'gini = 0.0\\nsamples = 1\\nvalue = [1, 0]'),\n",
       " Text(0.5450643776824035, 0.21428571428571427, 'gini = 0.0\\nsamples = 2\\nvalue = [0, 2]'),\n",
       " Text(0.5507868383404864, 0.2619047619047619, 'gini = 0.0\\nsamples = 1\\nvalue = [1, 0]'),\n",
       " Text(0.5507868383404864, 0.35714285714285715, 'gini = 0.0\\nsamples = 2\\nvalue = [2, 0]'),\n",
       " Text(0.530758226037196, 0.5, 'gini = 0.0\\nsamples = 4\\nvalue = [4, 0]'),\n",
       " Text(0.547925608011445, 0.5476190476190477, 'x[1] <= 46.79\\ngini = 0.444\\nsamples = 6\\nvalue = [2, 4]'),\n",
       " Text(0.542203147353362, 0.5, 'gini = 0.0\\nsamples = 3\\nvalue = [0, 3]'),\n",
       " Text(0.5536480686695279, 0.5, 'x[20] <= 1.5\\ngini = 0.444\\nsamples = 3\\nvalue = [2, 1]'),\n",
       " Text(0.547925608011445, 0.4523809523809524, 'gini = 0.0\\nsamples = 1\\nvalue = [1, 0]'),\n",
       " Text(0.5593705293276109, 0.4523809523809524, 'gini = 0.5\\nsamples = 2\\nvalue = [1, 1]'),\n",
       " Text(0.5593705293276109, 0.6428571428571429, 'x[11] <= 0.5\\ngini = 0.198\\nsamples = 9\\nvalue = [1, 8]'),\n",
       " Text(0.5536480686695279, 0.5952380952380952, 'gini = 0.0\\nsamples = 6\\nvalue = [0, 6]'),\n",
       " Text(0.5650929899856938, 0.5952380952380952, 'x[23] <= 1.0\\ngini = 0.444\\nsamples = 3\\nvalue = [1, 2]'),\n",
       " Text(0.5593705293276109, 0.5476190476190477, 'gini = 0.0\\nsamples = 1\\nvalue = [1, 0]'),\n",
       " Text(0.5708154506437768, 0.5476190476190477, 'gini = 0.0\\nsamples = 2\\nvalue = [0, 2]'),\n",
       " Text(0.5472103004291845, 0.6904761904761905, 'gini = 0.0\\nsamples = 2\\nvalue = [2, 0]'),\n",
       " Text(0.6646995708154506, 0.7380952380952381, 'x[0] <= 28.5\\ngini = 0.411\\nsamples = 97\\nvalue = [28, 69]'),\n",
       " Text(0.6589771101573677, 0.6904761904761905, 'gini = 0.0\\nsamples = 9\\nvalue = [0, 9]'),\n",
       " Text(0.6704220314735336, 0.6904761904761905, 'x[23] <= 0.5\\ngini = 0.434\\nsamples = 88\\nvalue = [28, 60]'),\n",
       " Text(0.6051502145922747, 0.6428571428571429, 'x[1] <= 35.64\\ngini = 0.495\\nsamples = 29\\nvalue = [13, 16]'),\n",
       " Text(0.5994277539341917, 0.5952380952380952, 'gini = 0.0\\nsamples = 4\\nvalue = [4, 0]'),\n",
       " Text(0.6108726752503576, 0.5952380952380952, 'x[0] <= 42.0\\ngini = 0.461\\nsamples = 25\\nvalue = [9, 16]'),\n",
       " Text(0.5879828326180258, 0.5476190476190477, 'x[1] <= 64.517\\ngini = 0.298\\nsamples = 11\\nvalue = [2, 9]'),\n",
       " Text(0.5765379113018598, 0.5, 'x[3] <= 0.5\\ngini = 0.5\\nsamples = 2\\nvalue = [1, 1]'),\n",
       " Text(0.5708154506437768, 0.4523809523809524, 'gini = 0.0\\nsamples = 1\\nvalue = [0, 1]'),\n",
       " Text(0.5822603719599427, 0.4523809523809524, 'gini = 0.0\\nsamples = 1\\nvalue = [1, 0]'),\n",
       " Text(0.5994277539341917, 0.5, 'x[3] <= 0.5\\ngini = 0.198\\nsamples = 9\\nvalue = [1, 8]'),\n",
       " Text(0.5937052932761088, 0.4523809523809524, 'x[1] <= 107.663\\ngini = 0.375\\nsamples = 4\\nvalue = [1, 3]'),\n",
       " Text(0.5879828326180258, 0.40476190476190477, 'gini = 0.0\\nsamples = 2\\nvalue = [0, 2]'),\n",
       " Text(0.5994277539341917, 0.40476190476190477, 'x[0] <= 40.0\\ngini = 0.5\\nsamples = 2\\nvalue = [1, 1]'),\n",
       " Text(0.5937052932761088, 0.35714285714285715, 'gini = 0.0\\nsamples = 1\\nvalue = [1, 0]'),\n",
       " Text(0.6051502145922747, 0.35714285714285715, 'gini = 0.0\\nsamples = 1\\nvalue = [0, 1]'),\n",
       " Text(0.6051502145922747, 0.4523809523809524, 'gini = 0.0\\nsamples = 5\\nvalue = [0, 5]'),\n",
       " Text(0.6337625178826896, 0.5476190476190477, 'x[0] <= 50.0\\ngini = 0.5\\nsamples = 14\\nvalue = [7, 7]'),\n",
       " Text(0.6223175965665236, 0.5, 'x[1] <= 58.69\\ngini = 0.408\\nsamples = 7\\nvalue = [5, 2]'),\n",
       " Text(0.6165951359084406, 0.4523809523809524, 'x[0] <= 43.5\\ngini = 0.444\\nsamples = 3\\nvalue = [1, 2]'),\n",
       " Text(0.6108726752503576, 0.40476190476190477, 'gini = 0.0\\nsamples = 1\\nvalue = [1, 0]'),\n",
       " Text(0.6223175965665236, 0.40476190476190477, 'gini = 0.0\\nsamples = 2\\nvalue = [0, 2]'),\n",
       " Text(0.6280400572246065, 0.4523809523809524, 'gini = 0.0\\nsamples = 4\\nvalue = [4, 0]'),\n",
       " Text(0.6452074391988555, 0.5, 'x[1] <= 77.279\\ngini = 0.408\\nsamples = 7\\nvalue = [2, 5]'),\n",
       " Text(0.6394849785407726, 0.4523809523809524, 'gini = 0.0\\nsamples = 1\\nvalue = [1, 0]'),\n",
       " Text(0.6509298998569385, 0.4523809523809524, 'x[1] <= 109.396\\ngini = 0.278\\nsamples = 6\\nvalue = [1, 5]'),\n",
       " Text(0.6452074391988555, 0.40476190476190477, 'gini = 0.0\\nsamples = 4\\nvalue = [0, 4]'),\n",
       " Text(0.6566523605150214, 0.40476190476190477, 'x[0] <= 56.5\\ngini = 0.5\\nsamples = 2\\nvalue = [1, 1]'),\n",
       " Text(0.6509298998569385, 0.35714285714285715, 'gini = 0.0\\nsamples = 1\\nvalue = [1, 0]'),\n",
       " Text(0.6623748211731044, 0.35714285714285715, 'gini = 0.0\\nsamples = 1\\nvalue = [0, 1]'),\n",
       " Text(0.7356938483547926, 0.6428571428571429, 'x[0] <= 54.5\\ngini = 0.379\\nsamples = 59\\nvalue = [15, 44]'),\n",
       " Text(0.7002861230329042, 0.5952380952380952, 'x[1] <= 20.25\\ngini = 0.35\\nsamples = 53\\nvalue = [12, 41]'),\n",
       " Text(0.6795422031473534, 0.5476190476190477, 'x[0] <= 39.0\\ngini = 0.133\\nsamples = 14\\nvalue = [1, 13]'),\n",
       " Text(0.6738197424892703, 0.5, 'x[0] <= 37.0\\ngini = 0.245\\nsamples = 7\\nvalue = [1, 6]'),\n",
       " Text(0.6680972818311874, 0.4523809523809524, 'gini = 0.0\\nsamples = 6\\nvalue = [0, 6]'),\n",
       " Text(0.6795422031473534, 0.4523809523809524, 'gini = 0.0\\nsamples = 1\\nvalue = [1, 0]'),\n",
       " Text(0.6852646638054364, 0.5, 'gini = 0.0\\nsamples = 7\\nvalue = [0, 7]'),\n",
       " Text(0.721030042918455, 0.5476190476190477, 'x[1] <= 45.44\\ngini = 0.405\\nsamples = 39\\nvalue = [11, 28]'),\n",
       " Text(0.7052932761087267, 0.5, 'x[1] <= 32.25\\ngini = 0.472\\nsamples = 21\\nvalue = [8, 13]'),\n",
       " Text(0.6909871244635193, 0.4523809523809524, 'x[0] <= 29.5\\ngini = 0.415\\nsamples = 17\\nvalue = [5, 12]'),\n",
       " Text(0.6795422031473534, 0.40476190476190477, 'x[1] <= 24.5\\ngini = 0.48\\nsamples = 5\\nvalue = [3, 2]'),\n",
       " Text(0.6738197424892703, 0.35714285714285715, 'gini = 0.0\\nsamples = 1\\nvalue = [1, 0]'),\n",
       " Text(0.6852646638054364, 0.35714285714285715, 'gini = 0.5\\nsamples = 4\\nvalue = [2, 2]'),\n",
       " Text(0.7024320457796852, 0.40476190476190477, 'x[11] <= 0.5\\ngini = 0.278\\nsamples = 12\\nvalue = [2, 10]'),\n",
       " Text(0.6967095851216023, 0.35714285714285715, 'x[0] <= 46.0\\ngini = 0.444\\nsamples = 6\\nvalue = [2, 4]'),\n",
       " Text(0.6909871244635193, 0.30952380952380953, 'x[3] <= 0.5\\ngini = 0.5\\nsamples = 4\\nvalue = [2, 2]'),\n",
       " Text(0.6852646638054364, 0.2619047619047619, 'gini = 0.0\\nsamples = 1\\nvalue = [1, 0]'),\n",
       " Text(0.6967095851216023, 0.2619047619047619, 'x[0] <= 43.0\\ngini = 0.444\\nsamples = 3\\nvalue = [1, 2]'),\n",
       " Text(0.6909871244635193, 0.21428571428571427, 'gini = 0.0\\nsamples = 2\\nvalue = [0, 2]'),\n",
       " Text(0.7024320457796852, 0.21428571428571427, 'gini = 0.0\\nsamples = 1\\nvalue = [1, 0]'),\n",
       " Text(0.7024320457796852, 0.30952380952380953, 'gini = 0.0\\nsamples = 2\\nvalue = [0, 2]'),\n",
       " Text(0.7081545064377682, 0.35714285714285715, 'gini = 0.0\\nsamples = 6\\nvalue = [0, 6]'),\n",
       " Text(0.7195994277539342, 0.4523809523809524, 'x[3] <= 0.5\\ngini = 0.375\\nsamples = 4\\nvalue = [3, 1]'),\n",
       " Text(0.7138769670958512, 0.40476190476190477, 'gini = 0.0\\nsamples = 3\\nvalue = [3, 0]'),\n",
       " Text(0.7253218884120172, 0.40476190476190477, 'gini = 0.0\\nsamples = 1\\nvalue = [0, 1]'),\n",
       " Text(0.7367668097281831, 0.5, 'x[1] <= 88.25\\ngini = 0.278\\nsamples = 18\\nvalue = [3, 15]'),\n",
       " Text(0.7310443490701002, 0.4523809523809524, 'gini = 0.0\\nsamples = 9\\nvalue = [0, 9]'),\n",
       " Text(0.7424892703862661, 0.4523809523809524, 'x[0] <= 39.5\\ngini = 0.444\\nsamples = 9\\nvalue = [3, 6]'),\n",
       " Text(0.7367668097281831, 0.40476190476190477, 'x[0] <= 36.0\\ngini = 0.5\\nsamples = 6\\nvalue = [3, 3]'),\n",
       " Text(0.7310443490701002, 0.35714285714285715, 'x[1] <= 143.592\\ngini = 0.375\\nsamples = 4\\nvalue = [1, 3]'),\n",
       " Text(0.7253218884120172, 0.30952380952380953, 'gini = 0.0\\nsamples = 2\\nvalue = [0, 2]'),\n",
       " Text(0.7367668097281831, 0.30952380952380953, 'x[0] <= 31.0\\ngini = 0.5\\nsamples = 2\\nvalue = [1, 1]'),\n",
       " Text(0.7310443490701002, 0.2619047619047619, 'gini = 0.0\\nsamples = 1\\nvalue = [0, 1]'),\n",
       " Text(0.7424892703862661, 0.2619047619047619, 'gini = 0.0\\nsamples = 1\\nvalue = [1, 0]'),\n",
       " Text(0.7424892703862661, 0.35714285714285715, 'gini = 0.0\\nsamples = 2\\nvalue = [2, 0]'),\n",
       " Text(0.748211731044349, 0.40476190476190477, 'gini = 0.0\\nsamples = 3\\nvalue = [0, 3]'),\n",
       " Text(0.771101573676681, 0.5952380952380952, 'x[1] <= 51.979\\ngini = 0.5\\nsamples = 6\\nvalue = [3, 3]'),\n",
       " Text(0.765379113018598, 0.5476190476190477, 'x[1] <= 20.85\\ngini = 0.375\\nsamples = 4\\nvalue = [3, 1]'),\n",
       " Text(0.759656652360515, 0.5, 'x[0] <= 56.0\\ngini = 0.5\\nsamples = 2\\nvalue = [1, 1]'),\n",
       " Text(0.753934191702432, 0.4523809523809524, 'gini = 0.0\\nsamples = 1\\nvalue = [0, 1]'),\n",
       " Text(0.765379113018598, 0.4523809523809524, 'gini = 0.0\\nsamples = 1\\nvalue = [1, 0]'),\n",
       " Text(0.771101573676681, 0.5, 'gini = 0.0\\nsamples = 2\\nvalue = [2, 0]'),\n",
       " Text(0.776824034334764, 0.5476190476190477, 'gini = 0.0\\nsamples = 2\\nvalue = [0, 2]'),\n",
       " Text(0.7825464949928469, 0.7857142857142857, 'x[0] <= 43.5\\ngini = 0.459\\nsamples = 14\\nvalue = [9, 5]'),\n",
       " Text(0.776824034334764, 0.7380952380952381, 'x[1] <= 224.652\\ngini = 0.494\\nsamples = 9\\nvalue = [4, 5]'),\n",
       " Text(0.771101573676681, 0.6904761904761905, 'gini = 0.0\\nsamples = 2\\nvalue = [2, 0]'),\n",
       " Text(0.7825464949928469, 0.6904761904761905, 'x[11] <= 0.5\\ngini = 0.408\\nsamples = 7\\nvalue = [2, 5]'),\n",
       " Text(0.776824034334764, 0.6428571428571429, 'gini = 0.0\\nsamples = 3\\nvalue = [0, 3]'),\n",
       " Text(0.7882689556509299, 0.6428571428571429, 'x[0] <= 25.0\\ngini = 0.5\\nsamples = 4\\nvalue = [2, 2]'),\n",
       " Text(0.7825464949928469, 0.5952380952380952, 'gini = 0.0\\nsamples = 2\\nvalue = [0, 2]'),\n",
       " Text(0.7939914163090128, 0.5952380952380952, 'gini = 0.0\\nsamples = 2\\nvalue = [2, 0]'),\n",
       " Text(0.7882689556509299, 0.7380952380952381, 'gini = 0.0\\nsamples = 5\\nvalue = [5, 0]'),\n",
       " Text(0.7042650214592274, 0.8333333333333334, 'gini = 0.0\\nsamples = 3\\nvalue = [3, 0]'),\n",
       " Text(0.9347281831187411, 0.8809523809523809, 'x[1] <= 23.35\\ngini = 0.438\\nsamples = 151\\nvalue = [102, 49]'),\n",
       " Text(0.898068669527897, 0.8333333333333334, 'x[0] <= 36.5\\ngini = 0.469\\nsamples = 125\\nvalue = [78, 47]'),\n",
       " Text(0.892346208869814, 0.7857142857142857, 'x[1] <= 18.629\\ngini = 0.485\\nsamples = 114\\nvalue = [67, 47]'),\n",
       " Text(0.8419170243204578, 0.7380952380952381, 'x[0] <= 16.5\\ngini = 0.468\\nsamples = 102\\nvalue = [64, 38]'),\n",
       " Text(0.8054363376251789, 0.6904761904761905, 'x[1] <= 7.802\\ngini = 0.49\\nsamples = 14\\nvalue = [6, 8]'),\n",
       " Text(0.7997138769670958, 0.6428571428571429, 'gini = 0.0\\nsamples = 4\\nvalue = [0, 4]'),\n",
       " Text(0.8111587982832618, 0.6428571428571429, 'x[1] <= 12.235\\ngini = 0.48\\nsamples = 10\\nvalue = [6, 4]'),\n",
       " Text(0.8054363376251789, 0.5952380952380952, 'gini = 0.0\\nsamples = 3\\nvalue = [3, 0]'),\n",
       " Text(0.8168812589413448, 0.5952380952380952, 'x[23] <= 1.0\\ngini = 0.49\\nsamples = 7\\nvalue = [3, 4]'),\n",
       " Text(0.8111587982832618, 0.5476190476190477, 'x[0] <= 14.75\\ngini = 0.375\\nsamples = 4\\nvalue = [3, 1]'),\n",
       " Text(0.8054363376251789, 0.5, 'gini = 0.0\\nsamples = 3\\nvalue = [3, 0]'),\n",
       " Text(0.8168812589413448, 0.5, 'gini = 0.0\\nsamples = 1\\nvalue = [0, 1]'),\n",
       " Text(0.8226037195994278, 0.5476190476190477, 'gini = 0.0\\nsamples = 3\\nvalue = [0, 3]'),\n",
       " Text(0.8783977110157367, 0.6904761904761905, 'x[0] <= 21.5\\ngini = 0.449\\nsamples = 88\\nvalue = [58, 30]'),\n",
       " Text(0.8397711015736766, 0.6428571428571429, 'x[1] <= 7.815\\ngini = 0.255\\nsamples = 20\\nvalue = [17, 3]'),\n",
       " Text(0.8340486409155937, 0.5952380952380952, 'gini = 0.0\\nsamples = 5\\nvalue = [5, 0]'),\n",
       " Text(0.8454935622317596, 0.5952380952380952, 'x[1] <= 7.965\\ngini = 0.32\\nsamples = 15\\nvalue = [12, 3]'),\n",
       " Text(0.8340486409155937, 0.5476190476190477, 'x[3] <= 0.5\\ngini = 0.5\\nsamples = 4\\nvalue = [2, 2]'),\n",
       " Text(0.8283261802575107, 0.5, 'x[23] <= 1.5\\ngini = 0.444\\nsamples = 3\\nvalue = [2, 1]'),\n",
       " Text(0.8226037195994278, 0.4523809523809524, 'x[0] <= 18.5\\ngini = 0.5\\nsamples = 2\\nvalue = [1, 1]'),\n",
       " Text(0.8168812589413448, 0.40476190476190477, 'gini = 0.0\\nsamples = 1\\nvalue = [1, 0]'),\n",
       " Text(0.8283261802575107, 0.40476190476190477, 'gini = 0.0\\nsamples = 1\\nvalue = [0, 1]'),\n",
       " Text(0.8340486409155937, 0.4523809523809524, 'gini = 0.0\\nsamples = 1\\nvalue = [1, 0]'),\n",
       " Text(0.8397711015736766, 0.5, 'gini = 0.0\\nsamples = 1\\nvalue = [0, 1]'),\n",
       " Text(0.8569384835479256, 0.5476190476190477, 'x[0] <= 18.5\\ngini = 0.165\\nsamples = 11\\nvalue = [10, 1]'),\n",
       " Text(0.8512160228898427, 0.5, 'x[1] <= 12.15\\ngini = 0.32\\nsamples = 5\\nvalue = [4, 1]'),\n",
       " Text(0.8454935622317596, 0.4523809523809524, 'x[1] <= 8.946\\ngini = 0.5\\nsamples = 2\\nvalue = [1, 1]'),\n",
       " Text(0.8397711015736766, 0.40476190476190477, 'gini = 0.0\\nsamples = 1\\nvalue = [1, 0]'),\n",
       " Text(0.8512160228898427, 0.40476190476190477, 'gini = 0.0\\nsamples = 1\\nvalue = [0, 1]'),\n",
       " Text(0.8569384835479256, 0.4523809523809524, 'gini = 0.0\\nsamples = 3\\nvalue = [3, 0]'),\n",
       " Text(0.8626609442060086, 0.5, 'gini = 0.0\\nsamples = 6\\nvalue = [6, 0]'),\n",
       " Text(0.9170243204577968, 0.6428571428571429, 'x[1] <= 7.4\\ngini = 0.479\\nsamples = 68\\nvalue = [41, 27]'),\n",
       " Text(0.9027181688125894, 0.5952380952380952, 'x[1] <= 7.087\\ngini = 0.375\\nsamples = 4\\nvalue = [1, 3]'),\n",
       " Text(0.8969957081545065, 0.5476190476190477, 'gini = 0.0\\nsamples = 1\\nvalue = [1, 0]'),\n",
       " Text(0.9084406294706724, 0.5476190476190477, 'gini = 0.0\\nsamples = 3\\nvalue = [0, 3]'),\n",
       " Text(0.9313304721030042, 0.5952380952380952, 'x[1] <= 16.0\\ngini = 0.469\\nsamples = 64\\nvalue = [40, 24]'),\n",
       " Text(0.9198855507868383, 0.5476190476190477, 'x[23] <= 0.5\\ngini = 0.455\\nsamples = 60\\nvalue = [39, 21]'),\n",
       " Text(0.9141630901287554, 0.5, 'gini = 0.0\\nsamples = 4\\nvalue = [4, 0]'),\n",
       " Text(0.9256080114449213, 0.5, 'x[0] <= 28.5\\ngini = 0.469\\nsamples = 56\\nvalue = [35, 21]'),\n",
       " Text(0.8969957081545065, 0.4523809523809524, 'x[1] <= 7.867\\ngini = 0.485\\nsamples = 46\\nvalue = [27, 19]'),\n",
       " Text(0.8626609442060086, 0.40476190476190477, 'x[1] <= 7.783\\ngini = 0.5\\nsamples = 24\\nvalue = [12, 12]'),\n",
       " Text(0.8569384835479256, 0.35714285714285715, 'x[1] <= 7.763\\ngini = 0.49\\nsamples = 21\\nvalue = [12, 9]'),\n",
       " Text(0.8512160228898427, 0.30952380952380953, 'x[0] <= 23.5\\ngini = 0.5\\nsamples = 18\\nvalue = [9, 9]'),\n",
       " Text(0.8397711015736766, 0.2619047619047619, 'x[23] <= 1.5\\ngini = 0.375\\nsamples = 4\\nvalue = [1, 3]'),\n",
       " Text(0.8340486409155937, 0.21428571428571427, 'x[1] <= 7.737\\ngini = 0.5\\nsamples = 2\\nvalue = [1, 1]'),\n",
       " Text(0.8283261802575107, 0.16666666666666666, 'gini = 0.0\\nsamples = 1\\nvalue = [1, 0]'),\n",
       " Text(0.8397711015736766, 0.16666666666666666, 'gini = 0.0\\nsamples = 1\\nvalue = [0, 1]'),\n",
       " Text(0.8454935622317596, 0.21428571428571427, 'gini = 0.0\\nsamples = 2\\nvalue = [0, 2]'),\n",
       " Text(0.8626609442060086, 0.2619047619047619, 'x[1] <= 7.681\\ngini = 0.49\\nsamples = 14\\nvalue = [8, 6]'),\n",
       " Text(0.8569384835479256, 0.21428571428571427, 'gini = 0.0\\nsamples = 2\\nvalue = [2, 0]'),\n",
       " Text(0.8683834048640916, 0.21428571428571427, 'x[0] <= 26.0\\ngini = 0.5\\nsamples = 12\\nvalue = [6, 6]'),\n",
       " Text(0.8626609442060086, 0.16666666666666666, 'gini = 0.0\\nsamples = 1\\nvalue = [1, 0]'),\n",
       " Text(0.8741058655221745, 0.16666666666666666, 'x[1] <= 7.744\\ngini = 0.496\\nsamples = 11\\nvalue = [5, 6]'),\n",
       " Text(0.8683834048640916, 0.11904761904761904, 'x[1] <= 7.735\\ngini = 0.444\\nsamples = 3\\nvalue = [1, 2]'),\n",
       " Text(0.8626609442060086, 0.07142857142857142, 'gini = 0.5\\nsamples = 2\\nvalue = [1, 1]'),\n",
       " Text(0.8741058655221745, 0.07142857142857142, 'gini = 0.0\\nsamples = 1\\nvalue = [0, 1]'),\n",
       " Text(0.8798283261802575, 0.11904761904761904, 'gini = 0.5\\nsamples = 8\\nvalue = [4, 4]'),\n",
       " Text(0.8626609442060086, 0.30952380952380953, 'gini = 0.0\\nsamples = 3\\nvalue = [3, 0]'),\n",
       " Text(0.8683834048640916, 0.35714285714285715, 'gini = 0.0\\nsamples = 3\\nvalue = [0, 3]'),\n",
       " Text(0.9313304721030042, 0.40476190476190477, 'x[1] <= 10.485\\ngini = 0.434\\nsamples = 22\\nvalue = [15, 7]'),\n",
       " Text(0.9198855507868383, 0.35714285714285715, 'x[1] <= 7.988\\ngini = 0.32\\nsamples = 15\\nvalue = [12, 3]'),\n",
       " Text(0.9141630901287554, 0.30952380952380953, 'x[3] <= 0.5\\ngini = 0.469\\nsamples = 8\\nvalue = [5, 3]'),\n",
       " Text(0.9084406294706724, 0.2619047619047619, 'x[1] <= 7.91\\ngini = 0.5\\nsamples = 6\\nvalue = [3, 3]'),\n",
       " Text(0.9027181688125894, 0.21428571428571427, 'x[23] <= 1.5\\ngini = 0.375\\nsamples = 4\\nvalue = [3, 1]'),\n",
       " Text(0.8969957081545065, 0.16666666666666666, 'x[0] <= 27.5\\ngini = 0.444\\nsamples = 3\\nvalue = [2, 1]'),\n",
       " Text(0.8912732474964234, 0.11904761904761904, 'gini = 0.0\\nsamples = 1\\nvalue = [1, 0]'),\n",
       " Text(0.9027181688125894, 0.11904761904761904, 'gini = 0.5\\nsamples = 2\\nvalue = [1, 1]'),\n",
       " Text(0.9084406294706724, 0.16666666666666666, 'gini = 0.0\\nsamples = 1\\nvalue = [1, 0]'),\n",
       " Text(0.9141630901287554, 0.21428571428571427, 'gini = 0.0\\nsamples = 2\\nvalue = [0, 2]'),\n",
       " Text(0.9198855507868383, 0.2619047619047619, 'gini = 0.0\\nsamples = 2\\nvalue = [2, 0]'),\n",
       " Text(0.9256080114449213, 0.30952380952380953, 'gini = 0.0\\nsamples = 7\\nvalue = [7, 0]'),\n",
       " Text(0.9427753934191703, 0.35714285714285715, 'x[1] <= 13.188\\ngini = 0.49\\nsamples = 7\\nvalue = [3, 4]'),\n",
       " Text(0.9370529327610873, 0.30952380952380953, 'gini = 0.0\\nsamples = 2\\nvalue = [0, 2]'),\n",
       " Text(0.9484978540772532, 0.30952380952380953, 'x[23] <= 1.5\\ngini = 0.48\\nsamples = 5\\nvalue = [3, 2]'),\n",
       " Text(0.9427753934191703, 0.2619047619047619, 'x[3] <= 0.5\\ngini = 0.444\\nsamples = 3\\nvalue = [1, 2]'),\n",
       " Text(0.9370529327610873, 0.21428571428571427, 'gini = 0.0\\nsamples = 1\\nvalue = [1, 0]'),\n",
       " Text(0.9484978540772532, 0.21428571428571427, 'gini = 0.0\\nsamples = 2\\nvalue = [0, 2]'),\n",
       " Text(0.9542203147353362, 0.2619047619047619, 'gini = 0.0\\nsamples = 2\\nvalue = [2, 0]'),\n",
       " Text(0.9542203147353362, 0.4523809523809524, 'x[1] <= 8.673\\ngini = 0.32\\nsamples = 10\\nvalue = [8, 2]'),\n",
       " Text(0.9484978540772532, 0.40476190476190477, 'gini = 0.0\\nsamples = 6\\nvalue = [6, 0]'),\n",
       " Text(0.9599427753934192, 0.40476190476190477, 'x[11] <= 0.5\\ngini = 0.5\\nsamples = 4\\nvalue = [2, 2]'),\n",
       " Text(0.9542203147353362, 0.35714285714285715, 'gini = 0.0\\nsamples = 2\\nvalue = [0, 2]'),\n",
       " Text(0.9656652360515021, 0.35714285714285715, 'gini = 0.0\\nsamples = 2\\nvalue = [2, 0]'),\n",
       " Text(0.9427753934191703, 0.5476190476190477, 'x[1] <= 17.7\\ngini = 0.375\\nsamples = 4\\nvalue = [1, 3]'),\n",
       " Text(0.9370529327610873, 0.5, 'gini = 0.0\\nsamples = 3\\nvalue = [0, 3]'),\n",
       " Text(0.9484978540772532, 0.5, 'gini = 0.0\\nsamples = 1\\nvalue = [1, 0]'),\n",
       " Text(0.9427753934191703, 0.7380952380952381, 'x[23] <= 1.5\\ngini = 0.375\\nsamples = 12\\nvalue = [3, 9]'),\n",
       " Text(0.9370529327610873, 0.6904761904761905, 'gini = 0.0\\nsamples = 6\\nvalue = [0, 6]'),\n",
       " Text(0.9484978540772532, 0.6904761904761905, 'x[0] <= 3.0\\ngini = 0.5\\nsamples = 6\\nvalue = [3, 3]'),\n",
       " Text(0.9427753934191703, 0.6428571428571429, 'gini = 0.0\\nsamples = 2\\nvalue = [2, 0]'),\n",
       " Text(0.9542203147353362, 0.6428571428571429, 'x[1] <= 20.55\\ngini = 0.375\\nsamples = 4\\nvalue = [1, 3]'),\n",
       " Text(0.9484978540772532, 0.5952380952380952, 'gini = 0.0\\nsamples = 2\\nvalue = [0, 2]'),\n",
       " Text(0.9599427753934192, 0.5952380952380952, 'x[3] <= 0.5\\ngini = 0.5\\nsamples = 2\\nvalue = [1, 1]'),\n",
       " Text(0.9542203147353362, 0.5476190476190477, 'gini = 0.0\\nsamples = 1\\nvalue = [0, 1]'),\n",
       " Text(0.9656652360515021, 0.5476190476190477, 'gini = 0.0\\nsamples = 1\\nvalue = [1, 0]'),\n",
       " Text(0.90379113018598, 0.7857142857142857, 'gini = 0.0\\nsamples = 11\\nvalue = [11, 0]'),\n",
       " Text(0.9713876967095851, 0.8333333333333334, 'x[0] <= 5.5\\ngini = 0.142\\nsamples = 26\\nvalue = [24, 2]'),\n",
       " Text(0.9599427753934192, 0.7857142857142857, 'x[0] <= 3.5\\ngini = 0.444\\nsamples = 3\\nvalue = [2, 1]'),\n",
       " Text(0.9542203147353362, 0.7380952380952381, 'gini = 0.0\\nsamples = 2\\nvalue = [2, 0]'),\n",
       " Text(0.9656652360515021, 0.7380952380952381, 'gini = 0.0\\nsamples = 1\\nvalue = [0, 1]'),\n",
       " Text(0.9828326180257511, 0.7857142857142857, 'x[11] <= 4.5\\ngini = 0.083\\nsamples = 23\\nvalue = [22, 1]'),\n",
       " Text(0.977110157367668, 0.7380952380952381, 'gini = 0.0\\nsamples = 17\\nvalue = [17, 0]'),\n",
       " Text(0.9885550786838341, 0.7380952380952381, 'x[0] <= 38.5\\ngini = 0.278\\nsamples = 6\\nvalue = [5, 1]'),\n",
       " Text(0.9828326180257511, 0.6904761904761905, 'x[1] <= 50.469\\ngini = 0.5\\nsamples = 2\\nvalue = [1, 1]'),\n",
       " Text(0.977110157367668, 0.6428571428571429, 'gini = 0.0\\nsamples = 1\\nvalue = [0, 1]'),\n",
       " Text(0.9885550786838341, 0.6428571428571429, 'gini = 0.0\\nsamples = 1\\nvalue = [1, 0]'),\n",
       " Text(0.994277539341917, 0.6904761904761905, 'gini = 0.0\\nsamples = 4\\nvalue = [4, 0]')]"
      ]
     },
     "execution_count": 16,
     "metadata": {},
     "output_type": "execute_result"
    },
    {
     "data": {
      "image/png": "[encoded data removed]",
      "text/plain": [
       "<Figure size 640x480 with 1 Axes>"
      ]
     },
     "metadata": {},
     "output_type": "display_data"
    }
   ],
   "source": [
    "tree.plot_tree(clf)"
   ]
  },
  {
   "cell_type": "markdown",
   "id": "329100ad-db93-4d75-b116-379c5b8f6892",
   "metadata": {
    "tags": []
   },
   "source": [
    "## Actividad\n",
    "\n",
    "1. Sobre el TEST hacer un PREDICT de la y\n",
    "\n",
    "2. METRICA: medir que tan bien está prediciendo! CONFUSION MATRIX!!!\n",
    "\n"
   ]
  },
  {
   "cell_type": "code",
   "execution_count": 17,
   "id": "19b75c1f-89b8-4235-a48e-67a1176966ea",
   "metadata": {
    "tags": []
   },
   "outputs": [
    {
     "data": {
      "text/plain": [
       "(array([0, 1, 0, 1, 0, 0, 0, 1, 0, 0, 1, 0, 0, 1, 1, 0, 0, 0, 0, 0, 0, 1,\n",
       "        0, 0, 1, 0, 0, 1, 0, 1, 0, 0, 0, 0, 1, 0, 0, 0, 0, 1, 0, 0, 1, 0,\n",
       "        0, 1, 0, 0, 0, 1, 1, 1, 0, 1, 0, 0, 0, 0, 1, 0, 1, 0, 1, 0, 1, 0,\n",
       "        0, 0, 1, 0, 0, 1, 0, 0, 0, 0, 0, 1, 0, 0, 1, 1, 0, 0, 0, 0, 1, 0,\n",
       "        0, 1, 0, 0, 1, 0, 0, 0, 0, 1, 0, 0, 0, 0, 0, 1, 0, 0, 1, 0, 0, 0,\n",
       "        1, 0, 0, 0, 0, 0, 1, 0, 0, 1, 0, 1, 0, 1, 0, 0, 0, 1, 1, 0, 0, 1,\n",
       "        0, 0, 0, 0, 0, 0, 0, 0, 0, 0, 1, 0, 0, 0, 0, 0, 0, 0, 1, 0, 0, 0,\n",
       "        1, 0, 0, 0, 0, 0, 1, 0, 0, 0, 0, 0, 0, 0, 1, 0, 0, 0, 1, 0, 0, 0,\n",
       "        0, 0, 0, 0, 1, 0, 0, 0, 0, 0, 1, 0, 1, 0, 0, 0, 0, 0, 1, 0, 0, 0,\n",
       "        0, 1, 0, 0, 0, 0, 0, 1, 0, 0, 0, 0, 0, 0, 1, 1, 1, 0, 0, 1, 0, 0,\n",
       "        0, 0, 1, 1, 0, 0, 0, 0, 0, 0, 0, 1, 1, 1, 1, 0, 0, 1, 0, 1, 0, 0,\n",
       "        1, 1, 0, 0, 0, 0, 0, 0, 0, 0, 0, 1, 1, 1, 0, 0, 0, 0, 0, 0, 0, 0,\n",
       "        1, 1, 1, 0, 0, 0, 1, 0, 0, 0, 0, 1, 1, 0, 0, 0, 1, 0, 1, 0, 0, 0,\n",
       "        0, 1, 0, 0, 1, 0, 0, 1, 1, 0, 0, 0, 0, 1, 0, 0, 0, 0, 0, 0, 1, 0,\n",
       "        0, 0, 0, 1, 0, 1, 1, 0, 0, 0, 0, 0, 1, 0, 1, 1, 0, 1, 0, 0, 0, 0,\n",
       "        0, 0, 1, 0, 0, 0, 0, 0, 1, 0, 0, 0, 0, 0, 0, 0, 0, 0, 0, 0, 0, 1,\n",
       "        0, 0, 0, 0, 1, 0, 0, 0, 1, 0, 0, 0, 0, 0, 0, 0, 1, 1, 0, 0, 1, 0,\n",
       "        0, 0, 0, 0, 0, 0, 0, 0, 0, 1, 1, 1, 0, 0, 1, 1, 0, 0, 0],\n",
       "       dtype=int64),\n",
       " array([1, 1, 0, 0, 0, 0, 0, 1, 0, 0, 1, 1, 0, 0, 0, 0, 1, 0, 1, 0, 1, 1,\n",
       "        0, 1, 1, 0, 0, 1, 0, 1, 0, 0, 0, 0, 1, 0, 0, 0, 0, 0, 0, 0, 1, 0,\n",
       "        0, 0, 0, 0, 0, 1, 1, 0, 0, 1, 0, 0, 0, 0, 1, 0, 0, 0, 0, 0, 1, 0,\n",
       "        0, 0, 0, 0, 0, 0, 0, 0, 1, 0, 0, 0, 0, 0, 1, 1, 0, 1, 0, 0, 0, 0,\n",
       "        0, 0, 1, 1, 0, 0, 1, 0, 0, 1, 1, 0, 1, 1, 1, 1, 0, 0, 1, 0, 1, 0,\n",
       "        1, 0, 0, 0, 0, 0, 1, 0, 1, 1, 0, 0, 0, 1, 0, 0, 0, 1, 0, 0, 0, 1,\n",
       "        0, 0, 0, 0, 0, 0, 0, 0, 1, 0, 1, 1, 0, 0, 1, 0, 0, 0, 1, 1, 0, 0,\n",
       "        1, 0, 0, 0, 1, 0, 1, 0, 0, 1, 0, 0, 0, 1, 0, 0, 0, 0, 1, 1, 0, 0,\n",
       "        0, 0, 0, 0, 0, 0, 0, 0, 0, 0, 0, 0, 1, 0, 1, 1, 0, 0, 0, 0, 0, 1,\n",
       "        0, 0, 0, 0, 1, 0, 0, 0, 0, 0, 0, 0, 0, 0, 0, 0, 0, 0, 0, 0, 0, 0,\n",
       "        1, 0, 1, 0, 0, 0, 0, 0, 0, 0, 0, 0, 1, 1, 1, 0, 0, 0, 0, 0, 0, 0,\n",
       "        0, 0, 0, 0, 0, 0, 0, 0, 1, 1, 0, 0, 1, 0, 0, 0, 1, 0, 1, 0, 1, 0,\n",
       "        1, 0, 1, 0, 0, 1, 1, 0, 0, 0, 0, 0, 1, 0, 0, 1, 0, 0, 0, 0, 0, 1,\n",
       "        0, 1, 0, 0, 1, 0, 0, 1, 0, 0, 0, 1, 1, 1, 0, 0, 1, 0, 0, 0, 1, 0,\n",
       "        1, 1, 0, 1, 0, 1, 1, 0, 1, 0, 0, 0, 0, 0, 1, 0, 0, 0, 0, 0, 0, 0,\n",
       "        0, 0, 0, 0, 0, 0, 0, 0, 0, 0, 1, 0, 0, 0, 0, 0, 0, 0, 0, 0, 0, 1,\n",
       "        0, 0, 0, 0, 0, 0, 1, 0, 0, 0, 0, 1, 0, 1, 1, 0, 1, 1, 1, 0, 0, 0,\n",
       "        0, 0, 0, 0, 1, 1, 1, 0, 0, 1, 0, 1, 0, 0, 1, 0, 0, 1, 0],\n",
       "       dtype=int64))"
      ]
     },
     "execution_count": 17,
     "metadata": {},
     "output_type": "execute_result"
    }
   ],
   "source": [
    "y_pred = clf.predict(x_test)\n",
    "\n",
    "y_pred,np.array(y_test)"
   ]
  },
  {
   "cell_type": "code",
   "execution_count": 18,
   "id": "67418604-ac5d-4e4a-b0db-e02639402df2",
   "metadata": {
    "tags": []
   },
   "outputs": [],
   "source": [
    "from sklearn.metrics import confusion_matrix"
   ]
  },
  {
   "cell_type": "code",
   "execution_count": 19,
   "id": "6bd5da82-d662-47ea-9c77-cd36b7960e04",
   "metadata": {
    "tags": []
   },
   "outputs": [
    {
     "data": {
      "text/plain": [
       "array([[235,  54],\n",
       "       [ 49,  55]], dtype=int64)"
      ]
     },
     "execution_count": 19,
     "metadata": {},
     "output_type": "execute_result"
    }
   ],
   "source": [
    "cf_matrix = confusion_matrix(y_pred,y_test)\n",
    "cf_matrix"
   ]
  },
  {
   "cell_type": "code",
   "execution_count": 20,
   "id": "891fe678-8667-4c6e-a221-2fe52367ed4c",
   "metadata": {
    "tags": []
   },
   "outputs": [
    {
     "data": {
      "text/plain": [
       "array([[0.59796438, 0.13740458],\n",
       "       [0.12468193, 0.13994911]])"
      ]
     },
     "execution_count": 20,
     "metadata": {},
     "output_type": "execute_result"
    }
   ],
   "source": [
    "cf_matrix_perc = cf_matrix/np.sum(cf_matrix)\n",
    "cf_matrix_perc"
   ]
  },
  {
   "cell_type": "code",
   "execution_count": 21,
   "id": "21ff1465-fbf1-441f-ab7d-cbac76dc4857",
   "metadata": {
    "tags": []
   },
   "outputs": [
    {
     "data": {
      "text/html": [
       "<div>\n",
       "<style scoped>\n",
       "    .dataframe tbody tr th:only-of-type {\n",
       "        vertical-align: middle;\n",
       "    }\n",
       "\n",
       "    .dataframe tbody tr th {\n",
       "        vertical-align: top;\n",
       "    }\n",
       "\n",
       "    .dataframe thead th {\n",
       "        text-align: right;\n",
       "    }\n",
       "</style>\n",
       "<table border=\"1\" class=\"dataframe\">\n",
       "  <thead>\n",
       "    <tr style=\"text-align: right;\">\n",
       "      <th></th>\n",
       "      <th>Pred 0</th>\n",
       "      <th>Pred 1</th>\n",
       "    </tr>\n",
       "  </thead>\n",
       "  <tbody>\n",
       "    <tr>\n",
       "      <th>Actual 0</th>\n",
       "      <td>0.597964</td>\n",
       "      <td>0.137405</td>\n",
       "    </tr>\n",
       "    <tr>\n",
       "      <th>Actual 1</th>\n",
       "      <td>0.124682</td>\n",
       "      <td>0.139949</td>\n",
       "    </tr>\n",
       "  </tbody>\n",
       "</table>\n",
       "</div>"
      ],
      "text/plain": [
       "            Pred 0    Pred 1\n",
       "Actual 0  0.597964  0.137405\n",
       "Actual 1  0.124682  0.139949"
      ]
     },
     "execution_count": 21,
     "metadata": {},
     "output_type": "execute_result"
    }
   ],
   "source": [
    "cf_matrix_scaled = pd.DataFrame(cf_matrix/cf_matrix.sum(), index=['Actual 0', 'Actual 1'], columns=['Pred 0','Pred 1'])\n",
    "cf_matrix_scaled"
   ]
  },
  {
   "cell_type": "code",
   "execution_count": null,
   "id": "3a0e35c0-9f3c-44f9-ad12-fabfac3d62fc",
   "metadata": {},
   "outputs": [],
   "source": []
  },
  {
   "cell_type": "code",
   "execution_count": 4,
   "id": "a1a4647a-b405-4ef2-89d1-a9268d007308",
   "metadata": {
    "tags": []
   },
   "outputs": [],
   "source": [
    "import matplotlib.pyplot as plt\n",
    "import seaborn as sns"
   ]
  },
  {
   "cell_type": "code",
   "execution_count": 23,
   "id": "446873ab-b7ee-4e4b-9f17-3e87b21d1523",
   "metadata": {
    "tags": []
   },
   "outputs": [
    {
     "data": {
      "image/png": "[encoded data removed]",
      "text/plain": [
       "<Figure size 640x480 with 2 Axes>"
      ]
     },
     "metadata": {},
     "output_type": "display_data"
    }
   ],
   "source": [
    "#plt.figure(figsize=(8, 6))\n",
    "#sns.set(font_scale=1.4)\n",
    "heatmap = sns.heatmap(cf_matrix_perc, annot=True, fmt='.2%', cmap='Blues', linewidth=2)\n",
    "#plt.xlabel('Predictions', fontdict={'fontname':'Montserrat'})\n",
    "#plt.ylabel('Reality', fontdict={'fontname':'Montserrat'})\n",
    "plt.title('Confusion Matrix', fontdict={'fontname':'Montserrat', 'fontsize':30})\n",
    "plt.show()"
   ]
  },
  {
   "cell_type": "code",
   "execution_count": 24,
   "id": "52a69425-76f9-43b2-b53f-01f3450693d0",
   "metadata": {
    "tags": []
   },
   "outputs": [
    {
     "data": {
      "image/png": "[encoded data removed]",
      "text/plain": [
       "<Figure size 640x480 with 2 Axes>"
      ]
     },
     "metadata": {},
     "output_type": "display_data"
    }
   ],
   "source": [
    "sns.heatmap(cf_matrix, annot=True, fmt='d', cmap='Blues', linewidth=2)\n",
    "plt.show()"
   ]
  },
  {
   "cell_type": "code",
   "execution_count": 25,
   "id": "622a9c6b-a8de-461a-ba46-80e0322163ab",
   "metadata": {
    "tags": []
   },
   "outputs": [
    {
     "data": {
      "text/plain": [
       "array([[0.59796438, 0.13740458],\n",
       "       [0.12468193, 0.13994911]])"
      ]
     },
     "execution_count": 25,
     "metadata": {},
     "output_type": "execute_result"
    }
   ],
   "source": [
    "cf_matrix/np.sum(cf_matrix)"
   ]
  },
  {
   "cell_type": "code",
   "execution_count": null,
   "id": "d99ff587-0b16-4756-b8f1-eef3293f97b2",
   "metadata": {
    "tags": []
   },
   "outputs": [],
   "source": []
  },
  {
   "cell_type": "code",
   "execution_count": 26,
   "id": "01d623df-692c-4c12-a976-7ab67718a891",
   "metadata": {
    "tags": []
   },
   "outputs": [],
   "source": [
    "#tree.plot_tree(clf)"
   ]
  },
  {
   "cell_type": "code",
   "execution_count": 6,
   "id": "680ca11a-3c7c-4212-913f-c055daa4e078",
   "metadata": {
    "tags": []
   },
   "outputs": [
    {
     "data": {
      "text/html": [
       "<div>\n",
       "<style scoped>\n",
       "    .dataframe tbody tr th:only-of-type {\n",
       "        vertical-align: middle;\n",
       "    }\n",
       "\n",
       "    .dataframe tbody tr th {\n",
       "        vertical-align: top;\n",
       "    }\n",
       "\n",
       "    .dataframe thead th {\n",
       "        text-align: right;\n",
       "    }\n",
       "</style>\n",
       "<table border=\"1\" class=\"dataframe\">\n",
       "  <thead>\n",
       "    <tr style=\"text-align: right;\">\n",
       "      <th></th>\n",
       "      <th>0</th>\n",
       "      <th>1</th>\n",
       "      <th>2</th>\n",
       "    </tr>\n",
       "  </thead>\n",
       "  <tbody>\n",
       "    <tr>\n",
       "      <th>0</th>\n",
       "      <td>0.5</td>\n",
       "      <td>0.5</td>\n",
       "      <td>1</td>\n",
       "    </tr>\n",
       "    <tr>\n",
       "      <th>1</th>\n",
       "      <td>0.5</td>\n",
       "      <td>0.5</td>\n",
       "      <td>1</td>\n",
       "    </tr>\n",
       "    <tr>\n",
       "      <th>2</th>\n",
       "      <td>1.0</td>\n",
       "      <td>1.0</td>\n",
       "      <td>1</td>\n",
       "    </tr>\n",
       "  </tbody>\n",
       "</table>\n",
       "</div>"
      ],
      "text/plain": [
       "     0    1  2\n",
       "0  0.5  0.5  1\n",
       "1  0.5  0.5  1\n",
       "2  1.0  1.0  1"
      ]
     },
     "execution_count": 6,
     "metadata": {},
     "output_type": "execute_result"
    }
   ],
   "source": [
    "prueba = pd.DataFrame([[0.5,0.5,1],[0.5,0.5,1],[1,1,1]])\n",
    "prueba"
   ]
  },
  {
   "cell_type": "code",
   "execution_count": 7,
   "id": "ed05b258-c785-44b4-b612-0a91e7152513",
   "metadata": {
    "tags": []
   },
   "outputs": [
    {
     "data": {
      "image/png": "[encoded data removed]",
      "text/plain": [
       "<Figure size 640x480 with 2 Axes>"
      ]
     },
     "metadata": {},
     "output_type": "display_data"
    }
   ],
   "source": [
    "sns.heatmap(prueba, annot=True)\n",
    "plt.show()"
   ]
  },
  {
   "cell_type": "code",
   "execution_count": 28,
   "id": "f72405a2-b9b4-47dd-9379-498b3dd3e983",
   "metadata": {
    "tags": []
   },
   "outputs": [
    {
     "data": {
      "text/html": [
       "<div>\n",
       "<style scoped>\n",
       "    .dataframe tbody tr th:only-of-type {\n",
       "        vertical-align: middle;\n",
       "    }\n",
       "\n",
       "    .dataframe tbody tr th {\n",
       "        vertical-align: top;\n",
       "    }\n",
       "\n",
       "    .dataframe thead th {\n",
       "        text-align: right;\n",
       "    }\n",
       "</style>\n",
       "<table border=\"1\" class=\"dataframe\">\n",
       "  <thead>\n",
       "    <tr style=\"text-align: right;\">\n",
       "      <th></th>\n",
       "      <th>survived</th>\n",
       "      <th>pclass</th>\n",
       "      <th>sex</th>\n",
       "      <th>age</th>\n",
       "      <th>sibsp</th>\n",
       "      <th>parch</th>\n",
       "      <th>fare</th>\n",
       "      <th>embarked</th>\n",
       "      <th>class</th>\n",
       "      <th>who</th>\n",
       "      <th>adult_male</th>\n",
       "      <th>deck</th>\n",
       "      <th>embark_town</th>\n",
       "      <th>alive</th>\n",
       "      <th>alone</th>\n",
       "    </tr>\n",
       "  </thead>\n",
       "  <tbody>\n",
       "    <tr>\n",
       "      <th>0</th>\n",
       "      <td>0</td>\n",
       "      <td>3</td>\n",
       "      <td>male</td>\n",
       "      <td>22.0</td>\n",
       "      <td>1</td>\n",
       "      <td>0</td>\n",
       "      <td>7.2500</td>\n",
       "      <td>S</td>\n",
       "      <td>Third</td>\n",
       "      <td>man</td>\n",
       "      <td>True</td>\n",
       "      <td>NaN</td>\n",
       "      <td>Southampton</td>\n",
       "      <td>no</td>\n",
       "      <td>False</td>\n",
       "    </tr>\n",
       "    <tr>\n",
       "      <th>1</th>\n",
       "      <td>1</td>\n",
       "      <td>1</td>\n",
       "      <td>female</td>\n",
       "      <td>38.0</td>\n",
       "      <td>1</td>\n",
       "      <td>0</td>\n",
       "      <td>71.2833</td>\n",
       "      <td>C</td>\n",
       "      <td>First</td>\n",
       "      <td>woman</td>\n",
       "      <td>False</td>\n",
       "      <td>C</td>\n",
       "      <td>Cherbourg</td>\n",
       "      <td>yes</td>\n",
       "      <td>False</td>\n",
       "    </tr>\n",
       "    <tr>\n",
       "      <th>2</th>\n",
       "      <td>1</td>\n",
       "      <td>3</td>\n",
       "      <td>female</td>\n",
       "      <td>26.0</td>\n",
       "      <td>0</td>\n",
       "      <td>0</td>\n",
       "      <td>7.9250</td>\n",
       "      <td>S</td>\n",
       "      <td>Third</td>\n",
       "      <td>woman</td>\n",
       "      <td>False</td>\n",
       "      <td>NaN</td>\n",
       "      <td>Southampton</td>\n",
       "      <td>yes</td>\n",
       "      <td>True</td>\n",
       "    </tr>\n",
       "    <tr>\n",
       "      <th>3</th>\n",
       "      <td>1</td>\n",
       "      <td>1</td>\n",
       "      <td>female</td>\n",
       "      <td>35.0</td>\n",
       "      <td>1</td>\n",
       "      <td>0</td>\n",
       "      <td>53.1000</td>\n",
       "      <td>S</td>\n",
       "      <td>First</td>\n",
       "      <td>woman</td>\n",
       "      <td>False</td>\n",
       "      <td>C</td>\n",
       "      <td>Southampton</td>\n",
       "      <td>yes</td>\n",
       "      <td>False</td>\n",
       "    </tr>\n",
       "    <tr>\n",
       "      <th>4</th>\n",
       "      <td>0</td>\n",
       "      <td>3</td>\n",
       "      <td>male</td>\n",
       "      <td>35.0</td>\n",
       "      <td>0</td>\n",
       "      <td>0</td>\n",
       "      <td>8.0500</td>\n",
       "      <td>S</td>\n",
       "      <td>Third</td>\n",
       "      <td>man</td>\n",
       "      <td>True</td>\n",
       "      <td>NaN</td>\n",
       "      <td>Southampton</td>\n",
       "      <td>no</td>\n",
       "      <td>True</td>\n",
       "    </tr>\n",
       "  </tbody>\n",
       "</table>\n",
       "</div>"
      ],
      "text/plain": [
       "   survived  pclass     sex   age  sibsp  parch     fare embarked  class  \\\n",
       "0         0       3    male  22.0      1      0   7.2500        S  Third   \n",
       "1         1       1  female  38.0      1      0  71.2833        C  First   \n",
       "2         1       3  female  26.0      0      0   7.9250        S  Third   \n",
       "3         1       1  female  35.0      1      0  53.1000        S  First   \n",
       "4         0       3    male  35.0      0      0   8.0500        S  Third   \n",
       "\n",
       "     who  adult_male deck  embark_town alive  alone  \n",
       "0    man        True  NaN  Southampton    no  False  \n",
       "1  woman       False    C    Cherbourg   yes  False  \n",
       "2  woman       False  NaN  Southampton   yes   True  \n",
       "3  woman       False    C  Southampton   yes  False  \n",
       "4    man        True  NaN  Southampton    no   True  "
      ]
     },
     "execution_count": 28,
     "metadata": {},
     "output_type": "execute_result"
    }
   ],
   "source": [
    "titanic = sns.load_dataset(\"titanic\")\n",
    "titanic.head()"
   ]
  },
  {
   "cell_type": "code",
   "execution_count": 29,
   "id": "942b9e4d-1e6c-41d0-a995-2ce2950157dc",
   "metadata": {
    "tags": []
   },
   "outputs": [
    {
     "data": {
      "text/html": [
       "<div>\n",
       "<style scoped>\n",
       "    .dataframe tbody tr th:only-of-type {\n",
       "        vertical-align: middle;\n",
       "    }\n",
       "\n",
       "    .dataframe tbody tr th {\n",
       "        vertical-align: top;\n",
       "    }\n",
       "\n",
       "    .dataframe thead th {\n",
       "        text-align: right;\n",
       "    }\n",
       "</style>\n",
       "<table border=\"1\" class=\"dataframe\">\n",
       "  <thead>\n",
       "    <tr style=\"text-align: right;\">\n",
       "      <th></th>\n",
       "      <th>survived</th>\n",
       "      <th>pclass</th>\n",
       "      <th>age</th>\n",
       "      <th>sibsp</th>\n",
       "      <th>parch</th>\n",
       "      <th>fare</th>\n",
       "    </tr>\n",
       "  </thead>\n",
       "  <tbody>\n",
       "    <tr>\n",
       "      <th>survived</th>\n",
       "      <td>1.000000</td>\n",
       "      <td>-0.338481</td>\n",
       "      <td>-0.077221</td>\n",
       "      <td>-0.035322</td>\n",
       "      <td>0.081629</td>\n",
       "      <td>0.257307</td>\n",
       "    </tr>\n",
       "    <tr>\n",
       "      <th>pclass</th>\n",
       "      <td>-0.338481</td>\n",
       "      <td>1.000000</td>\n",
       "      <td>-0.369226</td>\n",
       "      <td>0.083081</td>\n",
       "      <td>0.018443</td>\n",
       "      <td>-0.549500</td>\n",
       "    </tr>\n",
       "    <tr>\n",
       "      <th>age</th>\n",
       "      <td>-0.077221</td>\n",
       "      <td>-0.369226</td>\n",
       "      <td>1.000000</td>\n",
       "      <td>-0.308247</td>\n",
       "      <td>-0.189119</td>\n",
       "      <td>0.096067</td>\n",
       "    </tr>\n",
       "    <tr>\n",
       "      <th>sibsp</th>\n",
       "      <td>-0.035322</td>\n",
       "      <td>0.083081</td>\n",
       "      <td>-0.308247</td>\n",
       "      <td>1.000000</td>\n",
       "      <td>0.414838</td>\n",
       "      <td>0.159651</td>\n",
       "    </tr>\n",
       "    <tr>\n",
       "      <th>parch</th>\n",
       "      <td>0.081629</td>\n",
       "      <td>0.018443</td>\n",
       "      <td>-0.189119</td>\n",
       "      <td>0.414838</td>\n",
       "      <td>1.000000</td>\n",
       "      <td>0.216225</td>\n",
       "    </tr>\n",
       "    <tr>\n",
       "      <th>fare</th>\n",
       "      <td>0.257307</td>\n",
       "      <td>-0.549500</td>\n",
       "      <td>0.096067</td>\n",
       "      <td>0.159651</td>\n",
       "      <td>0.216225</td>\n",
       "      <td>1.000000</td>\n",
       "    </tr>\n",
       "  </tbody>\n",
       "</table>\n",
       "</div>"
      ],
      "text/plain": [
       "          survived    pclass       age     sibsp     parch      fare\n",
       "survived  1.000000 -0.338481 -0.077221 -0.035322  0.081629  0.257307\n",
       "pclass   -0.338481  1.000000 -0.369226  0.083081  0.018443 -0.549500\n",
       "age      -0.077221 -0.369226  1.000000 -0.308247 -0.189119  0.096067\n",
       "sibsp    -0.035322  0.083081 -0.308247  1.000000  0.414838  0.159651\n",
       "parch     0.081629  0.018443 -0.189119  0.414838  1.000000  0.216225\n",
       "fare      0.257307 -0.549500  0.096067  0.159651  0.216225  1.000000"
      ]
     },
     "execution_count": 29,
     "metadata": {},
     "output_type": "execute_result"
    }
   ],
   "source": [
    "titanic_corr = titanic.select_dtypes(['number']).corr()\n",
    "titanic_corr"
   ]
  },
  {
   "cell_type": "code",
   "execution_count": null,
   "id": "5e95b9b2-79f8-4f11-92db-0e0aa129c3d7",
   "metadata": {
    "tags": []
   },
   "outputs": [],
   "source": []
  },
  {
   "cell_type": "code",
   "execution_count": 30,
   "id": "0b25ed9c-ea92-401e-841c-62de8d9162bf",
   "metadata": {
    "tags": []
   },
   "outputs": [
    {
     "data": {
      "image/png": "[encoded data removed]",
      "text/plain": [
       "<Figure size 640x480 with 2 Axes>"
      ]
     },
     "metadata": {},
     "output_type": "display_data"
    }
   ],
   "source": [
    "sns.heatmap(titanic_corr,annot=True,cmap='YlGnBu')\n",
    "plt.show()"
   ]
  },
  {
   "cell_type": "code",
   "execution_count": 32,
   "id": "f4c27d90-7513-44d3-bb95-b91a44320220",
   "metadata": {},
   "outputs": [],
   "source": [
    "#from sklearn.metrics import plot_confusion_matrix"
   ]
  },
  {
   "cell_type": "code",
   "execution_count": 31,
   "id": "161f179b-537e-4806-94b7-d975cb8821d0",
   "metadata": {
    "tags": []
   },
   "outputs": [],
   "source": [
    "from sklearn import metrics"
   ]
  },
  {
   "cell_type": "code",
   "execution_count": 32,
   "id": "66e7e415-d603-400a-9158-0b4342fd056f",
   "metadata": {},
   "outputs": [
    {
     "data": {
      "image/png": "[encoded data removed]",
      "text/plain": [
       "<Figure size 640x480 with 2 Axes>"
      ]
     },
     "metadata": {},
     "output_type": "display_data"
    }
   ],
   "source": [
    "cm_display = metrics.ConfusionMatrixDisplay(confusion_matrix = cf_matrix_perc, display_labels = [0, 1])\n",
    "cm_display.plot()\n",
    "plt.show()"
   ]
  },
  {
   "cell_type": "code",
   "execution_count": 35,
   "id": "38d69cc6-a2c7-4d40-9bfa-e3d371e2c2eb",
   "metadata": {},
   "outputs": [],
   "source": [
    "#pip install seaborn --upgrade"
   ]
  },
  {
   "cell_type": "markdown",
   "id": "7b8fe574-6d90-4827-8c8e-7ba294b96f07",
   "metadata": {},
   "source": [
    "# Tarea:\n",
    "\n",
    "Problema --> función matemática --> Predicción (y) --> Confussion Matrix\n",
    "\n",
    "Accuracy, Precision, Recall, F1\n",
    "\n",
    "### Concepto de MODELO BASE:\n",
    "\n",
    "Es el modelo de referencia que siempre debemos tener. Es el modelo de referencia que tenemos que tener, y que tenemos que mejorar!\n",
    "\n",
    "Y tiene que ser básico, no tiene que tener sofisticación ni tanta complejidad matemática...\n",
    "\n",
    "Tiene que valer para cualquier problema, en este caso de clasificación...\n",
    "\n",
    "En el caso del fraude, por ejemplo, si hay 90% de fraude: Yo digo que NADIE hace fraude. Y eso tiene Accuracy del 90%!!! Hay que mejorar eso... je\n",
    "\n",
    "**ESTO SE TIENE QUE PRESENTAR EN TODAS LAS PRÁCTICAS!**\n",
    "\n",
    "Y sacar la Confussion Matrix y el Accuracy para el MODELO BASE!\n",
    "\n",
    "1. Accuracy del modelo del otro día\n",
    "2. Modelo Base Titanic\n",
    "3. Matriz de confusion\n",
    "4. Matriz de confus porcentual\n",
    "5. Accuracy"
   ]
  },
  {
   "cell_type": "code",
   "execution_count": 33,
   "id": "da40e555-0efb-4fd5-aaf1-1ccea1236753",
   "metadata": {
    "tags": []
   },
   "outputs": [
    {
     "data": {
      "text/plain": [
       "0       0\n",
       "1       1\n",
       "2       1\n",
       "3       1\n",
       "4       0\n",
       "       ..\n",
       "1304    0\n",
       "1305    0\n",
       "1306    0\n",
       "1307    0\n",
       "1308    0\n",
       "Name: 2urvived, Length: 1309, dtype: int64"
      ]
     },
     "execution_count": 33,
     "metadata": {},
     "output_type": "execute_result"
    }
   ],
   "source": [
    "y"
   ]
  },
  {
   "cell_type": "code",
   "execution_count": 34,
   "id": "bdfe2fba-1b36-4c3c-b040-8dcac62ecf88",
   "metadata": {
    "tags": []
   },
   "outputs": [
    {
     "data": {
      "text/plain": [
       "2urvived\n",
       "0    0.738732\n",
       "1    0.261268\n",
       "Name: proportion, dtype: float64"
      ]
     },
     "execution_count": 34,
     "metadata": {},
     "output_type": "execute_result"
    }
   ],
   "source": [
    "y.value_counts(normalize=True)"
   ]
  },
  {
   "cell_type": "code",
   "execution_count": null,
   "id": "9d4f9d16-dccd-4733-9cf4-1c9e477b14fd",
   "metadata": {},
   "outputs": [],
   "source": []
  },
  {
   "cell_type": "code",
   "execution_count": 36,
   "id": "f42b0e9f-bfc1-41f2-ad62-20a2106e148e",
   "metadata": {
    "tags": []
   },
   "outputs": [
    {
     "data": {
      "text/plain": [
       "0.7379134860050891"
      ]
     },
     "execution_count": 36,
     "metadata": {},
     "output_type": "execute_result"
    }
   ],
   "source": [
    "from sklearn.metrics import accuracy_score\n",
    "\n",
    "accuracy_score(y_test, y_pred)"
   ]
  },
  {
   "cell_type": "code",
   "execution_count": null,
   "id": "37814556-0c35-4a26-be7f-8f189feb85f9",
   "metadata": {},
   "outputs": [],
   "source": []
  },
  {
   "cell_type": "code",
   "execution_count": 37,
   "id": "b39668ad-ea3b-4a17-96e3-3020a7ec21d9",
   "metadata": {
    "tags": []
   },
   "outputs": [],
   "source": [
    "def base_pred(df):\n",
    "    y_proba0 = y.value_counts(normalize=True)[0]\n",
    "    y_proba1 = y.value_counts(normalize=True)[1]\n",
    "    size = df.index.value_counts().size\n",
    "    y_pred_base = np.random.choice([0, 1], size=size, p=[y_proba0, y_proba1])\n",
    "    return y_pred_base"
   ]
  },
  {
   "cell_type": "markdown",
   "id": "c6b6ec8c-65fe-45d1-9804-05ca6a5ab3ea",
   "metadata": {},
   "source": [
    "1. Predigo --> predecir calcula valor más frecuente!!\n",
    "\n",
    "Hago train_test_split y separo train y test. Uso el train para entrenar obviamente! Y tengo que correr el modelo base!!! Capo!!!\n",
    "\n",
    "2. y_pred = predecir aplicado a mi test! predecir(test(sin target!))\n",
    "\n"
   ]
  },
  {
   "cell_type": "code",
   "execution_count": 38,
   "id": "396e3396-b722-4e77-bb4b-e55c36073b37",
   "metadata": {
    "tags": []
   },
   "outputs": [],
   "source": [
    "def predict(df_base):\n",
    "    value_max = df_base.value_counts(normalize=True).argmax()\n",
    "    size = df_base.index.value_counts().size\n",
    "    y_pred_base = np.random.choice([value_max, abs(1-value_max)], size=size, p=[abs(1-value_max),value_max])\n",
    "    return y_pred_base"
   ]
  },
  {
   "cell_type": "code",
   "execution_count": 39,
   "id": "feb967b3-8869-4f8b-9138-be373c265665",
   "metadata": {
    "tags": []
   },
   "outputs": [
    {
     "data": {
      "text/plain": [
       "array([0, 0, 0, ..., 0, 0, 0], dtype=int64)"
      ]
     },
     "execution_count": 39,
     "metadata": {},
     "output_type": "execute_result"
    }
   ],
   "source": [
    "predict(y)"
   ]
  },
  {
   "cell_type": "code",
   "execution_count": 40,
   "id": "009fdadb-ac8c-4d94-8552-306b1e5f9632",
   "metadata": {
    "tags": []
   },
   "outputs": [],
   "source": [
    "def base_pred2(df_test):\n",
    "    value_max = y.value_counts(normalize=True).argmax()\n",
    "    size = df_test.index.value_counts().size\n",
    "    y_pred_base = np.random.choice([value_max, abs(1-value_max)], size=size, p=[abs(1-value_max),value_max])\n",
    "    return y_pred_base"
   ]
  },
  {
   "cell_type": "code",
   "execution_count": 41,
   "id": "cad2a98c-cd87-4bc6-b9d2-f99bcd58377d",
   "metadata": {
    "tags": []
   },
   "outputs": [
    {
     "data": {
      "text/plain": [
       "array([0, 0, 0, ..., 0, 0, 0])"
      ]
     },
     "execution_count": 41,
     "metadata": {},
     "output_type": "execute_result"
    }
   ],
   "source": [
    "base_pred(y)"
   ]
  },
  {
   "cell_type": "code",
   "execution_count": 42,
   "id": "863f5bb6-fbd5-467c-9f36-276370b86dd8",
   "metadata": {
    "tags": []
   },
   "outputs": [
    {
     "data": {
      "text/plain": [
       "array([0, 0, 0, 0, 0, 0, 0, 0, 0, 0, 0, 0, 0, 0, 0, 0, 0, 0, 0, 0, 0, 0,\n",
       "       0, 0, 0, 0, 0, 0, 0, 0, 0, 0, 0, 0, 0, 0, 0, 0, 0, 0, 0, 0, 0, 0,\n",
       "       0, 0, 0, 0, 0, 0, 0, 0, 0, 0, 0, 0, 0, 0, 0, 0, 0, 0, 0, 0, 0, 0,\n",
       "       0, 0, 0, 0, 0, 0, 0, 0, 0, 0, 0, 0, 0, 0, 0, 0, 0, 0, 0, 0, 0, 0,\n",
       "       0, 0, 0, 0, 0, 0, 0, 0, 0, 0, 0, 0, 0, 0, 0, 0, 0, 0, 0, 0, 0, 0,\n",
       "       0, 0, 0, 0, 0, 0, 0, 0, 0, 0, 0, 0, 0, 0, 0, 0, 0, 0, 0, 0, 0, 0,\n",
       "       0, 0, 0, 0, 0, 0, 0, 0, 0, 0, 0, 0, 0, 0, 0, 0, 0, 0, 0, 0, 0, 0,\n",
       "       0, 0, 0, 0, 0, 0, 0, 0, 0, 0, 0, 0, 0, 0, 0, 0, 0, 0, 0, 0, 0, 0,\n",
       "       0, 0, 0, 0, 0, 0, 0, 0, 0, 0, 0, 0, 0, 0, 0, 0, 0, 0, 0, 0, 0, 0,\n",
       "       0, 0, 0, 0, 0, 0, 0, 0, 0, 0, 0, 0, 0, 0, 0, 0, 0, 0, 0, 0, 0, 0,\n",
       "       0, 0, 0, 0, 0, 0, 0, 0, 0, 0, 0, 0, 0, 0, 0, 0, 0, 0, 0, 0, 0, 0,\n",
       "       0, 0, 0, 0, 0, 0, 0, 0, 0, 0, 0, 0, 0, 0, 0, 0, 0, 0, 0, 0, 0, 0,\n",
       "       0, 0, 0, 0, 0, 0, 0, 0, 0, 0, 0, 0, 0, 0, 0, 0, 0, 0, 0, 0, 0, 0,\n",
       "       0, 0, 0, 0, 0, 0, 0, 0, 0, 0, 0, 0, 0, 0, 0, 0, 0, 0, 0, 0, 0, 0,\n",
       "       0, 0, 0, 0, 0, 0, 0, 0, 0, 0, 0, 0, 0, 0, 0, 0, 0, 0, 0, 0, 0, 0,\n",
       "       0, 0, 0, 0, 0, 0, 0, 0, 0, 0, 0, 0, 0, 0, 0, 0, 0, 0, 0, 0, 0, 0,\n",
       "       0, 0, 0, 0, 0, 0, 0, 0, 0, 0, 0, 0, 0, 0, 0, 0, 0, 0, 0, 0, 0, 0,\n",
       "       0, 0, 0, 0, 0, 0, 0, 0, 0, 0, 0, 0, 0, 0, 0, 0, 0, 0, 0],\n",
       "      dtype=int64)"
      ]
     },
     "execution_count": 42,
     "metadata": {},
     "output_type": "execute_result"
    }
   ],
   "source": [
    "base_pred2(x_test)"
   ]
  },
  {
   "cell_type": "code",
   "execution_count": 66,
   "id": "094be418-b1aa-44fb-a920-8a4ef2078da3",
   "metadata": {
    "tags": []
   },
   "outputs": [],
   "source": [
    "#base_pred(x_test)"
   ]
  },
  {
   "cell_type": "code",
   "execution_count": 43,
   "id": "fff05437-2dac-49dd-8d3c-4a6d726b86b2",
   "metadata": {
    "tags": []
   },
   "outputs": [
    {
     "data": {
      "text/plain": [
       "array([0, 0, 0, 0, 0, 1, 0, 1, 1, 1, 1, 0, 0, 0, 0, 0, 1, 1, 0, 0, 1, 0,\n",
       "       0, 1, 0, 1, 0, 0, 0, 0, 0, 1, 0, 0, 0, 1, 1, 0, 0, 0, 0, 0, 0, 0,\n",
       "       1, 0, 1, 0, 1, 0, 1, 0, 0, 0, 1, 0, 0, 0, 0, 0, 1, 0, 1, 1, 0, 1,\n",
       "       0, 0, 0, 0, 0, 0, 0, 0, 0, 0, 0, 1, 1, 0, 0, 1, 0, 1, 1, 1, 0, 0,\n",
       "       1, 0, 1, 0, 0, 0, 1, 0, 1, 0, 0, 0, 0, 0, 0, 1, 1, 0, 0, 0, 1, 0,\n",
       "       1, 0, 1, 0, 0, 0, 0, 0, 0, 0, 1, 0, 0, 1, 0, 1, 0, 0, 0, 0, 1, 0,\n",
       "       0, 1, 0, 1, 1, 0, 0, 0, 1, 0, 0, 0, 0, 0, 0, 0, 1, 1, 0, 0, 0, 0,\n",
       "       1, 0, 0, 0, 0, 0, 0, 0, 1, 1, 0, 1, 0, 0, 1, 0, 0, 0, 0, 0, 0, 1,\n",
       "       1, 0, 0, 0, 0, 0, 0, 0, 0, 0, 0, 0, 1, 0, 1, 1, 1, 0, 0, 0, 1, 1,\n",
       "       0, 0, 0, 0, 0, 1, 0, 0, 0, 0, 0, 0, 0, 0, 0, 1, 0, 1, 0, 0, 0, 0,\n",
       "       1, 0, 0, 0, 0, 0, 0, 0, 1, 0, 0, 0, 1, 1, 1, 0, 0, 0, 0, 0, 0, 0,\n",
       "       0, 0, 1, 0, 0, 0, 0, 0, 1, 0, 0, 0, 0, 0, 1, 1, 0, 0, 1, 1, 1, 1,\n",
       "       1, 0, 1, 1, 0, 1, 0, 0, 0, 0, 0, 1, 0, 0, 1, 0, 1, 0, 0, 0, 0, 0,\n",
       "       0, 0, 1, 0, 0, 0, 0, 1, 1, 1, 0, 0, 0, 1, 0, 0, 0, 0, 0, 1, 0, 0,\n",
       "       0, 0, 0, 1, 1, 0, 1, 1, 1, 0, 0, 0, 0, 0, 0, 0, 0, 0, 0, 0, 0, 0,\n",
       "       1, 0, 0, 0, 1, 0, 0, 0, 0, 1, 1, 1, 0, 0, 0, 0, 0, 1, 0, 0, 0, 1,\n",
       "       0, 0, 0, 0, 1, 0, 0, 0, 0, 1, 0, 0, 1, 0, 0, 0, 0, 1, 1, 0, 0, 0,\n",
       "       0, 0, 0, 0, 0, 0, 1, 0, 0, 0, 0, 0, 0, 0, 1, 0, 0, 0, 0])"
      ]
     },
     "execution_count": 43,
     "metadata": {},
     "output_type": "execute_result"
    }
   ],
   "source": [
    "base_pred(x_test)"
   ]
  },
  {
   "cell_type": "code",
   "execution_count": 44,
   "id": "8cbf6176-0a25-4c5e-93f9-87b35a2fdeb1",
   "metadata": {
    "tags": []
   },
   "outputs": [
    {
     "data": {
      "text/plain": [
       "0.72264631043257"
      ]
     },
     "execution_count": 44,
     "metadata": {},
     "output_type": "execute_result"
    }
   ],
   "source": [
    "from sklearn.metrics import accuracy_score\n",
    "accuracy_score(base_pred2(x_test),y_test)"
   ]
  },
  {
   "cell_type": "code",
   "execution_count": 45,
   "id": "fac55603-8e2b-417a-960a-10e4bc945331",
   "metadata": {
    "tags": []
   },
   "outputs": [
    {
     "data": {
      "text/plain": [
       "array([[235,  54],\n",
       "       [ 49,  55]], dtype=int64)"
      ]
     },
     "execution_count": 45,
     "metadata": {},
     "output_type": "execute_result"
    }
   ],
   "source": [
    "from sklearn.metrics import confusion_matrix\n",
    "cf_matrix = confusion_matrix(y_pred,y_test)\n",
    "cf_matrix"
   ]
  },
  {
   "cell_type": "code",
   "execution_count": 46,
   "id": "13f57b7b-f0b0-4321-b1d3-fde3ba8a2d65",
   "metadata": {
    "tags": []
   },
   "outputs": [
    {
     "data": {
      "text/plain": [
       "array([[284, 109],\n",
       "       [  0,   0]], dtype=int64)"
      ]
     },
     "execution_count": 46,
     "metadata": {},
     "output_type": "execute_result"
    }
   ],
   "source": [
    "cf_matrix_base = confusion_matrix(base_pred2(x_test),y_test)\n",
    "cf_matrix_base"
   ]
  },
  {
   "cell_type": "code",
   "execution_count": 47,
   "id": "d23eb786-43a1-4f10-bfe1-eb5f01e3a87d",
   "metadata": {
    "tags": []
   },
   "outputs": [
    {
     "data": {
      "text/plain": [
       "array([[0.59796438, 0.13740458],\n",
       "       [0.12468193, 0.13994911]])"
      ]
     },
     "execution_count": 47,
     "metadata": {},
     "output_type": "execute_result"
    }
   ],
   "source": [
    "cf_matrix_perc = cf_matrix/np.sum(cf_matrix)\n",
    "cf_matrix_perc"
   ]
  },
  {
   "cell_type": "code",
   "execution_count": 48,
   "id": "a74f2df9-9602-4e9e-bc5b-2582253f9589",
   "metadata": {
    "tags": []
   },
   "outputs": [
    {
     "data": {
      "text/plain": [
       "array([[0.72264631, 0.27735369],\n",
       "       [0.        , 0.        ]])"
      ]
     },
     "execution_count": 48,
     "metadata": {},
     "output_type": "execute_result"
    }
   ],
   "source": [
    "cf_matrix_base_perc = cf_matrix_base/np.sum(cf_matrix_base)\n",
    "cf_matrix_base_perc"
   ]
  },
  {
   "cell_type": "code",
   "execution_count": null,
   "id": "651f871a-aaf3-476b-a062-04b966c3e2fe",
   "metadata": {
    "tags": []
   },
   "outputs": [],
   "source": []
  },
  {
   "cell_type": "code",
   "execution_count": 49,
   "id": "755866a2-0df9-4b39-95ae-bf5629324d20",
   "metadata": {
    "tags": []
   },
   "outputs": [
    {
     "data": {
      "image/png": "[encoded data removed]",
      "text/plain": [
       "<Figure size 640x480 with 2 Axes>"
      ]
     },
     "metadata": {},
     "output_type": "display_data"
    }
   ],
   "source": [
    "#plt.figure(figsize=(8, 6))\n",
    "#sns.set(font_scale=1.4)\n",
    "heatmap = sns.heatmap(cf_matrix_perc, annot=True, fmt='.2%', cmap='Blues', linewidth=2)\n",
    "#plt.xlabel('Predictions', fontdict={'fontname':'Montserrat'})\n",
    "#plt.ylabel('Reality', fontdict={'fontname':'Montserrat'})\n",
    "plt.title('Confusion Matrix', fontdict={'fontname':'Montserrat', 'fontsize':30})\n",
    "plt.show()"
   ]
  },
  {
   "cell_type": "code",
   "execution_count": 50,
   "id": "22c06c46-09f5-43e1-9a4e-dccdbb4fdb93",
   "metadata": {
    "tags": []
   },
   "outputs": [
    {
     "data": {
      "image/png": "[encoded data removed]",
      "text/plain": [
       "<Figure size 640x480 with 2 Axes>"
      ]
     },
     "metadata": {},
     "output_type": "display_data"
    }
   ],
   "source": [
    "sns.heatmap(cf_matrix, annot=True, fmt='d', cmap='Blues', linewidth=2)\n",
    "plt.show()"
   ]
  },
  {
   "cell_type": "code",
   "execution_count": 51,
   "id": "4aff0a1d-0b90-44da-8856-e5fab7e5b401",
   "metadata": {
    "tags": []
   },
   "outputs": [
    {
     "data": {
      "image/png": "[encoded data removed]",
      "text/plain": [
       "<Figure size 640x480 with 2 Axes>"
      ]
     },
     "metadata": {},
     "output_type": "display_data"
    }
   ],
   "source": [
    "sns.heatmap(cf_matrix_base, annot=True, fmt='d', cmap='Blues', linewidth=2)\n",
    "plt.show()"
   ]
  },
  {
   "cell_type": "code",
   "execution_count": 53,
   "id": "81ab715a-8292-4cb4-993d-a849b1ea818c",
   "metadata": {
    "tags": []
   },
   "outputs": [
    {
     "data": {
      "image/png": "[encoded data removed]",
      "text/plain": [
       "<Figure size 640x480 with 2 Axes>"
      ]
     },
     "metadata": {},
     "output_type": "display_data"
    }
   ],
   "source": [
    "#plt.figure(figsize=(8, 6))\n",
    "#sns.set(font_scale=1.4)\n",
    "heatmap = sns.heatmap(cf_matrix_base_perc, annot=True, fmt='.2%', cmap='Blues', linewidth=2)\n",
    "#plt.xlabel('Predictions', fontdict={'fontname':'Montserrat'})\n",
    "#plt.ylabel('Reality', fontdict={'fontname':'Montserrat'})\n",
    "plt.title('Confusion Matrix', fontdict={'fontname':'Montserrat', 'fontsize':30})\n",
    "plt.show()"
   ]
  },
  {
   "cell_type": "code",
   "execution_count": 54,
   "id": "5efc8363-c197-4605-a908-c6ce76e2ee62",
   "metadata": {
    "tags": []
   },
   "outputs": [
    {
     "data": {
      "text/plain": [
       "0.72264631043257"
      ]
     },
     "execution_count": 54,
     "metadata": {},
     "output_type": "execute_result"
    }
   ],
   "source": [
    "accuracy_score(base_pred2(x_test),y_test)"
   ]
  },
  {
   "cell_type": "code",
   "execution_count": 55,
   "id": "142b3438-95e5-42cf-909f-0579ab64b26f",
   "metadata": {},
   "outputs": [
    {
     "data": {
      "text/plain": [
       "0.7379134860050891"
      ]
     },
     "execution_count": 55,
     "metadata": {},
     "output_type": "execute_result"
    }
   ],
   "source": [
    "accuracy_score(y_pred,y_test)"
   ]
  },
  {
   "cell_type": "code",
   "execution_count": null,
   "id": "c279857f-13d0-402c-a4ab-0dad6cee28af",
   "metadata": {},
   "outputs": [],
   "source": []
  }
 ],
 "metadata": {
  "kernelspec": {
   "display_name": "Python 3 (ipykernel)",
   "language": "python",
   "name": "python3"
  },
  "language_info": {
   "codemirror_mode": {
    "name": "ipython",
    "version": 3
   },
   "file_extension": ".py",
   "mimetype": "text/x-python",
   "name": "python",
   "nbconvert_exporter": "python",
   "pygments_lexer": "ipython3",
   "version": "3.9.18"
  }
 },
 "nbformat": 4,
 "nbformat_minor": 5
}
