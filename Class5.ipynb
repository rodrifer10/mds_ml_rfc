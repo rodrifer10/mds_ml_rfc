{
 "cells": [
  {
   "cell_type": "markdown",
   "id": "ea7a9764-12b2-49ec-a4e1-899f650ebb0d",
   "metadata": {},
   "source": [
    "# Class 5\n",
    "\n",
    "### Va al examen: DIFERENCIAS ENTRE MODELOS PARAMÉTRICOS Y NO PARAMÉTRICOS! Esto es muy CLAVE para el examen!\n",
    "\n",
    "Recordar: **Normalización** y **Regularización**\n",
    "\n",
    "y OJO, los modelos taaaan buenos son muy raros\n",
    "\n",
    "DISTANCIAS en clustering hace referencia a similitudes (o no) entre cosas en un Clustering. Hay diferentes tipos de cálculos de distancias y dependen de modelos y problemas cual utilizar.\n",
    "\n",
    "CLAVE: **UNA VARIABLE CATEGÓRICA PUEDE SER NUMÉRICA** Y UNA NUMERICA PUEDE SER STRING (Cuando el número está escrito en letras... raro pero puede ser)\n",
    "\n",
    "### Importante: Tratamiento de nulls:\n",
    "* Los nulls pueden ser un **error en la medición**\n",
    "* Puede ser tmb que **no me quieran dar ese dato...**\n",
    "* Analyzes individuals distribution (vs target) with null values and compare against individuals with no null values --> Clave!\n",
    "\n",
    "### El PDF Clave (cagadas varias):\n",
    "https://arxiv.org/pdf/2108.02497.pdf\n",
    "\n",
    "### Correlaciones:\n",
    "Si tengo 2 variables muy relacionadas, NO usar las 2! Usar una sola pq sino estoy duplicando información y va a haber sesgos!\n"
   ]
  },
  {
   "cell_type": "markdown",
   "id": "70232564-260d-437e-8970-b4ac536891a3",
   "metadata": {},
   "source": [
    "# Vamos al tema clave de hoy: <font color='crimson'> CLASIFICACIONES!!! </font>\n",
    "\n",
    "## Classification Trees:\n",
    "\n",
    "* Devuelve SI o NO, al menos los modelos simples de árbol. Muchas veces necesitamos la probabilidad! Esto no es menor! es la CONFIANZA en la predicción!\n",
    "* Lo que busco es que el árbol se haga preguntas buenas que permitan ir clasificando los datos fehacientemente.\n",
    "* Las preguntas DEPENDEN del modelo, y no deben ser si o si binarias, pueden dar 3, 4 o más bifurcaciones\n",
    "\n",
    "### LOS ID NUNCA PUEDEN ENTRAR EN UN MODELO! OJO CON ESTO!!!\n",
    "\n",
    "## Matemáticas en el DecisionTree:\n",
    "\n",
    "COMO SE CUANTIFICA QUE TAN BIEN VAMOS? MEDIDA DE IMPUREZA, HETEROGENEIDAD DE LOS DATOS? Es lo que estoy pensando...\n",
    "\n",
    "Clave: no hay probabilidad pero con buena matemática si se puede llegar a lograr buenas cosas! Como el Gini creo...\n",
    "\n",
    "#### Gini\n",
    "\n",
    "* Mientras MENOR sea el Gini, mejor, significa que MEJOR clasificó. **El mejor valor del GINI sería 0.00, y el peor es 0.5** --> el *Rango* del gini es [0,0.5]\n",
    "* (nunca puede ser mayor a 0.5 pq está elevando probabilidades al cuadrado)\n",
    "* Es EL MISMO que en economía\n",
    "* Mide la heterogeneidad\n",
    "* La clave es VER QUE TAN BIEN CLASIFIQUÉ...\n",
    "\n",
    "No es la fórmula base del Gini pero lo tenía anotado: $ 1-(probabilidad de primera opcion)^2-(probabilidad de segunda opcion)^2 + ... $\n",
    "\n",
    "\n",
    "\n"
   ]
  },
  {
   "cell_type": "code",
   "execution_count": 14,
   "id": "721734df-aa36-4cd3-9563-03ff43f17a75",
   "metadata": {
    "tags": []
   },
   "outputs": [
    {
     "data": {
      "text/plain": [
       "0.0"
      ]
     },
     "execution_count": 14,
     "metadata": {},
     "output_type": "execute_result"
    }
   ],
   "source": [
    "1 - ((0/6)**2+(6/6)**2)"
   ]
  },
  {
   "cell_type": "code",
   "execution_count": 13,
   "id": "eeee123e-6139-443c-a539-1de36bc014d9",
   "metadata": {
    "tags": []
   },
   "outputs": [
    {
     "data": {
      "text/plain": [
       "0.2777777777777777"
      ]
     },
     "execution_count": 13,
     "metadata": {},
     "output_type": "execute_result"
    }
   ],
   "source": [
    "1 - ((1/6)**2+(5/6)**2)"
   ]
  },
  {
   "cell_type": "code",
   "execution_count": 11,
   "id": "b7242ead-c40d-47d3-9090-c5d34a4438a9",
   "metadata": {
    "tags": []
   },
   "outputs": [
    {
     "data": {
      "text/plain": [
       "0.4444444444444444"
      ]
     },
     "execution_count": 11,
     "metadata": {},
     "output_type": "execute_result"
    }
   ],
   "source": [
    "1 - ((2/6)**2+(4/6)**2)"
   ]
  },
  {
   "cell_type": "code",
   "execution_count": 12,
   "id": "00311434-acc7-43a7-81ca-5711eec13c41",
   "metadata": {
    "tags": []
   },
   "outputs": [
    {
     "data": {
      "text/plain": [
       "0.5"
      ]
     },
     "execution_count": 12,
     "metadata": {},
     "output_type": "execute_result"
    }
   ],
   "source": [
    "1 - ((3/6)**2+(3/6)**2)"
   ]
  },
  {
   "cell_type": "markdown",
   "id": "b9b36f98-b7ec-4154-b26d-1c2c6703543c",
   "metadata": {},
   "source": [
    "Esto solo no me vale, hay que componer la clasificación del Gini de CADA NODO como lo hicimos arriba!\n",
    "\n",
    "De acá surge el GINIsplit, que es literalmente UNA MEDIA PONDERADA!\n",
    "\n",
    "Osea, que para calcular el Gini del nodo Padre entero, calculo la media ponderada de los Ginis de sus Hijos!\n",
    "\n",
    "La ponderación es en base a LA REPRESENTATIVIDAD del Hijo en el Padre!\n",
    "\n",
    "\n"
   ]
  },
  {
   "cell_type": "code",
   "execution_count": 19,
   "id": "9aadccc6-7a77-431b-a3a4-4b50d232e9ae",
   "metadata": {
    "tags": []
   },
   "outputs": [
    {
     "data": {
      "text/plain": [
       "0.3933333333333332"
      ]
     },
     "execution_count": 19,
     "metadata": {},
     "output_type": "execute_result"
    }
   ],
   "source": [
    "padre=10\n",
    "\n",
    "hijo1=5\n",
    "hijo2=3\n",
    "hijo3=2\n",
    "\n",
    "gini1=1 - ((1/hijo1)**2+(4/hijo1)**2)\n",
    "gini2=1 - ((2/hijo2)**2+(1/hijo2)**2)\n",
    "gini3=1 - ((1/hijo3)**2+(1/hijo3)**2)\n",
    "\n",
    "ginisplit = gini1*(hijo1/padre)+gini2*(hijo2/padre)+gini3*(hijo3/padre)\n",
    "\n",
    "ginisplit"
   ]
  },
  {
   "cell_type": "code",
   "execution_count": 21,
   "id": "9b042375-d321-4a0b-b47a-95879bb8d517",
   "metadata": {
    "tags": []
   },
   "outputs": [
    {
     "name": "stdout",
     "output_type": "stream",
     "text": [
      "0.31999999999999984 0.4444444444444444 0.5 0.3933333333333332\n"
     ]
    }
   ],
   "source": [
    "print(gini1,gini2,gini3, ginisplit)"
   ]
  },
  {
   "cell_type": "markdown",
   "id": "5ed5ee03-19e1-4685-a605-e09c740c7e75",
   "metadata": {},
   "source": [
    "### Teorema de bayes es clave como siempre...\n",
    "\n",
    "## Confussion Matrix:\n",
    "           Predicted\n",
    "           _________\n",
    "Actual    | TP | FN |\n",
    "          | FP | TN |   Doble click para la magia\n",
    "\n",
    "Solo me da el Accuracy esto!\n",
    "\n",
    "TP = True Positive\n",
    "FN = False Negative\n",
    "FP = False Positive\n",
    "TN = True Negative\n"
   ]
  },
  {
   "cell_type": "markdown",
   "id": "2f25bbd1-5e7b-4bcd-a834-5cbee0b21ea7",
   "metadata": {},
   "source": [
    "# Tarea:\n",
    "\n",
    "Problema --> función matemática --> Predicción (y) --> Confussion Matrix\n",
    "\n",
    "Accuracy, Precision, Recall, F1\n",
    "\n",
    "### Concepto de MODELO BASE:\n",
    "\n",
    "Es el modelo de referencia que siempre debemos tener. Es el modelo de referencia que tenemos que tener, y que tenemos que mejorar!\n",
    "\n",
    "Y tiene que ser básico, no tiene que tener sofisticación ni tanta complejidad matemática...\n",
    "\n",
    "Tiene que valer para cualquier problema, en este caso de clasificación...\n",
    "\n",
    "En el caso del fraude, por ejemplo, si hay 90% de fraude: Yo digo que NADIE hace fraude. Y eso tiene Accuracy del 90%!!! Hay que mejorar eso... je\n",
    "\n",
    "**ESTO SE TIENE QUE PRESENTAR EN TODAS LAS PRÁCTICAS!**\n",
    "\n",
    "Y sacar la Confussion Matrix y el Accuracy para el MODELO BASE!\n",
    "\n",
    "\n",
    "\n",
    "\n",
    "1. Accuracy del modelo del otro día\n",
    "2. Modelo Base Titanic\n",
    "3. Matriz de confusion\n",
    "4. Matriz de confus porcentual\n",
    "5. Accuracy\n",
    "\n",
    "\n"
   ]
  },
  {
   "cell_type": "code",
   "execution_count": null,
   "id": "ac686063-cc3b-4e27-9d0e-735fa71015e3",
   "metadata": {},
   "outputs": [],
   "source": []
  },
  {
   "cell_type": "code",
   "execution_count": null,
   "id": "ffd1b080-42c5-418c-977e-0388948f2be9",
   "metadata": {},
   "outputs": [],
   "source": []
  },
  {
   "cell_type": "code",
   "execution_count": null,
   "id": "25eafddb-03e2-449f-817a-fc5a3544490a",
   "metadata": {},
   "outputs": [],
   "source": []
  },
  {
   "cell_type": "code",
   "execution_count": null,
   "id": "632aa135-f5d8-4527-a027-b841dc5c2a39",
   "metadata": {},
   "outputs": [],
   "source": []
  },
  {
   "cell_type": "code",
   "execution_count": null,
   "id": "2797359f-2752-45e9-b188-eb85716002c7",
   "metadata": {},
   "outputs": [],
   "source": []
  },
  {
   "cell_type": "code",
   "execution_count": null,
   "id": "8591b306-daad-4017-bdb2-2b9015bfba26",
   "metadata": {},
   "outputs": [],
   "source": []
  },
  {
   "cell_type": "code",
   "execution_count": null,
   "id": "28e74fd8-992f-41c7-9df1-33151e4ae836",
   "metadata": {},
   "outputs": [],
   "source": []
  }
 ],
 "metadata": {
  "kernelspec": {
   "display_name": "Python 3 (ipykernel)",
   "language": "python",
   "name": "python3"
  },
  "language_info": {
   "codemirror_mode": {
    "name": "ipython",
    "version": 3
   },
   "file_extension": ".py",
   "mimetype": "text/x-python",
   "name": "python",
   "nbconvert_exporter": "python",
   "pygments_lexer": "ipython3",
   "version": "3.9.18"
  }
 },
 "nbformat": 4,
 "nbformat_minor": 5
}
