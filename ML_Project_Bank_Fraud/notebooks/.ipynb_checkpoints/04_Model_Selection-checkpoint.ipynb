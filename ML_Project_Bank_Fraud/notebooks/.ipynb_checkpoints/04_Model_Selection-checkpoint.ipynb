{
 "cells": [
  {
   "attachments": {
    "ed2b78cf-28e8-4b9f-b0a7-7a33715c6677.png": {
     "image/png": "[encoded data removed]"
    }
   },
   "cell_type": "markdown",
   "id": "407f8ec0-ed64-4bd5-9d10-ca5482ce7b06",
   "metadata": {},
   "source": [
    "![image.png](attachment:ed2b78cf-28e8-4b9f-b0a7-7a33715c6677.png)\n",
    "\n",
    "# Máster en Data Science - Machine Learning"
   ]
  },
  {
   "cell_type": "markdown",
   "id": "d1513189-4152-4cf6-a597-f977ab246450",
   "metadata": {},
   "source": [
    "# Predicción de fraude mediante el uso de modelos de Machine Learning\n",
    "##### <font color='dodgerblue' face='Montserrat'>Autor: Rodrigo Fernandez Campos</font>\n",
    "## DataSet: Bank Account Fraud Dataset Suite (NeurIPS 2022)"
   ]
  },
  {
   "cell_type": "markdown",
   "id": "05a09322-147f-44ca-b5ea-77e1e8add901",
   "metadata": {},
   "source": [
    "# <font size=25><b>Comparación y seleccion de Modelos</b></font>\n",
    "\n",
    "En este notebook se realizarán unos últimos tratamientos a los datos, como lo son el Oversampling y Undersampling, además del escalado y recorte de variables en base a lo decidido en el notebook anterior (03) y luego se procederá a la comparación y selección del modelo óptimo para resolver nuestro problema. Se aplicarán muchos modelos de Machine Learning para problemas de Clasificación en su versión por defecto, luego se seleccionará la configuración de datos con la que funcione mejor dicho modelo y finalmente se buscarán los hiperparámetros que mejores resultados obtengan. Para todos estos procesos de comparación y medidas se utilizará un set de Validación, que surgirá de volver a dividir en 70-30 al set de entrenamiento."
   ]
  },
  {
   "cell_type": "code",
   "execution_count": 263,
   "id": "dc0b4ffb-0b89-4773-847b-f3d5a886cb6d",
   "metadata": {
    "tags": []
   },
   "outputs": [],
   "source": [
    "# Librerías\n",
    "import pandas as pd\n",
    "import numpy as np\n",
    "import matplotlib.pyplot as plt\n",
    "import seaborn as sns\n",
    "from termcolor import colored, cprint\n",
    "from sklearn.preprocessing import OneHotEncoder\n",
    "from sklearn.preprocessing import OrdinalEncoder\n",
    "from sklearn.preprocessing import StandardScaler\n",
    "from sklearn.compose import ColumnTransformer\n",
    "from sklearn.preprocessing import TargetEncoder\n",
    "import importlib\n",
    "import sys\n",
    "from matplotlib import rc\n",
    "\n",
    "from sklearn.model_selection import train_test_split\n",
    "from sklearn.ensemble import RandomForestClassifier, GradientBoostingClassifier\n",
    "from sklearn import metrics\n",
    "from sklearn.linear_model import Lasso, LogisticRegression\n",
    "from sklearn.feature_selection import SelectFromModel, RFE\n",
    "from sklearn.preprocessing import StandardScaler\n",
    "from sklearn.tree import DecisionTreeClassifier\n",
    "from sklearn.ensemble import GradientBoostingClassifier\n",
    "from sklearn.pipeline import Pipeline\n",
    "from xgboost import XGBClassifier\n",
    "import lightgbm\n",
    "from lightgbm.sklearn import LGBMClassifier\n",
    "from sklearn.svm import SVC\n",
    "from sklearn.metrics import fbeta_score, make_scorer\n",
    "\n",
    "from sklearn.model_selection import GridSearchCV, RandomizedSearchCV\n",
    "from skopt import BayesSearchCV\n",
    "\n",
    "from sklearn.dummy import DummyClassifier\n",
    "from sklearn.naive_bayes import GaussianNB\n",
    "import statsmodels.api as sm\n",
    "\n",
    "from imblearn.over_sampling import SMOTE\n",
    "from imblearn.under_sampling import RandomUnderSampler\n",
    "from imblearn.pipeline import Pipeline\n",
    "from imblearn.combine import SMOTETomek\n",
    "from imblearn.combine import SMOTEENN\n",
    "from imblearn.under_sampling import NearMiss, TomekLinks\n",
    "\n",
    "from sklearn.metrics import balanced_accuracy_score, roc_auc_score,\\\n",
    "                            accuracy_score,average_precision_score, precision_recall_curve, roc_curve,\\\n",
    "                            auc, recall_score, precision_score, confusion_matrix, f1_score\n",
    "import pickle\n",
    "from joblib import dump, load\n",
    "\n",
    "import warnings\n",
    "warnings.filterwarnings('ignore')\n",
    "\n",
    "pd.set_option('display.max_columns', 500)\n",
    "pd.set_option('display.max_rows', 500)"
   ]
  },
  {
   "cell_type": "markdown",
   "id": "76bf12c4-4755-441b-beba-a508611679aa",
   "metadata": {},
   "source": [
    "## Funciones"
   ]
  },
  {
   "cell_type": "code",
   "execution_count": 261,
   "id": "ec3b7952-e55b-405d-a06a-cb3e39bbe766",
   "metadata": {
    "tags": []
   },
   "outputs": [],
   "source": [
    "sys.path.append('../src/')\n",
    "import functions_rfc as fr\n",
    "sys.path.remove('../src/')\n",
    "\n",
    "### Constantes:\n",
    "seed=10"
   ]
  },
  {
   "cell_type": "code",
   "execution_count": 264,
   "id": "5ff8f866-5426-4d5e-beb8-0b82a6b593bd",
   "metadata": {
    "tags": []
   },
   "outputs": [],
   "source": [
    "sys.path.append('../src/')\n",
    "importlib.reload(fr)\n",
    "sys.path.remove('../src/')"
   ]
  },
  {
   "cell_type": "markdown",
   "id": "dd26a6aa-3848-4a18-a679-e645ae18d797",
   "metadata": {},
   "source": [
    "***\n",
    "# Importo y preparo los datasets\n",
    "\n",
    "## Importo datasets procesados con anterioridad"
   ]
  },
  {
   "cell_type": "code",
   "execution_count": 284,
   "id": "d6aec855-a0b9-4026-8329-a23c46e46517",
   "metadata": {
    "tags": []
   },
   "outputs": [
    {
     "data": {
      "text/html": [
       "<div>\n",
       "<style scoped>\n",
       "    .dataframe tbody tr th:only-of-type {\n",
       "        vertical-align: middle;\n",
       "    }\n",
       "\n",
       "    .dataframe tbody tr th {\n",
       "        vertical-align: top;\n",
       "    }\n",
       "\n",
       "    .dataframe thead th {\n",
       "        text-align: right;\n",
       "    }\n",
       "</style>\n",
       "<table border=\"1\" class=\"dataframe\">\n",
       "  <thead>\n",
       "    <tr style=\"text-align: right;\">\n",
       "      <th></th>\n",
       "      <th>income</th>\n",
       "      <th>name_email_similarity</th>\n",
       "      <th>prev_address_months_count</th>\n",
       "      <th>current_address_months_count</th>\n",
       "      <th>customer_age</th>\n",
       "      <th>days_since_request</th>\n",
       "      <th>intended_balcon_amount</th>\n",
       "      <th>payment_type</th>\n",
       "      <th>zip_count_4w</th>\n",
       "      <th>velocity_6h</th>\n",
       "      <th>velocity_24h</th>\n",
       "      <th>velocity_4w</th>\n",
       "      <th>bank_branch_count_8w</th>\n",
       "      <th>date_of_birth_distinct_emails_4w</th>\n",
       "      <th>employment_status</th>\n",
       "      <th>credit_risk_score</th>\n",
       "      <th>email_is_free</th>\n",
       "      <th>housing_status</th>\n",
       "      <th>phone_home_valid</th>\n",
       "      <th>phone_mobile_valid</th>\n",
       "      <th>bank_months_count</th>\n",
       "      <th>has_other_cards</th>\n",
       "      <th>proposed_credit_limit</th>\n",
       "      <th>foreign_request</th>\n",
       "      <th>source</th>\n",
       "      <th>session_length_in_minutes</th>\n",
       "      <th>device_os</th>\n",
       "      <th>keep_alive_session</th>\n",
       "      <th>device_distinct_emails_8w</th>\n",
       "      <th>month</th>\n",
       "      <th>fraud_bool</th>\n",
       "    </tr>\n",
       "  </thead>\n",
       "  <tbody>\n",
       "    <tr>\n",
       "      <th>0</th>\n",
       "      <td>0.9</td>\n",
       "      <td>0.237329</td>\n",
       "      <td>-1</td>\n",
       "      <td>80</td>\n",
       "      <td>40</td>\n",
       "      <td>0.013515</td>\n",
       "      <td>-1.041418</td>\n",
       "      <td>AC</td>\n",
       "      <td>1589</td>\n",
       "      <td>5840.486860</td>\n",
       "      <td>7660.279574</td>\n",
       "      <td>6353.443336</td>\n",
       "      <td>0</td>\n",
       "      <td>12</td>\n",
       "      <td>CA</td>\n",
       "      <td>100</td>\n",
       "      <td>1</td>\n",
       "      <td>BA</td>\n",
       "      <td>0</td>\n",
       "      <td>1</td>\n",
       "      <td>-1</td>\n",
       "      <td>0</td>\n",
       "      <td>2000.0</td>\n",
       "      <td>0</td>\n",
       "      <td>INTERNET</td>\n",
       "      <td>3.436651</td>\n",
       "      <td>other</td>\n",
       "      <td>1</td>\n",
       "      <td>1</td>\n",
       "      <td>0</td>\n",
       "      <td>0</td>\n",
       "    </tr>\n",
       "    <tr>\n",
       "      <th>1</th>\n",
       "      <td>0.9</td>\n",
       "      <td>0.176307</td>\n",
       "      <td>-1</td>\n",
       "      <td>54</td>\n",
       "      <td>40</td>\n",
       "      <td>0.019225</td>\n",
       "      <td>-0.835103</td>\n",
       "      <td>AC</td>\n",
       "      <td>882</td>\n",
       "      <td>3442.067872</td>\n",
       "      <td>4575.631214</td>\n",
       "      <td>5571.455566</td>\n",
       "      <td>1</td>\n",
       "      <td>7</td>\n",
       "      <td>CF</td>\n",
       "      <td>106</td>\n",
       "      <td>0</td>\n",
       "      <td>BC</td>\n",
       "      <td>0</td>\n",
       "      <td>1</td>\n",
       "      <td>-1</td>\n",
       "      <td>0</td>\n",
       "      <td>200.0</td>\n",
       "      <td>0</td>\n",
       "      <td>INTERNET</td>\n",
       "      <td>6.356665</td>\n",
       "      <td>linux</td>\n",
       "      <td>0</td>\n",
       "      <td>1</td>\n",
       "      <td>2</td>\n",
       "      <td>0</td>\n",
       "    </tr>\n",
       "    <tr>\n",
       "      <th>2</th>\n",
       "      <td>0.1</td>\n",
       "      <td>0.265706</td>\n",
       "      <td>157</td>\n",
       "      <td>156</td>\n",
       "      <td>40</td>\n",
       "      <td>0.011588</td>\n",
       "      <td>37.078740</td>\n",
       "      <td>AA</td>\n",
       "      <td>1298</td>\n",
       "      <td>1196.731284</td>\n",
       "      <td>4008.487554</td>\n",
       "      <td>4212.552556</td>\n",
       "      <td>728</td>\n",
       "      <td>2</td>\n",
       "      <td>CA</td>\n",
       "      <td>137</td>\n",
       "      <td>0</td>\n",
       "      <td>BE</td>\n",
       "      <td>1</td>\n",
       "      <td>1</td>\n",
       "      <td>11</td>\n",
       "      <td>1</td>\n",
       "      <td>500.0</td>\n",
       "      <td>0</td>\n",
       "      <td>INTERNET</td>\n",
       "      <td>17.815440</td>\n",
       "      <td>windows</td>\n",
       "      <td>1</td>\n",
       "      <td>1</td>\n",
       "      <td>6</td>\n",
       "      <td>0</td>\n",
       "    </tr>\n",
       "    <tr>\n",
       "      <th>3</th>\n",
       "      <td>0.9</td>\n",
       "      <td>0.089557</td>\n",
       "      <td>35</td>\n",
       "      <td>5</td>\n",
       "      <td>20</td>\n",
       "      <td>0.025159</td>\n",
       "      <td>37.116540</td>\n",
       "      <td>AA</td>\n",
       "      <td>1337</td>\n",
       "      <td>9563.602945</td>\n",
       "      <td>2838.222720</td>\n",
       "      <td>3508.471021</td>\n",
       "      <td>429</td>\n",
       "      <td>11</td>\n",
       "      <td>CA</td>\n",
       "      <td>242</td>\n",
       "      <td>1</td>\n",
       "      <td>BC</td>\n",
       "      <td>0</td>\n",
       "      <td>1</td>\n",
       "      <td>21</td>\n",
       "      <td>0</td>\n",
       "      <td>200.0</td>\n",
       "      <td>0</td>\n",
       "      <td>INTERNET</td>\n",
       "      <td>4.443607</td>\n",
       "      <td>other</td>\n",
       "      <td>1</td>\n",
       "      <td>1</td>\n",
       "      <td>2</td>\n",
       "      <td>0</td>\n",
       "    </tr>\n",
       "    <tr>\n",
       "      <th>4</th>\n",
       "      <td>0.7</td>\n",
       "      <td>0.882855</td>\n",
       "      <td>-1</td>\n",
       "      <td>117</td>\n",
       "      <td>40</td>\n",
       "      <td>0.003562</td>\n",
       "      <td>-0.332094</td>\n",
       "      <td>AC</td>\n",
       "      <td>1333</td>\n",
       "      <td>1954.199605</td>\n",
       "      <td>2811.816273</td>\n",
       "      <td>4267.415243</td>\n",
       "      <td>1</td>\n",
       "      <td>2</td>\n",
       "      <td>CA</td>\n",
       "      <td>225</td>\n",
       "      <td>1</td>\n",
       "      <td>BA</td>\n",
       "      <td>1</td>\n",
       "      <td>1</td>\n",
       "      <td>-1</td>\n",
       "      <td>0</td>\n",
       "      <td>1000.0</td>\n",
       "      <td>0</td>\n",
       "      <td>INTERNET</td>\n",
       "      <td>3.170467</td>\n",
       "      <td>windows</td>\n",
       "      <td>1</td>\n",
       "      <td>1</td>\n",
       "      <td>5</td>\n",
       "      <td>0</td>\n",
       "    </tr>\n",
       "  </tbody>\n",
       "</table>\n",
       "</div>"
      ],
      "text/plain": [
       "   income  name_email_similarity  prev_address_months_count  \\\n",
       "0     0.9               0.237329                         -1   \n",
       "1     0.9               0.176307                         -1   \n",
       "2     0.1               0.265706                        157   \n",
       "3     0.9               0.089557                         35   \n",
       "4     0.7               0.882855                         -1   \n",
       "\n",
       "   current_address_months_count  customer_age  days_since_request  \\\n",
       "0                            80            40            0.013515   \n",
       "1                            54            40            0.019225   \n",
       "2                           156            40            0.011588   \n",
       "3                             5            20            0.025159   \n",
       "4                           117            40            0.003562   \n",
       "\n",
       "   intended_balcon_amount payment_type  zip_count_4w  velocity_6h  \\\n",
       "0               -1.041418           AC          1589  5840.486860   \n",
       "1               -0.835103           AC           882  3442.067872   \n",
       "2               37.078740           AA          1298  1196.731284   \n",
       "3               37.116540           AA          1337  9563.602945   \n",
       "4               -0.332094           AC          1333  1954.199605   \n",
       "\n",
       "   velocity_24h  velocity_4w  bank_branch_count_8w  \\\n",
       "0   7660.279574  6353.443336                     0   \n",
       "1   4575.631214  5571.455566                     1   \n",
       "2   4008.487554  4212.552556                   728   \n",
       "3   2838.222720  3508.471021                   429   \n",
       "4   2811.816273  4267.415243                     1   \n",
       "\n",
       "   date_of_birth_distinct_emails_4w employment_status  credit_risk_score  \\\n",
       "0                                12                CA                100   \n",
       "1                                 7                CF                106   \n",
       "2                                 2                CA                137   \n",
       "3                                11                CA                242   \n",
       "4                                 2                CA                225   \n",
       "\n",
       "   email_is_free housing_status  phone_home_valid  phone_mobile_valid  \\\n",
       "0              1             BA                 0                   1   \n",
       "1              0             BC                 0                   1   \n",
       "2              0             BE                 1                   1   \n",
       "3              1             BC                 0                   1   \n",
       "4              1             BA                 1                   1   \n",
       "\n",
       "   bank_months_count  has_other_cards  proposed_credit_limit  foreign_request  \\\n",
       "0                 -1                0                 2000.0                0   \n",
       "1                 -1                0                  200.0                0   \n",
       "2                 11                1                  500.0                0   \n",
       "3                 21                0                  200.0                0   \n",
       "4                 -1                0                 1000.0                0   \n",
       "\n",
       "     source  session_length_in_minutes device_os  keep_alive_session  \\\n",
       "0  INTERNET                   3.436651     other                   1   \n",
       "1  INTERNET                   6.356665     linux                   0   \n",
       "2  INTERNET                  17.815440   windows                   1   \n",
       "3  INTERNET                   4.443607     other                   1   \n",
       "4  INTERNET                   3.170467   windows                   1   \n",
       "\n",
       "   device_distinct_emails_8w  month  fraud_bool  \n",
       "0                          1      0           0  \n",
       "1                          1      2           0  \n",
       "2                          1      6           0  \n",
       "3                          1      2           0  \n",
       "4                          1      5           0  "
      ]
     },
     "execution_count": 284,
     "metadata": {},
     "output_type": "execute_result"
    }
   ],
   "source": [
    "df_fraud_train = pd.read_csv('../data/interim/df_fraud_train.csv')\n",
    "\n",
    "df_fraud_train.head()"
   ]
  },
  {
   "cell_type": "markdown",
   "id": "49ab764a-f2a4-4da9-a117-38bdaabd07a7",
   "metadata": {},
   "source": [
    "Aplico el preprocesamiento mediante el uso de mis funciones de pipeline y feature selection.\n",
    "\n",
    "Además, dejo un dataset sin recortes de variables, para ver si es significativa la diferencia de métricas o no."
   ]
  },
  {
   "cell_type": "code",
   "execution_count": 285,
   "id": "b52d72e9-687b-418c-ae72-da421d3df18c",
   "metadata": {
    "tags": []
   },
   "outputs": [
    {
     "data": {
      "text/plain": [
       "((700000, 30), (700000, 35))"
      ]
     },
     "execution_count": 285,
     "metadata": {},
     "output_type": "execute_result"
    }
   ],
   "source": [
    "df_fraud_train_cut = fr.feature_selection(fr.preprocessing(df_fraud_train).fit_transform(df_fraud_train, df_fraud_train.fraud_bool))\n",
    "\n",
    "df_fraud_train = fr.preprocessing(df_fraud_train).fit_transform(df_fraud_train, df_fraud_train.fraud_bool)\n",
    "\n",
    "df_fraud_train_cut.shape, df_fraud_train.shape"
   ]
  },
  {
   "cell_type": "code",
   "execution_count": 286,
   "id": "aa63ac12-d423-45ff-b8eb-8862f0a8ffc4",
   "metadata": {
    "tags": []
   },
   "outputs": [
    {
     "data": {
      "text/html": [
       "<div>\n",
       "<style scoped>\n",
       "    .dataframe tbody tr th:only-of-type {\n",
       "        vertical-align: middle;\n",
       "    }\n",
       "\n",
       "    .dataframe tbody tr th {\n",
       "        vertical-align: top;\n",
       "    }\n",
       "\n",
       "    .dataframe thead th {\n",
       "        text-align: right;\n",
       "    }\n",
       "</style>\n",
       "<table border=\"1\" class=\"dataframe\">\n",
       "  <thead>\n",
       "    <tr style=\"text-align: right;\">\n",
       "      <th></th>\n",
       "      <th>income</th>\n",
       "      <th>name_email_similarity</th>\n",
       "      <th>prev_address_months_count</th>\n",
       "      <th>current_address_months_count</th>\n",
       "      <th>customer_age</th>\n",
       "      <th>days_since_request</th>\n",
       "      <th>intended_balcon_amount</th>\n",
       "      <th>zip_count_4w</th>\n",
       "      <th>velocity_4w</th>\n",
       "      <th>bank_branch_count_8w</th>\n",
       "      <th>date_of_birth_distinct_emails_4w</th>\n",
       "      <th>credit_risk_score</th>\n",
       "      <th>bank_months_count</th>\n",
       "      <th>proposed_credit_limit</th>\n",
       "      <th>session_length_in_minutes</th>\n",
       "      <th>device_distinct_emails_8w</th>\n",
       "      <th>month</th>\n",
       "      <th>employment_status</th>\n",
       "      <th>housing_status</th>\n",
       "      <th>device_os_linux</th>\n",
       "      <th>device_os_macintosh</th>\n",
       "      <th>device_os_other</th>\n",
       "      <th>device_os_windows</th>\n",
       "      <th>device_os_x11</th>\n",
       "      <th>payment_type</th>\n",
       "      <th>email_is_free</th>\n",
       "      <th>phone_home_valid</th>\n",
       "      <th>has_other_cards</th>\n",
       "      <th>keep_alive_session</th>\n",
       "      <th>fraud_bool</th>\n",
       "    </tr>\n",
       "  </thead>\n",
       "  <tbody>\n",
       "    <tr>\n",
       "      <th>0</th>\n",
       "      <td>1.162077</td>\n",
       "      <td>-0.886368</td>\n",
       "      <td>-0.401845</td>\n",
       "      <td>-0.074208</td>\n",
       "      <td>0.525351</td>\n",
       "      <td>-0.188421</td>\n",
       "      <td>-0.479960</td>\n",
       "      <td>0.016703</td>\n",
       "      <td>1.626476</td>\n",
       "      <td>-0.401099</td>\n",
       "      <td>0.495149</td>\n",
       "      <td>-0.444664</td>\n",
       "      <td>-0.977307</td>\n",
       "      <td>3.042105</td>\n",
       "      <td>-0.511240</td>\n",
       "      <td>-0.101291</td>\n",
       "      <td>-1.487757</td>\n",
       "      <td>0.0</td>\n",
       "      <td>0.0</td>\n",
       "      <td>0.0</td>\n",
       "      <td>0.0</td>\n",
       "      <td>1.0</td>\n",
       "      <td>0.0</td>\n",
       "      <td>0.0</td>\n",
       "      <td>0.016559</td>\n",
       "      <td>1</td>\n",
       "      <td>0</td>\n",
       "      <td>0</td>\n",
       "      <td>1</td>\n",
       "      <td>0</td>\n",
       "    </tr>\n",
       "    <tr>\n",
       "      <th>1</th>\n",
       "      <td>1.162077</td>\n",
       "      <td>-1.097272</td>\n",
       "      <td>-0.401845</td>\n",
       "      <td>-0.368282</td>\n",
       "      <td>0.525351</td>\n",
       "      <td>-0.187361</td>\n",
       "      <td>-0.469766</td>\n",
       "      <td>-0.686182</td>\n",
       "      <td>0.776665</td>\n",
       "      <td>-0.398925</td>\n",
       "      <td>-0.498521</td>\n",
       "      <td>-0.358539</td>\n",
       "      <td>-0.977307</td>\n",
       "      <td>-0.647840</td>\n",
       "      <td>-0.147405</td>\n",
       "      <td>-0.101291</td>\n",
       "      <td>-0.582983</td>\n",
       "      <td>5.0</td>\n",
       "      <td>2.0</td>\n",
       "      <td>1.0</td>\n",
       "      <td>0.0</td>\n",
       "      <td>0.0</td>\n",
       "      <td>0.0</td>\n",
       "      <td>0.0</td>\n",
       "      <td>0.016559</td>\n",
       "      <td>0</td>\n",
       "      <td>0</td>\n",
       "      <td>0</td>\n",
       "      <td>0</td>\n",
       "      <td>0</td>\n",
       "    </tr>\n",
       "    <tr>\n",
       "      <th>2</th>\n",
       "      <td>-1.594037</td>\n",
       "      <td>-0.788294</td>\n",
       "      <td>3.185180</td>\n",
       "      <td>0.785393</td>\n",
       "      <td>0.525351</td>\n",
       "      <td>-0.188779</td>\n",
       "      <td>1.403621</td>\n",
       "      <td>-0.272603</td>\n",
       "      <td>-0.700097</td>\n",
       "      <td>1.181371</td>\n",
       "      <td>-1.492190</td>\n",
       "      <td>0.086437</td>\n",
       "      <td>0.012945</td>\n",
       "      <td>-0.032850</td>\n",
       "      <td>1.280361</td>\n",
       "      <td>-0.101291</td>\n",
       "      <td>1.226563</td>\n",
       "      <td>0.0</td>\n",
       "      <td>4.0</td>\n",
       "      <td>0.0</td>\n",
       "      <td>0.0</td>\n",
       "      <td>0.0</td>\n",
       "      <td>1.0</td>\n",
       "      <td>0.0</td>\n",
       "      <td>0.005202</td>\n",
       "      <td>0</td>\n",
       "      <td>1</td>\n",
       "      <td>1</td>\n",
       "      <td>1</td>\n",
       "      <td>0</td>\n",
       "    </tr>\n",
       "    <tr>\n",
       "      <th>3</th>\n",
       "      <td>1.162077</td>\n",
       "      <td>-1.397097</td>\n",
       "      <td>0.415452</td>\n",
       "      <td>-0.922499</td>\n",
       "      <td>-1.137270</td>\n",
       "      <td>-0.186258</td>\n",
       "      <td>1.405489</td>\n",
       "      <td>-0.233830</td>\n",
       "      <td>-1.465245</td>\n",
       "      <td>0.531428</td>\n",
       "      <td>0.296415</td>\n",
       "      <td>1.593616</td>\n",
       "      <td>0.838155</td>\n",
       "      <td>-0.647840</td>\n",
       "      <td>-0.385773</td>\n",
       "      <td>-0.101291</td>\n",
       "      <td>-0.582983</td>\n",
       "      <td>0.0</td>\n",
       "      <td>2.0</td>\n",
       "      <td>0.0</td>\n",
       "      <td>0.0</td>\n",
       "      <td>1.0</td>\n",
       "      <td>0.0</td>\n",
       "      <td>0.0</td>\n",
       "      <td>0.005202</td>\n",
       "      <td>1</td>\n",
       "      <td>0</td>\n",
       "      <td>0</td>\n",
       "      <td>1</td>\n",
       "      <td>0</td>\n",
       "    </tr>\n",
       "    <tr>\n",
       "      <th>4</th>\n",
       "      <td>0.473048</td>\n",
       "      <td>1.344685</td>\n",
       "      <td>-0.401845</td>\n",
       "      <td>0.344282</td>\n",
       "      <td>0.525351</td>\n",
       "      <td>-0.190269</td>\n",
       "      <td>-0.444912</td>\n",
       "      <td>-0.237807</td>\n",
       "      <td>-0.640476</td>\n",
       "      <td>-0.398925</td>\n",
       "      <td>-1.492190</td>\n",
       "      <td>1.349597</td>\n",
       "      <td>-0.977307</td>\n",
       "      <td>0.992135</td>\n",
       "      <td>-0.544406</td>\n",
       "      <td>-0.101291</td>\n",
       "      <td>0.774176</td>\n",
       "      <td>0.0</td>\n",
       "      <td>0.0</td>\n",
       "      <td>0.0</td>\n",
       "      <td>0.0</td>\n",
       "      <td>0.0</td>\n",
       "      <td>1.0</td>\n",
       "      <td>0.0</td>\n",
       "      <td>0.016533</td>\n",
       "      <td>1</td>\n",
       "      <td>1</td>\n",
       "      <td>0</td>\n",
       "      <td>1</td>\n",
       "      <td>0</td>\n",
       "    </tr>\n",
       "  </tbody>\n",
       "</table>\n",
       "</div>"
      ],
      "text/plain": [
       "     income  name_email_similarity  prev_address_months_count  \\\n",
       "0  1.162077              -0.886368                  -0.401845   \n",
       "1  1.162077              -1.097272                  -0.401845   \n",
       "2 -1.594037              -0.788294                   3.185180   \n",
       "3  1.162077              -1.397097                   0.415452   \n",
       "4  0.473048               1.344685                  -0.401845   \n",
       "\n",
       "   current_address_months_count  customer_age  days_since_request  \\\n",
       "0                     -0.074208      0.525351           -0.188421   \n",
       "1                     -0.368282      0.525351           -0.187361   \n",
       "2                      0.785393      0.525351           -0.188779   \n",
       "3                     -0.922499     -1.137270           -0.186258   \n",
       "4                      0.344282      0.525351           -0.190269   \n",
       "\n",
       "   intended_balcon_amount  zip_count_4w  velocity_4w  bank_branch_count_8w  \\\n",
       "0               -0.479960      0.016703     1.626476             -0.401099   \n",
       "1               -0.469766     -0.686182     0.776665             -0.398925   \n",
       "2                1.403621     -0.272603    -0.700097              1.181371   \n",
       "3                1.405489     -0.233830    -1.465245              0.531428   \n",
       "4               -0.444912     -0.237807    -0.640476             -0.398925   \n",
       "\n",
       "   date_of_birth_distinct_emails_4w  credit_risk_score  bank_months_count  \\\n",
       "0                          0.495149          -0.444664          -0.977307   \n",
       "1                         -0.498521          -0.358539          -0.977307   \n",
       "2                         -1.492190           0.086437           0.012945   \n",
       "3                          0.296415           1.593616           0.838155   \n",
       "4                         -1.492190           1.349597          -0.977307   \n",
       "\n",
       "   proposed_credit_limit  session_length_in_minutes  \\\n",
       "0               3.042105                  -0.511240   \n",
       "1              -0.647840                  -0.147405   \n",
       "2              -0.032850                   1.280361   \n",
       "3              -0.647840                  -0.385773   \n",
       "4               0.992135                  -0.544406   \n",
       "\n",
       "   device_distinct_emails_8w     month  employment_status  housing_status  \\\n",
       "0                  -0.101291 -1.487757                0.0             0.0   \n",
       "1                  -0.101291 -0.582983                5.0             2.0   \n",
       "2                  -0.101291  1.226563                0.0             4.0   \n",
       "3                  -0.101291 -0.582983                0.0             2.0   \n",
       "4                  -0.101291  0.774176                0.0             0.0   \n",
       "\n",
       "   device_os_linux  device_os_macintosh  device_os_other  device_os_windows  \\\n",
       "0              0.0                  0.0              1.0                0.0   \n",
       "1              1.0                  0.0              0.0                0.0   \n",
       "2              0.0                  0.0              0.0                1.0   \n",
       "3              0.0                  0.0              1.0                0.0   \n",
       "4              0.0                  0.0              0.0                1.0   \n",
       "\n",
       "   device_os_x11  payment_type  email_is_free  phone_home_valid  \\\n",
       "0            0.0      0.016559              1                 0   \n",
       "1            0.0      0.016559              0                 0   \n",
       "2            0.0      0.005202              0                 1   \n",
       "3            0.0      0.005202              1                 0   \n",
       "4            0.0      0.016533              1                 1   \n",
       "\n",
       "   has_other_cards  keep_alive_session  fraud_bool  \n",
       "0                0                   1           0  \n",
       "1                0                   0           0  \n",
       "2                1                   1           0  \n",
       "3                0                   1           0  \n",
       "4                0                   1           0  "
      ]
     },
     "execution_count": 286,
     "metadata": {},
     "output_type": "execute_result"
    }
   ],
   "source": [
    "df_fraud_train_cut.head()"
   ]
  },
  {
   "cell_type": "markdown",
   "id": "0cf6c31c-d49f-4b89-9b69-0dc6cdef12b5",
   "metadata": {},
   "source": [
    "Separo en X e y:"
   ]
  },
  {
   "cell_type": "code",
   "execution_count": 287,
   "id": "d35679f6-6736-4276-b468-e2c7242ade49",
   "metadata": {
    "tags": []
   },
   "outputs": [],
   "source": [
    "X_train_0 = df_fraud_train_cut.drop('fraud_bool', axis=1)\n",
    "y_train_0 = df_fraud_train_cut['fraud_bool']"
   ]
  },
  {
   "cell_type": "markdown",
   "id": "5a667516-9181-4f4f-8529-fdb6df6b7cca",
   "metadata": {},
   "source": [
    "## Separación en train y validation estratificado\n",
    "\n",
    "Debido a que voy a probar muchos modelos, decido realizar una separación en train y validation, para poder medir sin tener que tocar el set de test, que se mantiene inmaculado.\n",
    "\n",
    "Además, como planeo utilizar ténicas de undersampling y oversampling, el train y val separados quedan guardados en una variable y el df original en otra, para luego reutilizar los datos del set de validación en caso de tener que realizar un undersampling u oversampling en el modelo final a medir con el test."
   ]
  },
  {
   "cell_type": "code",
   "execution_count": 288,
   "id": "c4786a54-9e2d-4d17-9be6-3bafdb950244",
   "metadata": {
    "tags": []
   },
   "outputs": [],
   "source": [
    "X_train_1, X_val, y_train_1, y_val = train_test_split(df_fraud_train_cut.drop('fraud_bool',axis=1)\n",
    "                                                  ,df_fraud_train_cut['fraud_bool']\n",
    "                                                  ,stratify=df_fraud_train_cut['fraud_bool']\n",
    "                                                  ,test_size=0.3\n",
    "                                                  ,random_state=seed)\n",
    "\n",
    "X_train_complete, X_val_complete, y_train_complete, y_val_complete = train_test_split(df_fraud_train.drop('fraud_bool',axis=1)\n",
    "                                                                                      ,df_fraud_train['fraud_bool']\n",
    "                                                                                      ,stratify=df_fraud_train['fraud_bool']\n",
    "                                                                                      ,test_size=0.3\n",
    "                                                                                      ,random_state=seed)"
   ]
  },
  {
   "cell_type": "code",
   "execution_count": 289,
   "id": "44b58133-3199-42e8-8a29-7e444327fbfb",
   "metadata": {
    "tags": []
   },
   "outputs": [
    {
     "data": {
      "text/plain": [
       "((490000, 29), (210000, 29), (490000, 34), (210000, 34))"
      ]
     },
     "execution_count": 289,
     "metadata": {},
     "output_type": "execute_result"
    }
   ],
   "source": [
    "X_train_1.shape, X_val.shape, X_train_complete.shape, X_val_complete.shape"
   ]
  },
  {
   "cell_type": "markdown",
   "id": "ddebe22d-6d14-4631-a8d6-fba486d16a08",
   "metadata": {},
   "source": [
    "***\n",
    "# Unsersampling y Oversampling\n",
    "\n",
    "Investigando en internet me he topado con una técnica que me parece interesante, que es una combinación proporcional de undersampling y oversampling. He decidido probarlo mediante la aplicación de un Pipeline en donde se aplican secuencialmente las técnicas, además de las técnicas tradicionales.\n",
    "\n",
    "Me parece una aplicación interesante para casos como el de este dataset en donde los datos están extremadamente desbalanceados, al punto de que un undersampling aplicado directamente eliminaría una cantidad demasiado alta de información, mientras que un oversampling podría generar un sesgo por la cantidad enorme de datos sintéticos a generar. Es por eso que un acercamiento entre ambos parece una solución curiosa desde el punto de vista de la prueba, aunque he de decir que también tengo cierto escepticismo con respecto a la técnica, debido a que puede significar tocar demasiado el dataset. En un proyecto real sería más conservador probablemente y optaría por una de las dos metodologías puras.\n",
    "\n",
    "Existen dentro de Imbalanced-Learning de SKL dos funciones con una combinación interna de oversampling y undersampling, pero al probarlas no parecen estar optimizadas y el costo computacional que me requieren es demasiado alto, por eso generaré y aplicaré mi propio Pipeline manualmente.\n",
    "\n",
    "Entonces, para lidiar con el desbalanceo terminaré aplicando:\n",
    "\n",
    "1. Split estatificado (SE) --> (realizado en Notebook 02) --> Todos los demás pasos tienen este por detrás.\n",
    "2. RandomUnderSampling\n",
    "3. SMOTE OverSampling\n",
    "4. Pipeline con sampling mix --> (SMOTE OverSampling + Random UnderSampling)\n"
   ]
  },
  {
   "cell_type": "code",
   "execution_count": 290,
   "id": "d8a93cfa-5293-4c40-8e91-9d9f107600bc",
   "metadata": {
    "tags": []
   },
   "outputs": [
    {
     "data": {
      "text/plain": [
       "((490000, 29),\n",
       " fraud_bool\n",
       " 0    484596\n",
       " 1      5404\n",
       " Name: count, dtype: int64,\n",
       " fraud_bool\n",
       " 0    0.988971\n",
       " 1    0.011029\n",
       " Name: proportion, dtype: float64)"
      ]
     },
     "execution_count": 290,
     "metadata": {},
     "output_type": "execute_result"
    }
   ],
   "source": [
    "# El tamaño y distribución actual del DataSet de train son los siguientes:\n",
    "X_train_1.shape,y_train_1.value_counts(),y_train_1.value_counts(normalize=True)"
   ]
  },
  {
   "cell_type": "markdown",
   "id": "4558d820-39bf-478a-8e54-6f0a81f93ec8",
   "metadata": {},
   "source": [
    "#### 1. Random Undersampling\n",
    "\n",
    "Para elegir la estrategia de muestreo óptima y el tipo de undersampling (Random por sobre TomekLink o NearMiss) estuve realizando algunas pruebas que pueden verificarse en el notebook de la carpeta Experiments. Básicamente he elegido el balanceo que mejores resultados daba manteniendo equilibrio entre f1 y f2."
   ]
  },
  {
   "cell_type": "code",
   "execution_count": 291,
   "id": "bd206417-b76d-4d45-8d43-a3d8bb07dfd6",
   "metadata": {
    "tags": []
   },
   "outputs": [],
   "source": [
    "undersamp = RandomUnderSampler(sampling_strategy=0.08, random_state=seed)\n",
    "X_train_under, y_train_under = undersamp.fit_resample(X_train_1, y_train_1)"
   ]
  },
  {
   "cell_type": "code",
   "execution_count": 292,
   "id": "4f6728dd-8a52-41f4-8674-4a9da6884549",
   "metadata": {
    "tags": []
   },
   "outputs": [
    {
     "data": {
      "text/plain": [
       "((72954, 29),\n",
       " fraud_bool\n",
       " 0    67550\n",
       " 1     5404\n",
       " Name: count, dtype: int64,\n",
       " fraud_bool\n",
       " 0    0.925926\n",
       " 1    0.074074\n",
       " Name: proportion, dtype: float64)"
      ]
     },
     "execution_count": 292,
     "metadata": {},
     "output_type": "execute_result"
    }
   ],
   "source": [
    "X_train_under.shape,y_train_under.value_counts(),y_train_under.value_counts(normalize=True)"
   ]
  },
  {
   "cell_type": "code",
   "execution_count": 293,
   "id": "7662016b-49dd-4b87-9b68-8d315a0c561f",
   "metadata": {
    "tags": []
   },
   "outputs": [
    {
     "data": {
      "text/plain": [
       "0.8511142857142857"
      ]
     },
     "execution_count": 293,
     "metadata": {},
     "output_type": "execute_result"
    }
   ],
   "source": [
    "1 - X_train_under.shape[0] / X_train_1.shape[0]"
   ]
  },
  {
   "cell_type": "markdown",
   "id": "8c6053bc-0d45-4832-a16b-fc7172705a38",
   "metadata": {},
   "source": [
    "Logramos el cometido, el dataset está balanceado, pero solo nos quedamos con casi 73k datos, es decir que perdimos el 85% de nuestro dataset, \n",
    "dato que es al menos recalcable. Habrá que ver como funcionan los modelos con una reducción tan grande del dataset."
   ]
  },
  {
   "cell_type": "markdown",
   "id": "45a0a8ca-b119-4639-8de3-dc624e4e5b8c",
   "metadata": {},
   "source": [
    "#### 2. SMOTE OverSampling"
   ]
  },
  {
   "cell_type": "code",
   "execution_count": 294,
   "id": "c24333fc-0302-4a6c-b7d3-6efda57c89e2",
   "metadata": {
    "tags": []
   },
   "outputs": [],
   "source": [
    "oversamp = SMOTE(sampling_strategy=0.25, random_state=seed)\n",
    "X_train_over, y_train_over = oversamp.fit_resample(X_train_1, y_train_1)"
   ]
  },
  {
   "cell_type": "code",
   "execution_count": 295,
   "id": "214cb8ed-bd51-481b-b4a3-21acb5f1382c",
   "metadata": {
    "tags": []
   },
   "outputs": [
    {
     "data": {
      "text/plain": [
       "((605745, 29),\n",
       " fraud_bool\n",
       " 0    484596\n",
       " 1    121149\n",
       " Name: count, dtype: int64,\n",
       " fraud_bool\n",
       " 0    0.8\n",
       " 1    0.2\n",
       " Name: proportion, dtype: float64)"
      ]
     },
     "execution_count": 295,
     "metadata": {},
     "output_type": "execute_result"
    }
   ],
   "source": [
    "X_train_over.shape,y_train_over.value_counts(),y_train_over.value_counts(normalize=True)"
   ]
  },
  {
   "cell_type": "code",
   "execution_count": 296,
   "id": "1d33051e-df02-4d8e-838f-2aaef3e059e5",
   "metadata": {
    "tags": []
   },
   "outputs": [
    {
     "data": {
      "text/plain": [
       "115745"
      ]
     },
     "execution_count": 296,
     "metadata": {},
     "output_type": "execute_result"
    }
   ],
   "source": [
    "y_train_over.value_counts()[1] - y_train_1.value_counts()[1]"
   ]
  },
  {
   "cell_type": "code",
   "execution_count": 297,
   "id": "bb7d3f9e-7047-4125-90a8-5ea272bc984c",
   "metadata": {
    "tags": []
   },
   "outputs": [
    {
     "data": {
      "text/plain": [
       "0.2362142857142857"
      ]
     },
     "execution_count": 297,
     "metadata": {},
     "output_type": "execute_result"
    }
   ],
   "source": [
    "(y_train_over.value_counts()[1] - y_train_1.value_counts()[1]) / y_train_1.size"
   ]
  },
  {
   "cell_type": "markdown",
   "id": "d410f90b-1342-4975-8938-c0fcc7b1636d",
   "metadata": {},
   "source": [
    "Con este método generamos 115k nuevos registros, es decir que agrandamos nuestro dataset de manera sintética casi un 24%, lo cual parece bastante,\n",
    "pero habrá que comprobarlo con los resultados del modelo."
   ]
  },
  {
   "cell_type": "markdown",
   "id": "c856ab3f-30c4-4773-85e9-cf80d686205d",
   "metadata": {},
   "source": [
    "#### 3. Mix con Pipeline (SMOTE OverSampling + UnderSampling):"
   ]
  },
  {
   "cell_type": "code",
   "execution_count": 298,
   "id": "49778472-e63e-448d-9210-b72c011dfc08",
   "metadata": {
    "tags": []
   },
   "outputs": [],
   "source": [
    "over = SMOTE(sampling_strategy=0.2, random_state=seed)\n",
    "under = RandomUnderSampler(sampling_strategy=0.25, random_state=seed) # Voy a buscar una proporción de aprox 60%-40%\n",
    "steps = [('o', over), ('u', under)]\n",
    "pipeline = Pipeline(steps=steps)\n",
    "\n",
    "X_train_mix, y_train_mix = pipeline.fit_resample(X_train_1, y_train_1)"
   ]
  },
  {
   "cell_type": "code",
   "execution_count": 299,
   "id": "cc92b167-6f19-479b-a46d-f4649bbd359a",
   "metadata": {
    "tags": []
   },
   "outputs": [
    {
     "data": {
      "text/plain": [
       "((484595, 29),\n",
       " fraud_bool\n",
       " 0    387676\n",
       " 1     96919\n",
       " Name: count, dtype: int64,\n",
       " fraud_bool\n",
       " 0    0.8\n",
       " 1    0.2\n",
       " Name: proportion, dtype: float64)"
      ]
     },
     "execution_count": 299,
     "metadata": {},
     "output_type": "execute_result"
    }
   ],
   "source": [
    "X_train_mix.shape,y_train_mix.value_counts(),y_train_mix.value_counts(normalize=True)"
   ]
  },
  {
   "cell_type": "markdown",
   "id": "b6e977f4-81e0-4bf8-8234-750dc20a3467",
   "metadata": {
    "tags": []
   },
   "source": [
    "Vemos que de esta manera reducimos a poco más de la mitad los datos originales de train y la cantidad de datos a generar sintéticamente\n",
    "\n",
    "El tamaño del dataset no es minúsculo ni se expandió de manera tan abrupta, sino que casi que se mantuvo en su tamaño gracias al mix aplicado.\n",
    "\n",
    "Por supuesto que nunca vamos a llegar a una solución perfecta, a priori parece razonale, aunque sin haberla medido. La hora de la verdad llegará cuando comencemos a probar los modelos, a pesar de que da un poco de desconfianza modificar tanto los datos."
   ]
  },
  {
   "cell_type": "code",
   "execution_count": 300,
   "id": "00381f3a-9341-45a7-a54b-706423323ba3",
   "metadata": {
    "tags": []
   },
   "outputs": [
    {
     "data": {
      "text/html": [
       "<div>\n",
       "<style scoped>\n",
       "    .dataframe tbody tr th:only-of-type {\n",
       "        vertical-align: middle;\n",
       "    }\n",
       "\n",
       "    .dataframe tbody tr th {\n",
       "        vertical-align: top;\n",
       "    }\n",
       "\n",
       "    .dataframe thead th {\n",
       "        text-align: right;\n",
       "    }\n",
       "</style>\n",
       "<table border=\"1\" class=\"dataframe\">\n",
       "  <thead>\n",
       "    <tr style=\"text-align: right;\">\n",
       "      <th></th>\n",
       "      <th>income</th>\n",
       "      <th>name_email_similarity</th>\n",
       "      <th>prev_address_months_count</th>\n",
       "      <th>current_address_months_count</th>\n",
       "      <th>customer_age</th>\n",
       "      <th>days_since_request</th>\n",
       "      <th>intended_balcon_amount</th>\n",
       "      <th>zip_count_4w</th>\n",
       "      <th>velocity_4w</th>\n",
       "      <th>bank_branch_count_8w</th>\n",
       "      <th>date_of_birth_distinct_emails_4w</th>\n",
       "      <th>credit_risk_score</th>\n",
       "      <th>bank_months_count</th>\n",
       "      <th>proposed_credit_limit</th>\n",
       "      <th>session_length_in_minutes</th>\n",
       "      <th>device_distinct_emails_8w</th>\n",
       "      <th>month</th>\n",
       "      <th>employment_status</th>\n",
       "      <th>housing_status</th>\n",
       "      <th>device_os_linux</th>\n",
       "      <th>device_os_macintosh</th>\n",
       "      <th>device_os_other</th>\n",
       "      <th>device_os_windows</th>\n",
       "      <th>device_os_x11</th>\n",
       "      <th>payment_type</th>\n",
       "      <th>email_is_free</th>\n",
       "      <th>phone_home_valid</th>\n",
       "      <th>has_other_cards</th>\n",
       "      <th>keep_alive_session</th>\n",
       "    </tr>\n",
       "  </thead>\n",
       "  <tbody>\n",
       "    <tr>\n",
       "      <th>339345</th>\n",
       "      <td>1.162077</td>\n",
       "      <td>-1.213468</td>\n",
       "      <td>-0.401845</td>\n",
       "      <td>-0.153382</td>\n",
       "      <td>1.356662</td>\n",
       "      <td>-0.189568</td>\n",
       "      <td>-0.437213</td>\n",
       "      <td>-0.453544</td>\n",
       "      <td>-0.914718</td>\n",
       "      <td>-0.396752</td>\n",
       "      <td>-0.498521</td>\n",
       "      <td>1.335242</td>\n",
       "      <td>-0.977307</td>\n",
       "      <td>-0.647840</td>\n",
       "      <td>-0.515288</td>\n",
       "      <td>-0.101291</td>\n",
       "      <td>1.226563</td>\n",
       "      <td>3.0</td>\n",
       "      <td>0.0</td>\n",
       "      <td>0.0</td>\n",
       "      <td>1.0</td>\n",
       "      <td>0.0</td>\n",
       "      <td>0.0</td>\n",
       "      <td>0.0</td>\n",
       "      <td>0.016459</td>\n",
       "      <td>1</td>\n",
       "      <td>1</td>\n",
       "      <td>0</td>\n",
       "      <td>0</td>\n",
       "    </tr>\n",
       "    <tr>\n",
       "      <th>453683</th>\n",
       "      <td>-1.594037</td>\n",
       "      <td>-0.599501</td>\n",
       "      <td>-0.129413</td>\n",
       "      <td>-0.899878</td>\n",
       "      <td>-1.137270</td>\n",
       "      <td>-0.189999</td>\n",
       "      <td>-0.481041</td>\n",
       "      <td>1.763478</td>\n",
       "      <td>0.080049</td>\n",
       "      <td>-0.401099</td>\n",
       "      <td>0.097681</td>\n",
       "      <td>2.268258</td>\n",
       "      <td>-0.977307</td>\n",
       "      <td>-0.647840</td>\n",
       "      <td>-0.418075</td>\n",
       "      <td>-0.101291</td>\n",
       "      <td>0.321790</td>\n",
       "      <td>0.0</td>\n",
       "      <td>2.0</td>\n",
       "      <td>0.0</td>\n",
       "      <td>0.0</td>\n",
       "      <td>0.0</td>\n",
       "      <td>1.0</td>\n",
       "      <td>0.0</td>\n",
       "      <td>0.016552</td>\n",
       "      <td>1</td>\n",
       "      <td>1</td>\n",
       "      <td>0</td>\n",
       "      <td>0</td>\n",
       "    </tr>\n",
       "    <tr>\n",
       "      <th>198425</th>\n",
       "      <td>0.473048</td>\n",
       "      <td>1.273549</td>\n",
       "      <td>-0.401845</td>\n",
       "      <td>-0.707599</td>\n",
       "      <td>-1.137270</td>\n",
       "      <td>-0.188339</td>\n",
       "      <td>-0.461779</td>\n",
       "      <td>-0.692147</td>\n",
       "      <td>0.235829</td>\n",
       "      <td>3.518122</td>\n",
       "      <td>0.693883</td>\n",
       "      <td>0.000313</td>\n",
       "      <td>0.343029</td>\n",
       "      <td>0.992135</td>\n",
       "      <td>-0.257553</td>\n",
       "      <td>-0.101291</td>\n",
       "      <td>-0.130597</td>\n",
       "      <td>0.0</td>\n",
       "      <td>4.0</td>\n",
       "      <td>0.0</td>\n",
       "      <td>0.0</td>\n",
       "      <td>1.0</td>\n",
       "      <td>0.0</td>\n",
       "      <td>0.0</td>\n",
       "      <td>0.011039</td>\n",
       "      <td>1</td>\n",
       "      <td>0</td>\n",
       "      <td>0</td>\n",
       "      <td>0</td>\n",
       "    </tr>\n",
       "    <tr>\n",
       "      <th>165400</th>\n",
       "      <td>0.817562</td>\n",
       "      <td>0.710729</td>\n",
       "      <td>-0.401845</td>\n",
       "      <td>0.875877</td>\n",
       "      <td>-1.137270</td>\n",
       "      <td>-0.188683</td>\n",
       "      <td>-0.461813</td>\n",
       "      <td>2.995268</td>\n",
       "      <td>1.306204</td>\n",
       "      <td>3.396394</td>\n",
       "      <td>0.097681</td>\n",
       "      <td>-0.186290</td>\n",
       "      <td>0.673113</td>\n",
       "      <td>-0.647840</td>\n",
       "      <td>-0.852997</td>\n",
       "      <td>-0.101291</td>\n",
       "      <td>-1.487757</td>\n",
       "      <td>0.0</td>\n",
       "      <td>4.0</td>\n",
       "      <td>0.0</td>\n",
       "      <td>0.0</td>\n",
       "      <td>1.0</td>\n",
       "      <td>0.0</td>\n",
       "      <td>0.0</td>\n",
       "      <td>0.011339</td>\n",
       "      <td>1</td>\n",
       "      <td>0</td>\n",
       "      <td>0</td>\n",
       "      <td>1</td>\n",
       "    </tr>\n",
       "    <tr>\n",
       "      <th>72103</th>\n",
       "      <td>-0.560495</td>\n",
       "      <td>-1.618053</td>\n",
       "      <td>0.279235</td>\n",
       "      <td>-0.877257</td>\n",
       "      <td>-1.137270</td>\n",
       "      <td>-0.186353</td>\n",
       "      <td>-0.487278</td>\n",
       "      <td>-0.115523</td>\n",
       "      <td>-0.037147</td>\n",
       "      <td>-0.377188</td>\n",
       "      <td>0.097681</td>\n",
       "      <td>0.918974</td>\n",
       "      <td>1.663364</td>\n",
       "      <td>-0.647840</td>\n",
       "      <td>2.197689</td>\n",
       "      <td>-0.101291</td>\n",
       "      <td>0.321790</td>\n",
       "      <td>0.0</td>\n",
       "      <td>2.0</td>\n",
       "      <td>0.0</td>\n",
       "      <td>1.0</td>\n",
       "      <td>0.0</td>\n",
       "      <td>0.0</td>\n",
       "      <td>0.0</td>\n",
       "      <td>0.011522</td>\n",
       "      <td>1</td>\n",
       "      <td>0</td>\n",
       "      <td>0</td>\n",
       "      <td>1</td>\n",
       "    </tr>\n",
       "  </tbody>\n",
       "</table>\n",
       "</div>"
      ],
      "text/plain": [
       "          income  name_email_similarity  prev_address_months_count  \\\n",
       "339345  1.162077              -1.213468                  -0.401845   \n",
       "453683 -1.594037              -0.599501                  -0.129413   \n",
       "198425  0.473048               1.273549                  -0.401845   \n",
       "165400  0.817562               0.710729                  -0.401845   \n",
       "72103  -0.560495              -1.618053                   0.279235   \n",
       "\n",
       "        current_address_months_count  customer_age  days_since_request  \\\n",
       "339345                     -0.153382      1.356662           -0.189568   \n",
       "453683                     -0.899878     -1.137270           -0.189999   \n",
       "198425                     -0.707599     -1.137270           -0.188339   \n",
       "165400                      0.875877     -1.137270           -0.188683   \n",
       "72103                      -0.877257     -1.137270           -0.186353   \n",
       "\n",
       "        intended_balcon_amount  zip_count_4w  velocity_4w  \\\n",
       "339345               -0.437213     -0.453544    -0.914718   \n",
       "453683               -0.481041      1.763478     0.080049   \n",
       "198425               -0.461779     -0.692147     0.235829   \n",
       "165400               -0.461813      2.995268     1.306204   \n",
       "72103                -0.487278     -0.115523    -0.037147   \n",
       "\n",
       "        bank_branch_count_8w  date_of_birth_distinct_emails_4w  \\\n",
       "339345             -0.396752                         -0.498521   \n",
       "453683             -0.401099                          0.097681   \n",
       "198425              3.518122                          0.693883   \n",
       "165400              3.396394                          0.097681   \n",
       "72103              -0.377188                          0.097681   \n",
       "\n",
       "        credit_risk_score  bank_months_count  proposed_credit_limit  \\\n",
       "339345           1.335242          -0.977307              -0.647840   \n",
       "453683           2.268258          -0.977307              -0.647840   \n",
       "198425           0.000313           0.343029               0.992135   \n",
       "165400          -0.186290           0.673113              -0.647840   \n",
       "72103            0.918974           1.663364              -0.647840   \n",
       "\n",
       "        session_length_in_minutes  device_distinct_emails_8w     month  \\\n",
       "339345                  -0.515288                  -0.101291  1.226563   \n",
       "453683                  -0.418075                  -0.101291  0.321790   \n",
       "198425                  -0.257553                  -0.101291 -0.130597   \n",
       "165400                  -0.852997                  -0.101291 -1.487757   \n",
       "72103                    2.197689                  -0.101291  0.321790   \n",
       "\n",
       "        employment_status  housing_status  device_os_linux  \\\n",
       "339345                3.0             0.0              0.0   \n",
       "453683                0.0             2.0              0.0   \n",
       "198425                0.0             4.0              0.0   \n",
       "165400                0.0             4.0              0.0   \n",
       "72103                 0.0             2.0              0.0   \n",
       "\n",
       "        device_os_macintosh  device_os_other  device_os_windows  \\\n",
       "339345                  1.0              0.0                0.0   \n",
       "453683                  0.0              0.0                1.0   \n",
       "198425                  0.0              1.0                0.0   \n",
       "165400                  0.0              1.0                0.0   \n",
       "72103                   1.0              0.0                0.0   \n",
       "\n",
       "        device_os_x11  payment_type  email_is_free  phone_home_valid  \\\n",
       "339345            0.0      0.016459              1                 1   \n",
       "453683            0.0      0.016552              1                 1   \n",
       "198425            0.0      0.011039              1                 0   \n",
       "165400            0.0      0.011339              1                 0   \n",
       "72103             0.0      0.011522              1                 0   \n",
       "\n",
       "        has_other_cards  keep_alive_session  \n",
       "339345                0                   0  \n",
       "453683                0                   0  \n",
       "198425                0                   0  \n",
       "165400                0                   1  \n",
       "72103                 0                   1  "
      ]
     },
     "execution_count": 300,
     "metadata": {},
     "output_type": "execute_result"
    }
   ],
   "source": [
    "X_train_mix.head()"
   ]
  },
  {
   "cell_type": "code",
   "execution_count": 301,
   "id": "0b3e4421-b97c-40d8-b71d-eaad81db4d68",
   "metadata": {
    "tags": []
   },
   "outputs": [],
   "source": [
    "# restauro el index:\n",
    "X_train_mix = X_train_mix.reset_index(drop=True)\n",
    "y_train_mix = y_train_mix.reset_index(drop=True)"
   ]
  },
  {
   "cell_type": "markdown",
   "id": "19c51eab-b547-48ff-964c-1d05fc1850a8",
   "metadata": {},
   "source": [
    "## Resumen del tratamiento previo al modelado\n",
    "\n",
    "Una vez que he importado todos los datasets, generado sets de validación para comparar los modelos y agregar procesos de oversampling y undersampling, voy a proceder a la parte del modelado.\n",
    "\n",
    "El proceso de comentará a continuación en el siguiente apartado, pero antes de continuar voy a listar los datasets generados con los que voy a trabajar:\n",
    "\n",
    "1. Set sin recortes\n",
    "2. Set procesado con variables seleccionadas (en total 6 menos que el original importado gracias al Feature Selection)\n",
    "3. Set con Undersampling\n",
    "4. Set con Oversampling\n",
    "5. Set con mix Over y Under sampling - prueba\n",
    "\n",
    "Aunque parecen muchos, son bastante similares entre si y la idea es realizar una validación numérica de con cual de ellos se obtendrían a priori mejores resultados, para no basarnos simplemente en intuición a la hora de buscar la optimización del uso de los datos disponibles en el modelo que elijamos."
   ]
  },
  {
   "cell_type": "markdown",
   "id": "13d9049d-8145-483c-a41d-32ba4c3ece06",
   "metadata": {},
   "source": [
    "***\n",
    "\n",
    "# Modelado\n",
    "\n",
    "En este apartado de trataran los distintos modelos elegidos con los datasets disponibles. La idea es llegar al final del notebook con la elección tanto del modelo a utilizar, del dataset que mejor se adapte al mismo y de los hiperparámetros que optimizen los resultados buscados. Para lograrlo realizaré 3 pasos:\n",
    "\n",
    "1. Comparativa de modelos: Mediante un pipeline se probarán todos los modelos sin ajustar hiperparámetros, solo con sus valores por defecto, para ver cual es el que mejores resultados base proporciona.\n",
    "\n",
    "2. Comparativa de datasets: Con el modelo elegido se procederá a medir cual es el set de datos que mejores métricas obtiene.\n",
    "\n",
    "3. Búsqueda de hiperparámetros: Finalmente se realizará una búsqueda de los hiperparámetros que optimizen al modelo elegido en el dataset elegido mediante una Validación Cruzada."
   ]
  },
  {
   "cell_type": "markdown",
   "id": "86b2de22-2c2b-4471-97f5-486b658776e9",
   "metadata": {},
   "source": [
    "## Modelo Base:\n",
    "\n",
    "En primer lugar voy a realizar un modelo sin machine learning, en donde simplemente se asignará el valor de la clase mayoritaria a todos los resultados. En este caso, consideraremos que ninguna aplicación será fraudulenta. Esto es lo que haríamos si no pudiesemos aplicar ningún modelo."
   ]
  },
  {
   "cell_type": "markdown",
   "id": "0ba8c5b7-c71a-4277-9254-1273b582fdfc",
   "metadata": {
    "tags": []
   },
   "source": [
    "He generado una función propia que me permite determinar la clase mayoritaria y en base a eso generar las predicciones de un modelo base para mi análisis:"
   ]
  },
  {
   "cell_type": "code",
   "execution_count": 304,
   "id": "b7203565-5b57-4d38-9144-a3b6862b390a",
   "metadata": {
    "tags": []
   },
   "outputs": [],
   "source": [
    "y_pred_base = fr.y_pred_base_model(y_train_1,X_val)"
   ]
  },
  {
   "cell_type": "code",
   "execution_count": 305,
   "id": "f4640115-aef0-458e-9b55-0aa84309c79c",
   "metadata": {
    "tags": []
   },
   "outputs": [
    {
     "data": {
      "text/plain": [
       "(array([0, 0, 0, ..., 0, 0, 0], dtype=int64), (210000,))"
      ]
     },
     "execution_count": 305,
     "metadata": {},
     "output_type": "execute_result"
    }
   ],
   "source": [
    "y_pred_base, y_pred_base.shape"
   ]
  },
  {
   "cell_type": "markdown",
   "id": "5dd29469-371d-4839-a1ed-782156826872",
   "metadata": {
    "tags": []
   },
   "source": [
    "Aplico una función propia generada para resaltar las métricas que considero importantes a la hora de evaluar los modelos:"
   ]
  },
  {
   "cell_type": "code",
   "execution_count": 306,
   "id": "eaf8bd76-8123-4ac2-a203-c1dafae80250",
   "metadata": {
    "tags": []
   },
   "outputs": [
    {
     "name": "stdout",
     "output_type": "stream",
     "text": [
      "\n",
      "Accuracy: 0.98897\n",
      "Balanced Accuracy: 0.50000\n",
      "\u001b[1mF2 score: 0.00000\u001b[0m\n",
      "\u001b[1mF1 score: 0.00000\u001b[0m\n",
      "Precision: 0.00000\n",
      "Recall: 0.00000\n",
      "\n",
      "Confusion Matrix:\n",
      "[[207684      0]\n",
      " [  2316      0]]\n"
     ]
    }
   ],
   "source": [
    "fr.metrics_summ(y_val, y_pred_base)"
   ]
  },
  {
   "cell_type": "markdown",
   "id": "16d08f7e-ffd9-48fa-b5a0-9120a758c7e7",
   "metadata": {
    "tags": []
   },
   "source": [
    "Aplico una función propia creada justamente para graficar la matriz de confusión con los valores brutos y también en su versión normalizada:"
   ]
  },
  {
   "cell_type": "code",
   "execution_count": 307,
   "id": "774f4e0b-df6e-4300-b101-33a7fda409a0",
   "metadata": {
    "tags": []
   },
   "outputs": [
    {
     "data": {
      "image/png": "[encoded data removed]",
      "text/plain": [
       "<Figure size 2000x600 with 4 Axes>"
      ]
     },
     "metadata": {},
     "output_type": "display_data"
    }
   ],
   "source": [
    "fr.plot_cmatrix(y_val, y_pred_base)"
   ]
  },
  {
   "cell_type": "code",
   "execution_count": 308,
   "id": "6b4691f9-042b-412d-9503-d8a7c350d905",
   "metadata": {
    "tags": []
   },
   "outputs": [
    {
     "data": {
      "image/png": "[encoded data removed]",
      "text/plain": [
       "<Figure size 640x480 with 2 Axes>"
      ]
     },
     "metadata": {},
     "output_type": "display_data"
    }
   ],
   "source": [
    "# Además, también voy a graficar una confusion matrix con los porcentajes sobre el total:\n",
    "cf_matrix = confusion_matrix(y_val,y_pred_base)\n",
    "cf_matrix_perc = cf_matrix/np.sum(cf_matrix)\n",
    "\n",
    "heatmap = sns.heatmap(cf_matrix_perc, annot=True, fmt='.2%', cmap='Blues', linewidth=2)\n",
    "plt.xlabel('Predictions', fontdict={'fontname':'Montserrat'})\n",
    "plt.ylabel('Reality', fontdict={'fontname':'Montserrat'})\n",
    "plt.title('Confusion Matrix - Base Model', fontdict={'fontname':'Montserrat', 'fontsize':18})\n",
    "plt.show()"
   ]
  },
  {
   "cell_type": "markdown",
   "id": "0e4c9729-ef94-4f4b-a363-3760addc909c",
   "metadata": {},
   "source": [
    "Una vez contamos con el modelo base, procedemos a realizar la comparación de modelos con Machine Learning"
   ]
  },
  {
   "cell_type": "markdown",
   "id": "e88a3876-bb6d-4f3f-9899-1f8c622b82a4",
   "metadata": {},
   "source": [
    "***\n",
    "# 1. Comparación de Modelos\n",
    "\n",
    "A continuación ejecutaré un pipeline con algunos de los modelos de clasificación \n",
    "\n"
   ]
  },
  {
   "cell_type": "markdown",
   "id": "43976e19-2a56-47a3-8e4d-280afa392404",
   "metadata": {},
   "source": [
    "## Logistic Regression\n",
    "\n",
    "Antes de realizar el pipeline, voy a ejecutar un modelo, en este caso la regresión logística para probar que todo funcione correctamente y los datos procesados sean bien recibidos por los objetos de SciKitLearn.\n",
    "\n",
    "Este es un modelo de tipo lineal (GLM) que permite obtener resultados adecuados para problemas de clasificación binara, por lo que se adapta muy bien a nuestro objetivo a priori."
   ]
  },
  {
   "cell_type": "code",
   "execution_count": 392,
   "id": "c876474c-6279-4ae0-a060-35658f503b38",
   "metadata": {
    "tags": []
   },
   "outputs": [
    {
     "name": "stdout",
     "output_type": "stream",
     "text": [
      "\n",
      "Accuracy: 0.98899\n",
      "Balanced Accuracy: 0.50172\n",
      "\u001b[1mF2 score: 0.00431\u001b[0m\n",
      "\u001b[1mF1 score: 0.00687\u001b[0m\n",
      "Precision: 0.61538\n",
      "Recall: 0.00345\n",
      "\n",
      "Confusion Matrix:\n",
      "[[207679      5]\n",
      " [  2308      8]]\n",
      "CPU times: total: 21 s\n",
      "Wall time: 10.4 s\n"
     ]
    }
   ],
   "source": [
    "%%time\n",
    "lr = LogisticRegression(C=1)\n",
    "lr.fit(X_train_1, y_train_1)\n",
    "\n",
    "y_pred_lr = lr.predict(X_val)\n",
    "\n",
    "fr.metrics_summ(y_val, y_pred_lr)"
   ]
  },
  {
   "cell_type": "markdown",
   "id": "5f314952-8a30-4043-b9f2-b00198da988b",
   "metadata": {},
   "source": [
    "Los resultados son bastante decepcionantes, debido a que son muy pocos los fraudes que captura. El Accuracy, como ya mencionamos, lo es la métrica que \n",
    "más importa en este caso."
   ]
  },
  {
   "cell_type": "markdown",
   "id": "ad03b6a5-a97b-4b78-b961-0ec7319cdf30",
   "metadata": {},
   "source": [
    "## Support Vector Machine\n",
    "\n",
    "Este modelo es conocido por ser especialmente demandante computacionalmente hablando, por lo que en este caso procederé a probarlo con el dataset más pequeño posible. Debido a su alto coste computacional y a que no tiene un rendimiento tan bueno a priori como otros modelos que probaremos a continuación, considero adecuado probarlo con un dataset menor, ya que no tengo altas expectativas en cuanto a su desempeño.\n",
    "\n",
    "En vez de reducir los datos a un porcentaje, voy a aprovechar que ya poseo un dataset más pequeño, que en este caso es el que ha pasado por el proceso de Undersampling.\n",
    "\n",
    "###### *Nota: Es posible que este modelo obtenga mejores métricas debido a que está trabajando con un dataset balanceado. De igual manera, será comparado vs el mejor modelo elegido comprobando sus mejores métricas en varios DF de prueba. Por lo que, en caso de obtener buenos resultados, deberán compararse vs el otro modelo elegido en el mismo dataset con undersampling.*"
   ]
  },
  {
   "cell_type": "code",
   "execution_count": 57,
   "id": "b871ce8c-e53a-4fe0-b2ce-e4939d12d257",
   "metadata": {
    "tags": []
   },
   "outputs": [
    {
     "name": "stdout",
     "output_type": "stream",
     "text": [
      "\n",
      "accuracy = 0.9889714285714286\n",
      "balanced accuracy = 0.5\n",
      "precision = 0.0\n",
      "recall = 0.0\n",
      "f1_score = 0.0\n",
      "confusion matrix:\n",
      "[[207684      0]\n",
      " [  2316      0]]\n",
      "\n",
      "CPU times: total: 33min 17s\n",
      "Wall time: 38min 19s\n"
     ]
    }
   ],
   "source": [
    "%%time\n",
    "svc = SVC(kernel=\"rbf\", degree=3) # utilizo los valores por defecto. Solo los dejo aclarados para mejor entendimiento.\n",
    "svc.fit(X_train_under, y_train_under)\n",
    "\n",
    "# este modelo fue corrido antes de crear la función fr.metrics_summ(), por lo que el código bruto fue inicial más ineficiente, pero no me vale la pena volver a correr\n",
    "# dicho modelo que demora bastante y requiere mucha potencia computacional para obtener resultados pobres, por eso mantengo el código inicial sin usar mi función de medición\n",
    "\n",
    "accuracy = accuracy_score(y_val,svc.predict(X_val))\n",
    "balanced_acc = balanced_accuracy_score(y_val,svc.predict(X_val))\n",
    "f1 = f1_score(y_val,svc.predict(X_val)) # (y_true, y_pred)\n",
    "c_matrix = confusion_matrix(y_val,svc.predict(X_val))\n",
    "precision = precision_score(y_val,svc.predict(X_val))\n",
    "recall = recall_score(y_val,svc.predict(X_val))\n",
    "print(f\"\"\"\n",
    "accuracy = {accuracy}\n",
    "balanced accuracy = {balanced_acc}\n",
    "precision = {precision}\n",
    "recall = {recall}\n",
    "f1_score = {f1}\n",
    "confusion matrix:\n",
    "{c_matrix}\n",
    "\"\"\")"
   ]
  },
  {
   "cell_type": "markdown",
   "id": "51ab1f43-7eda-4d50-87f9-af6eb98ce131",
   "metadata": {},
   "source": [
    "La aplicación en este caso fue un fracaso. Además de la enorme cantidad de tiempo que demoró en comparación con otros modelos, la predicción simplemente\n",
    "actuó como si se tratara del modelo base, por lo que el SVC queda descartado de los posibles modelos a elegir."
   ]
  },
  {
   "cell_type": "markdown",
   "id": "4f2db4ec-c7d2-4af0-8f12-a7f1d25f2128",
   "metadata": {},
   "source": [
    "## Pipeline con los demás modelos\n",
    "\n",
    "Ahora si procedo a probar el resto de los modelos en un pipeline:\n",
    "\n",
    "* DummyClassifier: Incluyo lo que sería un modelo base de SKLearn\n",
    "* GaussianNB: El clasificador de Naive Bayes, basado en las teorías de probabilidad Gaussianas, un tipo de modelo bastante eficiente en aprendizaje supervisado.\n",
    "* Decision Tree Classifier: Árbol de decisión simple\n",
    "* Random Forest Classifier: Emsamblaje de muchos clasificadores de árbol de decisión, en representación de los modelos de Bagging\n",
    "* XGBoost Classifier: Representante de los modelos de boosting, uno de los más efectivos actualmente en ML.\n",
    "* LightGBM Classifier: También representante de los modelos de boosting, de mis favoritos actualmente debido a su eficiencia y sobre todo a su gran optimización en cuanto a los tiempos de procesamiento. "
   ]
  },
  {
   "cell_type": "code",
   "execution_count": 194,
   "id": "97c155a4-6896-4e38-8b98-b7ee2ac2fc48",
   "metadata": {},
   "outputs": [
    {
     "name": "stdout",
     "output_type": "stream",
     "text": [
      "\u001b[1mDummyClassifier()\u001b[0m\n",
      "\n",
      "Accuracy: 0.98897\n",
      "Balanced Accuracy: 0.50000\n",
      "\u001b[1mF2 score: 0.00000\u001b[0m\n",
      "\u001b[1mF1 score: 0.00000\u001b[0m\n",
      "Precision: 0.00000\n",
      "Recall: 0.00000\n",
      "\n",
      "Confusion Matrix:\n",
      "[[207684      0]\n",
      " [  2316      0]]\n",
      "____________________________________________________________________________________________\n",
      "\u001b[1mGaussianNB()\u001b[0m\n",
      "\n",
      "Accuracy: 0.93729\n",
      "Balanced Accuracy: 0.65917\n",
      "\u001b[1mF2 score: 0.19860\u001b[0m\n",
      "\u001b[1mF1 score: 0.11647\u001b[0m\n",
      "Precision: 0.06895\n",
      "Recall: 0.37478\n",
      "\n",
      "Confusion Matrix:\n",
      "[[195963  11721]\n",
      " [  1448    868]]\n",
      "____________________________________________________________________________________________\n",
      "\u001b[1mDecisionTreeClassifier()\u001b[0m\n",
      "\n",
      "Accuracy: 0.97639\n",
      "Balanced Accuracy: 0.54039\n",
      "\u001b[1mF2 score: 0.08870\u001b[0m\n",
      "\u001b[1mF1 score: 0.08116\u001b[0m\n",
      "Precision: 0.07108\n",
      "Recall: 0.09456\n",
      "\n",
      "Confusion Matrix:\n",
      "[[204822   2862]\n",
      " [  2097    219]]\n",
      "____________________________________________________________________________________________\n",
      "\u001b[1mGradientBoostingClassifier()\u001b[0m\n",
      "\n",
      "Accuracy: 0.98897\n",
      "Balanced Accuracy: 0.51516\n",
      "\u001b[1mF2 score: 0.03774\u001b[0m\n",
      "\u001b[1mF1 score: 0.05777\u001b[0m\n",
      "Precision: 0.50000\n",
      "Recall: 0.03066\n",
      "\n",
      "Confusion Matrix:\n",
      "[[207613     71]\n",
      " [  2245     71]]\n",
      "____________________________________________________________________________________________\n",
      "\u001b[1mRandomForestClassifier()\u001b[0m\n",
      "\n",
      "Accuracy: 0.98899\n",
      "Balanced Accuracy: 0.50129\n",
      "\u001b[1mF2 score: 0.00324\u001b[0m\n",
      "\u001b[1mF1 score: 0.00516\u001b[0m\n",
      "Precision: 0.66667\n",
      "Recall: 0.00259\n",
      "\n",
      "Confusion Matrix:\n",
      "[[207681      3]\n",
      " [  2310      6]]\n",
      "____________________________________________________________________________________________\n",
      "\u001b[1mXGBClassifier(base_score=None, booster=None, callbacks=None,\n",
      "              colsample_bylevel=None, colsample_bynode=None,\n",
      "              colsample_bytree=None, early_stopping_rounds=None,\n",
      "              enable_categorical=False, eval_metric=None, feature_types=None,\n",
      "              gamma=None, gpu_id=None, grow_policy=None, importance_type=None,\n",
      "              interaction_constraints=None, learning_rate=None, max_bin=None,\n",
      "              max_cat_threshold=None, max_cat_to_onehot=None,\n",
      "              max_delta_step=None, max_depth=None, max_leaves=None,\n",
      "              min_child_weight=None, missing=nan, monotone_constraints=None,\n",
      "              n_estimators=100, n_jobs=None, num_parallel_tree=None,\n",
      "              predictor=None, random_state=None, ...)\u001b[0m\n",
      "\n",
      "Accuracy: 0.98886\n",
      "Balanced Accuracy: 0.51916\n",
      "\u001b[1mF2 score: 0.04753\u001b[0m\n",
      "\u001b[1mF1 score: 0.07146\u001b[0m\n",
      "Precision: 0.44335\n",
      "Recall: 0.03886\n",
      "\n",
      "Confusion Matrix:\n",
      "[[207571    113]\n",
      " [  2226     90]]\n",
      "____________________________________________________________________________________________\n",
      "[LightGBM] [Info] Number of positive: 5404, number of negative: 484596\n",
      "[LightGBM] [Info] Auto-choosing row-wise multi-threading, the overhead of testing was 0.083000 seconds.\n",
      "You can set `force_row_wise=true` to remove the overhead.\n",
      "And if memory is not enough, you can set `force_col_wise=true`.\n",
      "[LightGBM] [Info] Total Bins 2702\n",
      "[LightGBM] [Info] Number of data points in the train set: 490000, number of used features: 29\n",
      "[LightGBM] [Info] [binary:BoostFromScore]: pavg=0.011029 -> initscore=-4.496176\n",
      "[LightGBM] [Info] Start training from score -4.496176\n",
      "\u001b[1mLGBMClassifier()\u001b[0m\n",
      "\n",
      "Accuracy: 0.98853\n",
      "Balanced Accuracy: 0.52262\n",
      "\u001b[1mF2 score: 0.05590\u001b[0m\n",
      "\u001b[1mF1 score: 0.08162\u001b[0m\n",
      "Precision: 0.34967\n",
      "Recall: 0.04620\n",
      "\n",
      "Confusion Matrix:\n",
      "[[207485    199]\n",
      " [  2209    107]]\n",
      "____________________________________________________________________________________________\n",
      "CPU times: total: 31min 21s\n",
      "Wall time: 35min 46s\n"
     ]
    }
   ],
   "source": [
    "%%time\n",
    "\n",
    "classifiers = [\n",
    "    DummyClassifier() # incluyo lo que sería un modelo base de SKLearn\n",
    "    ,GaussianNB() # Clasificador de NaiveBayes\n",
    "    ,DecisionTreeClassifier() # Árbol de decisión simple\n",
    "    ,GradientBoostingClassifier() # Modelo boosting\n",
    "    ,RandomForestClassifier() # Random Forest en representación de modelos de Bagging\n",
    "    ,XGBClassifier() # Modelo boosting\n",
    "    ,LGBMClassifier() # Modelo boosting\n",
    "    ]\n",
    "\n",
    "for classifier in classifiers:\n",
    "    pipe = Pipeline(steps=[('classifier', classifier)])\n",
    "    pipe.fit(X_train_1, y_train_1)   \n",
    "    y_pred_pipe = pipe.predict(X_val)\n",
    "    print(f'\\033[1m{classifier}\\033[0m')\n",
    "    fr.metrics_summ(y_val, y_pred_pipe)\n",
    "    print(\"____________________________________________________________________________________________\")\n"
   ]
  },
  {
   "cell_type": "markdown",
   "id": "f922d14f-0d8f-4999-b30d-37189fc455e0",
   "metadata": {},
   "source": [
    "## Modelo a seleccionar\n",
    "\n",
    "Una vez ejecutados los modelos de clasificación, procederé a realizar la elección final del modelo con el que trabajaré.\n",
    "\n",
    "De entrada quedan descartados modelos como el Dummy por obvias razones y los modelos de Regresión Logística y SVM, por motivos mencionados anteriormente. Además, se descarta el Random Forest, debido a que sus métricas y rendimiento no son tan buenas como otros modelos a mencionar. Sobre todo el Random Forest ha decepcionado en este caso, aunque puede deberse a que no tiene una hiperparametrización correcta.\n",
    "\n",
    "Entre otros posibles elegidos entran el Gradient Boost, XGBoost y el Decision Tree. Los dos primeros con métricas menores que el tercero, pero he de recordar que tanto el Random Forest como el Gradient Boost, XGBoost y el LightGBM son modelos que también dependen de sus hiperparámetros y tienen potencial de mejora. Más potencial aún que por ejemplo el decision tree, que a pesar de tener métricas levemente superiores, no cuenta con esa capacidad de mejorar mucho como si lo harían estos modelos más complejos también basados en árboles.\n",
    "\n",
    "Ya llegando al mejor modelo, al menos en cuanto a métricas, tenemos al GaussianNB. El mismo obtuvo buen f1 y f2, pero cuenta con una desventaja similar a un árbol de decisión simple, y es que no se puede hacer una búsqueda exaustiva de mejora de hiperparámetros como por ejemplo si podría hacer con los modelos de bagging o boosting, por ello he decidido darle oportunidad a modelos de ese tipo también.\n",
    "\n",
    "El modelo que utilizaré de estos ensambladores que comenté es el LightGBM, que además de haber obtenido buenas métricas, es el mejor en cuanto a tiempos de procesamiento de entre los modelos más complejos elegidos (bagging y boosting) y a su vez posee una capacidad de mejora seguramente superior al GaussianNB, por lo que lo considero una buena opción de entre los probados a pesar de no mostrar de entrada las mejores métricas. De igual manera, una vez hiperparametrizado y probado en más datasets, si no mejora al GaussianNB, podría replantearme esta decisión."
   ]
  },
  {
   "cell_type": "markdown",
   "id": "23412e8f-30aa-4063-a22b-a63b7598e67f",
   "metadata": {},
   "source": [
    "***\n",
    "# 2. Comparación entre configuraciones de datos\n",
    "\n",
    "Con los modelos elegidos, en este caso el LightGBM y GaussianNB, voy a comprobar que set de datos obtiene mejores métricas. De esta manera también voy a obtener una comparación más amplia de cómo se desarrollan los modelos con distintas configuraciones de los datos y así decidir entre ambos definitivamente.\n",
    "\n",
    "Como ya conozco las del dataset base (train_1), voy a probar con las demás variantes:\n",
    "\n",
    "* Set \"completo\": El mismo dataset con el medí anteriormente pero sin feature selection, es decir con todas las variables originales.\n",
    "* Set con Undersampling\n",
    "* Set con Oversampling\n",
    "* Set con mix de Under y Over sampling."
   ]
  },
  {
   "cell_type": "code",
   "execution_count": 310,
   "id": "69ea26ac-179e-43fc-ae10-736f51bd0527",
   "metadata": {
    "tags": []
   },
   "outputs": [
    {
     "name": "stdout",
     "output_type": "stream",
     "text": [
      "\u001b[1mSet completo\u001b[0m\n",
      "\n",
      "Accuracy: 0.92616\n",
      "Balanced Accuracy: 0.66593\n",
      "\u001b[1mF2 score: 0.19048\u001b[0m\n",
      "\u001b[1mF1 score: 0.10669\u001b[0m\n",
      "Precision: 0.06156\n",
      "Recall: 0.39983\n",
      "\n",
      "Confusion Matrix:\n",
      "[[193567  14117]\n",
      " [  1390    926]]\n",
      "____________________________________________________________________________________________\n",
      "\u001b[1mSet Undersampling\u001b[0m\n",
      "\n",
      "Accuracy: 0.89414\n",
      "Balanced Accuracy: 0.72638\n",
      "\u001b[1mF2 score: 0.20237\u001b[0m\n",
      "\u001b[1mF1 score: 0.10362\u001b[0m\n",
      "Precision: 0.05715\n",
      "Recall: 0.55484\n",
      "\n",
      "Confusion Matrix:\n",
      "[[186484  21200]\n",
      " [  1031   1285]]\n",
      "____________________________________________________________________________________________\n",
      "\u001b[1mSet Oversampling\u001b[0m\n",
      "\n",
      "Accuracy: 0.85005\n",
      "Balanced Accuracy: 0.73953\n",
      "\u001b[1mF2 score: 0.17550\u001b[0m\n",
      "\u001b[1mF1 score: 0.08438\u001b[0m\n",
      "Precision: 0.04524\n",
      "Recall: 0.62651\n",
      "\n",
      "Confusion Matrix:\n",
      "[[177059  30625]\n",
      " [   865   1451]]\n",
      "____________________________________________________________________________________________\n",
      "\u001b[1mSet Mix Over + Under sampling\u001b[0m\n",
      "\n",
      "Accuracy: 0.84959\n",
      "Balanced Accuracy: 0.73994\n",
      "\u001b[1mF2 score: 0.17543\u001b[0m\n",
      "\u001b[1mF1 score: 0.08430\u001b[0m\n",
      "Precision: 0.04519\n",
      "Recall: 0.62781\n",
      "\n",
      "Confusion Matrix:\n",
      "[[176960  30724]\n",
      " [   862   1454]]\n",
      "____________________________________________________________________________________________\n",
      "CPU times: total: 3.05 s\n",
      "Wall time: 3.9 s\n"
     ]
    }
   ],
   "source": [
    "%%time\n",
    "gnb = GaussianNB()\n",
    "datasets_train = [[X_train_complete, y_train_complete]\\\n",
    "                 ,[X_train_under, y_train_under]\\\n",
    "                 ,[X_train_over, y_train_over]\\\n",
    "                 ,[X_train_mix, y_train_mix]\\\n",
    "                 ]\n",
    "\n",
    "datasets_validation = [[X_val_complete, y_val_complete]\\\n",
    "                      ,[X_val, y_val]\\\n",
    "                      ,[X_val, y_val]\\\n",
    "                      ,[X_val, y_val]\\\n",
    "                       ]\n",
    "\n",
    "names = ['Set completo', 'Set Undersampling', 'Set Oversampling', 'Set Mix Over + Under sampling']\n",
    "\n",
    "for train, val, name in zip(datasets_train, datasets_validation, names):\n",
    "    gnb.fit(train[0], train[1])   \n",
    "    y_pred_gnb = gnb.predict(val[0])\n",
    "    print(f'\\033[1m{name}\\033[0m')\n",
    "    fr.metrics_summ(val[1], y_pred_gnb)\n",
    "    print(\"____________________________________________________________________________________________\")\n"
   ]
  },
  {
   "cell_type": "code",
   "execution_count": 311,
   "id": "07dbb42f-a9d8-477a-ba19-9fc5c4e12414",
   "metadata": {},
   "outputs": [
    {
     "name": "stdout",
     "output_type": "stream",
     "text": [
      "\u001b[1mSet completo\u001b[0m\n",
      "\n",
      "Accuracy: 0.98847\n",
      "Balanced Accuracy: 0.51917\n",
      "\u001b[1mF2 score: 0.04764\u001b[0m\n",
      "\u001b[1mF1 score: 0.06992\u001b[0m\n",
      "Precision: 0.31707\n",
      "Recall: 0.03929\n",
      "\n",
      "Confusion Matrix:\n",
      "[[207488    196]\n",
      " [  2225     91]]\n",
      "____________________________________________________________________________________________\n",
      "\u001b[1mSet Undersampling\u001b[0m\n",
      "\n",
      "Accuracy: 0.98001\n",
      "Balanced Accuracy: 0.63423\n",
      "\u001b[1mF2 score: 0.26113\u001b[0m\n",
      "\u001b[1mF1 score: 0.23645\u001b[0m\n",
      "Precision: 0.20427\n",
      "Recall: 0.28066\n",
      "\n",
      "Confusion Matrix:\n",
      "[[205152   2532]\n",
      " [  1666    650]]\n",
      "____________________________________________________________________________________________\n",
      "\u001b[1mSet Oversampling\u001b[0m\n",
      "\n",
      "Accuracy: 0.98879\n",
      "Balanced Accuracy: 0.52147\n",
      "\u001b[1mF2 score: 0.05313\u001b[0m\n",
      "\u001b[1mF1 score: 0.07900\u001b[0m\n",
      "Precision: 0.41909\n",
      "Recall: 0.04361\n",
      "\n",
      "Confusion Matrix:\n",
      "[[207544    140]\n",
      " [  2215    101]]\n",
      "____________________________________________________________________________________________\n",
      "\u001b[1mSet Mix Over + Under sampling\u001b[0m\n",
      "\n",
      "Accuracy: 0.98864\n",
      "Balanced Accuracy: 0.52993\n",
      "\u001b[1mF2 score: 0.07332\u001b[0m\n",
      "\u001b[1mF1 score: 0.10574\u001b[0m\n",
      "Precision: 0.40171\n",
      "Recall: 0.06088\n",
      "\n",
      "Confusion Matrix:\n",
      "[[207474    210]\n",
      " [  2175    141]]\n",
      "____________________________________________________________________________________________\n",
      "CPU times: total: 38 s\n",
      "Wall time: 17.9 s\n"
     ]
    }
   ],
   "source": [
    "%%time\n",
    "lgbm = LGBMClassifier(verbosity=-1)\n",
    "datasets_train = [[X_train_complete, y_train_complete]\\\n",
    "                 ,[X_train_under, y_train_under]\\\n",
    "                 ,[X_train_over, y_train_over]\\\n",
    "                 ,[X_train_mix, y_train_mix]\\\n",
    "                 ]\n",
    "\n",
    "datasets_validation = [[X_val_complete, y_val_complete]\\\n",
    "                      ,[X_val, y_val]\\\n",
    "                      ,[X_val, y_val]\\\n",
    "                      ,[X_val, y_val]\\\n",
    "                       ]\n",
    "\n",
    "names = ['Set completo', 'Set Undersampling', 'Set Oversampling', 'Set Mix Over + Under sampling']\n",
    "\n",
    "for train, val, name in zip(datasets_train, datasets_validation, names):\n",
    "    lgbm.fit(train[0], train[1])   \n",
    "    y_pred_lgbm = lgbm.predict(val[0])\n",
    "    print(f'\\033[1m{name}\\033[0m')\n",
    "    fr.metrics_summ(val[1], y_pred_lgbm)\n",
    "    print(\"____________________________________________________________________________________________\")\n"
   ]
  },
  {
   "cell_type": "markdown",
   "id": "c96ad9aa-b89e-4adb-8f6e-ab90e30e640a",
   "metadata": {},
   "source": [
    "### Conclusión de la comparación\n",
    "\n",
    "Realizar esta comparativa resultó ser realmente interesante, ya que son varias las conclusiones que podemos sacar:\n",
    "\n",
    "1. En primer lugar y más importante, es que el set con UnderSampling parece ser el que mejor resultados da en LightGBM, sorprendentemente con gran diferencia vs los demás. He de mencionar que realicé algunas pruebas en cuanto al % de balanceado que se le realizó al dataset, para no abusar de la eliminación de los datos y manetener buenas métricas. Estas pruebas podrán encontrarse en el notebook Experiments de la carpeta Experiments.\n",
    "2. Con mejores resultados me refiero a que aumentan mucho el F1 y el F2 con respecto a los demás manteniendo el Accuracy. Aún así, ese aumento del F1 se debe sobre todo al aumento del Recall, mientras que la precisión es menor a los datasets con OverSampling. Será interesante ver si con ajustes en los hiperparámetros esta métrica puede mejorar.\n",
    "3. Es interesante recalcar también que el mix de UnderSampling y OverSampling no da tan mal resultado, mejorando al set que solo tiene undersampling y manteniendo una cantidad de datos similar al train base.\n",
    "4. Es interesante también ver como haber recortado algunas variables no solo ha mantenido las métricas del modelo, sino que las ha mejorado. Esto lo podemos observar comparando las métricas del modelo con las variables recortadas (el primero que calculamos en la comparativa de modelos) y las del set completo, donde el primero mejora tanto en precision como en Recall al segundo, con el mismo accuracy y con una menor necesidad de procesamiento por el simple hecho de tener menos atributos.\n",
    "5. También se descarta por completo la idea de que las variables del PCA pudiesen mejorar el modelo, ya que como vemos, parecen simplemente haber incluído ruido innecesario, empeorando las métricas del mismo.\n",
    "6. El LightGBM logra los mejores resultados con el Undersampling y parece que puede seguir mejorando, aún más que el GaussianNB.\n",
    "7. El GaussianNB casualmente obtiene buenos resultados tanto con el set recortado por feature selection, con el set completo y con el undersampling, todos con resultados similares.\n",
    "\n",
    "Una vez determinado tanto el modelo como el set a utilizar, procederé a llevar a cabo la búsqueda de hiperparámetros."
   ]
  },
  {
   "cell_type": "markdown",
   "id": "e5e2855f-efb2-4136-afe1-7b9f28cf7627",
   "metadata": {},
   "source": [
    "## Búsqueda de hiperparámetros\n",
    "\n",
    "En la <a href='https://lightgbm.readthedocs.io/en/latest/Parameters-Tuning.html'>documentación de LightGBM</a> se dan algunos consejos sobre el tunning de los hiperparámetros del modelo, los cuales por cierto pueden ser muchos más. En ellos me basaré para decidir sobre algunas de las opciones que agregaré a mi grid de parámetros.\n",
    "\n",
    "Yo me he dedicado a comprobar entre los principales nombrados, siguiendo algunas indicaciones para determinar los valores elegidos, intentando que no permitan el overfitting ni underfitting.. Creo que los parametros elegidos se adaptan bien al tamaño del dataset y permiten una buena variedad de opciones en el cálculo.\n",
    "\n",
    "Los mismos serán evaluados con un Random Search, el cual normalmente obtiene resultados similares a un Grid Search pero con tiempos de procesamiento menores. Mientras que el GridSearchCV tardó horas en correr, la capacidad computacional requerida no vale la mínima mejora que puede ofrecer en el resultado final.\n",
    "\n",
    "Al ya haber seleccionado el modelo y el dataset a utilizar finalmente, ésta búsqueda de hiperparámetros se realizará en un dataset que combina tanto el train como el validation set, logrando así utilizar una mayor cantidad de datos en el análisis, debido a que la comparación ahora será contra el set de Test. Una vez obtenidos los hiperparámetros, la implementación del modelo y sus medidas se realizarán en un siguiente notebook aparte.\n",
    "\n",
    "Además de los parámetos incluídos en el RandomSearchCV de este notebook he probado con algunos otros como reg_alpha, reg_lambda, min_child_samples, entre algunos otros, pero sin obtener grandes cambios a medida que los probaba. Por ende decidí finalmente incluír los hiperparámetros que se verán a continuación:"
   ]
  },
  {
   "cell_type": "markdown",
   "id": "210b8eaa-9b1a-45b4-8d80-82325c902f8e",
   "metadata": {},
   "source": [
    "#### Vuelvo a combinar Test y Validation y realizo Undersampling, obteniendo el set de Train base para este análisis (X_train_2 e y_train_2):"
   ]
  },
  {
   "cell_type": "code",
   "execution_count": 312,
   "id": "7372a258-e3f8-49cd-908c-9d8e84e9a187",
   "metadata": {
    "tags": []
   },
   "outputs": [
    {
     "data": {
      "text/plain": [
       "((104220, 29),\n",
       " fraud_bool\n",
       " 0    0.925926\n",
       " 1    0.074074\n",
       " Name: proportion, dtype: float64)"
      ]
     },
     "execution_count": 312,
     "metadata": {},
     "output_type": "execute_result"
    }
   ],
   "source": [
    "undersamp = RandomUnderSampler(sampling_strategy=0.08, random_state=seed)\n",
    "X_train_2, y_train_2 = undersamp.fit_resample(X_train_0, y_train_0)\n",
    "\n",
    "X_train_2.shape, y_train_2.value_counts(normalize=True)"
   ]
  },
  {
   "cell_type": "markdown",
   "id": "3bd33d5a-940b-40fe-b3e7-eb9406800d86",
   "metadata": {},
   "source": [
    "Obtenemos un dataset de train de 104220 instancias y los 29 atributos, en este caso con un poco menos de desbalanceo que el set original.\n",
    "\n",
    "Con este dataset procederemos a realizar la búsqueda de hiperparámetros:"
   ]
  },
  {
   "cell_type": "code",
   "execution_count": 196,
   "id": "aab38142-2c09-4c18-90f7-233a39888cca",
   "metadata": {
    "tags": []
   },
   "outputs": [
    {
     "data": {
      "text/plain": [
       "85"
      ]
     },
     "execution_count": 196,
     "metadata": {},
     "output_type": "execute_result"
    }
   ],
   "source": [
    "round(2**7/1.5)"
   ]
  },
  {
   "cell_type": "code",
   "execution_count": 313,
   "id": "389ae068-c436-4771-be56-dde07f64a194",
   "metadata": {
    "tags": []
   },
   "outputs": [
    {
     "name": "stdout",
     "output_type": "stream",
     "text": [
      "{'num_leaves': 171, 'n_estimators ': 500, 'min_data_in_leaf': 1600, 'max_depth': 10, 'learning_rate': 0.05}\n",
      "0.25838619421682907\n",
      "CPU times: total: 11.5 s\n",
      "Wall time: 1min 9s\n"
     ]
    }
   ],
   "source": [
    "%%time\n",
    "f2_scorer = make_scorer(fbeta_score, beta=2)\n",
    "\n",
    "lgbm = LGBMClassifier(verbosity=-1)\n",
    "param_grid = { \n",
    "    'max_depth' : [8,9,10]\n",
    "    ,'num_leaves' : [round(2**8/1.5), round(2**9/1.5), round(2**10/1.5)] # La documentación de LightGBM comenta que num_leaves se relaciona con el max_depth así: (num_leaves = (2^max_depth/1.5))\n",
    "    ,'min_data_in_leaf' :[1400,1600,1800]\n",
    "    ,'n_estimators ': [500,600,700]\n",
    "    ,'learning_rate': [0.01, 0.02, 0.05]\n",
    "}\n",
    "\n",
    "scoring = {'f2':f2_scorer,'f1':'f1','accuracy':'accuracy', 'balanced_accuracy':'balanced_accuracy', 'precision':'precision', 'recall':'recall','roc_auc':'roc_auc'}\n",
    "\n",
    "CV_rs = RandomizedSearchCV(lgbm, param_grid, cv=10, random_state=seed, n_jobs=2, scoring=scoring, refit='f2')\n",
    "\n",
    "CV_rs.fit(X_train_2, y_train_2)  \n",
    "print(CV_rs.best_params_)    \n",
    "print(CV_rs.best_score_)"
   ]
  },
  {
   "cell_type": "code",
   "execution_count": 337,
   "id": "ef0e87ca-ae0b-4a8b-b3f3-3114c4466234",
   "metadata": {
    "tags": []
   },
   "outputs": [
    {
     "name": "stdout",
     "output_type": "stream",
     "text": [
      "{'subsample': 0.9929166342896103, 'num_leaves': 426, 'n_estimators ': 452, 'min_data_in_leaf': 1085, 'min_child_samples': 67, 'max_depth': 8, 'learning_rate': 0.04629313327552674, 'colsample_bytree': 0.9028009600012047}\n",
      "0.5645152668228798\n",
      "CPU times: total: 58.9 s\n",
      "Wall time: 5min 36s\n"
     ]
    }
   ],
   "source": [
    "%%time\n",
    "f2_scorer = make_scorer(fbeta_score, beta=2)\n",
    "\n",
    "lgbm = LGBMClassifier(verbosity=-1, objetive='binary', is_unbalance=True)\n",
    "param_grid = { \n",
    "    'max_depth' : np.random.randint(3,10,10)\n",
    "    ,'num_leaves' : np.random.randint(round(2**3/1.5),round(2**10/1.5),20) # La documentación de LightGBM comenta que num_leaves se relaciona con el max_depth así: (num_leaves = (2^max_depth/1.5))\n",
    "    ,'min_data_in_leaf' : np.random.randint(1000,2000,20)\n",
    "    ,'n_estimators ': np.random.randint(100,700,10)\n",
    "    ,'learning_rate': np.random.uniform(0.01, 0.05,10)\n",
    "    ,'subsample': np.random.uniform(0.8,1,10)\n",
    "    ,'colsample_bytree': np.random.uniform(0.8,1,10)\n",
    "    ,'min_child_samples': np.random.randint(20,500,20)\n",
    "    #,'reg_alpha': [0,0.1,0.5,2,5]\n",
    "    #,'reg_lambda': [0,0.1,0.5,2,5]\n",
    "}\n",
    "\n",
    "scoring = {'f2':f2_scorer,'f1':'f1','accuracy':'accuracy', 'balanced_accuracy':'balanced_accuracy', 'precision':'precision', 'recall':'recall','roc_auc':'roc_auc'}\n",
    "\n",
    "CV_rs2 = RandomizedSearchCV(lgbm, param_grid, n_iter=50, cv=10, random_state=seed, n_jobs=-1, scoring=scoring, refit='f2')\n",
    "\n",
    "CV_rs2.fit(X_train_2, y_train_2)  \n",
    "print(CV_rs2.best_params_)    \n",
    "print(CV_rs2.best_score_)"
   ]
  },
  {
   "cell_type": "code",
   "execution_count": 381,
   "id": "2e3846ee-7ebb-46a3-b8ca-6a15b0c1496f",
   "metadata": {},
   "outputs": [
    {
     "data": {
      "text/html": [
       "<style>#sk-container-id-13 {color: black;}#sk-container-id-13 pre{padding: 0;}#sk-container-id-13 div.sk-toggleable {background-color: white;}#sk-container-id-13 label.sk-toggleable__label {cursor: pointer;display: block;width: 100%;margin-bottom: 0;padding: 0.3em;box-sizing: border-box;text-align: center;}#sk-container-id-13 label.sk-toggleable__label-arrow:before {content: \"▸\";float: left;margin-right: 0.25em;color: #696969;}#sk-container-id-13 label.sk-toggleable__label-arrow:hover:before {color: black;}#sk-container-id-13 div.sk-estimator:hover label.sk-toggleable__label-arrow:before {color: black;}#sk-container-id-13 div.sk-toggleable__content {max-height: 0;max-width: 0;overflow: hidden;text-align: left;background-color: #f0f8ff;}#sk-container-id-13 div.sk-toggleable__content pre {margin: 0.2em;color: black;border-radius: 0.25em;background-color: #f0f8ff;}#sk-container-id-13 input.sk-toggleable__control:checked~div.sk-toggleable__content {max-height: 200px;max-width: 100%;overflow: auto;}#sk-container-id-13 input.sk-toggleable__control:checked~label.sk-toggleable__label-arrow:before {content: \"▾\";}#sk-container-id-13 div.sk-estimator input.sk-toggleable__control:checked~label.sk-toggleable__label {background-color: #d4ebff;}#sk-container-id-13 div.sk-label input.sk-toggleable__control:checked~label.sk-toggleable__label {background-color: #d4ebff;}#sk-container-id-13 input.sk-hidden--visually {border: 0;clip: rect(1px 1px 1px 1px);clip: rect(1px, 1px, 1px, 1px);height: 1px;margin: -1px;overflow: hidden;padding: 0;position: absolute;width: 1px;}#sk-container-id-13 div.sk-estimator {font-family: monospace;background-color: #f0f8ff;border: 1px dotted black;border-radius: 0.25em;box-sizing: border-box;margin-bottom: 0.5em;}#sk-container-id-13 div.sk-estimator:hover {background-color: #d4ebff;}#sk-container-id-13 div.sk-parallel-item::after {content: \"\";width: 100%;border-bottom: 1px solid gray;flex-grow: 1;}#sk-container-id-13 div.sk-label:hover label.sk-toggleable__label {background-color: #d4ebff;}#sk-container-id-13 div.sk-serial::before {content: \"\";position: absolute;border-left: 1px solid gray;box-sizing: border-box;top: 0;bottom: 0;left: 50%;z-index: 0;}#sk-container-id-13 div.sk-serial {display: flex;flex-direction: column;align-items: center;background-color: white;padding-right: 0.2em;padding-left: 0.2em;position: relative;}#sk-container-id-13 div.sk-item {position: relative;z-index: 1;}#sk-container-id-13 div.sk-parallel {display: flex;align-items: stretch;justify-content: center;background-color: white;position: relative;}#sk-container-id-13 div.sk-item::before, #sk-container-id-13 div.sk-parallel-item::before {content: \"\";position: absolute;border-left: 1px solid gray;box-sizing: border-box;top: 0;bottom: 0;left: 50%;z-index: -1;}#sk-container-id-13 div.sk-parallel-item {display: flex;flex-direction: column;z-index: 1;position: relative;background-color: white;}#sk-container-id-13 div.sk-parallel-item:first-child::after {align-self: flex-end;width: 50%;}#sk-container-id-13 div.sk-parallel-item:last-child::after {align-self: flex-start;width: 50%;}#sk-container-id-13 div.sk-parallel-item:only-child::after {width: 0;}#sk-container-id-13 div.sk-dashed-wrapped {border: 1px dashed gray;margin: 0 0.4em 0.5em 0.4em;box-sizing: border-box;padding-bottom: 0.4em;background-color: white;}#sk-container-id-13 div.sk-label label {font-family: monospace;font-weight: bold;display: inline-block;line-height: 1.2em;}#sk-container-id-13 div.sk-label-container {text-align: center;}#sk-container-id-13 div.sk-container {/* jupyter's `normalize.less` sets `[hidden] { display: none; }` but bootstrap.min.css set `[hidden] { display: none !important; }` so we also need the `!important` here to be able to override the default hidden behavior on the sphinx rendered scikit-learn.org. See: https://github.com/scikit-learn/scikit-learn/issues/21755 */display: inline-block !important;position: relative;}#sk-container-id-13 div.sk-text-repr-fallback {display: none;}</style><div id=\"sk-container-id-13\" class=\"sk-top-container\"><div class=\"sk-text-repr-fallback\"><pre>LGBMClassifier(colsample_bytree=0.9028009600012047, is_unbalance=True,\n",
       "               learning_rate=0.04629313327552674, max_depth=8,\n",
       "               min_child_samples=67, min_data_in_leaf=1085, n_estimators =452,\n",
       "               num_leaves=426, objetive=&#x27;binary&#x27;, subsample=0.9929166342896103,\n",
       "               verbosity=-1)</pre><b>In a Jupyter environment, please rerun this cell to show the HTML representation or trust the notebook. <br />On GitHub, the HTML representation is unable to render, please try loading this page with nbviewer.org.</b></div><div class=\"sk-container\" hidden><div class=\"sk-item\"><div class=\"sk-estimator sk-toggleable\"><input class=\"sk-toggleable__control sk-hidden--visually\" id=\"sk-estimator-id-15\" type=\"checkbox\" checked><label for=\"sk-estimator-id-15\" class=\"sk-toggleable__label sk-toggleable__label-arrow\">LGBMClassifier</label><div class=\"sk-toggleable__content\"><pre>LGBMClassifier(colsample_bytree=0.9028009600012047, is_unbalance=True,\n",
       "               learning_rate=0.04629313327552674, max_depth=8,\n",
       "               min_child_samples=67, min_data_in_leaf=1085, n_estimators =452,\n",
       "               num_leaves=426, objetive=&#x27;binary&#x27;, subsample=0.9929166342896103,\n",
       "               verbosity=-1)</pre></div></div></div></div></div>"
      ],
      "text/plain": [
       "LGBMClassifier(colsample_bytree=0.9028009600012047, is_unbalance=True,\n",
       "               learning_rate=0.04629313327552674, max_depth=8,\n",
       "               min_child_samples=67, min_data_in_leaf=1085, n_estimators =452,\n",
       "               num_leaves=426, objetive='binary', subsample=0.9929166342896103,\n",
       "               verbosity=-1)"
      ]
     },
     "execution_count": 381,
     "metadata": {},
     "output_type": "execute_result"
    }
   ],
   "source": [
    "CV_rs2.best_estimator_"
   ]
  },
  {
   "cell_type": "code",
   "execution_count": 383,
   "id": "299d00b9-810c-4668-a34d-8218fa2376fc",
   "metadata": {
    "tags": []
   },
   "outputs": [
    {
     "data": {
      "text/plain": [
       "{'subsample': 0.9929166342896103,\n",
       " 'num_leaves': 426,\n",
       " 'n_estimators ': 452,\n",
       " 'min_data_in_leaf': 1085,\n",
       " 'min_child_samples': 67,\n",
       " 'max_depth': 8,\n",
       " 'learning_rate': 0.04629313327552674,\n",
       " 'colsample_bytree': 0.9028009600012047}"
      ]
     },
     "execution_count": 383,
     "metadata": {},
     "output_type": "execute_result"
    }
   ],
   "source": [
    "CV_rs2.best_params_"
   ]
  },
  {
   "cell_type": "code",
   "execution_count": 384,
   "id": "3a2a2e16-de71-4a93-a2fa-51fb2453403c",
   "metadata": {
    "tags": []
   },
   "outputs": [
    {
     "data": {
      "text/plain": [
       "0.5645152668228798"
      ]
     },
     "execution_count": 384,
     "metadata": {},
     "output_type": "execute_result"
    }
   ],
   "source": [
    "CV_rs2.best_score_"
   ]
  },
  {
   "cell_type": "markdown",
   "id": "19f60e00-c05a-4102-abe2-2a53eeec8e50",
   "metadata": {
    "tags": []
   },
   "source": [
    "En este aparado he probado dos maneras diferentes de buscar hiperparámetros. En primer lugar busqué con valores específicos después de varios intentos de\n",
    "prueba y error buscando los que mejor se adapten al problema y buscando por internet, sobre todo en la documentación de LightGBM.\n",
    "\n",
    "Luego, entendí que podía utilizar rangos random de valores y creo eso mejoró un poco la búsqueda. Siempre con Random Search debido a que el Grid Search me resultó extremadamente lento y demandante computacionalmente."
   ]
  },
  {
   "cell_type": "markdown",
   "id": "ace02123-653a-46d4-8a73-1cdd8d708cf1",
   "metadata": {},
   "source": [
    "***\n",
    "# Exportamos Dataset y entrenamiento\n",
    "\n",
    "Luego de haber determinado el modelo a utilizar, la configuración de datos óptimo para dicho modelo y sus hiperparámetros, procedo a exportar lo obtenido. El modelo definitivo será entrenado y medido en el siguiente notebook."
   ]
  },
  {
   "cell_type": "code",
   "execution_count": 389,
   "id": "f1b91e2a-dbe5-45e1-bb0b-9305ccd32422",
   "metadata": {},
   "outputs": [],
   "source": [
    "pd.concat([X_train_2,y_train_2], axis=1).to_csv('../data/processed/df_train_undersamp.csv', index=False)"
   ]
  },
  {
   "cell_type": "code",
   "execution_count": 390,
   "id": "325b0038-b22a-4fac-93c3-35cf3351e534",
   "metadata": {},
   "outputs": [
    {
     "data": {
      "text/plain": [
       "['../models/CV_lgbm.joblib']"
      ]
     },
     "execution_count": 390,
     "metadata": {},
     "output_type": "execute_result"
    }
   ],
   "source": [
    "dump(CV_rs, '../models/CV_lgbm.joblib')"
   ]
  },
  {
   "cell_type": "code",
   "execution_count": 391,
   "id": "8d40cc0b-ca23-4244-8529-eb27ab02c8ec",
   "metadata": {
    "tags": []
   },
   "outputs": [
    {
     "data": {
      "text/plain": [
       "['../models/CV2_lgbm.joblib']"
      ]
     },
     "execution_count": 391,
     "metadata": {},
     "output_type": "execute_result"
    }
   ],
   "source": [
    "dump(CV_rs2, '../models/CV2_lgbm.joblib')"
   ]
  }
 ],
 "metadata": {
  "kernelspec": {
   "display_name": "practica0",
   "language": "python",
   "name": "practica0"
  },
  "language_info": {
   "codemirror_mode": {
    "name": "ipython",
    "version": 3
   },
   "file_extension": ".py",
   "mimetype": "text/x-python",
   "name": "python",
   "nbconvert_exporter": "python",
   "pygments_lexer": "ipython3",
   "version": "3.9.18"
  }
 },
 "nbformat": 4,
 "nbformat_minor": 5
}
