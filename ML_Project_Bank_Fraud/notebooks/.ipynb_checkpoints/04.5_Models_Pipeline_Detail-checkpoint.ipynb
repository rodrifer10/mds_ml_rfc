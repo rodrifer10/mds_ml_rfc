{
 "cells": [
  {
   "attachments": {
    "ed2b78cf-28e8-4b9f-b0a7-7a33715c6677.png": {
     "image/png": "[encoded data removed]"
    }
   },
   "cell_type": "markdown",
   "id": "ea2927a5-df44-4158-901f-0a3259ef14aa",
   "metadata": {},
   "source": [
    "![image.png](attachment:ed2b78cf-28e8-4b9f-b0a7-7a33715c6677.png)\n",
    "\n",
    "# Máster en Data Science - Machine Learning"
   ]
  },
  {
   "cell_type": "markdown",
   "id": "bf90babe-c813-47f6-872c-21837f267694",
   "metadata": {},
   "source": [
    "# Predicción de fraude mediante el uso de modelos de Machine Learning\n",
    "##### <font color='dodgerblue' face='Montserrat'>Autor: Rodrigo Fernandez Campos</font>\n",
    "## DataSet: Bank Account Fraud Dataset Suite (NeurIPS 2022)"
   ]
  },
  {
   "cell_type": "markdown",
   "id": "436fd2bd-2a4b-4b08-a2a6-d22711d718ae",
   "metadata": {},
   "source": [
    "# <font size=25><b>Detalle de modelos del Pipeline comparativo</b></font>\n",
    "\n",
    "# <font color='red'>Poner esto en carpeta EXPERIMENTS</font>"
   ]
  },
  {
   "cell_type": "code",
   "execution_count": 1,
   "id": "47c55404-b5e3-4ebc-97ba-875dafeb088c",
   "metadata": {
    "tags": []
   },
   "outputs": [],
   "source": [
    "# Librerías\n",
    "import pandas as pd\n",
    "import numpy as np\n",
    "import matplotlib.pyplot as plt\n",
    "import seaborn as sns\n",
    "from termcolor import colored, cprint\n",
    "from sklearn.preprocessing import StandardScaler\n",
    "import warnings\n",
    "import sys\n",
    "\n",
    "from sklearn.ensemble import RandomForestClassifier, GradientBoostingClassifier\n",
    "from sklearn import metrics\n",
    "from sklearn.metrics import roc_curve, roc_auc_score\n",
    "from sklearn.linear_model import Lasso, LogisticRegression\n",
    "from sklearn.feature_selection import SelectFromModel, RFE\n",
    "from sklearn.preprocessing import StandardScaler\n",
    "from sklearn.tree import DecisionTreeClassifier\n",
    "from sklearn.pipeline import Pipeline\n",
    "\n",
    "from imblearn.over_sampling import SMOTE\n",
    "from imblearn.under_sampling import RandomUnderSampler\n",
    "from imblearn.pipeline import Pipeline\n",
    "from imblearn.combine import SMOTETomek\n",
    "from imblearn.combine import SMOTEENN\n",
    "\n",
    "from lightgbm.sklearn import LGBMClassifier\n",
    "import lightgbm\n",
    "\n",
    "\n",
    "\n",
    "pd.set_option('display.max_columns', 500)\n",
    "pd.set_option('display.max_rows', 500)"
   ]
  },
  {
   "cell_type": "markdown",
   "id": "578c8e3f-7e78-4eae-954a-0ef6c74da917",
   "metadata": {},
   "source": [
    "## Funciones"
   ]
  },
  {
   "cell_type": "code",
   "execution_count": 2,
   "id": "bf2fcd85-e1c3-4ae0-a4fa-c4b8f9aba012",
   "metadata": {
    "tags": []
   },
   "outputs": [],
   "source": [
    "sys.path.append('../src/')\n",
    "import functions_rfc as fr\n",
    "sys.path.remove('../src/')\n",
    "\n",
    "### Constantes:\n",
    "seed=10"
   ]
  },
  {
   "cell_type": "code",
   "execution_count": 19,
   "id": "352ec471-9aa3-470e-908a-b5aa7ded5ef0",
   "metadata": {
    "tags": []
   },
   "outputs": [
    {
     "data": {
      "text/html": [
       "<div>\n",
       "<style scoped>\n",
       "    .dataframe tbody tr th:only-of-type {\n",
       "        vertical-align: middle;\n",
       "    }\n",
       "\n",
       "    .dataframe tbody tr th {\n",
       "        vertical-align: top;\n",
       "    }\n",
       "\n",
       "    .dataframe thead th {\n",
       "        text-align: right;\n",
       "    }\n",
       "</style>\n",
       "<table border=\"1\" class=\"dataframe\">\n",
       "  <thead>\n",
       "    <tr style=\"text-align: right;\">\n",
       "      <th></th>\n",
       "      <th>income</th>\n",
       "      <th>name_email_similarity</th>\n",
       "      <th>prev_address_months_count</th>\n",
       "      <th>current_address_months_count</th>\n",
       "      <th>customer_age</th>\n",
       "      <th>days_since_request</th>\n",
       "      <th>intended_balcon_amount</th>\n",
       "      <th>payment_type</th>\n",
       "      <th>zip_count_4w</th>\n",
       "      <th>velocity_6h</th>\n",
       "      <th>velocity_24h</th>\n",
       "      <th>velocity_4w</th>\n",
       "      <th>bank_branch_count_8w</th>\n",
       "      <th>date_of_birth_distinct_emails_4w</th>\n",
       "      <th>employment_status</th>\n",
       "      <th>credit_risk_score</th>\n",
       "      <th>email_is_free</th>\n",
       "      <th>housing_status</th>\n",
       "      <th>phone_home_valid</th>\n",
       "      <th>phone_mobile_valid</th>\n",
       "      <th>bank_months_count</th>\n",
       "      <th>has_other_cards</th>\n",
       "      <th>proposed_credit_limit</th>\n",
       "      <th>foreign_request</th>\n",
       "      <th>source</th>\n",
       "      <th>session_length_in_minutes</th>\n",
       "      <th>device_os_other</th>\n",
       "      <th>device_os_linux</th>\n",
       "      <th>device_os_windows</th>\n",
       "      <th>device_os_macintosh</th>\n",
       "      <th>device_os_x11</th>\n",
       "      <th>keep_alive_session</th>\n",
       "      <th>device_distinct_emails_8w</th>\n",
       "      <th>month</th>\n",
       "      <th>fraud_bool</th>\n",
       "    </tr>\n",
       "  </thead>\n",
       "  <tbody>\n",
       "    <tr>\n",
       "      <th>0</th>\n",
       "      <td>0.8</td>\n",
       "      <td>0.433984</td>\n",
       "      <td>54</td>\n",
       "      <td>9</td>\n",
       "      <td>30</td>\n",
       "      <td>0.020608</td>\n",
       "      <td>49.172739</td>\n",
       "      <td>0.0</td>\n",
       "      <td>954</td>\n",
       "      <td>5137.541683</td>\n",
       "      <td>2712.051960</td>\n",
       "      <td>4240.496920</td>\n",
       "      <td>2</td>\n",
       "      <td>11</td>\n",
       "      <td>0.0</td>\n",
       "      <td>286</td>\n",
       "      <td>0</td>\n",
       "      <td>0.0</td>\n",
       "      <td>0</td>\n",
       "      <td>1</td>\n",
       "      <td>1</td>\n",
       "      <td>1</td>\n",
       "      <td>1000.0</td>\n",
       "      <td>0</td>\n",
       "      <td>0</td>\n",
       "      <td>14.396148</td>\n",
       "      <td>1</td>\n",
       "      <td>0</td>\n",
       "      <td>0</td>\n",
       "      <td>0</td>\n",
       "      <td>0</td>\n",
       "      <td>0</td>\n",
       "      <td>1</td>\n",
       "      <td>6</td>\n",
       "      <td>0</td>\n",
       "    </tr>\n",
       "    <tr>\n",
       "      <th>1</th>\n",
       "      <td>0.1</td>\n",
       "      <td>0.712826</td>\n",
       "      <td>-1</td>\n",
       "      <td>97</td>\n",
       "      <td>50</td>\n",
       "      <td>0.024353</td>\n",
       "      <td>-1.091855</td>\n",
       "      <td>1.0</td>\n",
       "      <td>1108</td>\n",
       "      <td>4370.169334</td>\n",
       "      <td>3097.535634</td>\n",
       "      <td>4383.873312</td>\n",
       "      <td>0</td>\n",
       "      <td>6</td>\n",
       "      <td>0.0</td>\n",
       "      <td>132</td>\n",
       "      <td>0</td>\n",
       "      <td>1.0</td>\n",
       "      <td>1</td>\n",
       "      <td>1</td>\n",
       "      <td>28</td>\n",
       "      <td>1</td>\n",
       "      <td>200.0</td>\n",
       "      <td>0</td>\n",
       "      <td>0</td>\n",
       "      <td>4.100053</td>\n",
       "      <td>1</td>\n",
       "      <td>0</td>\n",
       "      <td>0</td>\n",
       "      <td>0</td>\n",
       "      <td>0</td>\n",
       "      <td>0</td>\n",
       "      <td>1</td>\n",
       "      <td>6</td>\n",
       "      <td>0</td>\n",
       "    </tr>\n",
       "    <tr>\n",
       "      <th>2</th>\n",
       "      <td>0.4</td>\n",
       "      <td>0.222290</td>\n",
       "      <td>32</td>\n",
       "      <td>115</td>\n",
       "      <td>30</td>\n",
       "      <td>0.002837</td>\n",
       "      <td>-1.067640</td>\n",
       "      <td>2.0</td>\n",
       "      <td>266</td>\n",
       "      <td>7168.731474</td>\n",
       "      <td>2865.219877</td>\n",
       "      <td>4207.649556</td>\n",
       "      <td>0</td>\n",
       "      <td>11</td>\n",
       "      <td>0.0</td>\n",
       "      <td>171</td>\n",
       "      <td>0</td>\n",
       "      <td>4.0</td>\n",
       "      <td>0</td>\n",
       "      <td>1</td>\n",
       "      <td>-1</td>\n",
       "      <td>1</td>\n",
       "      <td>200.0</td>\n",
       "      <td>0</td>\n",
       "      <td>0</td>\n",
       "      <td>2.369306</td>\n",
       "      <td>1</td>\n",
       "      <td>0</td>\n",
       "      <td>0</td>\n",
       "      <td>0</td>\n",
       "      <td>0</td>\n",
       "      <td>0</td>\n",
       "      <td>1</td>\n",
       "      <td>5</td>\n",
       "      <td>0</td>\n",
       "    </tr>\n",
       "    <tr>\n",
       "      <th>3</th>\n",
       "      <td>0.7</td>\n",
       "      <td>0.476667</td>\n",
       "      <td>-1</td>\n",
       "      <td>375</td>\n",
       "      <td>40</td>\n",
       "      <td>0.020157</td>\n",
       "      <td>-0.930885</td>\n",
       "      <td>2.0</td>\n",
       "      <td>962</td>\n",
       "      <td>4761.030105</td>\n",
       "      <td>6249.502233</td>\n",
       "      <td>6013.337906</td>\n",
       "      <td>0</td>\n",
       "      <td>8</td>\n",
       "      <td>0.0</td>\n",
       "      <td>245</td>\n",
       "      <td>1</td>\n",
       "      <td>0.0</td>\n",
       "      <td>0</td>\n",
       "      <td>1</td>\n",
       "      <td>-1</td>\n",
       "      <td>1</td>\n",
       "      <td>1500.0</td>\n",
       "      <td>1</td>\n",
       "      <td>0</td>\n",
       "      <td>31.700024</td>\n",
       "      <td>0</td>\n",
       "      <td>1</td>\n",
       "      <td>0</td>\n",
       "      <td>0</td>\n",
       "      <td>0</td>\n",
       "      <td>1</td>\n",
       "      <td>1</td>\n",
       "      <td>1</td>\n",
       "      <td>0</td>\n",
       "    </tr>\n",
       "    <tr>\n",
       "      <th>4</th>\n",
       "      <td>0.1</td>\n",
       "      <td>0.506995</td>\n",
       "      <td>11</td>\n",
       "      <td>10</td>\n",
       "      <td>20</td>\n",
       "      <td>0.007662</td>\n",
       "      <td>-0.698526</td>\n",
       "      <td>2.0</td>\n",
       "      <td>874</td>\n",
       "      <td>8823.184279</td>\n",
       "      <td>6315.937497</td>\n",
       "      <td>5653.839202</td>\n",
       "      <td>0</td>\n",
       "      <td>13</td>\n",
       "      <td>3.0</td>\n",
       "      <td>20</td>\n",
       "      <td>0</td>\n",
       "      <td>2.0</td>\n",
       "      <td>0</td>\n",
       "      <td>1</td>\n",
       "      <td>-1</td>\n",
       "      <td>0</td>\n",
       "      <td>200.0</td>\n",
       "      <td>0</td>\n",
       "      <td>0</td>\n",
       "      <td>0.592456</td>\n",
       "      <td>0</td>\n",
       "      <td>1</td>\n",
       "      <td>0</td>\n",
       "      <td>0</td>\n",
       "      <td>0</td>\n",
       "      <td>1</td>\n",
       "      <td>1</td>\n",
       "      <td>2</td>\n",
       "      <td>0</td>\n",
       "    </tr>\n",
       "  </tbody>\n",
       "</table>\n",
       "</div>"
      ],
      "text/plain": [
       "   income  name_email_similarity  prev_address_months_count  \\\n",
       "0     0.8               0.433984                         54   \n",
       "1     0.1               0.712826                         -1   \n",
       "2     0.4               0.222290                         32   \n",
       "3     0.7               0.476667                         -1   \n",
       "4     0.1               0.506995                         11   \n",
       "\n",
       "   current_address_months_count  customer_age  days_since_request  \\\n",
       "0                             9            30            0.020608   \n",
       "1                            97            50            0.024353   \n",
       "2                           115            30            0.002837   \n",
       "3                           375            40            0.020157   \n",
       "4                            10            20            0.007662   \n",
       "\n",
       "   intended_balcon_amount  payment_type  zip_count_4w  velocity_6h  \\\n",
       "0               49.172739           0.0           954  5137.541683   \n",
       "1               -1.091855           1.0          1108  4370.169334   \n",
       "2               -1.067640           2.0           266  7168.731474   \n",
       "3               -0.930885           2.0           962  4761.030105   \n",
       "4               -0.698526           2.0           874  8823.184279   \n",
       "\n",
       "   velocity_24h  velocity_4w  bank_branch_count_8w  \\\n",
       "0   2712.051960  4240.496920                     2   \n",
       "1   3097.535634  4383.873312                     0   \n",
       "2   2865.219877  4207.649556                     0   \n",
       "3   6249.502233  6013.337906                     0   \n",
       "4   6315.937497  5653.839202                     0   \n",
       "\n",
       "   date_of_birth_distinct_emails_4w  employment_status  credit_risk_score  \\\n",
       "0                                11                0.0                286   \n",
       "1                                 6                0.0                132   \n",
       "2                                11                0.0                171   \n",
       "3                                 8                0.0                245   \n",
       "4                                13                3.0                 20   \n",
       "\n",
       "   email_is_free  housing_status  phone_home_valid  phone_mobile_valid  \\\n",
       "0              0             0.0                 0                   1   \n",
       "1              0             1.0                 1                   1   \n",
       "2              0             4.0                 0                   1   \n",
       "3              1             0.0                 0                   1   \n",
       "4              0             2.0                 0                   1   \n",
       "\n",
       "   bank_months_count  has_other_cards  proposed_credit_limit  foreign_request  \\\n",
       "0                  1                1                 1000.0                0   \n",
       "1                 28                1                  200.0                0   \n",
       "2                 -1                1                  200.0                0   \n",
       "3                 -1                1                 1500.0                1   \n",
       "4                 -1                0                  200.0                0   \n",
       "\n",
       "   source  session_length_in_minutes  device_os_other  device_os_linux  \\\n",
       "0       0                  14.396148                1                0   \n",
       "1       0                   4.100053                1                0   \n",
       "2       0                   2.369306                1                0   \n",
       "3       0                  31.700024                0                1   \n",
       "4       0                   0.592456                0                1   \n",
       "\n",
       "   device_os_windows  device_os_macintosh  device_os_x11  keep_alive_session  \\\n",
       "0                  0                    0              0                   0   \n",
       "1                  0                    0              0                   0   \n",
       "2                  0                    0              0                   0   \n",
       "3                  0                    0              0                   1   \n",
       "4                  0                    0              0                   1   \n",
       "\n",
       "   device_distinct_emails_8w  month  fraud_bool  \n",
       "0                          1      6           0  \n",
       "1                          1      6           0  \n",
       "2                          1      5           0  \n",
       "3                          1      1           0  \n",
       "4                          1      2           0  "
      ]
     },
     "execution_count": 19,
     "metadata": {},
     "output_type": "execute_result"
    }
   ],
   "source": [
    "df_fraud_train = pd.read_csv('../data/processed/df_train_ready_to_model.csv')\n",
    "df_fraud_test = pd.read_csv('../data/processed/df_test_ready_to_model.csv')\n",
    "\n",
    "X_train_cut = pd.read_csv('../data/processed/X_train_cut_ready_to_model.csv')\n",
    "X_test_cut = pd.read_csv('../data/processed/X_test_cut_ready_to_model.csv')\n",
    "\n",
    "df_train_samp = pd.read_csv('../data/processed/df_train_sampled_ready_to_model.csv')\n",
    "\n",
    "df_fraud_train.head()"
   ]
  },
  {
   "cell_type": "code",
   "execution_count": 20,
   "id": "c09a1e78-2283-464e-899c-4d3e069bad55",
   "metadata": {
    "tags": []
   },
   "outputs": [],
   "source": [
    "X_train = df_fraud_train.drop('fraud_bool', axis=1)\n",
    "y_train = df_fraud_train['fraud_bool']\n",
    "X_test = df_fraud_test.drop('fraud_bool', axis=1)\n",
    "y_test = df_fraud_test['fraud_bool']\n",
    "\n",
    "X_train_samp = df_train_samp.drop('fraud_bool', axis=1)\n",
    "y_train_samp = df_train_samp['fraud_bool']"
   ]
  },
  {
   "cell_type": "code",
   "execution_count": 21,
   "id": "56a99022-bf78-4a96-8f4e-c7176e0f24eb",
   "metadata": {
    "tags": []
   },
   "outputs": [
    {
     "data": {
      "text/plain": [
       "((700000, 34),\n",
       " (300000, 34),\n",
       " (700000, 24),\n",
       " (300000, 24),\n",
       " (519209, 24),\n",
       " (519209,))"
      ]
     },
     "execution_count": 21,
     "metadata": {},
     "output_type": "execute_result"
    }
   ],
   "source": [
    "X_train.shape, X_test.shape, X_train_cut.shape, X_test_cut.shape, X_train_samp.shape, y_train_samp.shape"
   ]
  },
  {
   "cell_type": "markdown",
   "id": "7bf2b4a3-a490-45b4-b143-28ff198ef51f",
   "metadata": {},
   "source": [
    "### Realizo el escalado para utilizar al aplicar el modelo de Regresión Logística"
   ]
  },
  {
   "cell_type": "code",
   "execution_count": 22,
   "id": "7bfca632-21b7-4dc4-a82f-f80288e5e91a",
   "metadata": {
    "tags": []
   },
   "outputs": [
    {
     "data": {
      "text/html": [
       "<div>\n",
       "<style scoped>\n",
       "    .dataframe tbody tr th:only-of-type {\n",
       "        vertical-align: middle;\n",
       "    }\n",
       "\n",
       "    .dataframe tbody tr th {\n",
       "        vertical-align: top;\n",
       "    }\n",
       "\n",
       "    .dataframe thead th {\n",
       "        text-align: right;\n",
       "    }\n",
       "</style>\n",
       "<table border=\"1\" class=\"dataframe\">\n",
       "  <thead>\n",
       "    <tr style=\"text-align: right;\">\n",
       "      <th></th>\n",
       "      <th>income</th>\n",
       "      <th>name_email_similarity</th>\n",
       "      <th>prev_address_months_count</th>\n",
       "      <th>current_address_months_count</th>\n",
       "      <th>customer_age</th>\n",
       "      <th>intended_balcon_amount</th>\n",
       "      <th>payment_type</th>\n",
       "      <th>zip_count_4w</th>\n",
       "      <th>bank_branch_count_8w</th>\n",
       "      <th>date_of_birth_distinct_emails_4w</th>\n",
       "      <th>employment_status</th>\n",
       "      <th>credit_risk_score</th>\n",
       "      <th>email_is_free</th>\n",
       "      <th>housing_status</th>\n",
       "      <th>phone_home_valid</th>\n",
       "      <th>phone_mobile_valid</th>\n",
       "      <th>has_other_cards</th>\n",
       "      <th>proposed_credit_limit</th>\n",
       "      <th>foreign_request</th>\n",
       "      <th>device_os_linux</th>\n",
       "      <th>device_os_windows</th>\n",
       "      <th>device_os_macintosh</th>\n",
       "      <th>keep_alive_session</th>\n",
       "      <th>device_distinct_emails_8w</th>\n",
       "    </tr>\n",
       "  </thead>\n",
       "  <tbody>\n",
       "    <tr>\n",
       "      <th>0</th>\n",
       "      <td>0.816970</td>\n",
       "      <td>-0.206759</td>\n",
       "      <td>0.844254</td>\n",
       "      <td>-0.877809</td>\n",
       "      <td>-0.306848</td>\n",
       "      <td>2.001320</td>\n",
       "      <td>-1.273961</td>\n",
       "      <td>-0.615428</td>\n",
       "      <td>-0.396667</td>\n",
       "      <td>0.297512</td>\n",
       "      <td>-0.473560</td>\n",
       "      <td>2.226026</td>\n",
       "      <td>-1.061572</td>\n",
       "      <td>-1.395809</td>\n",
       "      <td>-0.846388</td>\n",
       "      <td>0.352477</td>\n",
       "      <td>1.866506</td>\n",
       "      <td>0.994196</td>\n",
       "      <td>-0.161050</td>\n",
       "      <td>-0.705863</td>\n",
       "      <td>-0.598102</td>\n",
       "      <td>-0.238849</td>\n",
       "      <td>-1.166863</td>\n",
       "      <td>-0.101505</td>\n",
       "    </tr>\n",
       "    <tr>\n",
       "      <th>1</th>\n",
       "      <td>-1.594075</td>\n",
       "      <td>0.757666</td>\n",
       "      <td>-0.402385</td>\n",
       "      <td>0.117574</td>\n",
       "      <td>1.355648</td>\n",
       "      <td>-0.482436</td>\n",
       "      <td>-0.240130</td>\n",
       "      <td>-0.462261</td>\n",
       "      <td>-0.401022</td>\n",
       "      <td>-0.696188</td>\n",
       "      <td>-0.473560</td>\n",
       "      <td>0.014195</td>\n",
       "      <td>-1.061572</td>\n",
       "      <td>-0.607574</td>\n",
       "      <td>1.181492</td>\n",
       "      <td>0.352477</td>\n",
       "      <td>1.866506</td>\n",
       "      <td>-0.647578</td>\n",
       "      <td>-0.161050</td>\n",
       "      <td>-0.705863</td>\n",
       "      <td>-0.598102</td>\n",
       "      <td>-0.238849</td>\n",
       "      <td>-1.166863</td>\n",
       "      <td>-0.101505</td>\n",
       "    </tr>\n",
       "    <tr>\n",
       "      <th>2</th>\n",
       "      <td>-0.560770</td>\n",
       "      <td>-0.938937</td>\n",
       "      <td>0.345598</td>\n",
       "      <td>0.321175</td>\n",
       "      <td>-0.306848</td>\n",
       "      <td>-0.481239</td>\n",
       "      <td>0.793702</td>\n",
       "      <td>-1.299705</td>\n",
       "      <td>-0.401022</td>\n",
       "      <td>0.297512</td>\n",
       "      <td>-0.473560</td>\n",
       "      <td>0.574334</td>\n",
       "      <td>-1.061572</td>\n",
       "      <td>1.757131</td>\n",
       "      <td>-0.846388</td>\n",
       "      <td>0.352477</td>\n",
       "      <td>1.866506</td>\n",
       "      <td>-0.647578</td>\n",
       "      <td>-0.161050</td>\n",
       "      <td>-0.705863</td>\n",
       "      <td>-0.598102</td>\n",
       "      <td>-0.238849</td>\n",
       "      <td>-1.166863</td>\n",
       "      <td>-0.101505</td>\n",
       "    </tr>\n",
       "    <tr>\n",
       "      <th>3</th>\n",
       "      <td>0.472535</td>\n",
       "      <td>-0.059132</td>\n",
       "      <td>-0.402385</td>\n",
       "      <td>3.262080</td>\n",
       "      <td>0.524400</td>\n",
       "      <td>-0.474482</td>\n",
       "      <td>0.793702</td>\n",
       "      <td>-0.607471</td>\n",
       "      <td>-0.401022</td>\n",
       "      <td>-0.298708</td>\n",
       "      <td>-0.473560</td>\n",
       "      <td>1.637162</td>\n",
       "      <td>0.941999</td>\n",
       "      <td>-1.395809</td>\n",
       "      <td>-0.846388</td>\n",
       "      <td>0.352477</td>\n",
       "      <td>1.866506</td>\n",
       "      <td>2.020305</td>\n",
       "      <td>6.209245</td>\n",
       "      <td>1.416705</td>\n",
       "      <td>-0.598102</td>\n",
       "      <td>-0.238849</td>\n",
       "      <td>0.856998</td>\n",
       "      <td>-0.101505</td>\n",
       "    </tr>\n",
       "    <tr>\n",
       "      <th>4</th>\n",
       "      <td>-1.594075</td>\n",
       "      <td>0.045763</td>\n",
       "      <td>-0.130391</td>\n",
       "      <td>-0.866497</td>\n",
       "      <td>-1.138096</td>\n",
       "      <td>-0.463000</td>\n",
       "      <td>0.793702</td>\n",
       "      <td>-0.694995</td>\n",
       "      <td>-0.401022</td>\n",
       "      <td>0.694992</td>\n",
       "      <td>1.870709</td>\n",
       "      <td>-1.594410</td>\n",
       "      <td>-1.061572</td>\n",
       "      <td>0.180661</td>\n",
       "      <td>-0.846388</td>\n",
       "      <td>0.352477</td>\n",
       "      <td>-0.535760</td>\n",
       "      <td>-0.647578</td>\n",
       "      <td>-0.161050</td>\n",
       "      <td>1.416705</td>\n",
       "      <td>-0.598102</td>\n",
       "      <td>-0.238849</td>\n",
       "      <td>0.856998</td>\n",
       "      <td>-0.101505</td>\n",
       "    </tr>\n",
       "  </tbody>\n",
       "</table>\n",
       "</div>"
      ],
      "text/plain": [
       "     income  name_email_similarity  prev_address_months_count  \\\n",
       "0  0.816970              -0.206759                   0.844254   \n",
       "1 -1.594075               0.757666                  -0.402385   \n",
       "2 -0.560770              -0.938937                   0.345598   \n",
       "3  0.472535              -0.059132                  -0.402385   \n",
       "4 -1.594075               0.045763                  -0.130391   \n",
       "\n",
       "   current_address_months_count  customer_age  intended_balcon_amount  \\\n",
       "0                     -0.877809     -0.306848                2.001320   \n",
       "1                      0.117574      1.355648               -0.482436   \n",
       "2                      0.321175     -0.306848               -0.481239   \n",
       "3                      3.262080      0.524400               -0.474482   \n",
       "4                     -0.866497     -1.138096               -0.463000   \n",
       "\n",
       "   payment_type  zip_count_4w  bank_branch_count_8w  \\\n",
       "0     -1.273961     -0.615428             -0.396667   \n",
       "1     -0.240130     -0.462261             -0.401022   \n",
       "2      0.793702     -1.299705             -0.401022   \n",
       "3      0.793702     -0.607471             -0.401022   \n",
       "4      0.793702     -0.694995             -0.401022   \n",
       "\n",
       "   date_of_birth_distinct_emails_4w  employment_status  credit_risk_score  \\\n",
       "0                          0.297512          -0.473560           2.226026   \n",
       "1                         -0.696188          -0.473560           0.014195   \n",
       "2                          0.297512          -0.473560           0.574334   \n",
       "3                         -0.298708          -0.473560           1.637162   \n",
       "4                          0.694992           1.870709          -1.594410   \n",
       "\n",
       "   email_is_free  housing_status  phone_home_valid  phone_mobile_valid  \\\n",
       "0      -1.061572       -1.395809         -0.846388            0.352477   \n",
       "1      -1.061572       -0.607574          1.181492            0.352477   \n",
       "2      -1.061572        1.757131         -0.846388            0.352477   \n",
       "3       0.941999       -1.395809         -0.846388            0.352477   \n",
       "4      -1.061572        0.180661         -0.846388            0.352477   \n",
       "\n",
       "   has_other_cards  proposed_credit_limit  foreign_request  device_os_linux  \\\n",
       "0         1.866506               0.994196        -0.161050        -0.705863   \n",
       "1         1.866506              -0.647578        -0.161050        -0.705863   \n",
       "2         1.866506              -0.647578        -0.161050        -0.705863   \n",
       "3         1.866506               2.020305         6.209245         1.416705   \n",
       "4        -0.535760              -0.647578        -0.161050         1.416705   \n",
       "\n",
       "   device_os_windows  device_os_macintosh  keep_alive_session  \\\n",
       "0          -0.598102            -0.238849           -1.166863   \n",
       "1          -0.598102            -0.238849           -1.166863   \n",
       "2          -0.598102            -0.238849           -1.166863   \n",
       "3          -0.598102            -0.238849            0.856998   \n",
       "4          -0.598102            -0.238849            0.856998   \n",
       "\n",
       "   device_distinct_emails_8w  \n",
       "0                  -0.101505  \n",
       "1                  -0.101505  \n",
       "2                  -0.101505  \n",
       "3                  -0.101505  \n",
       "4                  -0.101505  "
      ]
     },
     "execution_count": 22,
     "metadata": {},
     "output_type": "execute_result"
    }
   ],
   "source": [
    "scaler = StandardScaler()\n",
    "model_scaled = scaler.fit(X_train)\n",
    "X_train_scaled = pd.DataFrame(scaler.transform(X_train), columns=X_train.columns, index=X_train.index)\n",
    "X_test_scaled = pd.DataFrame(scaler.transform(X_test), columns=X_test.columns, index=X_test.index)\n",
    "\n",
    "model_scaled = scaler.fit(X_train_cut)\n",
    "X_train_cut_scaled = pd.DataFrame(scaler.transform(X_train_cut), columns=X_train_cut.columns, index=X_train_cut.index)\n",
    "X_test_cut_scaled = pd.DataFrame(scaler.transform(X_test_cut), columns=X_test_cut.columns, index=X_test_cut.index)\n",
    "\n",
    "model_scaled = scaler.fit(X_train_samp)\n",
    "X_train_samp_scaled = pd.DataFrame(scaler.transform(X_train_samp), columns=X_train_samp.columns, index=X_train_samp.index)\n",
    "\n",
    "# Recuerdo que el test nunca se toca en cuanto a undersampling u oversampling se refiere. Solo el train\n",
    "\n",
    "X_train_cut_scaled.head() # muestro uno de ejemplo"
   ]
  },
  {
   "cell_type": "markdown",
   "id": "a213a5eb-5ab5-440a-86b6-56618e5fdff7",
   "metadata": {},
   "source": [
    "# Modelos"
   ]
  },
  {
   "cell_type": "markdown",
   "id": "82210e27-e70e-48ad-bac2-8c8e55ccfb35",
   "metadata": {},
   "source": [
    "## 1. Decision Tree"
   ]
  },
  {
   "cell_type": "code",
   "execution_count": 7,
   "id": "afb07d2f-19fb-4fd1-8a5f-2b9ebfecdd06",
   "metadata": {
    "tags": []
   },
   "outputs": [
    {
     "data": {
      "text/html": [
       "<style>#sk-container-id-1 {color: black;}#sk-container-id-1 pre{padding: 0;}#sk-container-id-1 div.sk-toggleable {background-color: white;}#sk-container-id-1 label.sk-toggleable__label {cursor: pointer;display: block;width: 100%;margin-bottom: 0;padding: 0.3em;box-sizing: border-box;text-align: center;}#sk-container-id-1 label.sk-toggleable__label-arrow:before {content: \"▸\";float: left;margin-right: 0.25em;color: #696969;}#sk-container-id-1 label.sk-toggleable__label-arrow:hover:before {color: black;}#sk-container-id-1 div.sk-estimator:hover label.sk-toggleable__label-arrow:before {color: black;}#sk-container-id-1 div.sk-toggleable__content {max-height: 0;max-width: 0;overflow: hidden;text-align: left;background-color: #f0f8ff;}#sk-container-id-1 div.sk-toggleable__content pre {margin: 0.2em;color: black;border-radius: 0.25em;background-color: #f0f8ff;}#sk-container-id-1 input.sk-toggleable__control:checked~div.sk-toggleable__content {max-height: 200px;max-width: 100%;overflow: auto;}#sk-container-id-1 input.sk-toggleable__control:checked~label.sk-toggleable__label-arrow:before {content: \"▾\";}#sk-container-id-1 div.sk-estimator input.sk-toggleable__control:checked~label.sk-toggleable__label {background-color: #d4ebff;}#sk-container-id-1 div.sk-label input.sk-toggleable__control:checked~label.sk-toggleable__label {background-color: #d4ebff;}#sk-container-id-1 input.sk-hidden--visually {border: 0;clip: rect(1px 1px 1px 1px);clip: rect(1px, 1px, 1px, 1px);height: 1px;margin: -1px;overflow: hidden;padding: 0;position: absolute;width: 1px;}#sk-container-id-1 div.sk-estimator {font-family: monospace;background-color: #f0f8ff;border: 1px dotted black;border-radius: 0.25em;box-sizing: border-box;margin-bottom: 0.5em;}#sk-container-id-1 div.sk-estimator:hover {background-color: #d4ebff;}#sk-container-id-1 div.sk-parallel-item::after {content: \"\";width: 100%;border-bottom: 1px solid gray;flex-grow: 1;}#sk-container-id-1 div.sk-label:hover label.sk-toggleable__label {background-color: #d4ebff;}#sk-container-id-1 div.sk-serial::before {content: \"\";position: absolute;border-left: 1px solid gray;box-sizing: border-box;top: 0;bottom: 0;left: 50%;z-index: 0;}#sk-container-id-1 div.sk-serial {display: flex;flex-direction: column;align-items: center;background-color: white;padding-right: 0.2em;padding-left: 0.2em;position: relative;}#sk-container-id-1 div.sk-item {position: relative;z-index: 1;}#sk-container-id-1 div.sk-parallel {display: flex;align-items: stretch;justify-content: center;background-color: white;position: relative;}#sk-container-id-1 div.sk-item::before, #sk-container-id-1 div.sk-parallel-item::before {content: \"\";position: absolute;border-left: 1px solid gray;box-sizing: border-box;top: 0;bottom: 0;left: 50%;z-index: -1;}#sk-container-id-1 div.sk-parallel-item {display: flex;flex-direction: column;z-index: 1;position: relative;background-color: white;}#sk-container-id-1 div.sk-parallel-item:first-child::after {align-self: flex-end;width: 50%;}#sk-container-id-1 div.sk-parallel-item:last-child::after {align-self: flex-start;width: 50%;}#sk-container-id-1 div.sk-parallel-item:only-child::after {width: 0;}#sk-container-id-1 div.sk-dashed-wrapped {border: 1px dashed gray;margin: 0 0.4em 0.5em 0.4em;box-sizing: border-box;padding-bottom: 0.4em;background-color: white;}#sk-container-id-1 div.sk-label label {font-family: monospace;font-weight: bold;display: inline-block;line-height: 1.2em;}#sk-container-id-1 div.sk-label-container {text-align: center;}#sk-container-id-1 div.sk-container {/* jupyter's `normalize.less` sets `[hidden] { display: none; }` but bootstrap.min.css set `[hidden] { display: none !important; }` so we also need the `!important` here to be able to override the default hidden behavior on the sphinx rendered scikit-learn.org. See: https://github.com/scikit-learn/scikit-learn/issues/21755 */display: inline-block !important;position: relative;}#sk-container-id-1 div.sk-text-repr-fallback {display: none;}</style><div id=\"sk-container-id-1\" class=\"sk-top-container\"><div class=\"sk-text-repr-fallback\"><pre>DecisionTreeClassifier()</pre><b>In a Jupyter environment, please rerun this cell to show the HTML representation or trust the notebook. <br />On GitHub, the HTML representation is unable to render, please try loading this page with nbviewer.org.</b></div><div class=\"sk-container\" hidden><div class=\"sk-item\"><div class=\"sk-estimator sk-toggleable\"><input class=\"sk-toggleable__control sk-hidden--visually\" id=\"sk-estimator-id-1\" type=\"checkbox\" checked><label for=\"sk-estimator-id-1\" class=\"sk-toggleable__label sk-toggleable__label-arrow\">DecisionTreeClassifier</label><div class=\"sk-toggleable__content\"><pre>DecisionTreeClassifier()</pre></div></div></div></div></div>"
      ],
      "text/plain": [
       "DecisionTreeClassifier()"
      ]
     },
     "execution_count": 7,
     "metadata": {},
     "output_type": "execute_result"
    }
   ],
   "source": [
    "from sklearn.tree import DecisionTreeClassifier\n",
    "tree = DecisionTreeClassifier()\n",
    "tree.fit(X_train,y_train)"
   ]
  },
  {
   "cell_type": "code",
   "execution_count": 11,
   "id": "a9872304-aa4e-4280-8f1a-c0096447f1f5",
   "metadata": {
    "tags": []
   },
   "outputs": [
    {
     "data": {
      "text/plain": [
       "array([0, 0, 0, ..., 0, 0, 0], dtype=int64)"
      ]
     },
     "execution_count": 11,
     "metadata": {},
     "output_type": "execute_result"
    }
   ],
   "source": [
    "tree.predict(X_test)"
   ]
  },
  {
   "cell_type": "code",
   "execution_count": 12,
   "id": "b128ec90-dcb4-4578-b3d2-5fdf86dddcb0",
   "metadata": {
    "tags": []
   },
   "outputs": [
    {
     "data": {
      "text/plain": [
       "0.9774166666666667"
      ]
     },
     "execution_count": 12,
     "metadata": {},
     "output_type": "execute_result"
    }
   ],
   "source": [
    "from sklearn.metrics import accuracy_score\n",
    "accuracy_score(tree.predict(X_test),y_test)"
   ]
  },
  {
   "cell_type": "code",
   "execution_count": 15,
   "id": "06b9f665-7e43-4d77-9842-38b130e07ebc",
   "metadata": {
    "tags": []
   },
   "outputs": [
    {
     "data": {
      "text/plain": [
       "array([[292893,   2977],\n",
       "       [  3798,    332]], dtype=int64)"
      ]
     },
     "execution_count": 15,
     "metadata": {},
     "output_type": "execute_result"
    }
   ],
   "source": [
    "from sklearn.metrics import confusion_matrix\n",
    "cf_matrix = confusion_matrix(tree.predict(X_test),y_test)\n",
    "cf_matrix"
   ]
  },
  {
   "cell_type": "code",
   "execution_count": 13,
   "id": "cb103746-6257-40ad-a340-1f2a48cb4710",
   "metadata": {
    "tags": []
   },
   "outputs": [
    {
     "data": {
      "text/html": [
       "<style>#sk-container-id-2 {color: black;}#sk-container-id-2 pre{padding: 0;}#sk-container-id-2 div.sk-toggleable {background-color: white;}#sk-container-id-2 label.sk-toggleable__label {cursor: pointer;display: block;width: 100%;margin-bottom: 0;padding: 0.3em;box-sizing: border-box;text-align: center;}#sk-container-id-2 label.sk-toggleable__label-arrow:before {content: \"▸\";float: left;margin-right: 0.25em;color: #696969;}#sk-container-id-2 label.sk-toggleable__label-arrow:hover:before {color: black;}#sk-container-id-2 div.sk-estimator:hover label.sk-toggleable__label-arrow:before {color: black;}#sk-container-id-2 div.sk-toggleable__content {max-height: 0;max-width: 0;overflow: hidden;text-align: left;background-color: #f0f8ff;}#sk-container-id-2 div.sk-toggleable__content pre {margin: 0.2em;color: black;border-radius: 0.25em;background-color: #f0f8ff;}#sk-container-id-2 input.sk-toggleable__control:checked~div.sk-toggleable__content {max-height: 200px;max-width: 100%;overflow: auto;}#sk-container-id-2 input.sk-toggleable__control:checked~label.sk-toggleable__label-arrow:before {content: \"▾\";}#sk-container-id-2 div.sk-estimator input.sk-toggleable__control:checked~label.sk-toggleable__label {background-color: #d4ebff;}#sk-container-id-2 div.sk-label input.sk-toggleable__control:checked~label.sk-toggleable__label {background-color: #d4ebff;}#sk-container-id-2 input.sk-hidden--visually {border: 0;clip: rect(1px 1px 1px 1px);clip: rect(1px, 1px, 1px, 1px);height: 1px;margin: -1px;overflow: hidden;padding: 0;position: absolute;width: 1px;}#sk-container-id-2 div.sk-estimator {font-family: monospace;background-color: #f0f8ff;border: 1px dotted black;border-radius: 0.25em;box-sizing: border-box;margin-bottom: 0.5em;}#sk-container-id-2 div.sk-estimator:hover {background-color: #d4ebff;}#sk-container-id-2 div.sk-parallel-item::after {content: \"\";width: 100%;border-bottom: 1px solid gray;flex-grow: 1;}#sk-container-id-2 div.sk-label:hover label.sk-toggleable__label {background-color: #d4ebff;}#sk-container-id-2 div.sk-serial::before {content: \"\";position: absolute;border-left: 1px solid gray;box-sizing: border-box;top: 0;bottom: 0;left: 50%;z-index: 0;}#sk-container-id-2 div.sk-serial {display: flex;flex-direction: column;align-items: center;background-color: white;padding-right: 0.2em;padding-left: 0.2em;position: relative;}#sk-container-id-2 div.sk-item {position: relative;z-index: 1;}#sk-container-id-2 div.sk-parallel {display: flex;align-items: stretch;justify-content: center;background-color: white;position: relative;}#sk-container-id-2 div.sk-item::before, #sk-container-id-2 div.sk-parallel-item::before {content: \"\";position: absolute;border-left: 1px solid gray;box-sizing: border-box;top: 0;bottom: 0;left: 50%;z-index: -1;}#sk-container-id-2 div.sk-parallel-item {display: flex;flex-direction: column;z-index: 1;position: relative;background-color: white;}#sk-container-id-2 div.sk-parallel-item:first-child::after {align-self: flex-end;width: 50%;}#sk-container-id-2 div.sk-parallel-item:last-child::after {align-self: flex-start;width: 50%;}#sk-container-id-2 div.sk-parallel-item:only-child::after {width: 0;}#sk-container-id-2 div.sk-dashed-wrapped {border: 1px dashed gray;margin: 0 0.4em 0.5em 0.4em;box-sizing: border-box;padding-bottom: 0.4em;background-color: white;}#sk-container-id-2 div.sk-label label {font-family: monospace;font-weight: bold;display: inline-block;line-height: 1.2em;}#sk-container-id-2 div.sk-label-container {text-align: center;}#sk-container-id-2 div.sk-container {/* jupyter's `normalize.less` sets `[hidden] { display: none; }` but bootstrap.min.css set `[hidden] { display: none !important; }` so we also need the `!important` here to be able to override the default hidden behavior on the sphinx rendered scikit-learn.org. See: https://github.com/scikit-learn/scikit-learn/issues/21755 */display: inline-block !important;position: relative;}#sk-container-id-2 div.sk-text-repr-fallback {display: none;}</style><div id=\"sk-container-id-2\" class=\"sk-top-container\"><div class=\"sk-text-repr-fallback\"><pre>DecisionTreeClassifier()</pre><b>In a Jupyter environment, please rerun this cell to show the HTML representation or trust the notebook. <br />On GitHub, the HTML representation is unable to render, please try loading this page with nbviewer.org.</b></div><div class=\"sk-container\" hidden><div class=\"sk-item\"><div class=\"sk-estimator sk-toggleable\"><input class=\"sk-toggleable__control sk-hidden--visually\" id=\"sk-estimator-id-2\" type=\"checkbox\" checked><label for=\"sk-estimator-id-2\" class=\"sk-toggleable__label sk-toggleable__label-arrow\">DecisionTreeClassifier</label><div class=\"sk-toggleable__content\"><pre>DecisionTreeClassifier()</pre></div></div></div></div></div>"
      ],
      "text/plain": [
       "DecisionTreeClassifier()"
      ]
     },
     "execution_count": 13,
     "metadata": {},
     "output_type": "execute_result"
    }
   ],
   "source": [
    "tree2 = DecisionTreeClassifier()\n",
    "tree2.fit(X_train_cut,y_train)"
   ]
  },
  {
   "cell_type": "code",
   "execution_count": 14,
   "id": "47e2adac-9d43-4544-865a-db891af0574a",
   "metadata": {
    "tags": []
   },
   "outputs": [
    {
     "data": {
      "text/plain": [
       "0.9771666666666666"
      ]
     },
     "execution_count": 14,
     "metadata": {},
     "output_type": "execute_result"
    }
   ],
   "source": [
    "accuracy_score(tree2.predict(X_test_cut),y_test)"
   ]
  },
  {
   "cell_type": "code",
   "execution_count": 17,
   "id": "ef388b87-cb1a-4b03-8ce9-9eb590815743",
   "metadata": {
    "tags": []
   },
   "outputs": [
    {
     "data": {
      "text/plain": [
       "array([[292813,   2972],\n",
       "       [  3878,    337]], dtype=int64)"
      ]
     },
     "execution_count": 17,
     "metadata": {},
     "output_type": "execute_result"
    }
   ],
   "source": [
    "confusion_matrix(tree2.predict(X_test_cut),y_test)"
   ]
  },
  {
   "cell_type": "code",
   "execution_count": 24,
   "id": "23185fae-79ca-42c6-98ee-778a708f5bd5",
   "metadata": {
    "tags": []
   },
   "outputs": [
    {
     "data": {
      "text/html": [
       "<style>#sk-container-id-3 {color: black;}#sk-container-id-3 pre{padding: 0;}#sk-container-id-3 div.sk-toggleable {background-color: white;}#sk-container-id-3 label.sk-toggleable__label {cursor: pointer;display: block;width: 100%;margin-bottom: 0;padding: 0.3em;box-sizing: border-box;text-align: center;}#sk-container-id-3 label.sk-toggleable__label-arrow:before {content: \"▸\";float: left;margin-right: 0.25em;color: #696969;}#sk-container-id-3 label.sk-toggleable__label-arrow:hover:before {color: black;}#sk-container-id-3 div.sk-estimator:hover label.sk-toggleable__label-arrow:before {color: black;}#sk-container-id-3 div.sk-toggleable__content {max-height: 0;max-width: 0;overflow: hidden;text-align: left;background-color: #f0f8ff;}#sk-container-id-3 div.sk-toggleable__content pre {margin: 0.2em;color: black;border-radius: 0.25em;background-color: #f0f8ff;}#sk-container-id-3 input.sk-toggleable__control:checked~div.sk-toggleable__content {max-height: 200px;max-width: 100%;overflow: auto;}#sk-container-id-3 input.sk-toggleable__control:checked~label.sk-toggleable__label-arrow:before {content: \"▾\";}#sk-container-id-3 div.sk-estimator input.sk-toggleable__control:checked~label.sk-toggleable__label {background-color: #d4ebff;}#sk-container-id-3 div.sk-label input.sk-toggleable__control:checked~label.sk-toggleable__label {background-color: #d4ebff;}#sk-container-id-3 input.sk-hidden--visually {border: 0;clip: rect(1px 1px 1px 1px);clip: rect(1px, 1px, 1px, 1px);height: 1px;margin: -1px;overflow: hidden;padding: 0;position: absolute;width: 1px;}#sk-container-id-3 div.sk-estimator {font-family: monospace;background-color: #f0f8ff;border: 1px dotted black;border-radius: 0.25em;box-sizing: border-box;margin-bottom: 0.5em;}#sk-container-id-3 div.sk-estimator:hover {background-color: #d4ebff;}#sk-container-id-3 div.sk-parallel-item::after {content: \"\";width: 100%;border-bottom: 1px solid gray;flex-grow: 1;}#sk-container-id-3 div.sk-label:hover label.sk-toggleable__label {background-color: #d4ebff;}#sk-container-id-3 div.sk-serial::before {content: \"\";position: absolute;border-left: 1px solid gray;box-sizing: border-box;top: 0;bottom: 0;left: 50%;z-index: 0;}#sk-container-id-3 div.sk-serial {display: flex;flex-direction: column;align-items: center;background-color: white;padding-right: 0.2em;padding-left: 0.2em;position: relative;}#sk-container-id-3 div.sk-item {position: relative;z-index: 1;}#sk-container-id-3 div.sk-parallel {display: flex;align-items: stretch;justify-content: center;background-color: white;position: relative;}#sk-container-id-3 div.sk-item::before, #sk-container-id-3 div.sk-parallel-item::before {content: \"\";position: absolute;border-left: 1px solid gray;box-sizing: border-box;top: 0;bottom: 0;left: 50%;z-index: -1;}#sk-container-id-3 div.sk-parallel-item {display: flex;flex-direction: column;z-index: 1;position: relative;background-color: white;}#sk-container-id-3 div.sk-parallel-item:first-child::after {align-self: flex-end;width: 50%;}#sk-container-id-3 div.sk-parallel-item:last-child::after {align-self: flex-start;width: 50%;}#sk-container-id-3 div.sk-parallel-item:only-child::after {width: 0;}#sk-container-id-3 div.sk-dashed-wrapped {border: 1px dashed gray;margin: 0 0.4em 0.5em 0.4em;box-sizing: border-box;padding-bottom: 0.4em;background-color: white;}#sk-container-id-3 div.sk-label label {font-family: monospace;font-weight: bold;display: inline-block;line-height: 1.2em;}#sk-container-id-3 div.sk-label-container {text-align: center;}#sk-container-id-3 div.sk-container {/* jupyter's `normalize.less` sets `[hidden] { display: none; }` but bootstrap.min.css set `[hidden] { display: none !important; }` so we also need the `!important` here to be able to override the default hidden behavior on the sphinx rendered scikit-learn.org. See: https://github.com/scikit-learn/scikit-learn/issues/21755 */display: inline-block !important;position: relative;}#sk-container-id-3 div.sk-text-repr-fallback {display: none;}</style><div id=\"sk-container-id-3\" class=\"sk-top-container\"><div class=\"sk-text-repr-fallback\"><pre>DecisionTreeClassifier()</pre><b>In a Jupyter environment, please rerun this cell to show the HTML representation or trust the notebook. <br />On GitHub, the HTML representation is unable to render, please try loading this page with nbviewer.org.</b></div><div class=\"sk-container\" hidden><div class=\"sk-item\"><div class=\"sk-estimator sk-toggleable\"><input class=\"sk-toggleable__control sk-hidden--visually\" id=\"sk-estimator-id-3\" type=\"checkbox\" checked><label for=\"sk-estimator-id-3\" class=\"sk-toggleable__label sk-toggleable__label-arrow\">DecisionTreeClassifier</label><div class=\"sk-toggleable__content\"><pre>DecisionTreeClassifier()</pre></div></div></div></div></div>"
      ],
      "text/plain": [
       "DecisionTreeClassifier()"
      ]
     },
     "execution_count": 24,
     "metadata": {},
     "output_type": "execute_result"
    }
   ],
   "source": [
    "tree3 = DecisionTreeClassifier()\n",
    "tree3.fit(X_train_samp,y_train_samp)"
   ]
  },
  {
   "cell_type": "code",
   "execution_count": 29,
   "id": "887b4195-c92d-4b0f-a113-907e89b01405",
   "metadata": {
    "tags": []
   },
   "outputs": [
    {
     "data": {
      "text/plain": [
       "0.9575233333333333"
      ]
     },
     "execution_count": 29,
     "metadata": {},
     "output_type": "execute_result"
    }
   ],
   "source": [
    "accuracy_score(tree3.predict(X_test_cut),y_test)"
   ]
  },
  {
   "cell_type": "code",
   "execution_count": 31,
   "id": "7ac57e54-8a44-4826-bf5a-9cc3f75dbff0",
   "metadata": {
    "tags": []
   },
   "outputs": [
    {
     "data": {
      "text/plain": [
       "array([[286604,   2656],\n",
       "       [ 10087,    653]], dtype=int64)"
      ]
     },
     "execution_count": 31,
     "metadata": {},
     "output_type": "execute_result"
    }
   ],
   "source": [
    "confusion_matrix(tree3.predict(X_test_cut),y_test)"
   ]
  },
  {
   "cell_type": "code",
   "execution_count": null,
   "id": "83f9de45-80e3-4d75-aa26-178275748b75",
   "metadata": {},
   "outputs": [],
   "source": []
  },
  {
   "cell_type": "code",
   "execution_count": null,
   "id": "3aec539a-cfd9-447e-b51e-8bbfc97e6ef8",
   "metadata": {},
   "outputs": [],
   "source": [
    "%% time\n",
    "from sklearn.dummy import DummyClassifier\n",
    "from sklearn.naive_bayes import GaussianNB\n",
    "import statsmodels.formula.api as smf\n",
    "\n",
    "classifiers = [\n",
    "    DummyClassifier()\n",
    "    ,LogisticRegression()\n",
    "    ,GaussianNB()\n",
    "    ,DecisionTreeClassifier()\n",
    "    ,smf.glm() # https://medium.com/@sarka.pribylova/generalized-linear-model-f607ac7f0ef5\n",
    "    ,RandomForestClassifier()\n",
    "    #,XGBoost()\n",
    "    ]\n",
    "\n",
    "for classifier in classifiers:\n",
    "    pipe = Pipeline(steps=[('classifier', classifier)])\n",
    "    pipe.fit(X_train, y_train)   \n",
    "    accuracy = accuracy_score(pipe.predict(X_test),y_val)\n",
    "    f1 = \n",
    "    c_matrix = \n",
    "    print(classifier)\n",
    "    print(\"model score: %.3f\" % pipe.score(X_test, y_val))\n",
    "\n",
    "# Voy a hacer este pipe para elegir modelo, dsps un for con modelos elegidos tmb sin hiperparams entre los 3 datasets (revisar seleccion de variables) para ver cual es el que\n",
    "# da mejor, y recién ahí, con el modelo y el dataset elegido voy a ejecutar, buscar hiperparámetros... Lo hago con el GRID o RANDOM con la CV (viene en la función)"
   ]
  },
  {
   "cell_type": "code",
   "execution_count": null,
   "id": "102b51d7-75f7-4530-8d28-3aa42a11059b",
   "metadata": {},
   "outputs": [],
   "source": []
  },
  {
   "cell_type": "code",
   "execution_count": null,
   "id": "0ffa49d8-6c27-4ddf-83b4-ad7e3a6c6bc8",
   "metadata": {},
   "outputs": [],
   "source": []
  },
  {
   "cell_type": "code",
   "execution_count": null,
   "id": "2b7008f8-f9cb-44f6-9bfb-eeb2661d7965",
   "metadata": {},
   "outputs": [],
   "source": []
  }
 ],
 "metadata": {
  "kernelspec": {
   "display_name": "practica0",
   "language": "python",
   "name": "practica0"
  },
  "language_info": {
   "codemirror_mode": {
    "name": "ipython",
    "version": 3
   },
   "file_extension": ".py",
   "mimetype": "text/x-python",
   "name": "python",
   "nbconvert_exporter": "python",
   "pygments_lexer": "ipython3",
   "version": "3.9.18"
  }
 },
 "nbformat": 4,
 "nbformat_minor": 5
}
